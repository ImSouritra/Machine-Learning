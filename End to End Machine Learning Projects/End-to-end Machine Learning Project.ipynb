{
 "cells": [
  {
   "cell_type": "markdown",
   "id": "59d64368",
   "metadata": {},
   "source": [
    "# End-to-End California Housing Price Prediction"
   ]
  },
  {
   "cell_type": "markdown",
   "id": "d4663de0",
   "metadata": {},
   "source": [
    "We're going to take this following approach for this particular machine learning project\n",
    "1. Problem statement.\n",
    "2. Performance measure.\n",
    "3. Get the data.\n",
    "4. Discover and visualize the data to gain insights.\n",
    "5. Prepare the data for Machine Learning algorithms.\n",
    "6. Select a model and train it.\n",
    "7. Fine-tune your model.\n",
    "8. Present your solution.\n",
    "9. Launch, monitor, and maintain your system."
   ]
  },
  {
   "cell_type": "markdown",
   "id": "3d70afe9",
   "metadata": {},
   "source": [
    "## Problem statement\n",
    "\n",
    "We've to predict median house prices of districts based on the data which will be fed to another Machine Learning system along with many other signals.This downstream system will determine whether it is worth investing in a given area or not. Getting this right is critical, as it directly affects revenue.\n"
   ]
  },
  {
   "cell_type": "markdown",
   "id": "bc281741",
   "metadata": {},
   "source": [
    "## Performance measure\n",
    "\n",
    "This problem is a multivariate regression problem. So, RMSE(Root Mean Squared Error) is a good performance measure for most of the regression problem. . It gives an idea of how much error the system typically makes in its predictions, with a higher weight for large errors."
   ]
  },
  {
   "cell_type": "markdown",
   "id": "42d9469e",
   "metadata": {},
   "source": [
    "## Get The Data\n",
    "\n",
    "The data is collected from https://raw.githubusercontent.com/ageron/handson-ml2/master/datasets/housing/housing.csv"
   ]
  },
  {
   "cell_type": "code",
   "execution_count": 1,
   "id": "fb080afe",
   "metadata": {},
   "outputs": [],
   "source": [
    "import pandas as pd\n",
    "import numpy as np\n",
    "import matplotlib.pyplot as plt\n",
    "from sklearn.model_selection import StratifiedShuffleSplit,cross_val_score\n",
    "from sklearn.impute import SimpleImputer\n",
    "from sklearn.preprocessing import OrdinalEncoder,OneHotEncoder, StandardScaler\n",
    "from sklearn.pipeline import Pipeline\n",
    "from sklearn.linear_model import LinearRegression\n",
    "from sklearn.neighbors import KNeighborsRegressor\n",
    "from sklearn.ensemble import RandomForestRegressor, AdaBoostRegressor, HistGradientBoostingRegressor,GradientBoostingRegressor, ExtraTreesRegressor\n",
    "from sklearn.metrics import mean_squared_error"
   ]
  },
  {
   "cell_type": "code",
   "execution_count": 2,
   "id": "2b81a919",
   "metadata": {},
   "outputs": [],
   "source": [
    "housing_df = pd.read_csv(\"https://raw.githubusercontent.com/ageron/handson-ml2/master/datasets/housing/housing.csv\")"
   ]
  },
  {
   "cell_type": "markdown",
   "id": "2713c1f2",
   "metadata": {},
   "source": [
    "## Dicovering and Visualizing The Data "
   ]
  },
  {
   "cell_type": "code",
   "execution_count": 3,
   "id": "5ed003f4",
   "metadata": {},
   "outputs": [
    {
     "data": {
      "text/html": [
       "<div>\n",
       "<style scoped>\n",
       "    .dataframe tbody tr th:only-of-type {\n",
       "        vertical-align: middle;\n",
       "    }\n",
       "\n",
       "    .dataframe tbody tr th {\n",
       "        vertical-align: top;\n",
       "    }\n",
       "\n",
       "    .dataframe thead th {\n",
       "        text-align: right;\n",
       "    }\n",
       "</style>\n",
       "<table border=\"1\" class=\"dataframe\">\n",
       "  <thead>\n",
       "    <tr style=\"text-align: right;\">\n",
       "      <th></th>\n",
       "      <th>longitude</th>\n",
       "      <th>latitude</th>\n",
       "      <th>housing_median_age</th>\n",
       "      <th>total_rooms</th>\n",
       "      <th>total_bedrooms</th>\n",
       "      <th>population</th>\n",
       "      <th>households</th>\n",
       "      <th>median_income</th>\n",
       "      <th>median_house_value</th>\n",
       "      <th>ocean_proximity</th>\n",
       "    </tr>\n",
       "  </thead>\n",
       "  <tbody>\n",
       "    <tr>\n",
       "      <th>0</th>\n",
       "      <td>-122.23</td>\n",
       "      <td>37.88</td>\n",
       "      <td>41.0</td>\n",
       "      <td>880.0</td>\n",
       "      <td>129.0</td>\n",
       "      <td>322.0</td>\n",
       "      <td>126.0</td>\n",
       "      <td>8.3252</td>\n",
       "      <td>452600.0</td>\n",
       "      <td>NEAR BAY</td>\n",
       "    </tr>\n",
       "    <tr>\n",
       "      <th>1</th>\n",
       "      <td>-122.22</td>\n",
       "      <td>37.86</td>\n",
       "      <td>21.0</td>\n",
       "      <td>7099.0</td>\n",
       "      <td>1106.0</td>\n",
       "      <td>2401.0</td>\n",
       "      <td>1138.0</td>\n",
       "      <td>8.3014</td>\n",
       "      <td>358500.0</td>\n",
       "      <td>NEAR BAY</td>\n",
       "    </tr>\n",
       "    <tr>\n",
       "      <th>2</th>\n",
       "      <td>-122.24</td>\n",
       "      <td>37.85</td>\n",
       "      <td>52.0</td>\n",
       "      <td>1467.0</td>\n",
       "      <td>190.0</td>\n",
       "      <td>496.0</td>\n",
       "      <td>177.0</td>\n",
       "      <td>7.2574</td>\n",
       "      <td>352100.0</td>\n",
       "      <td>NEAR BAY</td>\n",
       "    </tr>\n",
       "    <tr>\n",
       "      <th>3</th>\n",
       "      <td>-122.25</td>\n",
       "      <td>37.85</td>\n",
       "      <td>52.0</td>\n",
       "      <td>1274.0</td>\n",
       "      <td>235.0</td>\n",
       "      <td>558.0</td>\n",
       "      <td>219.0</td>\n",
       "      <td>5.6431</td>\n",
       "      <td>341300.0</td>\n",
       "      <td>NEAR BAY</td>\n",
       "    </tr>\n",
       "    <tr>\n",
       "      <th>4</th>\n",
       "      <td>-122.25</td>\n",
       "      <td>37.85</td>\n",
       "      <td>52.0</td>\n",
       "      <td>1627.0</td>\n",
       "      <td>280.0</td>\n",
       "      <td>565.0</td>\n",
       "      <td>259.0</td>\n",
       "      <td>3.8462</td>\n",
       "      <td>342200.0</td>\n",
       "      <td>NEAR BAY</td>\n",
       "    </tr>\n",
       "  </tbody>\n",
       "</table>\n",
       "</div>"
      ],
      "text/plain": [
       "   longitude  latitude  housing_median_age  total_rooms  total_bedrooms  \\\n",
       "0    -122.23     37.88                41.0        880.0           129.0   \n",
       "1    -122.22     37.86                21.0       7099.0          1106.0   \n",
       "2    -122.24     37.85                52.0       1467.0           190.0   \n",
       "3    -122.25     37.85                52.0       1274.0           235.0   \n",
       "4    -122.25     37.85                52.0       1627.0           280.0   \n",
       "\n",
       "   population  households  median_income  median_house_value ocean_proximity  \n",
       "0       322.0       126.0         8.3252            452600.0        NEAR BAY  \n",
       "1      2401.0      1138.0         8.3014            358500.0        NEAR BAY  \n",
       "2       496.0       177.0         7.2574            352100.0        NEAR BAY  \n",
       "3       558.0       219.0         5.6431            341300.0        NEAR BAY  \n",
       "4       565.0       259.0         3.8462            342200.0        NEAR BAY  "
      ]
     },
     "execution_count": 3,
     "metadata": {},
     "output_type": "execute_result"
    }
   ],
   "source": [
    "housing_df.head(5)"
   ]
  },
  {
   "cell_type": "code",
   "execution_count": 4,
   "id": "570a8a1a",
   "metadata": {},
   "outputs": [
    {
     "data": {
      "text/plain": [
       "(20640, 10)"
      ]
     },
     "execution_count": 4,
     "metadata": {},
     "output_type": "execute_result"
    }
   ],
   "source": [
    "housing_df.shape"
   ]
  },
  {
   "cell_type": "code",
   "execution_count": 5,
   "id": "3578bdf9",
   "metadata": {},
   "outputs": [
    {
     "name": "stdout",
     "output_type": "stream",
     "text": [
      "<class 'pandas.core.frame.DataFrame'>\n",
      "RangeIndex: 20640 entries, 0 to 20639\n",
      "Data columns (total 10 columns):\n",
      " #   Column              Non-Null Count  Dtype  \n",
      "---  ------              --------------  -----  \n",
      " 0   longitude           20640 non-null  float64\n",
      " 1   latitude            20640 non-null  float64\n",
      " 2   housing_median_age  20640 non-null  float64\n",
      " 3   total_rooms         20640 non-null  float64\n",
      " 4   total_bedrooms      20433 non-null  float64\n",
      " 5   population          20640 non-null  float64\n",
      " 6   households          20640 non-null  float64\n",
      " 7   median_income       20640 non-null  float64\n",
      " 8   median_house_value  20640 non-null  float64\n",
      " 9   ocean_proximity     20640 non-null  object \n",
      "dtypes: float64(9), object(1)\n",
      "memory usage: 1.6+ MB\n"
     ]
    }
   ],
   "source": [
    "housing_df.info()"
   ]
  },
  {
   "cell_type": "code",
   "execution_count": 6,
   "id": "7f532aec",
   "metadata": {},
   "outputs": [
    {
     "data": {
      "text/plain": [
       "longitude               0\n",
       "latitude                0\n",
       "housing_median_age      0\n",
       "total_rooms             0\n",
       "total_bedrooms        207\n",
       "population              0\n",
       "households              0\n",
       "median_income           0\n",
       "median_house_value      0\n",
       "ocean_proximity         0\n",
       "dtype: int64"
      ]
     },
     "execution_count": 6,
     "metadata": {},
     "output_type": "execute_result"
    }
   ],
   "source": [
    "housing_df.isna().sum()"
   ]
  },
  {
   "cell_type": "markdown",
   "id": "8d4f225a",
   "metadata": {},
   "source": [
    "We can see that there are 207 missing values in total bedroom. We'll take care of that later"
   ]
  },
  {
   "cell_type": "code",
   "execution_count": 7,
   "id": "bbb20db4",
   "metadata": {},
   "outputs": [
    {
     "data": {
      "text/plain": [
       "<1H OCEAN     9136\n",
       "INLAND        6551\n",
       "NEAR OCEAN    2658\n",
       "NEAR BAY      2290\n",
       "ISLAND           5\n",
       "Name: ocean_proximity, dtype: int64"
      ]
     },
     "execution_count": 7,
     "metadata": {},
     "output_type": "execute_result"
    }
   ],
   "source": [
    "housing_df.ocean_proximity.value_counts()"
   ]
  },
  {
   "cell_type": "code",
   "execution_count": 8,
   "id": "9fe4ba8e",
   "metadata": {},
   "outputs": [
    {
     "data": {
      "text/html": [
       "<div>\n",
       "<style scoped>\n",
       "    .dataframe tbody tr th:only-of-type {\n",
       "        vertical-align: middle;\n",
       "    }\n",
       "\n",
       "    .dataframe tbody tr th {\n",
       "        vertical-align: top;\n",
       "    }\n",
       "\n",
       "    .dataframe thead th {\n",
       "        text-align: right;\n",
       "    }\n",
       "</style>\n",
       "<table border=\"1\" class=\"dataframe\">\n",
       "  <thead>\n",
       "    <tr style=\"text-align: right;\">\n",
       "      <th></th>\n",
       "      <th>longitude</th>\n",
       "      <th>latitude</th>\n",
       "      <th>housing_median_age</th>\n",
       "      <th>total_rooms</th>\n",
       "      <th>total_bedrooms</th>\n",
       "      <th>population</th>\n",
       "      <th>households</th>\n",
       "      <th>median_income</th>\n",
       "      <th>median_house_value</th>\n",
       "    </tr>\n",
       "  </thead>\n",
       "  <tbody>\n",
       "    <tr>\n",
       "      <th>count</th>\n",
       "      <td>20640.000000</td>\n",
       "      <td>20640.000000</td>\n",
       "      <td>20640.000000</td>\n",
       "      <td>20640.000000</td>\n",
       "      <td>20433.000000</td>\n",
       "      <td>20640.000000</td>\n",
       "      <td>20640.000000</td>\n",
       "      <td>20640.000000</td>\n",
       "      <td>20640.000000</td>\n",
       "    </tr>\n",
       "    <tr>\n",
       "      <th>mean</th>\n",
       "      <td>-119.569704</td>\n",
       "      <td>35.631861</td>\n",
       "      <td>28.639486</td>\n",
       "      <td>2635.763081</td>\n",
       "      <td>537.870553</td>\n",
       "      <td>1425.476744</td>\n",
       "      <td>499.539680</td>\n",
       "      <td>3.870671</td>\n",
       "      <td>206855.816909</td>\n",
       "    </tr>\n",
       "    <tr>\n",
       "      <th>std</th>\n",
       "      <td>2.003532</td>\n",
       "      <td>2.135952</td>\n",
       "      <td>12.585558</td>\n",
       "      <td>2181.615252</td>\n",
       "      <td>421.385070</td>\n",
       "      <td>1132.462122</td>\n",
       "      <td>382.329753</td>\n",
       "      <td>1.899822</td>\n",
       "      <td>115395.615874</td>\n",
       "    </tr>\n",
       "    <tr>\n",
       "      <th>min</th>\n",
       "      <td>-124.350000</td>\n",
       "      <td>32.540000</td>\n",
       "      <td>1.000000</td>\n",
       "      <td>2.000000</td>\n",
       "      <td>1.000000</td>\n",
       "      <td>3.000000</td>\n",
       "      <td>1.000000</td>\n",
       "      <td>0.499900</td>\n",
       "      <td>14999.000000</td>\n",
       "    </tr>\n",
       "    <tr>\n",
       "      <th>25%</th>\n",
       "      <td>-121.800000</td>\n",
       "      <td>33.930000</td>\n",
       "      <td>18.000000</td>\n",
       "      <td>1447.750000</td>\n",
       "      <td>296.000000</td>\n",
       "      <td>787.000000</td>\n",
       "      <td>280.000000</td>\n",
       "      <td>2.563400</td>\n",
       "      <td>119600.000000</td>\n",
       "    </tr>\n",
       "    <tr>\n",
       "      <th>50%</th>\n",
       "      <td>-118.490000</td>\n",
       "      <td>34.260000</td>\n",
       "      <td>29.000000</td>\n",
       "      <td>2127.000000</td>\n",
       "      <td>435.000000</td>\n",
       "      <td>1166.000000</td>\n",
       "      <td>409.000000</td>\n",
       "      <td>3.534800</td>\n",
       "      <td>179700.000000</td>\n",
       "    </tr>\n",
       "    <tr>\n",
       "      <th>75%</th>\n",
       "      <td>-118.010000</td>\n",
       "      <td>37.710000</td>\n",
       "      <td>37.000000</td>\n",
       "      <td>3148.000000</td>\n",
       "      <td>647.000000</td>\n",
       "      <td>1725.000000</td>\n",
       "      <td>605.000000</td>\n",
       "      <td>4.743250</td>\n",
       "      <td>264725.000000</td>\n",
       "    </tr>\n",
       "    <tr>\n",
       "      <th>max</th>\n",
       "      <td>-114.310000</td>\n",
       "      <td>41.950000</td>\n",
       "      <td>52.000000</td>\n",
       "      <td>39320.000000</td>\n",
       "      <td>6445.000000</td>\n",
       "      <td>35682.000000</td>\n",
       "      <td>6082.000000</td>\n",
       "      <td>15.000100</td>\n",
       "      <td>500001.000000</td>\n",
       "    </tr>\n",
       "  </tbody>\n",
       "</table>\n",
       "</div>"
      ],
      "text/plain": [
       "          longitude      latitude  housing_median_age   total_rooms  \\\n",
       "count  20640.000000  20640.000000        20640.000000  20640.000000   \n",
       "mean    -119.569704     35.631861           28.639486   2635.763081   \n",
       "std        2.003532      2.135952           12.585558   2181.615252   \n",
       "min     -124.350000     32.540000            1.000000      2.000000   \n",
       "25%     -121.800000     33.930000           18.000000   1447.750000   \n",
       "50%     -118.490000     34.260000           29.000000   2127.000000   \n",
       "75%     -118.010000     37.710000           37.000000   3148.000000   \n",
       "max     -114.310000     41.950000           52.000000  39320.000000   \n",
       "\n",
       "       total_bedrooms    population    households  median_income  \\\n",
       "count    20433.000000  20640.000000  20640.000000   20640.000000   \n",
       "mean       537.870553   1425.476744    499.539680       3.870671   \n",
       "std        421.385070   1132.462122    382.329753       1.899822   \n",
       "min          1.000000      3.000000      1.000000       0.499900   \n",
       "25%        296.000000    787.000000    280.000000       2.563400   \n",
       "50%        435.000000   1166.000000    409.000000       3.534800   \n",
       "75%        647.000000   1725.000000    605.000000       4.743250   \n",
       "max       6445.000000  35682.000000   6082.000000      15.000100   \n",
       "\n",
       "       median_house_value  \n",
       "count        20640.000000  \n",
       "mean        206855.816909  \n",
       "std         115395.615874  \n",
       "min          14999.000000  \n",
       "25%         119600.000000  \n",
       "50%         179700.000000  \n",
       "75%         264725.000000  \n",
       "max         500001.000000  "
      ]
     },
     "execution_count": 8,
     "metadata": {},
     "output_type": "execute_result"
    }
   ],
   "source": [
    "housing_df.describe()"
   ]
  },
  {
   "cell_type": "code",
   "execution_count": 9,
   "id": "16ab8ec4",
   "metadata": {},
   "outputs": [
    {
     "data": {
      "image/png": "[encoded data removed]",
      "text/plain": [
       "<Figure size 1440x1080 with 9 Axes>"
      ]
     },
     "metadata": {
      "needs_background": "light"
     },
     "output_type": "display_data"
    }
   ],
   "source": [
    "%matplotlib inline\n",
    "housing_df.hist(bins=50,figsize=(20,15))\n",
    "plt.show()"
   ]
  },
  {
   "cell_type": "markdown",
   "id": "1f53fe7b",
   "metadata": {},
   "source": [
    "The following code uses the pd.cut() function to create an income category attribute with 5 categories (labeled\n",
    "from 1 to 5): category 1 ranges from 0 to 1.5 (i.e., less than $15,000), category 2 from\n",
    "1.5 to 3, and so on:"
   ]
  },
  {
   "cell_type": "code",
   "execution_count": 10,
   "id": "aa81670c",
   "metadata": {},
   "outputs": [],
   "source": [
    "housing_df[\"income_cat\"] = pd.cut(housing_df[\"median_income\"],bins=[0.,1.5,3.0,4.5,6.0,np.inf],labels=[1,2,3,4,5])"
   ]
  },
  {
   "cell_type": "code",
   "execution_count": 11,
   "id": "555f7ae5",
   "metadata": {},
   "outputs": [
    {
     "data": {
      "image/png": "[encoded data removed]",
      "text/plain": [
       "<Figure size 720x576 with 1 Axes>"
      ]
     },
     "metadata": {
      "needs_background": "light"
     },
     "output_type": "display_data"
    }
   ],
   "source": [
    "housing_df.income_cat.hist(bins=50,figsize=(10,8));"
   ]
  },
  {
   "cell_type": "markdown",
   "id": "ba941651",
   "metadata": {},
   "source": [
    "Now we're ready to do stratifiedshufflesplit based on the income_cat column"
   ]
  },
  {
   "cell_type": "code",
   "execution_count": 12,
   "id": "0bbf7651",
   "metadata": {},
   "outputs": [],
   "source": [
    "split = StratifiedShuffleSplit(n_splits=1,test_size=0.2,random_state=42)\n",
    "for train_index, test_index in split.split(housing_df,housing_df.income_cat):\n",
    "    strat_train_set = housing_df.iloc[train_index]\n",
    "    strat_test_set = housing_df.iloc[test_index]"
   ]
  },
  {
   "cell_type": "code",
   "execution_count": 13,
   "id": "a42e9ba5",
   "metadata": {},
   "outputs": [
    {
     "data": {
      "text/plain": [
       "3    0.350533\n",
       "2    0.318798\n",
       "4    0.176357\n",
       "5    0.114341\n",
       "1    0.039971\n",
       "Name: income_cat, dtype: float64"
      ]
     },
     "execution_count": 13,
     "metadata": {},
     "output_type": "execute_result"
    }
   ],
   "source": [
    "strat_test_set[\"income_cat\"].value_counts()/len(strat_test_set)"
   ]
  },
  {
   "cell_type": "markdown",
   "id": "daae06e0",
   "metadata": {},
   "source": [
    "Now you should remove the income_cat attribute so the data is back to its original\n",
    "state:"
   ]
  },
  {
   "cell_type": "code",
   "execution_count": 14,
   "id": "4adaa305",
   "metadata": {},
   "outputs": [
    {
     "name": "stderr",
     "output_type": "stream",
     "text": [
      "C:\\Users\\Souritra\\AppData\\Local\\Temp\\ipykernel_22556\\2188684755.py:2: SettingWithCopyWarning: \n",
      "A value is trying to be set on a copy of a slice from a DataFrame\n",
      "\n",
      "See the caveats in the documentation: https://pandas.pydata.org/pandas-docs/stable/user_guide/indexing.html#returning-a-view-versus-a-copy\n",
      "  set_.drop(\"income_cat\",axis=1,inplace=True)\n",
      "C:\\Users\\Souritra\\AppData\\Local\\Temp\\ipykernel_22556\\2188684755.py:2: SettingWithCopyWarning: \n",
      "A value is trying to be set on a copy of a slice from a DataFrame\n",
      "\n",
      "See the caveats in the documentation: https://pandas.pydata.org/pandas-docs/stable/user_guide/indexing.html#returning-a-view-versus-a-copy\n",
      "  set_.drop(\"income_cat\",axis=1,inplace=True)\n"
     ]
    }
   ],
   "source": [
    "for set_ in (strat_train_set,strat_test_set):\n",
    "    set_.drop(\"income_cat\",axis=1,inplace=True)"
   ]
  },
  {
   "cell_type": "code",
   "execution_count": 15,
   "id": "927d2264",
   "metadata": {},
   "outputs": [],
   "source": [
    "housing = strat_test_set.copy()"
   ]
  },
  {
   "cell_type": "code",
   "execution_count": 16,
   "id": "4651ca2f",
   "metadata": {},
   "outputs": [
    {
     "data": {
      "image/png": "[encoded data removed]",
      "text/plain": [
       "<Figure size 432x288 with 1 Axes>"
      ]
     },
     "metadata": {
      "needs_background": "light"
     },
     "output_type": "display_data"
    }
   ],
   "source": [
    "housing.plot(kind=\"scatter\",x=\"longitude\",y=\"latitude\",alpha=0.1);"
   ]
  },
  {
   "cell_type": "markdown",
   "id": "72e1c2d3",
   "metadata": {},
   "source": [
    "Now let’s look at the housing prices. The radius of each circle represents\n",
    "the district’s population (option s), and the color represents the price (option c). We\n",
    "will use a predefined color map (option cmap) called jet, which ranges from blue\n",
    "(low values) to red (high prices)"
   ]
  },
  {
   "cell_type": "code",
   "execution_count": 17,
   "id": "732df586",
   "metadata": {},
   "outputs": [
    {
     "data": {
      "text/plain": [
       "<matplotlib.legend.Legend at 0x2d1a2631fd0>"
      ]
     },
     "execution_count": 17,
     "metadata": {},
     "output_type": "execute_result"
    },
    {
     "data": {
      "image/png": "[encoded data removed]",
      "text/plain": [
       "<Figure size 864x576 with 2 Axes>"
      ]
     },
     "metadata": {
      "needs_background": "light"
     },
     "output_type": "display_data"
    }
   ],
   "source": [
    "housing.plot(figsize=(12,8),kind=\"scatter\",x=\"longitude\",y=\"latitude\",alpha=0.4,s=housing[\"population\"]/100,label=\"population\",c=housing[\"median_house_value\"],cmap=plt.get_cmap(\"jet\"),colorbar=True)\n",
    "plt.legend()"
   ]
  },
  {
   "cell_type": "markdown",
   "id": "999cb445",
   "metadata": {},
   "source": [
    "This image tells you that the housing prices are very much related to the location\n",
    "(e.g., close to the ocean) and to the population density, as you probably knew already"
   ]
  },
  {
   "cell_type": "markdown",
   "id": "a5c898fd",
   "metadata": {},
   "source": [
    "### Looking for correlations"
   ]
  },
  {
   "cell_type": "code",
   "execution_count": 18,
   "id": "17ca4e6c",
   "metadata": {},
   "outputs": [
    {
     "data": {
      "text/html": [
       "<div>\n",
       "<style scoped>\n",
       "    .dataframe tbody tr th:only-of-type {\n",
       "        vertical-align: middle;\n",
       "    }\n",
       "\n",
       "    .dataframe tbody tr th {\n",
       "        vertical-align: top;\n",
       "    }\n",
       "\n",
       "    .dataframe thead th {\n",
       "        text-align: right;\n",
       "    }\n",
       "</style>\n",
       "<table border=\"1\" class=\"dataframe\">\n",
       "  <thead>\n",
       "    <tr style=\"text-align: right;\">\n",
       "      <th></th>\n",
       "      <th>longitude</th>\n",
       "      <th>latitude</th>\n",
       "      <th>housing_median_age</th>\n",
       "      <th>total_rooms</th>\n",
       "      <th>total_bedrooms</th>\n",
       "      <th>population</th>\n",
       "      <th>households</th>\n",
       "      <th>median_income</th>\n",
       "      <th>median_house_value</th>\n",
       "    </tr>\n",
       "  </thead>\n",
       "  <tbody>\n",
       "    <tr>\n",
       "      <th>longitude</th>\n",
       "      <td>1.000000</td>\n",
       "      <td>-0.925426</td>\n",
       "      <td>-0.117560</td>\n",
       "      <td>0.028628</td>\n",
       "      <td>0.043930</td>\n",
       "      <td>0.068887</td>\n",
       "      <td>0.026334</td>\n",
       "      <td>0.002910</td>\n",
       "      <td>-0.039848</td>\n",
       "    </tr>\n",
       "    <tr>\n",
       "      <th>latitude</th>\n",
       "      <td>-0.925426</td>\n",
       "      <td>1.000000</td>\n",
       "      <td>0.032850</td>\n",
       "      <td>-0.024331</td>\n",
       "      <td>-0.046573</td>\n",
       "      <td>-0.084358</td>\n",
       "      <td>-0.045920</td>\n",
       "      <td>-0.099023</td>\n",
       "      <td>-0.150336</td>\n",
       "    </tr>\n",
       "    <tr>\n",
       "      <th>housing_median_age</th>\n",
       "      <td>-0.117560</td>\n",
       "      <td>0.032850</td>\n",
       "      <td>1.000000</td>\n",
       "      <td>-0.350487</td>\n",
       "      <td>-0.304722</td>\n",
       "      <td>-0.287470</td>\n",
       "      <td>-0.290560</td>\n",
       "      <td>-0.150288</td>\n",
       "      <td>0.071210</td>\n",
       "    </tr>\n",
       "    <tr>\n",
       "      <th>total_rooms</th>\n",
       "      <td>0.028628</td>\n",
       "      <td>-0.024331</td>\n",
       "      <td>-0.350487</td>\n",
       "      <td>1.000000</td>\n",
       "      <td>0.933630</td>\n",
       "      <td>0.864091</td>\n",
       "      <td>0.918768</td>\n",
       "      <td>0.191623</td>\n",
       "      <td>0.131296</td>\n",
       "    </tr>\n",
       "    <tr>\n",
       "      <th>total_bedrooms</th>\n",
       "      <td>0.043930</td>\n",
       "      <td>-0.046573</td>\n",
       "      <td>-0.304722</td>\n",
       "      <td>0.933630</td>\n",
       "      <td>1.000000</td>\n",
       "      <td>0.882700</td>\n",
       "      <td>0.978303</td>\n",
       "      <td>-0.000252</td>\n",
       "      <td>0.057247</td>\n",
       "    </tr>\n",
       "    <tr>\n",
       "      <th>population</th>\n",
       "      <td>0.068887</td>\n",
       "      <td>-0.084358</td>\n",
       "      <td>-0.287470</td>\n",
       "      <td>0.864091</td>\n",
       "      <td>0.882700</td>\n",
       "      <td>1.000000</td>\n",
       "      <td>0.916104</td>\n",
       "      <td>0.014239</td>\n",
       "      <td>-0.016164</td>\n",
       "    </tr>\n",
       "    <tr>\n",
       "      <th>households</th>\n",
       "      <td>0.026334</td>\n",
       "      <td>-0.045920</td>\n",
       "      <td>-0.290560</td>\n",
       "      <td>0.918768</td>\n",
       "      <td>0.978303</td>\n",
       "      <td>0.916104</td>\n",
       "      <td>1.000000</td>\n",
       "      <td>0.021517</td>\n",
       "      <td>0.070947</td>\n",
       "    </tr>\n",
       "    <tr>\n",
       "      <th>median_income</th>\n",
       "      <td>0.002910</td>\n",
       "      <td>-0.099023</td>\n",
       "      <td>-0.150288</td>\n",
       "      <td>0.191623</td>\n",
       "      <td>-0.000252</td>\n",
       "      <td>0.014239</td>\n",
       "      <td>0.021517</td>\n",
       "      <td>1.000000</td>\n",
       "      <td>0.691867</td>\n",
       "    </tr>\n",
       "    <tr>\n",
       "      <th>median_house_value</th>\n",
       "      <td>-0.039848</td>\n",
       "      <td>-0.150336</td>\n",
       "      <td>0.071210</td>\n",
       "      <td>0.131296</td>\n",
       "      <td>0.057247</td>\n",
       "      <td>-0.016164</td>\n",
       "      <td>0.070947</td>\n",
       "      <td>0.691867</td>\n",
       "      <td>1.000000</td>\n",
       "    </tr>\n",
       "  </tbody>\n",
       "</table>\n",
       "</div>"
      ],
      "text/plain": [
       "                    longitude  latitude  housing_median_age  total_rooms  \\\n",
       "longitude            1.000000 -0.925426           -0.117560     0.028628   \n",
       "latitude            -0.925426  1.000000            0.032850    -0.024331   \n",
       "housing_median_age  -0.117560  0.032850            1.000000    -0.350487   \n",
       "total_rooms          0.028628 -0.024331           -0.350487     1.000000   \n",
       "total_bedrooms       0.043930 -0.046573           -0.304722     0.933630   \n",
       "population           0.068887 -0.084358           -0.287470     0.864091   \n",
       "households           0.026334 -0.045920           -0.290560     0.918768   \n",
       "median_income        0.002910 -0.099023           -0.150288     0.191623   \n",
       "median_house_value  -0.039848 -0.150336            0.071210     0.131296   \n",
       "\n",
       "                    total_bedrooms  population  households  median_income  \\\n",
       "longitude                 0.043930    0.068887    0.026334       0.002910   \n",
       "latitude                 -0.046573   -0.084358   -0.045920      -0.099023   \n",
       "housing_median_age       -0.304722   -0.287470   -0.290560      -0.150288   \n",
       "total_rooms               0.933630    0.864091    0.918768       0.191623   \n",
       "total_bedrooms            1.000000    0.882700    0.978303      -0.000252   \n",
       "population                0.882700    1.000000    0.916104       0.014239   \n",
       "households                0.978303    0.916104    1.000000       0.021517   \n",
       "median_income            -0.000252    0.014239    0.021517       1.000000   \n",
       "median_house_value        0.057247   -0.016164    0.070947       0.691867   \n",
       "\n",
       "                    median_house_value  \n",
       "longitude                    -0.039848  \n",
       "latitude                     -0.150336  \n",
       "housing_median_age            0.071210  \n",
       "total_rooms                   0.131296  \n",
       "total_bedrooms                0.057247  \n",
       "population                   -0.016164  \n",
       "households                    0.070947  \n",
       "median_income                 0.691867  \n",
       "median_house_value            1.000000  "
      ]
     },
     "execution_count": 18,
     "metadata": {},
     "output_type": "execute_result"
    }
   ],
   "source": [
    "corr_matrix = housing.corr()\n",
    "corr_matrix"
   ]
  },
  {
   "cell_type": "code",
   "execution_count": 19,
   "id": "c796b761",
   "metadata": {},
   "outputs": [
    {
     "data": {
      "text/plain": [
       "median_house_value    1.000000\n",
       "median_income         0.691867\n",
       "total_rooms           0.131296\n",
       "housing_median_age    0.071210\n",
       "households            0.070947\n",
       "total_bedrooms        0.057247\n",
       "population           -0.016164\n",
       "longitude            -0.039848\n",
       "latitude             -0.150336\n",
       "Name: median_house_value, dtype: float64"
      ]
     },
     "execution_count": 19,
     "metadata": {},
     "output_type": "execute_result"
    }
   ],
   "source": [
    "# Let's see how much each value correlates to median house value\n",
    "corr_matrix[\"median_house_value\"].sort_values(ascending=False)"
   ]
  },
  {
   "cell_type": "code",
   "execution_count": 20,
   "id": "9a3778f6",
   "metadata": {},
   "outputs": [
    {
     "data": {
      "text/plain": [
       "<AxesSubplot:xlabel='median_income', ylabel='median_house_value'>"
      ]
     },
     "execution_count": 20,
     "metadata": {},
     "output_type": "execute_result"
    },
    {
     "data": {
      "image/png": "[encoded data removed]",
      "text/plain": [
       "<Figure size 432x288 with 1 Axes>"
      ]
     },
     "metadata": {
      "needs_background": "light"
     },
     "output_type": "display_data"
    }
   ],
   "source": [
    "housing.plot(kind=\"scatter\",x=\"median_income\",y=\"median_house_value\",alpha=0.4)"
   ]
  },
  {
   "cell_type": "code",
   "execution_count": 21,
   "id": "1bb89ab7",
   "metadata": {},
   "outputs": [],
   "source": [
    "housing[\"rooms_per_household\"] = housing[\"total_rooms\"]/housing[\"households\"]\n",
    "housing[\"bedrooms_per_room\"] = housing[\"total_bedrooms\"]/housing[\"total_rooms\"]\n",
    "housing[\"population_per_household\"]=housing[\"population\"]/housing[\"households\"]"
   ]
  },
  {
   "cell_type": "code",
   "execution_count": 22,
   "id": "8e0ed180",
   "metadata": {},
   "outputs": [
    {
     "data": {
      "text/plain": [
       "median_house_value          1.000000\n",
       "median_income               0.691867\n",
       "rooms_per_household         0.192731\n",
       "total_rooms                 0.131296\n",
       "housing_median_age          0.071210\n",
       "households                  0.070947\n",
       "total_bedrooms              0.057247\n",
       "population                 -0.016164\n",
       "longitude                  -0.039848\n",
       "population_per_household   -0.134999\n",
       "latitude                   -0.150336\n",
       "bedrooms_per_room          -0.240481\n",
       "Name: median_house_value, dtype: float64"
      ]
     },
     "execution_count": 22,
     "metadata": {},
     "output_type": "execute_result"
    }
   ],
   "source": [
    "corr_matrix = housing.corr()\n",
    "corr_matrix[\"median_house_value\"].sort_values(ascending=False)"
   ]
  },
  {
   "cell_type": "code",
   "execution_count": 23,
   "id": "d452632c",
   "metadata": {},
   "outputs": [],
   "source": [
    "housing = strat_train_set.copy()"
   ]
  },
  {
   "cell_type": "code",
   "execution_count": 24,
   "id": "7373e6f5",
   "metadata": {},
   "outputs": [],
   "source": [
    "housing_features = housing.drop(\"median_house_value\",axis=1)\n",
    "housing_label = housing[\"median_house_value\"]"
   ]
  },
  {
   "cell_type": "code",
   "execution_count": 25,
   "id": "d6b306cd",
   "metadata": {},
   "outputs": [],
   "source": [
    "imputer = SimpleImputer(strategy=\"median\")"
   ]
  },
  {
   "cell_type": "code",
   "execution_count": 26,
   "id": "d659b256",
   "metadata": {},
   "outputs": [],
   "source": [
    "housing_num = housing_features.drop(\"ocean_proximity\", axis=1)"
   ]
  },
  {
   "cell_type": "code",
   "execution_count": 27,
   "id": "3655d18b",
   "metadata": {},
   "outputs": [
    {
     "data": {
      "text/plain": [
       "SimpleImputer(strategy='median')"
      ]
     },
     "execution_count": 27,
     "metadata": {},
     "output_type": "execute_result"
    }
   ],
   "source": [
    "imputer.fit(housing_num)"
   ]
  },
  {
   "cell_type": "code",
   "execution_count": 28,
   "id": "3b5e62e3",
   "metadata": {},
   "outputs": [
    {
     "data": {
      "text/plain": [
       "array([-118.51   ,   34.26   ,   29.     , 2119.     ,  433.     ,\n",
       "       1164.     ,  408.     ,    3.54155])"
      ]
     },
     "execution_count": 28,
     "metadata": {},
     "output_type": "execute_result"
    }
   ],
   "source": [
    "imputer.statistics_"
   ]
  },
  {
   "cell_type": "code",
   "execution_count": 29,
   "id": "c7e472d0",
   "metadata": {},
   "outputs": [
    {
     "data": {
      "text/plain": [
       "array([-118.51   ,   34.26   ,   29.     , 2119.     ,  433.     ,\n",
       "       1164.     ,  408.     ,    3.54155])"
      ]
     },
     "execution_count": 29,
     "metadata": {},
     "output_type": "execute_result"
    }
   ],
   "source": [
    "housing_num.median().values"
   ]
  },
  {
   "cell_type": "code",
   "execution_count": 30,
   "id": "8b7c63a9",
   "metadata": {},
   "outputs": [],
   "source": [
    "X = imputer.transform(housing_num)"
   ]
  },
  {
   "cell_type": "code",
   "execution_count": 31,
   "id": "d04afd4f",
   "metadata": {},
   "outputs": [],
   "source": [
    "housing_tr = pd.DataFrame(X, columns=housing_num.columns)"
   ]
  },
  {
   "cell_type": "code",
   "execution_count": 32,
   "id": "c4466e10",
   "metadata": {},
   "outputs": [
    {
     "data": {
      "text/html": [
       "<div>\n",
       "<style scoped>\n",
       "    .dataframe tbody tr th:only-of-type {\n",
       "        vertical-align: middle;\n",
       "    }\n",
       "\n",
       "    .dataframe tbody tr th {\n",
       "        vertical-align: top;\n",
       "    }\n",
       "\n",
       "    .dataframe thead th {\n",
       "        text-align: right;\n",
       "    }\n",
       "</style>\n",
       "<table border=\"1\" class=\"dataframe\">\n",
       "  <thead>\n",
       "    <tr style=\"text-align: right;\">\n",
       "      <th></th>\n",
       "      <th>longitude</th>\n",
       "      <th>latitude</th>\n",
       "      <th>housing_median_age</th>\n",
       "      <th>total_rooms</th>\n",
       "      <th>total_bedrooms</th>\n",
       "      <th>population</th>\n",
       "      <th>households</th>\n",
       "      <th>median_income</th>\n",
       "    </tr>\n",
       "  </thead>\n",
       "  <tbody>\n",
       "    <tr>\n",
       "      <th>0</th>\n",
       "      <td>-121.46</td>\n",
       "      <td>38.52</td>\n",
       "      <td>29.0</td>\n",
       "      <td>3873.0</td>\n",
       "      <td>797.0</td>\n",
       "      <td>2237.0</td>\n",
       "      <td>706.0</td>\n",
       "      <td>2.1736</td>\n",
       "    </tr>\n",
       "    <tr>\n",
       "      <th>1</th>\n",
       "      <td>-117.23</td>\n",
       "      <td>33.09</td>\n",
       "      <td>7.0</td>\n",
       "      <td>5320.0</td>\n",
       "      <td>855.0</td>\n",
       "      <td>2015.0</td>\n",
       "      <td>768.0</td>\n",
       "      <td>6.3373</td>\n",
       "    </tr>\n",
       "    <tr>\n",
       "      <th>2</th>\n",
       "      <td>-119.04</td>\n",
       "      <td>35.37</td>\n",
       "      <td>44.0</td>\n",
       "      <td>1618.0</td>\n",
       "      <td>310.0</td>\n",
       "      <td>667.0</td>\n",
       "      <td>300.0</td>\n",
       "      <td>2.8750</td>\n",
       "    </tr>\n",
       "    <tr>\n",
       "      <th>3</th>\n",
       "      <td>-117.13</td>\n",
       "      <td>32.75</td>\n",
       "      <td>24.0</td>\n",
       "      <td>1877.0</td>\n",
       "      <td>519.0</td>\n",
       "      <td>898.0</td>\n",
       "      <td>483.0</td>\n",
       "      <td>2.2264</td>\n",
       "    </tr>\n",
       "    <tr>\n",
       "      <th>4</th>\n",
       "      <td>-118.70</td>\n",
       "      <td>34.28</td>\n",
       "      <td>27.0</td>\n",
       "      <td>3536.0</td>\n",
       "      <td>646.0</td>\n",
       "      <td>1837.0</td>\n",
       "      <td>580.0</td>\n",
       "      <td>4.4964</td>\n",
       "    </tr>\n",
       "    <tr>\n",
       "      <th>...</th>\n",
       "      <td>...</td>\n",
       "      <td>...</td>\n",
       "      <td>...</td>\n",
       "      <td>...</td>\n",
       "      <td>...</td>\n",
       "      <td>...</td>\n",
       "      <td>...</td>\n",
       "      <td>...</td>\n",
       "    </tr>\n",
       "    <tr>\n",
       "      <th>16507</th>\n",
       "      <td>-117.07</td>\n",
       "      <td>33.03</td>\n",
       "      <td>14.0</td>\n",
       "      <td>6665.0</td>\n",
       "      <td>1231.0</td>\n",
       "      <td>2026.0</td>\n",
       "      <td>1001.0</td>\n",
       "      <td>5.0900</td>\n",
       "    </tr>\n",
       "    <tr>\n",
       "      <th>16508</th>\n",
       "      <td>-121.42</td>\n",
       "      <td>38.51</td>\n",
       "      <td>15.0</td>\n",
       "      <td>7901.0</td>\n",
       "      <td>1422.0</td>\n",
       "      <td>4769.0</td>\n",
       "      <td>1418.0</td>\n",
       "      <td>2.8139</td>\n",
       "    </tr>\n",
       "    <tr>\n",
       "      <th>16509</th>\n",
       "      <td>-122.72</td>\n",
       "      <td>38.44</td>\n",
       "      <td>48.0</td>\n",
       "      <td>707.0</td>\n",
       "      <td>166.0</td>\n",
       "      <td>458.0</td>\n",
       "      <td>172.0</td>\n",
       "      <td>3.1797</td>\n",
       "    </tr>\n",
       "    <tr>\n",
       "      <th>16510</th>\n",
       "      <td>-122.70</td>\n",
       "      <td>38.31</td>\n",
       "      <td>14.0</td>\n",
       "      <td>3155.0</td>\n",
       "      <td>580.0</td>\n",
       "      <td>1208.0</td>\n",
       "      <td>501.0</td>\n",
       "      <td>4.1964</td>\n",
       "    </tr>\n",
       "    <tr>\n",
       "      <th>16511</th>\n",
       "      <td>-122.14</td>\n",
       "      <td>39.97</td>\n",
       "      <td>27.0</td>\n",
       "      <td>1079.0</td>\n",
       "      <td>222.0</td>\n",
       "      <td>625.0</td>\n",
       "      <td>197.0</td>\n",
       "      <td>3.1319</td>\n",
       "    </tr>\n",
       "  </tbody>\n",
       "</table>\n",
       "<p>16512 rows × 8 columns</p>\n",
       "</div>"
      ],
      "text/plain": [
       "       longitude  latitude  housing_median_age  total_rooms  total_bedrooms  \\\n",
       "0        -121.46     38.52                29.0       3873.0           797.0   \n",
       "1        -117.23     33.09                 7.0       5320.0           855.0   \n",
       "2        -119.04     35.37                44.0       1618.0           310.0   \n",
       "3        -117.13     32.75                24.0       1877.0           519.0   \n",
       "4        -118.70     34.28                27.0       3536.0           646.0   \n",
       "...          ...       ...                 ...          ...             ...   \n",
       "16507    -117.07     33.03                14.0       6665.0          1231.0   \n",
       "16508    -121.42     38.51                15.0       7901.0          1422.0   \n",
       "16509    -122.72     38.44                48.0        707.0           166.0   \n",
       "16510    -122.70     38.31                14.0       3155.0           580.0   \n",
       "16511    -122.14     39.97                27.0       1079.0           222.0   \n",
       "\n",
       "       population  households  median_income  \n",
       "0          2237.0       706.0         2.1736  \n",
       "1          2015.0       768.0         6.3373  \n",
       "2           667.0       300.0         2.8750  \n",
       "3           898.0       483.0         2.2264  \n",
       "4          1837.0       580.0         4.4964  \n",
       "...           ...         ...            ...  \n",
       "16507      2026.0      1001.0         5.0900  \n",
       "16508      4769.0      1418.0         2.8139  \n",
       "16509       458.0       172.0         3.1797  \n",
       "16510      1208.0       501.0         4.1964  \n",
       "16511       625.0       197.0         3.1319  \n",
       "\n",
       "[16512 rows x 8 columns]"
      ]
     },
     "execution_count": 32,
     "metadata": {},
     "output_type": "execute_result"
    }
   ],
   "source": [
    "housing_tr"
   ]
  },
  {
   "cell_type": "code",
   "execution_count": 33,
   "id": "0e9fc36b",
   "metadata": {},
   "outputs": [],
   "source": [
    "housing_cat = housing[[\"ocean_proximity\"]]"
   ]
  },
  {
   "cell_type": "code",
   "execution_count": 34,
   "id": "a3228450",
   "metadata": {},
   "outputs": [
    {
     "data": {
      "text/html": [
       "<div>\n",
       "<style scoped>\n",
       "    .dataframe tbody tr th:only-of-type {\n",
       "        vertical-align: middle;\n",
       "    }\n",
       "\n",
       "    .dataframe tbody tr th {\n",
       "        vertical-align: top;\n",
       "    }\n",
       "\n",
       "    .dataframe thead th {\n",
       "        text-align: right;\n",
       "    }\n",
       "</style>\n",
       "<table border=\"1\" class=\"dataframe\">\n",
       "  <thead>\n",
       "    <tr style=\"text-align: right;\">\n",
       "      <th></th>\n",
       "      <th>ocean_proximity</th>\n",
       "    </tr>\n",
       "  </thead>\n",
       "  <tbody>\n",
       "    <tr>\n",
       "      <th>12655</th>\n",
       "      <td>INLAND</td>\n",
       "    </tr>\n",
       "    <tr>\n",
       "      <th>15502</th>\n",
       "      <td>NEAR OCEAN</td>\n",
       "    </tr>\n",
       "    <tr>\n",
       "      <th>2908</th>\n",
       "      <td>INLAND</td>\n",
       "    </tr>\n",
       "    <tr>\n",
       "      <th>14053</th>\n",
       "      <td>NEAR OCEAN</td>\n",
       "    </tr>\n",
       "    <tr>\n",
       "      <th>20496</th>\n",
       "      <td>&lt;1H OCEAN</td>\n",
       "    </tr>\n",
       "  </tbody>\n",
       "</table>\n",
       "</div>"
      ],
      "text/plain": [
       "      ocean_proximity\n",
       "12655          INLAND\n",
       "15502      NEAR OCEAN\n",
       "2908           INLAND\n",
       "14053      NEAR OCEAN\n",
       "20496       <1H OCEAN"
      ]
     },
     "execution_count": 34,
     "metadata": {},
     "output_type": "execute_result"
    }
   ],
   "source": [
    "housing_cat.head()"
   ]
  },
  {
   "cell_type": "code",
   "execution_count": 35,
   "id": "5382b344",
   "metadata": {},
   "outputs": [],
   "source": [
    "ordinal_encoder = OrdinalEncoder()"
   ]
  },
  {
   "cell_type": "code",
   "execution_count": 36,
   "id": "bbcc98f8",
   "metadata": {},
   "outputs": [],
   "source": [
    "housing_cat_encoded = ordinal_encoder.fit_transform(housing_cat)"
   ]
  },
  {
   "cell_type": "code",
   "execution_count": 37,
   "id": "999664ae",
   "metadata": {},
   "outputs": [
    {
     "data": {
      "text/plain": [
       "array([[1.],\n",
       "       [4.],\n",
       "       [1.],\n",
       "       [4.],\n",
       "       [0.],\n",
       "       [3.],\n",
       "       [0.],\n",
       "       [0.],\n",
       "       [0.],\n",
       "       [0.]])"
      ]
     },
     "execution_count": 37,
     "metadata": {},
     "output_type": "execute_result"
    }
   ],
   "source": [
    "housing_cat_encoded[:10]"
   ]
  },
  {
   "cell_type": "code",
   "execution_count": 38,
   "id": "bc4c4290",
   "metadata": {},
   "outputs": [
    {
     "data": {
      "text/plain": [
       "[array(['<1H OCEAN', 'INLAND', 'ISLAND', 'NEAR BAY', 'NEAR OCEAN'],\n",
       "       dtype=object)]"
      ]
     },
     "execution_count": 38,
     "metadata": {},
     "output_type": "execute_result"
    }
   ],
   "source": [
    "ordinal_encoder.categories_"
   ]
  },
  {
   "cell_type": "code",
   "execution_count": 39,
   "id": "5a86e20c",
   "metadata": {},
   "outputs": [
    {
     "data": {
      "text/plain": [
       "12655        INLAND\n",
       "15502    NEAR OCEAN\n",
       "2908         INLAND\n",
       "14053    NEAR OCEAN\n",
       "20496     <1H OCEAN\n",
       "            ...    \n",
       "15174     <1H OCEAN\n",
       "12661        INLAND\n",
       "19263     <1H OCEAN\n",
       "19140     <1H OCEAN\n",
       "19773        INLAND\n",
       "Name: ocean_proximity, Length: 16512, dtype: category\n",
       "Categories (5, object): ['<1H OCEAN', 'INLAND', 'ISLAND', 'NEAR BAY', 'NEAR OCEAN']"
      ]
     },
     "execution_count": 39,
     "metadata": {},
     "output_type": "execute_result"
    }
   ],
   "source": [
    "housing_cat.ocean_proximity.astype(\"category\")"
   ]
  },
  {
   "cell_type": "code",
   "execution_count": 40,
   "id": "78b743b2",
   "metadata": {},
   "outputs": [],
   "source": [
    "housing_cat_encoded = pd.get_dummies(housing_cat[\"ocean_proximity\"])"
   ]
  },
  {
   "cell_type": "code",
   "execution_count": 41,
   "id": "93d18457",
   "metadata": {},
   "outputs": [
    {
     "data": {
      "text/html": [
       "<div>\n",
       "<style scoped>\n",
       "    .dataframe tbody tr th:only-of-type {\n",
       "        vertical-align: middle;\n",
       "    }\n",
       "\n",
       "    .dataframe tbody tr th {\n",
       "        vertical-align: top;\n",
       "    }\n",
       "\n",
       "    .dataframe thead th {\n",
       "        text-align: right;\n",
       "    }\n",
       "</style>\n",
       "<table border=\"1\" class=\"dataframe\">\n",
       "  <thead>\n",
       "    <tr style=\"text-align: right;\">\n",
       "      <th></th>\n",
       "      <th>&lt;1H OCEAN</th>\n",
       "      <th>INLAND</th>\n",
       "      <th>ISLAND</th>\n",
       "      <th>NEAR BAY</th>\n",
       "      <th>NEAR OCEAN</th>\n",
       "    </tr>\n",
       "  </thead>\n",
       "  <tbody>\n",
       "    <tr>\n",
       "      <th>12655</th>\n",
       "      <td>0</td>\n",
       "      <td>1</td>\n",
       "      <td>0</td>\n",
       "      <td>0</td>\n",
       "      <td>0</td>\n",
       "    </tr>\n",
       "    <tr>\n",
       "      <th>15502</th>\n",
       "      <td>0</td>\n",
       "      <td>0</td>\n",
       "      <td>0</td>\n",
       "      <td>0</td>\n",
       "      <td>1</td>\n",
       "    </tr>\n",
       "    <tr>\n",
       "      <th>2908</th>\n",
       "      <td>0</td>\n",
       "      <td>1</td>\n",
       "      <td>0</td>\n",
       "      <td>0</td>\n",
       "      <td>0</td>\n",
       "    </tr>\n",
       "    <tr>\n",
       "      <th>14053</th>\n",
       "      <td>0</td>\n",
       "      <td>0</td>\n",
       "      <td>0</td>\n",
       "      <td>0</td>\n",
       "      <td>1</td>\n",
       "    </tr>\n",
       "    <tr>\n",
       "      <th>20496</th>\n",
       "      <td>1</td>\n",
       "      <td>0</td>\n",
       "      <td>0</td>\n",
       "      <td>0</td>\n",
       "      <td>0</td>\n",
       "    </tr>\n",
       "    <tr>\n",
       "      <th>...</th>\n",
       "      <td>...</td>\n",
       "      <td>...</td>\n",
       "      <td>...</td>\n",
       "      <td>...</td>\n",
       "      <td>...</td>\n",
       "    </tr>\n",
       "    <tr>\n",
       "      <th>15174</th>\n",
       "      <td>1</td>\n",
       "      <td>0</td>\n",
       "      <td>0</td>\n",
       "      <td>0</td>\n",
       "      <td>0</td>\n",
       "    </tr>\n",
       "    <tr>\n",
       "      <th>12661</th>\n",
       "      <td>0</td>\n",
       "      <td>1</td>\n",
       "      <td>0</td>\n",
       "      <td>0</td>\n",
       "      <td>0</td>\n",
       "    </tr>\n",
       "    <tr>\n",
       "      <th>19263</th>\n",
       "      <td>1</td>\n",
       "      <td>0</td>\n",
       "      <td>0</td>\n",
       "      <td>0</td>\n",
       "      <td>0</td>\n",
       "    </tr>\n",
       "    <tr>\n",
       "      <th>19140</th>\n",
       "      <td>1</td>\n",
       "      <td>0</td>\n",
       "      <td>0</td>\n",
       "      <td>0</td>\n",
       "      <td>0</td>\n",
       "    </tr>\n",
       "    <tr>\n",
       "      <th>19773</th>\n",
       "      <td>0</td>\n",
       "      <td>1</td>\n",
       "      <td>0</td>\n",
       "      <td>0</td>\n",
       "      <td>0</td>\n",
       "    </tr>\n",
       "  </tbody>\n",
       "</table>\n",
       "<p>16512 rows × 5 columns</p>\n",
       "</div>"
      ],
      "text/plain": [
       "       <1H OCEAN  INLAND  ISLAND  NEAR BAY  NEAR OCEAN\n",
       "12655          0       1       0         0           0\n",
       "15502          0       0       0         0           1\n",
       "2908           0       1       0         0           0\n",
       "14053          0       0       0         0           1\n",
       "20496          1       0       0         0           0\n",
       "...          ...     ...     ...       ...         ...\n",
       "15174          1       0       0         0           0\n",
       "12661          0       1       0         0           0\n",
       "19263          1       0       0         0           0\n",
       "19140          1       0       0         0           0\n",
       "19773          0       1       0         0           0\n",
       "\n",
       "[16512 rows x 5 columns]"
      ]
     },
     "execution_count": 41,
     "metadata": {},
     "output_type": "execute_result"
    }
   ],
   "source": [
    "housing_cat_encoded"
   ]
  },
  {
   "cell_type": "code",
   "execution_count": 42,
   "id": "5fd9e3db",
   "metadata": {},
   "outputs": [],
   "source": [
    "cat_encoder = OneHotEncoder()"
   ]
  },
  {
   "cell_type": "code",
   "execution_count": 43,
   "id": "033a711f",
   "metadata": {},
   "outputs": [],
   "source": [
    "housing_cat_1hot = cat_encoder.fit_transform(housing_cat)"
   ]
  },
  {
   "cell_type": "code",
   "execution_count": 44,
   "id": "0f0af66f",
   "metadata": {},
   "outputs": [
    {
     "data": {
      "text/plain": [
       "[array(['<1H OCEAN', 'INLAND', 'ISLAND', 'NEAR BAY', 'NEAR OCEAN'],\n",
       "       dtype=object)]"
      ]
     },
     "execution_count": 44,
     "metadata": {},
     "output_type": "execute_result"
    }
   ],
   "source": [
    "cat_encoder.categories_"
   ]
  },
  {
   "cell_type": "code",
   "execution_count": 45,
   "id": "471ad2a3",
   "metadata": {},
   "outputs": [],
   "source": [
    "from sklearn.base import BaseEstimator, TransformerMixin\n",
    "rooms_ix, bedrooms_ix, population_ix, households_ix = 3, 4, 5, 6\n",
    "class CombinedAttributesAdder(BaseEstimator, TransformerMixin):\n",
    " def __init__(self, add_bedrooms_per_room = True): # no *args or **kargs\n",
    "     self.add_bedrooms_per_room = add_bedrooms_per_room\n",
    " def fit(self, X, y=None):\n",
    "     return self # nothing else to do\n",
    " def transform(self, X, y=None):\n",
    "     rooms_per_household = X[:, rooms_ix] / X[:, households_ix]\n",
    "     population_per_household = X[:, population_ix] / X[:, households_ix]\n",
    "     if self.add_bedrooms_per_room:\n",
    "         bedrooms_per_room = X[:, bedrooms_ix] / X[:, rooms_ix]\n",
    "         return np.c_[X, rooms_per_household, population_per_household,bedrooms_per_room]\n",
    "     else:\n",
    "         return np.c_[X, rooms_per_household, population_per_household]\n"
   ]
  },
  {
   "cell_type": "code",
   "execution_count": 46,
   "id": "7effbe9a",
   "metadata": {},
   "outputs": [],
   "source": [
    "num_pipeline = Pipeline([\n",
    "                        (\"imputer\",SimpleImputer(strategy=\"median\")),\n",
    "                        (\"addatrib\",CombinedAttributesAdder()),\n",
    "                        (\"std\",StandardScaler()),\n",
    "                         ])"
   ]
  },
  {
   "cell_type": "code",
   "execution_count": 47,
   "id": "fe11d86b",
   "metadata": {},
   "outputs": [],
   "source": [
    "housing_tr = num_pipeline.fit_transform(housing_num)"
   ]
  },
  {
   "cell_type": "code",
   "execution_count": 48,
   "id": "c6597b09",
   "metadata": {},
   "outputs": [],
   "source": [
    "from sklearn.compose import ColumnTransformer\n",
    "num_attribs = list(housing_num)\n",
    "cat_attribs = [\"ocean_proximity\"]\n",
    "\n",
    "full_pipeline = ColumnTransformer([\n",
    "                                    (\"num\",num_pipeline,num_attribs),\n",
    "                                    (\"cat\",cat_encoder,cat_attribs)\n",
    "                                    ])"
   ]
  },
  {
   "cell_type": "code",
   "execution_count": 49,
   "id": "953d0fee",
   "metadata": {},
   "outputs": [],
   "source": [
    "housing_prepared = full_pipeline.fit_transform(housing_features)"
   ]
  },
  {
   "cell_type": "code",
   "execution_count": 50,
   "id": "7523e1bf",
   "metadata": {},
   "outputs": [
    {
     "data": {
      "text/plain": [
       "array([[-0.94135046,  1.34743822,  0.02756357, ...,  0.        ,\n",
       "         0.        ,  0.        ],\n",
       "       [ 1.17178212, -1.19243966, -1.72201763, ...,  0.        ,\n",
       "         0.        ,  1.        ],\n",
       "       [ 0.26758118, -0.1259716 ,  1.22045984, ...,  0.        ,\n",
       "         0.        ,  0.        ],\n",
       "       ...,\n",
       "       [-1.5707942 ,  1.31001828,  1.53856552, ...,  0.        ,\n",
       "         0.        ,  0.        ],\n",
       "       [-1.56080303,  1.2492109 , -1.1653327 , ...,  0.        ,\n",
       "         0.        ,  0.        ],\n",
       "       [-1.28105026,  2.02567448, -0.13148926, ...,  0.        ,\n",
       "         0.        ,  0.        ]])"
      ]
     },
     "execution_count": 50,
     "metadata": {},
     "output_type": "execute_result"
    }
   ],
   "source": [
    "housing_prepared"
   ]
  },
  {
   "cell_type": "markdown",
   "id": "d788a334",
   "metadata": {},
   "source": [
    "## Select And Train A Model"
   ]
  },
  {
   "cell_type": "code",
   "execution_count": 51,
   "id": "43a3713b",
   "metadata": {},
   "outputs": [
    {
     "data": {
      "text/plain": [
       "LinearRegression()"
      ]
     },
     "execution_count": 51,
     "metadata": {},
     "output_type": "execute_result"
    }
   ],
   "source": [
    "regr = LinearRegression()\n",
    "regr.fit(housing_prepared,housing_label)"
   ]
  },
  {
   "cell_type": "code",
   "execution_count": 52,
   "id": "7445ccf3",
   "metadata": {},
   "outputs": [
    {
     "data": {
      "text/plain": [
       "68627.87390018745"
      ]
     },
     "execution_count": 52,
     "metadata": {},
     "output_type": "execute_result"
    }
   ],
   "source": [
    "# Evaluating model on training data\n",
    "housing_predictions = regr.predict(housing_prepared)\n",
    "np.sqrt(mean_squared_error(housing_label,housing_predictions))"
   ]
  },
  {
   "cell_type": "markdown",
   "id": "85ecb8b8",
   "metadata": {},
   "source": [
    "Let's try on a KNeighBorsModel"
   ]
  },
  {
   "cell_type": "code",
   "execution_count": 53,
   "id": "4a90a4de",
   "metadata": {},
   "outputs": [
    {
     "data": {
      "text/plain": [
       "KNeighborsRegressor()"
      ]
     },
     "execution_count": 53,
     "metadata": {},
     "output_type": "execute_result"
    }
   ],
   "source": [
    "regr = KNeighborsRegressor()\n",
    "regr.fit(housing_prepared,housing_label)"
   ]
  },
  {
   "cell_type": "code",
   "execution_count": 54,
   "id": "38dea5be",
   "metadata": {},
   "outputs": [
    {
     "data": {
      "text/plain": [
       "49832.19186662649"
      ]
     },
     "execution_count": 54,
     "metadata": {},
     "output_type": "execute_result"
    }
   ],
   "source": [
    "housing_predictions = regr.predict(housing_prepared)\n",
    "np.sqrt(mean_squared_error(housing_label,housing_predictions))"
   ]
  },
  {
   "cell_type": "code",
   "execution_count": null,
   "id": "f123e25c",
   "metadata": {},
   "outputs": [],
   "source": []
  },
  {
   "cell_type": "code",
   "execution_count": 55,
   "id": "20e55742",
   "metadata": {},
   "outputs": [],
   "source": [
    "# Let's create a function to train our model on different ensemble methods and evaluate them using cross_validation\n",
    "\n",
    "def model_train(X,y):\n",
    "    ensemble_models = [RandomForestRegressor(), AdaBoostRegressor(), HistGradientBoostingRegressor(),GradientBoostingRegressor(), ExtraTreesRegressor()]\n",
    "    for model in ensemble_models:\n",
    "        scores = cross_val_score(model,X,y,scoring=\"neg_mean_squared_error\",cv=5)\n",
    "        print(f\"{model} : {np.mean(np.sqrt(-scores))}\")"
   ]
  },
  {
   "cell_type": "code",
   "execution_count": 56,
   "id": "4b62591c",
   "metadata": {},
   "outputs": [
    {
     "name": "stdout",
     "output_type": "stream",
     "text": [
      "RandomForestRegressor() : 50607.25217513552\n",
      "AdaBoostRegressor() : 81518.91869318605\n",
      "HistGradientBoostingRegressor() : 46795.91200274277\n",
      "GradientBoostingRegressor() : 53383.61127746741\n",
      "ExtraTreesRegressor() : 50764.63640727673\n"
     ]
    }
   ],
   "source": [
    "model_train(housing_prepared,housing_label)"
   ]
  },
  {
   "cell_type": "markdown",
   "id": "d47e3955",
   "metadata": {},
   "source": [
    "Apparently HistGradientBoostingregressor performs better than all the other models, so we will use this model"
   ]
  },
  {
   "cell_type": "code",
   "execution_count": 57,
   "id": "66144cbf",
   "metadata": {},
   "outputs": [
    {
     "data": {
      "text/plain": [
       "HistGradientBoostingRegressor()"
      ]
     },
     "execution_count": 57,
     "metadata": {},
     "output_type": "execute_result"
    }
   ],
   "source": [
    "hist_model = HistGradientBoostingRegressor()\n",
    "hist_model.fit(housing_prepared,housing_label)"
   ]
  },
  {
   "cell_type": "code",
   "execution_count": 58,
   "id": "313162e3",
   "metadata": {},
   "outputs": [
    {
     "data": {
      "text/plain": [
       "0.8818011050552789"
      ]
     },
     "execution_count": 58,
     "metadata": {},
     "output_type": "execute_result"
    }
   ],
   "source": [
    "hist_model.score(housing_prepared,housing_label)"
   ]
  },
  {
   "cell_type": "code",
   "execution_count": 59,
   "id": "36a3dd96",
   "metadata": {},
   "outputs": [
    {
     "data": {
      "text/plain": [
       "['my_model.pkl']"
      ]
     },
     "execution_count": 59,
     "metadata": {},
     "output_type": "execute_result"
    }
   ],
   "source": [
    "import joblib\n",
    "joblib.dump(hist_model,\"my_model.pkl\")"
   ]
  },
  {
   "cell_type": "code",
   "execution_count": 60,
   "id": "87a24808",
   "metadata": {},
   "outputs": [],
   "source": [
    "loaded_model = joblib.load(\"my_model.pkl\")"
   ]
  },
  {
   "cell_type": "markdown",
   "id": "c3e88f03",
   "metadata": {},
   "source": [
    "## Fine Tuning Our Model"
   ]
  },
  {
   "cell_type": "code",
   "execution_count": 61,
   "id": "90f7496d",
   "metadata": {},
   "outputs": [],
   "source": [
    "from sklearn.model_selection import GridSearchCV"
   ]
  },
  {
   "cell_type": "code",
   "execution_count": 62,
   "id": "dae892b8",
   "metadata": {},
   "outputs": [],
   "source": [
    "param_grid = [{\"learning_rate\":[0.1,0.2,0.3,0.4],\"min_samples_leaf\":[2,4,6,8],\"max_depth\":[1,2,3,5]}]"
   ]
  },
  {
   "cell_type": "code",
   "execution_count": 63,
   "id": "94d11f52",
   "metadata": {},
   "outputs": [],
   "source": [
    "hist_model = HistGradientBoostingRegressor()"
   ]
  },
  {
   "cell_type": "code",
   "execution_count": 64,
   "id": "9cfa0a96",
   "metadata": {},
   "outputs": [],
   "source": [
    "gs_model = GridSearchCV(hist_model,param_grid,scoring='neg_mean_squared_error',cv=5,return_train_score=True)"
   ]
  },
  {
   "cell_type": "code",
   "execution_count": 65,
   "id": "0dada2d4",
   "metadata": {},
   "outputs": [
    {
     "data": {
      "text/plain": [
       "GridSearchCV(cv=5, estimator=HistGradientBoostingRegressor(),\n",
       "             param_grid=[{'learning_rate': [0.1, 0.2, 0.3, 0.4],\n",
       "                          'max_depth': [1, 2, 3, 5],\n",
       "                          'min_samples_leaf': [2, 4, 6, 8]}],\n",
       "             return_train_score=True, scoring='neg_mean_squared_error')"
      ]
     },
     "execution_count": 65,
     "metadata": {},
     "output_type": "execute_result"
    }
   ],
   "source": [
    "gs_model.fit(housing_prepared,housing_label)"
   ]
  },
  {
   "cell_type": "code",
   "execution_count": 67,
   "id": "fea8d1dc",
   "metadata": {},
   "outputs": [
    {
     "name": "stdout",
     "output_type": "stream",
     "text": [
      "47551.79211403673\n"
     ]
    }
   ],
   "source": [
    "score = gs_model.best_score_\n",
    "print(np.sqrt(-score))"
   ]
  },
  {
   "cell_type": "code",
   "execution_count": 68,
   "id": "cb74d400",
   "metadata": {},
   "outputs": [
    {
     "data": {
      "text/plain": [
       "HistGradientBoostingRegressor(learning_rate=0.2, max_depth=5,\n",
       "                              min_samples_leaf=4)"
      ]
     },
     "execution_count": 68,
     "metadata": {},
     "output_type": "execute_result"
    }
   ],
   "source": [
    "gs_model.best_estimator_"
   ]
  },
  {
   "cell_type": "code",
   "execution_count": 70,
   "id": "31fb4f8b",
   "metadata": {},
   "outputs": [
    {
     "name": "stdout",
     "output_type": "stream",
     "text": [
      "47465.25685816885\n"
     ]
    }
   ],
   "source": [
    "cv_scores = cross_val_score(gs_model,housing_prepared,housing_label,cv=5)\n",
    "print(np.mean(np.sqrt(-cv_scores)))"
   ]
  },
  {
   "cell_type": "markdown",
   "id": "cbb843bb",
   "metadata": {},
   "source": [
    "Our previous model was performing slightly better than this GridSearchModel, so we'll use that one."
   ]
  },
  {
   "cell_type": "code",
   "execution_count": 84,
   "id": "cc98a1d9",
   "metadata": {},
   "outputs": [],
   "source": [
    "X_test = strat_test_set.drop(\"median_house_value\",axis=1)\n",
    "y_test = strat_test_set[\"median_house_value\"].copy()"
   ]
  },
  {
   "cell_type": "code",
   "execution_count": 85,
   "id": "d5bbb9e0",
   "metadata": {},
   "outputs": [],
   "source": [
    "X_test_prepared = full_pipeline.transform(X_test)"
   ]
  },
  {
   "cell_type": "code",
   "execution_count": 86,
   "id": "4bbdc9f6",
   "metadata": {},
   "outputs": [],
   "source": [
    "final_predictions = loaded_model.predict(X_test_prepared)"
   ]
  },
  {
   "cell_type": "code",
   "execution_count": 88,
   "id": "c2063b21",
   "metadata": {},
   "outputs": [
    {
     "data": {
      "text/plain": [
       "68025.22977733196"
      ]
     },
     "execution_count": 88,
     "metadata": {},
     "output_type": "execute_result"
    }
   ],
   "source": [
    "final_mse = mean_squared_error(y_test,final_predictions)\n",
    "final_rmse = np.sqrt(final_mse)\n",
    "final_rmse"
   ]
  },
  {
   "cell_type": "markdown",
   "id": "68dcc18a",
   "metadata": {},
   "source": [
    "seems like our model doesn't generalize well with the unseen data, let's try one last model"
   ]
  },
  {
   "cell_type": "code",
   "execution_count": 90,
   "id": "74865e83",
   "metadata": {},
   "outputs": [
    {
     "data": {
      "text/plain": [
       "0.5332322795199479"
      ]
     },
     "execution_count": 90,
     "metadata": {},
     "output_type": "execute_result"
    }
   ],
   "source": [
    "random_forest_model = RandomForestRegressor()\n",
    "random_forest_model.fit(housing_prepared,housing_label)\n",
    "random_forest_model.score(X_test_prepared,y_test)"
   ]
  },
  {
   "cell_type": "code",
   "execution_count": 92,
   "id": "faa6fd8b",
   "metadata": {},
   "outputs": [
    {
     "data": {
      "text/plain": [
       "77996.49854731566"
      ]
     },
     "execution_count": 92,
     "metadata": {},
     "output_type": "execute_result"
    }
   ],
   "source": [
    "final_predictions = random_forest_model.predict(X_test_prepared)\n",
    "final_mse = mean_squared_error(y_test,final_predictions)\n",
    "final_rmse = np.sqrt(final_mse)\n",
    "final_rmse"
   ]
  },
  {
   "cell_type": "markdown",
   "id": "a860f196",
   "metadata": {},
   "source": [
    "Our loaded model was performing better than the RandomizedTrees model. So, that is our final model, and it is ready for production"
   ]
  }
 ],
 "metadata": {
  "kernelspec": {
   "display_name": "Python 3 (ipykernel)",
   "language": "python",
   "name": "python3"
  },
  "language_info": {
   "codemirror_mode": {
    "name": "ipython",
    "version": 3
   },
   "file_extension": ".py",
   "mimetype": "text/x-python",
   "name": "python",
   "nbconvert_exporter": "python",
   "pygments_lexer": "ipython3",
   "version": "3.9.12"
  }
 },
 "nbformat": 4,
 "nbformat_minor": 5
}
