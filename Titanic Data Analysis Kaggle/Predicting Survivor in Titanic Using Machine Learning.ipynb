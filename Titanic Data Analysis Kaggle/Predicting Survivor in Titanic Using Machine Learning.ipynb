{
 "cells": [
  {
   "cell_type": "code",
   "execution_count": 277,
   "id": "24140587",
   "metadata": {},
   "outputs": [],
   "source": [
    "import pandas as pd\n",
    "import numpy as np\n",
    "import matplotlib.pyplot as plt\n",
    "import plotly.express as px\n",
    "import seaborn as sns\n",
    "from sklearn.metrics import accuracy_score, precision_score, recall_score, f1_score, confusion_matrix, plot_confusion_matrix,classification_report\n",
    "from sklearn.linear_model import LogisticRegression\n",
    "from sklearn.neighbors import KNeighborsClassifier\n",
    "from sklearn.ensemble import RandomForestClassifier,ExtraTreesClassifier, GradientBoostingClassifier,HistGradientBoostingClassifier, AdaBoostClassifier\n",
    "from sklearn.model_selection import cross_val_score, train_test_split, cross_val_predict, GridSearchCV, RandomizedSearchCV\n",
    "from sklearn.preprocessing import OneHotEncoder, StandardScaler, OrdinalEncoder\n",
    "from sklearn.impute import SimpleImputer\n",
    "from sklearn.pipeline import Pipeline\n",
    "from sklearn.compose import ColumnTransformer"
   ]
  },
  {
   "cell_type": "code",
   "execution_count": 187,
   "id": "42f45887",
   "metadata": {},
   "outputs": [],
   "source": [
    "titanic_df = pd.read_csv(\"train.csv\")"
   ]
  },
  {
   "cell_type": "code",
   "execution_count": 188,
   "id": "d10d5888",
   "metadata": {},
   "outputs": [
    {
     "data": {
      "text/html": [
       "<div>\n",
       "<style scoped>\n",
       "    .dataframe tbody tr th:only-of-type {\n",
       "        vertical-align: middle;\n",
       "    }\n",
       "\n",
       "    .dataframe tbody tr th {\n",
       "        vertical-align: top;\n",
       "    }\n",
       "\n",
       "    .dataframe thead th {\n",
       "        text-align: right;\n",
       "    }\n",
       "</style>\n",
       "<table border=\"1\" class=\"dataframe\">\n",
       "  <thead>\n",
       "    <tr style=\"text-align: right;\">\n",
       "      <th></th>\n",
       "      <th>PassengerId</th>\n",
       "      <th>Survived</th>\n",
       "      <th>Pclass</th>\n",
       "      <th>Name</th>\n",
       "      <th>Sex</th>\n",
       "      <th>Age</th>\n",
       "      <th>SibSp</th>\n",
       "      <th>Parch</th>\n",
       "      <th>Ticket</th>\n",
       "      <th>Fare</th>\n",
       "      <th>Cabin</th>\n",
       "      <th>Embarked</th>\n",
       "    </tr>\n",
       "  </thead>\n",
       "  <tbody>\n",
       "    <tr>\n",
       "      <th>0</th>\n",
       "      <td>1</td>\n",
       "      <td>0</td>\n",
       "      <td>3</td>\n",
       "      <td>Braund, Mr. Owen Harris</td>\n",
       "      <td>male</td>\n",
       "      <td>22.0</td>\n",
       "      <td>1</td>\n",
       "      <td>0</td>\n",
       "      <td>A/5 21171</td>\n",
       "      <td>7.2500</td>\n",
       "      <td>NaN</td>\n",
       "      <td>S</td>\n",
       "    </tr>\n",
       "    <tr>\n",
       "      <th>1</th>\n",
       "      <td>2</td>\n",
       "      <td>1</td>\n",
       "      <td>1</td>\n",
       "      <td>Cumings, Mrs. John Bradley (Florence Briggs Th...</td>\n",
       "      <td>female</td>\n",
       "      <td>38.0</td>\n",
       "      <td>1</td>\n",
       "      <td>0</td>\n",
       "      <td>PC 17599</td>\n",
       "      <td>71.2833</td>\n",
       "      <td>C85</td>\n",
       "      <td>C</td>\n",
       "    </tr>\n",
       "    <tr>\n",
       "      <th>2</th>\n",
       "      <td>3</td>\n",
       "      <td>1</td>\n",
       "      <td>3</td>\n",
       "      <td>Heikkinen, Miss. Laina</td>\n",
       "      <td>female</td>\n",
       "      <td>26.0</td>\n",
       "      <td>0</td>\n",
       "      <td>0</td>\n",
       "      <td>STON/O2. 3101282</td>\n",
       "      <td>7.9250</td>\n",
       "      <td>NaN</td>\n",
       "      <td>S</td>\n",
       "    </tr>\n",
       "    <tr>\n",
       "      <th>3</th>\n",
       "      <td>4</td>\n",
       "      <td>1</td>\n",
       "      <td>1</td>\n",
       "      <td>Futrelle, Mrs. Jacques Heath (Lily May Peel)</td>\n",
       "      <td>female</td>\n",
       "      <td>35.0</td>\n",
       "      <td>1</td>\n",
       "      <td>0</td>\n",
       "      <td>113803</td>\n",
       "      <td>53.1000</td>\n",
       "      <td>C123</td>\n",
       "      <td>S</td>\n",
       "    </tr>\n",
       "    <tr>\n",
       "      <th>4</th>\n",
       "      <td>5</td>\n",
       "      <td>0</td>\n",
       "      <td>3</td>\n",
       "      <td>Allen, Mr. William Henry</td>\n",
       "      <td>male</td>\n",
       "      <td>35.0</td>\n",
       "      <td>0</td>\n",
       "      <td>0</td>\n",
       "      <td>373450</td>\n",
       "      <td>8.0500</td>\n",
       "      <td>NaN</td>\n",
       "      <td>S</td>\n",
       "    </tr>\n",
       "  </tbody>\n",
       "</table>\n",
       "</div>"
      ],
      "text/plain": [
       "   PassengerId  Survived  Pclass  \\\n",
       "0            1         0       3   \n",
       "1            2         1       1   \n",
       "2            3         1       3   \n",
       "3            4         1       1   \n",
       "4            5         0       3   \n",
       "\n",
       "                                                Name     Sex   Age  SibSp  \\\n",
       "0                            Braund, Mr. Owen Harris    male  22.0      1   \n",
       "1  Cumings, Mrs. John Bradley (Florence Briggs Th...  female  38.0      1   \n",
       "2                             Heikkinen, Miss. Laina  female  26.0      0   \n",
       "3       Futrelle, Mrs. Jacques Heath (Lily May Peel)  female  35.0      1   \n",
       "4                           Allen, Mr. William Henry    male  35.0      0   \n",
       "\n",
       "   Parch            Ticket     Fare Cabin Embarked  \n",
       "0      0         A/5 21171   7.2500   NaN        S  \n",
       "1      0          PC 17599  71.2833   C85        C  \n",
       "2      0  STON/O2. 3101282   7.9250   NaN        S  \n",
       "3      0            113803  53.1000  C123        S  \n",
       "4      0            373450   8.0500   NaN        S  "
      ]
     },
     "execution_count": 188,
     "metadata": {},
     "output_type": "execute_result"
    }
   ],
   "source": [
    "titanic_df.head()"
   ]
  },
  {
   "cell_type": "code",
   "execution_count": 189,
   "id": "c68f7302",
   "metadata": {},
   "outputs": [
    {
     "name": "stdout",
     "output_type": "stream",
     "text": [
      "<class 'pandas.core.frame.DataFrame'>\n",
      "RangeIndex: 891 entries, 0 to 890\n",
      "Data columns (total 12 columns):\n",
      " #   Column       Non-Null Count  Dtype  \n",
      "---  ------       --------------  -----  \n",
      " 0   PassengerId  891 non-null    int64  \n",
      " 1   Survived     891 non-null    int64  \n",
      " 2   Pclass       891 non-null    int64  \n",
      " 3   Name         891 non-null    object \n",
      " 4   Sex          891 non-null    object \n",
      " 5   Age          714 non-null    float64\n",
      " 6   SibSp        891 non-null    int64  \n",
      " 7   Parch        891 non-null    int64  \n",
      " 8   Ticket       891 non-null    object \n",
      " 9   Fare         891 non-null    float64\n",
      " 10  Cabin        204 non-null    object \n",
      " 11  Embarked     889 non-null    object \n",
      "dtypes: float64(2), int64(5), object(5)\n",
      "memory usage: 83.7+ KB\n"
     ]
    }
   ],
   "source": [
    "titanic_df.info()"
   ]
  },
  {
   "cell_type": "code",
   "execution_count": 190,
   "id": "32ac3bfb",
   "metadata": {},
   "outputs": [
    {
     "data": {
      "text/plain": [
       "PassengerId   -0.005007\n",
       "Survived       1.000000\n",
       "Pclass        -0.338481\n",
       "Age           -0.077221\n",
       "SibSp         -0.035322\n",
       "Parch          0.081629\n",
       "Fare           0.257307\n",
       "Name: Survived, dtype: float64"
      ]
     },
     "execution_count": 190,
     "metadata": {},
     "output_type": "execute_result"
    }
   ],
   "source": [
    "titanic_df.corr()[\"Survived\"]"
   ]
  },
  {
   "cell_type": "code",
   "execution_count": 191,
   "id": "02f1149d",
   "metadata": {},
   "outputs": [
    {
     "data": {
      "text/plain": [
       "(891, 12)"
      ]
     },
     "execution_count": 191,
     "metadata": {},
     "output_type": "execute_result"
    }
   ],
   "source": [
    "titanic_df.shape"
   ]
  },
  {
   "cell_type": "code",
   "execution_count": 192,
   "id": "17b5fd0d",
   "metadata": {},
   "outputs": [
    {
     "data": {
      "text/plain": [
       "PassengerId      0\n",
       "Survived         0\n",
       "Pclass           0\n",
       "Name             0\n",
       "Sex              0\n",
       "Age            177\n",
       "SibSp            0\n",
       "Parch            0\n",
       "Ticket           0\n",
       "Fare             0\n",
       "Cabin          687\n",
       "Embarked         2\n",
       "dtype: int64"
      ]
     },
     "execution_count": 192,
     "metadata": {},
     "output_type": "execute_result"
    }
   ],
   "source": [
    "titanic_df.isna().sum()"
   ]
  },
  {
   "cell_type": "code",
   "execution_count": 193,
   "id": "01ddf670",
   "metadata": {},
   "outputs": [
    {
     "data": {
      "text/plain": [
       "0    549\n",
       "1    342\n",
       "Name: Survived, dtype: int64"
      ]
     },
     "execution_count": 193,
     "metadata": {},
     "output_type": "execute_result"
    }
   ],
   "source": [
    "titanic_df.Survived.value_counts()"
   ]
  },
  {
   "cell_type": "code",
   "execution_count": 194,
   "id": "528edac8",
   "metadata": {},
   "outputs": [
    {
     "data": {
      "text/plain": [
       "0.7420382165605095"
      ]
     },
     "execution_count": 194,
     "metadata": {},
     "output_type": "execute_result"
    }
   ],
   "source": [
    "women = titanic_df.loc[titanic_df.Sex==\"female\"][\"Survived\"]\n",
    "rate_women = sum(women) / len(women)\n",
    "rate_women"
   ]
  },
  {
   "cell_type": "code",
   "execution_count": 195,
   "id": "709a309e",
   "metadata": {},
   "outputs": [
    {
     "data": {
      "text/plain": [
       "0.18890814558058924"
      ]
     },
     "execution_count": 195,
     "metadata": {},
     "output_type": "execute_result"
    }
   ],
   "source": [
    "men = titanic_df.loc[titanic_df.Sex==\"male\"][\"Survived\"]\n",
    "rate_men = sum(men)/len(men)\n",
    "rate_men"
   ]
  },
  {
   "cell_type": "code",
   "execution_count": 196,
   "id": "cf8600a8",
   "metadata": {},
   "outputs": [
    {
     "data": {
      "application/vnd.plotly.v1+json": {
       "config": {
        "plotlyServerURL": "https://plot.ly"
       },
       "data": [
        {
         "domain": {
          "x": [
           0,
           1
          ],
          "y": [
           0,
           1
          ]
         },
         "hovertemplate": "label=%{label}<br>value=%{value}<extra></extra>",
         "labels": [
          "Women Didn't Survive",
          "Women Survived"
         ],
         "legendgroup": "",
         "name": "",
         "showlegend": true,
         "type": "pie",
         "values": [
          81,
          233
         ]
        }
       ],
       "layout": {
        "legend": {
         "tracegroupgap": 0
        },
        "template": {
         "data": {
          "bar": [
           {
            "error_x": {
             "color": "#2a3f5f"
            },
            "error_y": {
             "color": "#2a3f5f"
            },
            "marker": {
             "line": {
              "color": "#E5ECF6",
              "width": 0.5
             },
             "pattern": {
              "fillmode": "overlay",
              "size": 10,
              "solidity": 0.2
             }
            },
            "type": "bar"
           }
          ],
          "barpolar": [
           {
            "marker": {
             "line": {
              "color": "#E5ECF6",
              "width": 0.5
             },
             "pattern": {
              "fillmode": "overlay",
              "size": 10,
              "solidity": 0.2
             }
            },
            "type": "barpolar"
           }
          ],
          "carpet": [
           {
            "aaxis": {
             "endlinecolor": "#2a3f5f",
             "gridcolor": "white",
             "linecolor": "white",
             "minorgridcolor": "white",
             "startlinecolor": "#2a3f5f"
            },
            "baxis": {
             "endlinecolor": "#2a3f5f",
             "gridcolor": "white",
             "linecolor": "white",
             "minorgridcolor": "white",
             "startlinecolor": "#2a3f5f"
            },
            "type": "carpet"
           }
          ],
          "choropleth": [
           {
            "colorbar": {
             "outlinewidth": 0,
             "ticks": ""
            },
            "type": "choropleth"
           }
          ],
          "contour": [
           {
            "colorbar": {
             "outlinewidth": 0,
             "ticks": ""
            },
            "colorscale": [
             [
              0,
              "#0d0887"
             ],
             [
              0.1111111111111111,
              "#46039f"
             ],
             [
              0.2222222222222222,
              "#7201a8"
             ],
             [
              0.3333333333333333,
              "#9c179e"
             ],
             [
              0.4444444444444444,
              "#bd3786"
             ],
             [
              0.5555555555555556,
              "#d8576b"
             ],
             [
              0.6666666666666666,
              "#ed7953"
             ],
             [
              0.7777777777777778,
              "#fb9f3a"
             ],
             [
              0.8888888888888888,
              "#fdca26"
             ],
             [
              1,
              "#f0f921"
             ]
            ],
            "type": "contour"
           }
          ],
          "contourcarpet": [
           {
            "colorbar": {
             "outlinewidth": 0,
             "ticks": ""
            },
            "type": "contourcarpet"
           }
          ],
          "heatmap": [
           {
            "colorbar": {
             "outlinewidth": 0,
             "ticks": ""
            },
            "colorscale": [
             [
              0,
              "#0d0887"
             ],
             [
              0.1111111111111111,
              "#46039f"
             ],
             [
              0.2222222222222222,
              "#7201a8"
             ],
             [
              0.3333333333333333,
              "#9c179e"
             ],
             [
              0.4444444444444444,
              "#bd3786"
             ],
             [
              0.5555555555555556,
              "#d8576b"
             ],
             [
              0.6666666666666666,
              "#ed7953"
             ],
             [
              0.7777777777777778,
              "#fb9f3a"
             ],
             [
              0.8888888888888888,
              "#fdca26"
             ],
             [
              1,
              "#f0f921"
             ]
            ],
            "type": "heatmap"
           }
          ],
          "heatmapgl": [
           {
            "colorbar": {
             "outlinewidth": 0,
             "ticks": ""
            },
            "colorscale": [
             [
              0,
              "#0d0887"
             ],
             [
              0.1111111111111111,
              "#46039f"
             ],
             [
              0.2222222222222222,
              "#7201a8"
             ],
             [
              0.3333333333333333,
              "#9c179e"
             ],
             [
              0.4444444444444444,
              "#bd3786"
             ],
             [
              0.5555555555555556,
              "#d8576b"
             ],
             [
              0.6666666666666666,
              "#ed7953"
             ],
             [
              0.7777777777777778,
              "#fb9f3a"
             ],
             [
              0.8888888888888888,
              "#fdca26"
             ],
             [
              1,
              "#f0f921"
             ]
            ],
            "type": "heatmapgl"
           }
          ],
          "histogram": [
           {
            "marker": {
             "pattern": {
              "fillmode": "overlay",
              "size": 10,
              "solidity": 0.2
             }
            },
            "type": "histogram"
           }
          ],
          "histogram2d": [
           {
            "colorbar": {
             "outlinewidth": 0,
             "ticks": ""
            },
            "colorscale": [
             [
              0,
              "#0d0887"
             ],
             [
              0.1111111111111111,
              "#46039f"
             ],
             [
              0.2222222222222222,
              "#7201a8"
             ],
             [
              0.3333333333333333,
              "#9c179e"
             ],
             [
              0.4444444444444444,
              "#bd3786"
             ],
             [
              0.5555555555555556,
              "#d8576b"
             ],
             [
              0.6666666666666666,
              "#ed7953"
             ],
             [
              0.7777777777777778,
              "#fb9f3a"
             ],
             [
              0.8888888888888888,
              "#fdca26"
             ],
             [
              1,
              "#f0f921"
             ]
            ],
            "type": "histogram2d"
           }
          ],
          "histogram2dcontour": [
           {
            "colorbar": {
             "outlinewidth": 0,
             "ticks": ""
            },
            "colorscale": [
             [
              0,
              "#0d0887"
             ],
             [
              0.1111111111111111,
              "#46039f"
             ],
             [
              0.2222222222222222,
              "#7201a8"
             ],
             [
              0.3333333333333333,
              "#9c179e"
             ],
             [
              0.4444444444444444,
              "#bd3786"
             ],
             [
              0.5555555555555556,
              "#d8576b"
             ],
             [
              0.6666666666666666,
              "#ed7953"
             ],
             [
              0.7777777777777778,
              "#fb9f3a"
             ],
             [
              0.8888888888888888,
              "#fdca26"
             ],
             [
              1,
              "#f0f921"
             ]
            ],
            "type": "histogram2dcontour"
           }
          ],
          "mesh3d": [
           {
            "colorbar": {
             "outlinewidth": 0,
             "ticks": ""
            },
            "type": "mesh3d"
           }
          ],
          "parcoords": [
           {
            "line": {
             "colorbar": {
              "outlinewidth": 0,
              "ticks": ""
             }
            },
            "type": "parcoords"
           }
          ],
          "pie": [
           {
            "automargin": true,
            "type": "pie"
           }
          ],
          "scatter": [
           {
            "marker": {
             "colorbar": {
              "outlinewidth": 0,
              "ticks": ""
             }
            },
            "type": "scatter"
           }
          ],
          "scatter3d": [
           {
            "line": {
             "colorbar": {
              "outlinewidth": 0,
              "ticks": ""
             }
            },
            "marker": {
             "colorbar": {
              "outlinewidth": 0,
              "ticks": ""
             }
            },
            "type": "scatter3d"
           }
          ],
          "scattercarpet": [
           {
            "marker": {
             "colorbar": {
              "outlinewidth": 0,
              "ticks": ""
             }
            },
            "type": "scattercarpet"
           }
          ],
          "scattergeo": [
           {
            "marker": {
             "colorbar": {
              "outlinewidth": 0,
              "ticks": ""
             }
            },
            "type": "scattergeo"
           }
          ],
          "scattergl": [
           {
            "marker": {
             "colorbar": {
              "outlinewidth": 0,
              "ticks": ""
             }
            },
            "type": "scattergl"
           }
          ],
          "scattermapbox": [
           {
            "marker": {
             "colorbar": {
              "outlinewidth": 0,
              "ticks": ""
             }
            },
            "type": "scattermapbox"
           }
          ],
          "scatterpolar": [
           {
            "marker": {
             "colorbar": {
              "outlinewidth": 0,
              "ticks": ""
             }
            },
            "type": "scatterpolar"
           }
          ],
          "scatterpolargl": [
           {
            "marker": {
             "colorbar": {
              "outlinewidth": 0,
              "ticks": ""
             }
            },
            "type": "scatterpolargl"
           }
          ],
          "scatterternary": [
           {
            "marker": {
             "colorbar": {
              "outlinewidth": 0,
              "ticks": ""
             }
            },
            "type": "scatterternary"
           }
          ],
          "surface": [
           {
            "colorbar": {
             "outlinewidth": 0,
             "ticks": ""
            },
            "colorscale": [
             [
              0,
              "#0d0887"
             ],
             [
              0.1111111111111111,
              "#46039f"
             ],
             [
              0.2222222222222222,
              "#7201a8"
             ],
             [
              0.3333333333333333,
              "#9c179e"
             ],
             [
              0.4444444444444444,
              "#bd3786"
             ],
             [
              0.5555555555555556,
              "#d8576b"
             ],
             [
              0.6666666666666666,
              "#ed7953"
             ],
             [
              0.7777777777777778,
              "#fb9f3a"
             ],
             [
              0.8888888888888888,
              "#fdca26"
             ],
             [
              1,
              "#f0f921"
             ]
            ],
            "type": "surface"
           }
          ],
          "table": [
           {
            "cells": {
             "fill": {
              "color": "#EBF0F8"
             },
             "line": {
              "color": "white"
             }
            },
            "header": {
             "fill": {
              "color": "#C8D4E3"
             },
             "line": {
              "color": "white"
             }
            },
            "type": "table"
           }
          ]
         },
         "layout": {
          "annotationdefaults": {
           "arrowcolor": "#2a3f5f",
           "arrowhead": 0,
           "arrowwidth": 1
          },
          "autotypenumbers": "strict",
          "coloraxis": {
           "colorbar": {
            "outlinewidth": 0,
            "ticks": ""
           }
          },
          "colorscale": {
           "diverging": [
            [
             0,
             "#8e0152"
            ],
            [
             0.1,
             "#c51b7d"
            ],
            [
             0.2,
             "#de77ae"
            ],
            [
             0.3,
             "#f1b6da"
            ],
            [
             0.4,
             "#fde0ef"
            ],
            [
             0.5,
             "#f7f7f7"
            ],
            [
             0.6,
             "#e6f5d0"
            ],
            [
             0.7,
             "#b8e186"
            ],
            [
             0.8,
             "#7fbc41"
            ],
            [
             0.9,
             "#4d9221"
            ],
            [
             1,
             "#276419"
            ]
           ],
           "sequential": [
            [
             0,
             "#0d0887"
            ],
            [
             0.1111111111111111,
             "#46039f"
            ],
            [
             0.2222222222222222,
             "#7201a8"
            ],
            [
             0.3333333333333333,
             "#9c179e"
            ],
            [
             0.4444444444444444,
             "#bd3786"
            ],
            [
             0.5555555555555556,
             "#d8576b"
            ],
            [
             0.6666666666666666,
             "#ed7953"
            ],
            [
             0.7777777777777778,
             "#fb9f3a"
            ],
            [
             0.8888888888888888,
             "#fdca26"
            ],
            [
             1,
             "#f0f921"
            ]
           ],
           "sequentialminus": [
            [
             0,
             "#0d0887"
            ],
            [
             0.1111111111111111,
             "#46039f"
            ],
            [
             0.2222222222222222,
             "#7201a8"
            ],
            [
             0.3333333333333333,
             "#9c179e"
            ],
            [
             0.4444444444444444,
             "#bd3786"
            ],
            [
             0.5555555555555556,
             "#d8576b"
            ],
            [
             0.6666666666666666,
             "#ed7953"
            ],
            [
             0.7777777777777778,
             "#fb9f3a"
            ],
            [
             0.8888888888888888,
             "#fdca26"
            ],
            [
             1,
             "#f0f921"
            ]
           ]
          },
          "colorway": [
           "#636efa",
           "#EF553B",
           "#00cc96",
           "#ab63fa",
           "#FFA15A",
           "#19d3f3",
           "#FF6692",
           "#B6E880",
           "#FF97FF",
           "#FECB52"
          ],
          "font": {
           "color": "#2a3f5f"
          },
          "geo": {
           "bgcolor": "white",
           "lakecolor": "white",
           "landcolor": "#E5ECF6",
           "showlakes": true,
           "showland": true,
           "subunitcolor": "white"
          },
          "hoverlabel": {
           "align": "left"
          },
          "hovermode": "closest",
          "mapbox": {
           "style": "light"
          },
          "paper_bgcolor": "white",
          "plot_bgcolor": "#E5ECF6",
          "polar": {
           "angularaxis": {
            "gridcolor": "white",
            "linecolor": "white",
            "ticks": ""
           },
           "bgcolor": "#E5ECF6",
           "radialaxis": {
            "gridcolor": "white",
            "linecolor": "white",
            "ticks": ""
           }
          },
          "scene": {
           "xaxis": {
            "backgroundcolor": "#E5ECF6",
            "gridcolor": "white",
            "gridwidth": 2,
            "linecolor": "white",
            "showbackground": true,
            "ticks": "",
            "zerolinecolor": "white"
           },
           "yaxis": {
            "backgroundcolor": "#E5ECF6",
            "gridcolor": "white",
            "gridwidth": 2,
            "linecolor": "white",
            "showbackground": true,
            "ticks": "",
            "zerolinecolor": "white"
           },
           "zaxis": {
            "backgroundcolor": "#E5ECF6",
            "gridcolor": "white",
            "gridwidth": 2,
            "linecolor": "white",
            "showbackground": true,
            "ticks": "",
            "zerolinecolor": "white"
           }
          },
          "shapedefaults": {
           "line": {
            "color": "#2a3f5f"
           }
          },
          "ternary": {
           "aaxis": {
            "gridcolor": "white",
            "linecolor": "white",
            "ticks": ""
           },
           "baxis": {
            "gridcolor": "white",
            "linecolor": "white",
            "ticks": ""
           },
           "bgcolor": "#E5ECF6",
           "caxis": {
            "gridcolor": "white",
            "linecolor": "white",
            "ticks": ""
           }
          },
          "title": {
           "x": 0.05
          },
          "xaxis": {
           "automargin": true,
           "gridcolor": "white",
           "linecolor": "white",
           "ticks": "",
           "title": {
            "standoff": 15
           },
           "zerolinecolor": "white",
           "zerolinewidth": 2
          },
          "yaxis": {
           "automargin": true,
           "gridcolor": "white",
           "linecolor": "white",
           "ticks": "",
           "title": {
            "standoff": 15
           },
           "zerolinecolor": "white",
           "zerolinewidth": 2
          }
         }
        },
        "title": {
         "text": "Women Survived vs Women Didn't Survive"
        }
       }
      },
      "text/html": [
       "<div>                            <div id=\"72814c31-b204-4bad-9d46-373775fc93d9\" class=\"plotly-graph-div\" style=\"height:525px; width:100%;\"></div>            <script type=\"text/javascript\">                require([\"plotly\"], function(Plotly) {                    window.PLOTLYENV=window.PLOTLYENV || {};                                    if (document.getElementById(\"72814c31-b204-4bad-9d46-373775fc93d9\")) {                    Plotly.newPlot(                        \"72814c31-b204-4bad-9d46-373775fc93d9\",                        [{\"domain\":{\"x\":[0.0,1.0],\"y\":[0.0,1.0]},\"hovertemplate\":\"label=%{label}<br>value=%{value}<extra></extra>\",\"labels\":[\"Women Didn't Survive\",\"Women Survived\"],\"legendgroup\":\"\",\"name\":\"\",\"showlegend\":true,\"values\":[81,233],\"type\":\"pie\"}],                        {\"template\":{\"data\":{\"bar\":[{\"error_x\":{\"color\":\"#2a3f5f\"},\"error_y\":{\"color\":\"#2a3f5f\"},\"marker\":{\"line\":{\"color\":\"#E5ECF6\",\"width\":0.5},\"pattern\":{\"fillmode\":\"overlay\",\"size\":10,\"solidity\":0.2}},\"type\":\"bar\"}],\"barpolar\":[{\"marker\":{\"line\":{\"color\":\"#E5ECF6\",\"width\":0.5},\"pattern\":{\"fillmode\":\"overlay\",\"size\":10,\"solidity\":0.2}},\"type\":\"barpolar\"}],\"carpet\":[{\"aaxis\":{\"endlinecolor\":\"#2a3f5f\",\"gridcolor\":\"white\",\"linecolor\":\"white\",\"minorgridcolor\":\"white\",\"startlinecolor\":\"#2a3f5f\"},\"baxis\":{\"endlinecolor\":\"#2a3f5f\",\"gridcolor\":\"white\",\"linecolor\":\"white\",\"minorgridcolor\":\"white\",\"startlinecolor\":\"#2a3f5f\"},\"type\":\"carpet\"}],\"choropleth\":[{\"colorbar\":{\"outlinewidth\":0,\"ticks\":\"\"},\"type\":\"choropleth\"}],\"contour\":[{\"colorbar\":{\"outlinewidth\":0,\"ticks\":\"\"},\"colorscale\":[[0.0,\"#0d0887\"],[0.1111111111111111,\"#46039f\"],[0.2222222222222222,\"#7201a8\"],[0.3333333333333333,\"#9c179e\"],[0.4444444444444444,\"#bd3786\"],[0.5555555555555556,\"#d8576b\"],[0.6666666666666666,\"#ed7953\"],[0.7777777777777778,\"#fb9f3a\"],[0.8888888888888888,\"#fdca26\"],[1.0,\"#f0f921\"]],\"type\":\"contour\"}],\"contourcarpet\":[{\"colorbar\":{\"outlinewidth\":0,\"ticks\":\"\"},\"type\":\"contourcarpet\"}],\"heatmap\":[{\"colorbar\":{\"outlinewidth\":0,\"ticks\":\"\"},\"colorscale\":[[0.0,\"#0d0887\"],[0.1111111111111111,\"#46039f\"],[0.2222222222222222,\"#7201a8\"],[0.3333333333333333,\"#9c179e\"],[0.4444444444444444,\"#bd3786\"],[0.5555555555555556,\"#d8576b\"],[0.6666666666666666,\"#ed7953\"],[0.7777777777777778,\"#fb9f3a\"],[0.8888888888888888,\"#fdca26\"],[1.0,\"#f0f921\"]],\"type\":\"heatmap\"}],\"heatmapgl\":[{\"colorbar\":{\"outlinewidth\":0,\"ticks\":\"\"},\"colorscale\":[[0.0,\"#0d0887\"],[0.1111111111111111,\"#46039f\"],[0.2222222222222222,\"#7201a8\"],[0.3333333333333333,\"#9c179e\"],[0.4444444444444444,\"#bd3786\"],[0.5555555555555556,\"#d8576b\"],[0.6666666666666666,\"#ed7953\"],[0.7777777777777778,\"#fb9f3a\"],[0.8888888888888888,\"#fdca26\"],[1.0,\"#f0f921\"]],\"type\":\"heatmapgl\"}],\"histogram\":[{\"marker\":{\"pattern\":{\"fillmode\":\"overlay\",\"size\":10,\"solidity\":0.2}},\"type\":\"histogram\"}],\"histogram2d\":[{\"colorbar\":{\"outlinewidth\":0,\"ticks\":\"\"},\"colorscale\":[[0.0,\"#0d0887\"],[0.1111111111111111,\"#46039f\"],[0.2222222222222222,\"#7201a8\"],[0.3333333333333333,\"#9c179e\"],[0.4444444444444444,\"#bd3786\"],[0.5555555555555556,\"#d8576b\"],[0.6666666666666666,\"#ed7953\"],[0.7777777777777778,\"#fb9f3a\"],[0.8888888888888888,\"#fdca26\"],[1.0,\"#f0f921\"]],\"type\":\"histogram2d\"}],\"histogram2dcontour\":[{\"colorbar\":{\"outlinewidth\":0,\"ticks\":\"\"},\"colorscale\":[[0.0,\"#0d0887\"],[0.1111111111111111,\"#46039f\"],[0.2222222222222222,\"#7201a8\"],[0.3333333333333333,\"#9c179e\"],[0.4444444444444444,\"#bd3786\"],[0.5555555555555556,\"#d8576b\"],[0.6666666666666666,\"#ed7953\"],[0.7777777777777778,\"#fb9f3a\"],[0.8888888888888888,\"#fdca26\"],[1.0,\"#f0f921\"]],\"type\":\"histogram2dcontour\"}],\"mesh3d\":[{\"colorbar\":{\"outlinewidth\":0,\"ticks\":\"\"},\"type\":\"mesh3d\"}],\"parcoords\":[{\"line\":{\"colorbar\":{\"outlinewidth\":0,\"ticks\":\"\"}},\"type\":\"parcoords\"}],\"pie\":[{\"automargin\":true,\"type\":\"pie\"}],\"scatter\":[{\"marker\":{\"colorbar\":{\"outlinewidth\":0,\"ticks\":\"\"}},\"type\":\"scatter\"}],\"scatter3d\":[{\"line\":{\"colorbar\":{\"outlinewidth\":0,\"ticks\":\"\"}},\"marker\":{\"colorbar\":{\"outlinewidth\":0,\"ticks\":\"\"}},\"type\":\"scatter3d\"}],\"scattercarpet\":[{\"marker\":{\"colorbar\":{\"outlinewidth\":0,\"ticks\":\"\"}},\"type\":\"scattercarpet\"}],\"scattergeo\":[{\"marker\":{\"colorbar\":{\"outlinewidth\":0,\"ticks\":\"\"}},\"type\":\"scattergeo\"}],\"scattergl\":[{\"marker\":{\"colorbar\":{\"outlinewidth\":0,\"ticks\":\"\"}},\"type\":\"scattergl\"}],\"scattermapbox\":[{\"marker\":{\"colorbar\":{\"outlinewidth\":0,\"ticks\":\"\"}},\"type\":\"scattermapbox\"}],\"scatterpolar\":[{\"marker\":{\"colorbar\":{\"outlinewidth\":0,\"ticks\":\"\"}},\"type\":\"scatterpolar\"}],\"scatterpolargl\":[{\"marker\":{\"colorbar\":{\"outlinewidth\":0,\"ticks\":\"\"}},\"type\":\"scatterpolargl\"}],\"scatterternary\":[{\"marker\":{\"colorbar\":{\"outlinewidth\":0,\"ticks\":\"\"}},\"type\":\"scatterternary\"}],\"surface\":[{\"colorbar\":{\"outlinewidth\":0,\"ticks\":\"\"},\"colorscale\":[[0.0,\"#0d0887\"],[0.1111111111111111,\"#46039f\"],[0.2222222222222222,\"#7201a8\"],[0.3333333333333333,\"#9c179e\"],[0.4444444444444444,\"#bd3786\"],[0.5555555555555556,\"#d8576b\"],[0.6666666666666666,\"#ed7953\"],[0.7777777777777778,\"#fb9f3a\"],[0.8888888888888888,\"#fdca26\"],[1.0,\"#f0f921\"]],\"type\":\"surface\"}],\"table\":[{\"cells\":{\"fill\":{\"color\":\"#EBF0F8\"},\"line\":{\"color\":\"white\"}},\"header\":{\"fill\":{\"color\":\"#C8D4E3\"},\"line\":{\"color\":\"white\"}},\"type\":\"table\"}]},\"layout\":{\"annotationdefaults\":{\"arrowcolor\":\"#2a3f5f\",\"arrowhead\":0,\"arrowwidth\":1},\"autotypenumbers\":\"strict\",\"coloraxis\":{\"colorbar\":{\"outlinewidth\":0,\"ticks\":\"\"}},\"colorscale\":{\"diverging\":[[0,\"#8e0152\"],[0.1,\"#c51b7d\"],[0.2,\"#de77ae\"],[0.3,\"#f1b6da\"],[0.4,\"#fde0ef\"],[0.5,\"#f7f7f7\"],[0.6,\"#e6f5d0\"],[0.7,\"#b8e186\"],[0.8,\"#7fbc41\"],[0.9,\"#4d9221\"],[1,\"#276419\"]],\"sequential\":[[0.0,\"#0d0887\"],[0.1111111111111111,\"#46039f\"],[0.2222222222222222,\"#7201a8\"],[0.3333333333333333,\"#9c179e\"],[0.4444444444444444,\"#bd3786\"],[0.5555555555555556,\"#d8576b\"],[0.6666666666666666,\"#ed7953\"],[0.7777777777777778,\"#fb9f3a\"],[0.8888888888888888,\"#fdca26\"],[1.0,\"#f0f921\"]],\"sequentialminus\":[[0.0,\"#0d0887\"],[0.1111111111111111,\"#46039f\"],[0.2222222222222222,\"#7201a8\"],[0.3333333333333333,\"#9c179e\"],[0.4444444444444444,\"#bd3786\"],[0.5555555555555556,\"#d8576b\"],[0.6666666666666666,\"#ed7953\"],[0.7777777777777778,\"#fb9f3a\"],[0.8888888888888888,\"#fdca26\"],[1.0,\"#f0f921\"]]},\"colorway\":[\"#636efa\",\"#EF553B\",\"#00cc96\",\"#ab63fa\",\"#FFA15A\",\"#19d3f3\",\"#FF6692\",\"#B6E880\",\"#FF97FF\",\"#FECB52\"],\"font\":{\"color\":\"#2a3f5f\"},\"geo\":{\"bgcolor\":\"white\",\"lakecolor\":\"white\",\"landcolor\":\"#E5ECF6\",\"showlakes\":true,\"showland\":true,\"subunitcolor\":\"white\"},\"hoverlabel\":{\"align\":\"left\"},\"hovermode\":\"closest\",\"mapbox\":{\"style\":\"light\"},\"paper_bgcolor\":\"white\",\"plot_bgcolor\":\"#E5ECF6\",\"polar\":{\"angularaxis\":{\"gridcolor\":\"white\",\"linecolor\":\"white\",\"ticks\":\"\"},\"bgcolor\":\"#E5ECF6\",\"radialaxis\":{\"gridcolor\":\"white\",\"linecolor\":\"white\",\"ticks\":\"\"}},\"scene\":{\"xaxis\":{\"backgroundcolor\":\"#E5ECF6\",\"gridcolor\":\"white\",\"gridwidth\":2,\"linecolor\":\"white\",\"showbackground\":true,\"ticks\":\"\",\"zerolinecolor\":\"white\"},\"yaxis\":{\"backgroundcolor\":\"#E5ECF6\",\"gridcolor\":\"white\",\"gridwidth\":2,\"linecolor\":\"white\",\"showbackground\":true,\"ticks\":\"\",\"zerolinecolor\":\"white\"},\"zaxis\":{\"backgroundcolor\":\"#E5ECF6\",\"gridcolor\":\"white\",\"gridwidth\":2,\"linecolor\":\"white\",\"showbackground\":true,\"ticks\":\"\",\"zerolinecolor\":\"white\"}},\"shapedefaults\":{\"line\":{\"color\":\"#2a3f5f\"}},\"ternary\":{\"aaxis\":{\"gridcolor\":\"white\",\"linecolor\":\"white\",\"ticks\":\"\"},\"baxis\":{\"gridcolor\":\"white\",\"linecolor\":\"white\",\"ticks\":\"\"},\"bgcolor\":\"#E5ECF6\",\"caxis\":{\"gridcolor\":\"white\",\"linecolor\":\"white\",\"ticks\":\"\"}},\"title\":{\"x\":0.05},\"xaxis\":{\"automargin\":true,\"gridcolor\":\"white\",\"linecolor\":\"white\",\"ticks\":\"\",\"title\":{\"standoff\":15},\"zerolinecolor\":\"white\",\"zerolinewidth\":2},\"yaxis\":{\"automargin\":true,\"gridcolor\":\"white\",\"linecolor\":\"white\",\"ticks\":\"\",\"title\":{\"standoff\":15},\"zerolinecolor\":\"white\",\"zerolinewidth\":2}}},\"legend\":{\"tracegroupgap\":0},\"title\":{\"text\":\"Women Survived vs Women Didn't Survive\"}},                        {\"responsive\": true}                    ).then(function(){\n",
       "                            \n",
       "var gd = document.getElementById('72814c31-b204-4bad-9d46-373775fc93d9');\n",
       "var x = new MutationObserver(function (mutations, observer) {{\n",
       "        var display = window.getComputedStyle(gd).display;\n",
       "        if (!display || display === 'none') {{\n",
       "            console.log([gd, 'removed!']);\n",
       "            Plotly.purge(gd);\n",
       "            observer.disconnect();\n",
       "        }}\n",
       "}});\n",
       "\n",
       "// Listen for the removal of the full notebook cells\n",
       "var notebookContainer = gd.closest('#notebook-container');\n",
       "if (notebookContainer) {{\n",
       "    x.observe(notebookContainer, {childList: true});\n",
       "}}\n",
       "\n",
       "// Listen for the clearing of the current output cell\n",
       "var outputEl = gd.closest('.output');\n",
       "if (outputEl) {{\n",
       "    x.observe(outputEl, {childList: true});\n",
       "}}\n",
       "\n",
       "                        })                };                });            </script>        </div>"
      ]
     },
     "metadata": {},
     "output_type": "display_data"
    }
   ],
   "source": [
    "women_survived = titanic_df.loc[titanic_df.Sex==\"female\"].groupby(\"Survived\").count()[\"PassengerId\"]\n",
    "px.pie(names=[\"Women Didn't Survive\",\"Women Survived\", ], values=women_survived.values,title=\"Women Survived vs Women Didn't Survive\")"
   ]
  },
  {
   "cell_type": "code",
   "execution_count": 197,
   "id": "cff0b7a7",
   "metadata": {},
   "outputs": [
    {
     "data": {
      "application/vnd.plotly.v1+json": {
       "config": {
        "plotlyServerURL": "https://plot.ly"
       },
       "data": [
        {
         "domain": {
          "x": [
           0,
           1
          ],
          "y": [
           0,
           1
          ]
         },
         "hovertemplate": "label=%{label}<br>value=%{value}<extra></extra>",
         "labels": [
          "Men Didn't Survive",
          "Men Survived"
         ],
         "legendgroup": "",
         "name": "",
         "showlegend": true,
         "type": "pie",
         "values": [
          468,
          109
         ]
        }
       ],
       "layout": {
        "legend": {
         "tracegroupgap": 0
        },
        "template": {
         "data": {
          "bar": [
           {
            "error_x": {
             "color": "#2a3f5f"
            },
            "error_y": {
             "color": "#2a3f5f"
            },
            "marker": {
             "line": {
              "color": "#E5ECF6",
              "width": 0.5
             },
             "pattern": {
              "fillmode": "overlay",
              "size": 10,
              "solidity": 0.2
             }
            },
            "type": "bar"
           }
          ],
          "barpolar": [
           {
            "marker": {
             "line": {
              "color": "#E5ECF6",
              "width": 0.5
             },
             "pattern": {
              "fillmode": "overlay",
              "size": 10,
              "solidity": 0.2
             }
            },
            "type": "barpolar"
           }
          ],
          "carpet": [
           {
            "aaxis": {
             "endlinecolor": "#2a3f5f",
             "gridcolor": "white",
             "linecolor": "white",
             "minorgridcolor": "white",
             "startlinecolor": "#2a3f5f"
            },
            "baxis": {
             "endlinecolor": "#2a3f5f",
             "gridcolor": "white",
             "linecolor": "white",
             "minorgridcolor": "white",
             "startlinecolor": "#2a3f5f"
            },
            "type": "carpet"
           }
          ],
          "choropleth": [
           {
            "colorbar": {
             "outlinewidth": 0,
             "ticks": ""
            },
            "type": "choropleth"
           }
          ],
          "contour": [
           {
            "colorbar": {
             "outlinewidth": 0,
             "ticks": ""
            },
            "colorscale": [
             [
              0,
              "#0d0887"
             ],
             [
              0.1111111111111111,
              "#46039f"
             ],
             [
              0.2222222222222222,
              "#7201a8"
             ],
             [
              0.3333333333333333,
              "#9c179e"
             ],
             [
              0.4444444444444444,
              "#bd3786"
             ],
             [
              0.5555555555555556,
              "#d8576b"
             ],
             [
              0.6666666666666666,
              "#ed7953"
             ],
             [
              0.7777777777777778,
              "#fb9f3a"
             ],
             [
              0.8888888888888888,
              "#fdca26"
             ],
             [
              1,
              "#f0f921"
             ]
            ],
            "type": "contour"
           }
          ],
          "contourcarpet": [
           {
            "colorbar": {
             "outlinewidth": 0,
             "ticks": ""
            },
            "type": "contourcarpet"
           }
          ],
          "heatmap": [
           {
            "colorbar": {
             "outlinewidth": 0,
             "ticks": ""
            },
            "colorscale": [
             [
              0,
              "#0d0887"
             ],
             [
              0.1111111111111111,
              "#46039f"
             ],
             [
              0.2222222222222222,
              "#7201a8"
             ],
             [
              0.3333333333333333,
              "#9c179e"
             ],
             [
              0.4444444444444444,
              "#bd3786"
             ],
             [
              0.5555555555555556,
              "#d8576b"
             ],
             [
              0.6666666666666666,
              "#ed7953"
             ],
             [
              0.7777777777777778,
              "#fb9f3a"
             ],
             [
              0.8888888888888888,
              "#fdca26"
             ],
             [
              1,
              "#f0f921"
             ]
            ],
            "type": "heatmap"
           }
          ],
          "heatmapgl": [
           {
            "colorbar": {
             "outlinewidth": 0,
             "ticks": ""
            },
            "colorscale": [
             [
              0,
              "#0d0887"
             ],
             [
              0.1111111111111111,
              "#46039f"
             ],
             [
              0.2222222222222222,
              "#7201a8"
             ],
             [
              0.3333333333333333,
              "#9c179e"
             ],
             [
              0.4444444444444444,
              "#bd3786"
             ],
             [
              0.5555555555555556,
              "#d8576b"
             ],
             [
              0.6666666666666666,
              "#ed7953"
             ],
             [
              0.7777777777777778,
              "#fb9f3a"
             ],
             [
              0.8888888888888888,
              "#fdca26"
             ],
             [
              1,
              "#f0f921"
             ]
            ],
            "type": "heatmapgl"
           }
          ],
          "histogram": [
           {
            "marker": {
             "pattern": {
              "fillmode": "overlay",
              "size": 10,
              "solidity": 0.2
             }
            },
            "type": "histogram"
           }
          ],
          "histogram2d": [
           {
            "colorbar": {
             "outlinewidth": 0,
             "ticks": ""
            },
            "colorscale": [
             [
              0,
              "#0d0887"
             ],
             [
              0.1111111111111111,
              "#46039f"
             ],
             [
              0.2222222222222222,
              "#7201a8"
             ],
             [
              0.3333333333333333,
              "#9c179e"
             ],
             [
              0.4444444444444444,
              "#bd3786"
             ],
             [
              0.5555555555555556,
              "#d8576b"
             ],
             [
              0.6666666666666666,
              "#ed7953"
             ],
             [
              0.7777777777777778,
              "#fb9f3a"
             ],
             [
              0.8888888888888888,
              "#fdca26"
             ],
             [
              1,
              "#f0f921"
             ]
            ],
            "type": "histogram2d"
           }
          ],
          "histogram2dcontour": [
           {
            "colorbar": {
             "outlinewidth": 0,
             "ticks": ""
            },
            "colorscale": [
             [
              0,
              "#0d0887"
             ],
             [
              0.1111111111111111,
              "#46039f"
             ],
             [
              0.2222222222222222,
              "#7201a8"
             ],
             [
              0.3333333333333333,
              "#9c179e"
             ],
             [
              0.4444444444444444,
              "#bd3786"
             ],
             [
              0.5555555555555556,
              "#d8576b"
             ],
             [
              0.6666666666666666,
              "#ed7953"
             ],
             [
              0.7777777777777778,
              "#fb9f3a"
             ],
             [
              0.8888888888888888,
              "#fdca26"
             ],
             [
              1,
              "#f0f921"
             ]
            ],
            "type": "histogram2dcontour"
           }
          ],
          "mesh3d": [
           {
            "colorbar": {
             "outlinewidth": 0,
             "ticks": ""
            },
            "type": "mesh3d"
           }
          ],
          "parcoords": [
           {
            "line": {
             "colorbar": {
              "outlinewidth": 0,
              "ticks": ""
             }
            },
            "type": "parcoords"
           }
          ],
          "pie": [
           {
            "automargin": true,
            "type": "pie"
           }
          ],
          "scatter": [
           {
            "marker": {
             "colorbar": {
              "outlinewidth": 0,
              "ticks": ""
             }
            },
            "type": "scatter"
           }
          ],
          "scatter3d": [
           {
            "line": {
             "colorbar": {
              "outlinewidth": 0,
              "ticks": ""
             }
            },
            "marker": {
             "colorbar": {
              "outlinewidth": 0,
              "ticks": ""
             }
            },
            "type": "scatter3d"
           }
          ],
          "scattercarpet": [
           {
            "marker": {
             "colorbar": {
              "outlinewidth": 0,
              "ticks": ""
             }
            },
            "type": "scattercarpet"
           }
          ],
          "scattergeo": [
           {
            "marker": {
             "colorbar": {
              "outlinewidth": 0,
              "ticks": ""
             }
            },
            "type": "scattergeo"
           }
          ],
          "scattergl": [
           {
            "marker": {
             "colorbar": {
              "outlinewidth": 0,
              "ticks": ""
             }
            },
            "type": "scattergl"
           }
          ],
          "scattermapbox": [
           {
            "marker": {
             "colorbar": {
              "outlinewidth": 0,
              "ticks": ""
             }
            },
            "type": "scattermapbox"
           }
          ],
          "scatterpolar": [
           {
            "marker": {
             "colorbar": {
              "outlinewidth": 0,
              "ticks": ""
             }
            },
            "type": "scatterpolar"
           }
          ],
          "scatterpolargl": [
           {
            "marker": {
             "colorbar": {
              "outlinewidth": 0,
              "ticks": ""
             }
            },
            "type": "scatterpolargl"
           }
          ],
          "scatterternary": [
           {
            "marker": {
             "colorbar": {
              "outlinewidth": 0,
              "ticks": ""
             }
            },
            "type": "scatterternary"
           }
          ],
          "surface": [
           {
            "colorbar": {
             "outlinewidth": 0,
             "ticks": ""
            },
            "colorscale": [
             [
              0,
              "#0d0887"
             ],
             [
              0.1111111111111111,
              "#46039f"
             ],
             [
              0.2222222222222222,
              "#7201a8"
             ],
             [
              0.3333333333333333,
              "#9c179e"
             ],
             [
              0.4444444444444444,
              "#bd3786"
             ],
             [
              0.5555555555555556,
              "#d8576b"
             ],
             [
              0.6666666666666666,
              "#ed7953"
             ],
             [
              0.7777777777777778,
              "#fb9f3a"
             ],
             [
              0.8888888888888888,
              "#fdca26"
             ],
             [
              1,
              "#f0f921"
             ]
            ],
            "type": "surface"
           }
          ],
          "table": [
           {
            "cells": {
             "fill": {
              "color": "#EBF0F8"
             },
             "line": {
              "color": "white"
             }
            },
            "header": {
             "fill": {
              "color": "#C8D4E3"
             },
             "line": {
              "color": "white"
             }
            },
            "type": "table"
           }
          ]
         },
         "layout": {
          "annotationdefaults": {
           "arrowcolor": "#2a3f5f",
           "arrowhead": 0,
           "arrowwidth": 1
          },
          "autotypenumbers": "strict",
          "coloraxis": {
           "colorbar": {
            "outlinewidth": 0,
            "ticks": ""
           }
          },
          "colorscale": {
           "diverging": [
            [
             0,
             "#8e0152"
            ],
            [
             0.1,
             "#c51b7d"
            ],
            [
             0.2,
             "#de77ae"
            ],
            [
             0.3,
             "#f1b6da"
            ],
            [
             0.4,
             "#fde0ef"
            ],
            [
             0.5,
             "#f7f7f7"
            ],
            [
             0.6,
             "#e6f5d0"
            ],
            [
             0.7,
             "#b8e186"
            ],
            [
             0.8,
             "#7fbc41"
            ],
            [
             0.9,
             "#4d9221"
            ],
            [
             1,
             "#276419"
            ]
           ],
           "sequential": [
            [
             0,
             "#0d0887"
            ],
            [
             0.1111111111111111,
             "#46039f"
            ],
            [
             0.2222222222222222,
             "#7201a8"
            ],
            [
             0.3333333333333333,
             "#9c179e"
            ],
            [
             0.4444444444444444,
             "#bd3786"
            ],
            [
             0.5555555555555556,
             "#d8576b"
            ],
            [
             0.6666666666666666,
             "#ed7953"
            ],
            [
             0.7777777777777778,
             "#fb9f3a"
            ],
            [
             0.8888888888888888,
             "#fdca26"
            ],
            [
             1,
             "#f0f921"
            ]
           ],
           "sequentialminus": [
            [
             0,
             "#0d0887"
            ],
            [
             0.1111111111111111,
             "#46039f"
            ],
            [
             0.2222222222222222,
             "#7201a8"
            ],
            [
             0.3333333333333333,
             "#9c179e"
            ],
            [
             0.4444444444444444,
             "#bd3786"
            ],
            [
             0.5555555555555556,
             "#d8576b"
            ],
            [
             0.6666666666666666,
             "#ed7953"
            ],
            [
             0.7777777777777778,
             "#fb9f3a"
            ],
            [
             0.8888888888888888,
             "#fdca26"
            ],
            [
             1,
             "#f0f921"
            ]
           ]
          },
          "colorway": [
           "#636efa",
           "#EF553B",
           "#00cc96",
           "#ab63fa",
           "#FFA15A",
           "#19d3f3",
           "#FF6692",
           "#B6E880",
           "#FF97FF",
           "#FECB52"
          ],
          "font": {
           "color": "#2a3f5f"
          },
          "geo": {
           "bgcolor": "white",
           "lakecolor": "white",
           "landcolor": "#E5ECF6",
           "showlakes": true,
           "showland": true,
           "subunitcolor": "white"
          },
          "hoverlabel": {
           "align": "left"
          },
          "hovermode": "closest",
          "mapbox": {
           "style": "light"
          },
          "paper_bgcolor": "white",
          "plot_bgcolor": "#E5ECF6",
          "polar": {
           "angularaxis": {
            "gridcolor": "white",
            "linecolor": "white",
            "ticks": ""
           },
           "bgcolor": "#E5ECF6",
           "radialaxis": {
            "gridcolor": "white",
            "linecolor": "white",
            "ticks": ""
           }
          },
          "scene": {
           "xaxis": {
            "backgroundcolor": "#E5ECF6",
            "gridcolor": "white",
            "gridwidth": 2,
            "linecolor": "white",
            "showbackground": true,
            "ticks": "",
            "zerolinecolor": "white"
           },
           "yaxis": {
            "backgroundcolor": "#E5ECF6",
            "gridcolor": "white",
            "gridwidth": 2,
            "linecolor": "white",
            "showbackground": true,
            "ticks": "",
            "zerolinecolor": "white"
           },
           "zaxis": {
            "backgroundcolor": "#E5ECF6",
            "gridcolor": "white",
            "gridwidth": 2,
            "linecolor": "white",
            "showbackground": true,
            "ticks": "",
            "zerolinecolor": "white"
           }
          },
          "shapedefaults": {
           "line": {
            "color": "#2a3f5f"
           }
          },
          "ternary": {
           "aaxis": {
            "gridcolor": "white",
            "linecolor": "white",
            "ticks": ""
           },
           "baxis": {
            "gridcolor": "white",
            "linecolor": "white",
            "ticks": ""
           },
           "bgcolor": "#E5ECF6",
           "caxis": {
            "gridcolor": "white",
            "linecolor": "white",
            "ticks": ""
           }
          },
          "title": {
           "x": 0.05
          },
          "xaxis": {
           "automargin": true,
           "gridcolor": "white",
           "linecolor": "white",
           "ticks": "",
           "title": {
            "standoff": 15
           },
           "zerolinecolor": "white",
           "zerolinewidth": 2
          },
          "yaxis": {
           "automargin": true,
           "gridcolor": "white",
           "linecolor": "white",
           "ticks": "",
           "title": {
            "standoff": 15
           },
           "zerolinecolor": "white",
           "zerolinewidth": 2
          }
         }
        },
        "title": {
         "text": "Men Survived vs Men Didn't Survive"
        }
       }
      },
      "text/html": [
       "<div>                            <div id=\"a3a0c3c8-4522-4ed4-a6f8-2c64b5150a53\" class=\"plotly-graph-div\" style=\"height:525px; width:100%;\"></div>            <script type=\"text/javascript\">                require([\"plotly\"], function(Plotly) {                    window.PLOTLYENV=window.PLOTLYENV || {};                                    if (document.getElementById(\"a3a0c3c8-4522-4ed4-a6f8-2c64b5150a53\")) {                    Plotly.newPlot(                        \"a3a0c3c8-4522-4ed4-a6f8-2c64b5150a53\",                        [{\"domain\":{\"x\":[0.0,1.0],\"y\":[0.0,1.0]},\"hovertemplate\":\"label=%{label}<br>value=%{value}<extra></extra>\",\"labels\":[\"Men Didn't Survive\",\"Men Survived\"],\"legendgroup\":\"\",\"name\":\"\",\"showlegend\":true,\"values\":[468,109],\"type\":\"pie\"}],                        {\"template\":{\"data\":{\"bar\":[{\"error_x\":{\"color\":\"#2a3f5f\"},\"error_y\":{\"color\":\"#2a3f5f\"},\"marker\":{\"line\":{\"color\":\"#E5ECF6\",\"width\":0.5},\"pattern\":{\"fillmode\":\"overlay\",\"size\":10,\"solidity\":0.2}},\"type\":\"bar\"}],\"barpolar\":[{\"marker\":{\"line\":{\"color\":\"#E5ECF6\",\"width\":0.5},\"pattern\":{\"fillmode\":\"overlay\",\"size\":10,\"solidity\":0.2}},\"type\":\"barpolar\"}],\"carpet\":[{\"aaxis\":{\"endlinecolor\":\"#2a3f5f\",\"gridcolor\":\"white\",\"linecolor\":\"white\",\"minorgridcolor\":\"white\",\"startlinecolor\":\"#2a3f5f\"},\"baxis\":{\"endlinecolor\":\"#2a3f5f\",\"gridcolor\":\"white\",\"linecolor\":\"white\",\"minorgridcolor\":\"white\",\"startlinecolor\":\"#2a3f5f\"},\"type\":\"carpet\"}],\"choropleth\":[{\"colorbar\":{\"outlinewidth\":0,\"ticks\":\"\"},\"type\":\"choropleth\"}],\"contour\":[{\"colorbar\":{\"outlinewidth\":0,\"ticks\":\"\"},\"colorscale\":[[0.0,\"#0d0887\"],[0.1111111111111111,\"#46039f\"],[0.2222222222222222,\"#7201a8\"],[0.3333333333333333,\"#9c179e\"],[0.4444444444444444,\"#bd3786\"],[0.5555555555555556,\"#d8576b\"],[0.6666666666666666,\"#ed7953\"],[0.7777777777777778,\"#fb9f3a\"],[0.8888888888888888,\"#fdca26\"],[1.0,\"#f0f921\"]],\"type\":\"contour\"}],\"contourcarpet\":[{\"colorbar\":{\"outlinewidth\":0,\"ticks\":\"\"},\"type\":\"contourcarpet\"}],\"heatmap\":[{\"colorbar\":{\"outlinewidth\":0,\"ticks\":\"\"},\"colorscale\":[[0.0,\"#0d0887\"],[0.1111111111111111,\"#46039f\"],[0.2222222222222222,\"#7201a8\"],[0.3333333333333333,\"#9c179e\"],[0.4444444444444444,\"#bd3786\"],[0.5555555555555556,\"#d8576b\"],[0.6666666666666666,\"#ed7953\"],[0.7777777777777778,\"#fb9f3a\"],[0.8888888888888888,\"#fdca26\"],[1.0,\"#f0f921\"]],\"type\":\"heatmap\"}],\"heatmapgl\":[{\"colorbar\":{\"outlinewidth\":0,\"ticks\":\"\"},\"colorscale\":[[0.0,\"#0d0887\"],[0.1111111111111111,\"#46039f\"],[0.2222222222222222,\"#7201a8\"],[0.3333333333333333,\"#9c179e\"],[0.4444444444444444,\"#bd3786\"],[0.5555555555555556,\"#d8576b\"],[0.6666666666666666,\"#ed7953\"],[0.7777777777777778,\"#fb9f3a\"],[0.8888888888888888,\"#fdca26\"],[1.0,\"#f0f921\"]],\"type\":\"heatmapgl\"}],\"histogram\":[{\"marker\":{\"pattern\":{\"fillmode\":\"overlay\",\"size\":10,\"solidity\":0.2}},\"type\":\"histogram\"}],\"histogram2d\":[{\"colorbar\":{\"outlinewidth\":0,\"ticks\":\"\"},\"colorscale\":[[0.0,\"#0d0887\"],[0.1111111111111111,\"#46039f\"],[0.2222222222222222,\"#7201a8\"],[0.3333333333333333,\"#9c179e\"],[0.4444444444444444,\"#bd3786\"],[0.5555555555555556,\"#d8576b\"],[0.6666666666666666,\"#ed7953\"],[0.7777777777777778,\"#fb9f3a\"],[0.8888888888888888,\"#fdca26\"],[1.0,\"#f0f921\"]],\"type\":\"histogram2d\"}],\"histogram2dcontour\":[{\"colorbar\":{\"outlinewidth\":0,\"ticks\":\"\"},\"colorscale\":[[0.0,\"#0d0887\"],[0.1111111111111111,\"#46039f\"],[0.2222222222222222,\"#7201a8\"],[0.3333333333333333,\"#9c179e\"],[0.4444444444444444,\"#bd3786\"],[0.5555555555555556,\"#d8576b\"],[0.6666666666666666,\"#ed7953\"],[0.7777777777777778,\"#fb9f3a\"],[0.8888888888888888,\"#fdca26\"],[1.0,\"#f0f921\"]],\"type\":\"histogram2dcontour\"}],\"mesh3d\":[{\"colorbar\":{\"outlinewidth\":0,\"ticks\":\"\"},\"type\":\"mesh3d\"}],\"parcoords\":[{\"line\":{\"colorbar\":{\"outlinewidth\":0,\"ticks\":\"\"}},\"type\":\"parcoords\"}],\"pie\":[{\"automargin\":true,\"type\":\"pie\"}],\"scatter\":[{\"marker\":{\"colorbar\":{\"outlinewidth\":0,\"ticks\":\"\"}},\"type\":\"scatter\"}],\"scatter3d\":[{\"line\":{\"colorbar\":{\"outlinewidth\":0,\"ticks\":\"\"}},\"marker\":{\"colorbar\":{\"outlinewidth\":0,\"ticks\":\"\"}},\"type\":\"scatter3d\"}],\"scattercarpet\":[{\"marker\":{\"colorbar\":{\"outlinewidth\":0,\"ticks\":\"\"}},\"type\":\"scattercarpet\"}],\"scattergeo\":[{\"marker\":{\"colorbar\":{\"outlinewidth\":0,\"ticks\":\"\"}},\"type\":\"scattergeo\"}],\"scattergl\":[{\"marker\":{\"colorbar\":{\"outlinewidth\":0,\"ticks\":\"\"}},\"type\":\"scattergl\"}],\"scattermapbox\":[{\"marker\":{\"colorbar\":{\"outlinewidth\":0,\"ticks\":\"\"}},\"type\":\"scattermapbox\"}],\"scatterpolar\":[{\"marker\":{\"colorbar\":{\"outlinewidth\":0,\"ticks\":\"\"}},\"type\":\"scatterpolar\"}],\"scatterpolargl\":[{\"marker\":{\"colorbar\":{\"outlinewidth\":0,\"ticks\":\"\"}},\"type\":\"scatterpolargl\"}],\"scatterternary\":[{\"marker\":{\"colorbar\":{\"outlinewidth\":0,\"ticks\":\"\"}},\"type\":\"scatterternary\"}],\"surface\":[{\"colorbar\":{\"outlinewidth\":0,\"ticks\":\"\"},\"colorscale\":[[0.0,\"#0d0887\"],[0.1111111111111111,\"#46039f\"],[0.2222222222222222,\"#7201a8\"],[0.3333333333333333,\"#9c179e\"],[0.4444444444444444,\"#bd3786\"],[0.5555555555555556,\"#d8576b\"],[0.6666666666666666,\"#ed7953\"],[0.7777777777777778,\"#fb9f3a\"],[0.8888888888888888,\"#fdca26\"],[1.0,\"#f0f921\"]],\"type\":\"surface\"}],\"table\":[{\"cells\":{\"fill\":{\"color\":\"#EBF0F8\"},\"line\":{\"color\":\"white\"}},\"header\":{\"fill\":{\"color\":\"#C8D4E3\"},\"line\":{\"color\":\"white\"}},\"type\":\"table\"}]},\"layout\":{\"annotationdefaults\":{\"arrowcolor\":\"#2a3f5f\",\"arrowhead\":0,\"arrowwidth\":1},\"autotypenumbers\":\"strict\",\"coloraxis\":{\"colorbar\":{\"outlinewidth\":0,\"ticks\":\"\"}},\"colorscale\":{\"diverging\":[[0,\"#8e0152\"],[0.1,\"#c51b7d\"],[0.2,\"#de77ae\"],[0.3,\"#f1b6da\"],[0.4,\"#fde0ef\"],[0.5,\"#f7f7f7\"],[0.6,\"#e6f5d0\"],[0.7,\"#b8e186\"],[0.8,\"#7fbc41\"],[0.9,\"#4d9221\"],[1,\"#276419\"]],\"sequential\":[[0.0,\"#0d0887\"],[0.1111111111111111,\"#46039f\"],[0.2222222222222222,\"#7201a8\"],[0.3333333333333333,\"#9c179e\"],[0.4444444444444444,\"#bd3786\"],[0.5555555555555556,\"#d8576b\"],[0.6666666666666666,\"#ed7953\"],[0.7777777777777778,\"#fb9f3a\"],[0.8888888888888888,\"#fdca26\"],[1.0,\"#f0f921\"]],\"sequentialminus\":[[0.0,\"#0d0887\"],[0.1111111111111111,\"#46039f\"],[0.2222222222222222,\"#7201a8\"],[0.3333333333333333,\"#9c179e\"],[0.4444444444444444,\"#bd3786\"],[0.5555555555555556,\"#d8576b\"],[0.6666666666666666,\"#ed7953\"],[0.7777777777777778,\"#fb9f3a\"],[0.8888888888888888,\"#fdca26\"],[1.0,\"#f0f921\"]]},\"colorway\":[\"#636efa\",\"#EF553B\",\"#00cc96\",\"#ab63fa\",\"#FFA15A\",\"#19d3f3\",\"#FF6692\",\"#B6E880\",\"#FF97FF\",\"#FECB52\"],\"font\":{\"color\":\"#2a3f5f\"},\"geo\":{\"bgcolor\":\"white\",\"lakecolor\":\"white\",\"landcolor\":\"#E5ECF6\",\"showlakes\":true,\"showland\":true,\"subunitcolor\":\"white\"},\"hoverlabel\":{\"align\":\"left\"},\"hovermode\":\"closest\",\"mapbox\":{\"style\":\"light\"},\"paper_bgcolor\":\"white\",\"plot_bgcolor\":\"#E5ECF6\",\"polar\":{\"angularaxis\":{\"gridcolor\":\"white\",\"linecolor\":\"white\",\"ticks\":\"\"},\"bgcolor\":\"#E5ECF6\",\"radialaxis\":{\"gridcolor\":\"white\",\"linecolor\":\"white\",\"ticks\":\"\"}},\"scene\":{\"xaxis\":{\"backgroundcolor\":\"#E5ECF6\",\"gridcolor\":\"white\",\"gridwidth\":2,\"linecolor\":\"white\",\"showbackground\":true,\"ticks\":\"\",\"zerolinecolor\":\"white\"},\"yaxis\":{\"backgroundcolor\":\"#E5ECF6\",\"gridcolor\":\"white\",\"gridwidth\":2,\"linecolor\":\"white\",\"showbackground\":true,\"ticks\":\"\",\"zerolinecolor\":\"white\"},\"zaxis\":{\"backgroundcolor\":\"#E5ECF6\",\"gridcolor\":\"white\",\"gridwidth\":2,\"linecolor\":\"white\",\"showbackground\":true,\"ticks\":\"\",\"zerolinecolor\":\"white\"}},\"shapedefaults\":{\"line\":{\"color\":\"#2a3f5f\"}},\"ternary\":{\"aaxis\":{\"gridcolor\":\"white\",\"linecolor\":\"white\",\"ticks\":\"\"},\"baxis\":{\"gridcolor\":\"white\",\"linecolor\":\"white\",\"ticks\":\"\"},\"bgcolor\":\"#E5ECF6\",\"caxis\":{\"gridcolor\":\"white\",\"linecolor\":\"white\",\"ticks\":\"\"}},\"title\":{\"x\":0.05},\"xaxis\":{\"automargin\":true,\"gridcolor\":\"white\",\"linecolor\":\"white\",\"ticks\":\"\",\"title\":{\"standoff\":15},\"zerolinecolor\":\"white\",\"zerolinewidth\":2},\"yaxis\":{\"automargin\":true,\"gridcolor\":\"white\",\"linecolor\":\"white\",\"ticks\":\"\",\"title\":{\"standoff\":15},\"zerolinecolor\":\"white\",\"zerolinewidth\":2}}},\"legend\":{\"tracegroupgap\":0},\"title\":{\"text\":\"Men Survived vs Men Didn't Survive\"}},                        {\"responsive\": true}                    ).then(function(){\n",
       "                            \n",
       "var gd = document.getElementById('a3a0c3c8-4522-4ed4-a6f8-2c64b5150a53');\n",
       "var x = new MutationObserver(function (mutations, observer) {{\n",
       "        var display = window.getComputedStyle(gd).display;\n",
       "        if (!display || display === 'none') {{\n",
       "            console.log([gd, 'removed!']);\n",
       "            Plotly.purge(gd);\n",
       "            observer.disconnect();\n",
       "        }}\n",
       "}});\n",
       "\n",
       "// Listen for the removal of the full notebook cells\n",
       "var notebookContainer = gd.closest('#notebook-container');\n",
       "if (notebookContainer) {{\n",
       "    x.observe(notebookContainer, {childList: true});\n",
       "}}\n",
       "\n",
       "// Listen for the clearing of the current output cell\n",
       "var outputEl = gd.closest('.output');\n",
       "if (outputEl) {{\n",
       "    x.observe(outputEl, {childList: true});\n",
       "}}\n",
       "\n",
       "                        })                };                });            </script>        </div>"
      ]
     },
     "metadata": {},
     "output_type": "display_data"
    }
   ],
   "source": [
    "men_survived = titanic_df.loc[titanic_df.Sex==\"male\"].groupby(\"Survived\").count()[\"PassengerId\"]\n",
    "px.pie(names=[\"Men Didn't Survive\",\"Men Survived\", ], values=men_survived.values,title=\"Men Survived vs Men Didn't Survive\")"
   ]
  },
  {
   "cell_type": "code",
   "execution_count": 198,
   "id": "d4fa9c07",
   "metadata": {},
   "outputs": [
    {
     "data": {
      "text/html": [
       "<div>\n",
       "<style scoped>\n",
       "    .dataframe tbody tr th:only-of-type {\n",
       "        vertical-align: middle;\n",
       "    }\n",
       "\n",
       "    .dataframe tbody tr th {\n",
       "        vertical-align: top;\n",
       "    }\n",
       "\n",
       "    .dataframe thead th {\n",
       "        text-align: right;\n",
       "    }\n",
       "</style>\n",
       "<table border=\"1\" class=\"dataframe\">\n",
       "  <thead>\n",
       "    <tr style=\"text-align: right;\">\n",
       "      <th></th>\n",
       "      <th>Pclass</th>\n",
       "      <th>Survived</th>\n",
       "    </tr>\n",
       "  </thead>\n",
       "  <tbody>\n",
       "    <tr>\n",
       "      <th>0</th>\n",
       "      <td>3</td>\n",
       "      <td>0</td>\n",
       "    </tr>\n",
       "    <tr>\n",
       "      <th>1</th>\n",
       "      <td>1</td>\n",
       "      <td>1</td>\n",
       "    </tr>\n",
       "    <tr>\n",
       "      <th>2</th>\n",
       "      <td>3</td>\n",
       "      <td>1</td>\n",
       "    </tr>\n",
       "    <tr>\n",
       "      <th>3</th>\n",
       "      <td>1</td>\n",
       "      <td>1</td>\n",
       "    </tr>\n",
       "    <tr>\n",
       "      <th>4</th>\n",
       "      <td>3</td>\n",
       "      <td>0</td>\n",
       "    </tr>\n",
       "    <tr>\n",
       "      <th>...</th>\n",
       "      <td>...</td>\n",
       "      <td>...</td>\n",
       "    </tr>\n",
       "    <tr>\n",
       "      <th>886</th>\n",
       "      <td>2</td>\n",
       "      <td>0</td>\n",
       "    </tr>\n",
       "    <tr>\n",
       "      <th>887</th>\n",
       "      <td>1</td>\n",
       "      <td>1</td>\n",
       "    </tr>\n",
       "    <tr>\n",
       "      <th>888</th>\n",
       "      <td>3</td>\n",
       "      <td>0</td>\n",
       "    </tr>\n",
       "    <tr>\n",
       "      <th>889</th>\n",
       "      <td>1</td>\n",
       "      <td>1</td>\n",
       "    </tr>\n",
       "    <tr>\n",
       "      <th>890</th>\n",
       "      <td>3</td>\n",
       "      <td>0</td>\n",
       "    </tr>\n",
       "  </tbody>\n",
       "</table>\n",
       "<p>891 rows × 2 columns</p>\n",
       "</div>"
      ],
      "text/plain": [
       "     Pclass  Survived\n",
       "0         3         0\n",
       "1         1         1\n",
       "2         3         1\n",
       "3         1         1\n",
       "4         3         0\n",
       "..      ...       ...\n",
       "886       2         0\n",
       "887       1         1\n",
       "888       3         0\n",
       "889       1         1\n",
       "890       3         0\n",
       "\n",
       "[891 rows x 2 columns]"
      ]
     },
     "execution_count": 198,
     "metadata": {},
     "output_type": "execute_result"
    }
   ],
   "source": [
    "\n",
    "tmp_df = titanic_df[[\"Pclass\",\"Survived\"]]\n",
    "tmp_df"
   ]
  },
  {
   "cell_type": "code",
   "execution_count": 199,
   "id": "3d315921",
   "metadata": {},
   "outputs": [],
   "source": [
    "class_3 = tmp_df.loc[tmp_df.Pclass==3]\n",
    "class_3_not_survived = class_3.Survived.value_counts()[0]\n",
    "class_3_survived = class_3.Survived.value_counts()[1]\n",
    "class_2 = tmp_df.loc[tmp_df.Pclass==2]\n",
    "class_2_not_survived = class_2.Survived.value_counts()[0]\n",
    "class_2_survived = class_2.Survived.value_counts()[1]\n",
    "class_1 = tmp_df.loc[tmp_df.Pclass==1]\n",
    "class_1_not_survived = class_1.Survived.value_counts()[0]\n",
    "class_1_survived = class_1.Survived.value_counts()[1]"
   ]
  },
  {
   "cell_type": "code",
   "execution_count": 200,
   "id": "5b22b4e7",
   "metadata": {},
   "outputs": [
    {
     "data": {
      "text/html": [
       "<div>\n",
       "<style scoped>\n",
       "    .dataframe tbody tr th:only-of-type {\n",
       "        vertical-align: middle;\n",
       "    }\n",
       "\n",
       "    .dataframe tbody tr th {\n",
       "        vertical-align: top;\n",
       "    }\n",
       "\n",
       "    .dataframe thead th {\n",
       "        text-align: right;\n",
       "    }\n",
       "</style>\n",
       "<table border=\"1\" class=\"dataframe\">\n",
       "  <thead>\n",
       "    <tr style=\"text-align: right;\">\n",
       "      <th></th>\n",
       "      <th>Survived</th>\n",
       "      <th>Not Survived</th>\n",
       "    </tr>\n",
       "  </thead>\n",
       "  <tbody>\n",
       "    <tr>\n",
       "      <th>class_3</th>\n",
       "      <td>119</td>\n",
       "      <td>372</td>\n",
       "    </tr>\n",
       "    <tr>\n",
       "      <th>class_2</th>\n",
       "      <td>87</td>\n",
       "      <td>97</td>\n",
       "    </tr>\n",
       "    <tr>\n",
       "      <th>class_1</th>\n",
       "      <td>136</td>\n",
       "      <td>80</td>\n",
       "    </tr>\n",
       "  </tbody>\n",
       "</table>\n",
       "</div>"
      ],
      "text/plain": [
       "         Survived  Not Survived\n",
       "class_3       119           372\n",
       "class_2        87            97\n",
       "class_1       136            80"
      ]
     },
     "execution_count": 200,
     "metadata": {},
     "output_type": "execute_result"
    }
   ],
   "source": [
    "survival_by_class = pd.DataFrame({\"Survived\":[class_3_survived,class_2_survived,class_1_survived],\"Not Survived\":[class_3_not_survived,class_2_not_survived,class_1_not_survived]},index=[\"class_3\",\"class_2\",\"class_1\"])\n",
    "survival_by_class"
   ]
  },
  {
   "cell_type": "code",
   "execution_count": 201,
   "id": "c69499a3",
   "metadata": {},
   "outputs": [
    {
     "data": {
      "text/plain": [
       "<AxesSubplot:xlabel='Pclass', ylabel='count'>"
      ]
     },
     "execution_count": 201,
     "metadata": {},
     "output_type": "execute_result"
    },
    {
     "data": {
      "image/png": "[encoded data removed]",
      "text/plain": [
       "<Figure size 432x288 with 1 Axes>"
      ]
     },
     "metadata": {
      "needs_background": "light"
     },
     "output_type": "display_data"
    }
   ],
   "source": [
    "sns.countplot(x=\"Pclass\",data=titanic_df,hue=\"Survived\")"
   ]
  },
  {
   "cell_type": "code",
   "execution_count": 202,
   "id": "fd2461e8",
   "metadata": {},
   "outputs": [
    {
     "data": {
      "text/plain": [
       "array([[<AxesSubplot:title={'center':'PassengerId'}>,\n",
       "        <AxesSubplot:title={'center':'Survived'}>,\n",
       "        <AxesSubplot:title={'center':'Pclass'}>],\n",
       "       [<AxesSubplot:title={'center':'Age'}>,\n",
       "        <AxesSubplot:title={'center':'SibSp'}>,\n",
       "        <AxesSubplot:title={'center':'Parch'}>],\n",
       "       [<AxesSubplot:title={'center':'Fare'}>, <AxesSubplot:>,\n",
       "        <AxesSubplot:>]], dtype=object)"
      ]
     },
     "execution_count": 202,
     "metadata": {},
     "output_type": "execute_result"
    },
    {
     "data": {
      "image/png": "[encoded data removed]",
      "text/plain": [
       "<Figure size 864x576 with 9 Axes>"
      ]
     },
     "metadata": {
      "needs_background": "light"
     },
     "output_type": "display_data"
    }
   ],
   "source": [
    "titanic_df.hist(bins=50,figsize=(12,8))"
   ]
  },
  {
   "cell_type": "code",
   "execution_count": 203,
   "id": "bf97b330",
   "metadata": {},
   "outputs": [
    {
     "data": {
      "text/plain": [
       "<AxesSubplot:xlabel='SibSp', ylabel='count'>"
      ]
     },
     "execution_count": 203,
     "metadata": {},
     "output_type": "execute_result"
    },
    {
     "data": {
      "image/png": "[encoded data removed]",
      "text/plain": [
       "<Figure size 432x288 with 1 Axes>"
      ]
     },
     "metadata": {
      "needs_background": "light"
     },
     "output_type": "display_data"
    }
   ],
   "source": [
    "sns.countplot(x=\"SibSp\",data=titanic_df,hue=\"Survived\")"
   ]
  },
  {
   "cell_type": "code",
   "execution_count": 204,
   "id": "de714b7b",
   "metadata": {},
   "outputs": [
    {
     "data": {
      "text/plain": [
       "<AxesSubplot:xlabel='Survived', ylabel='Fare'>"
      ]
     },
     "execution_count": 204,
     "metadata": {},
     "output_type": "execute_result"
    },
    {
     "data": {
      "image/png": "[encoded data removed]",
      "text/plain": [
       "<Figure size 432x288 with 1 Axes>"
      ]
     },
     "metadata": {
      "needs_background": "light"
     },
     "output_type": "display_data"
    }
   ],
   "source": [
    "sns.boxplot(x=\"Survived\", y=\"Fare\", data=titanic_df)"
   ]
  },
  {
   "cell_type": "code",
   "execution_count": 205,
   "id": "a977df99",
   "metadata": {},
   "outputs": [
    {
     "data": {
      "text/plain": [
       "array([[<AxesSubplot:title={'center':'Fare'}>]], dtype=object)"
      ]
     },
     "execution_count": 205,
     "metadata": {},
     "output_type": "execute_result"
    },
    {
     "data": {
      "image/png": "[encoded data removed]",
      "text/plain": [
       "<Figure size 432x288 with 1 Axes>"
      ]
     },
     "metadata": {
      "needs_background": "light"
     },
     "output_type": "display_data"
    }
   ],
   "source": [
    "titanic_df.hist(column=\"Fare\")"
   ]
  },
  {
   "cell_type": "code",
   "execution_count": 206,
   "id": "5605ae6a",
   "metadata": {},
   "outputs": [
    {
     "data": {
      "text/plain": [
       "<AxesSubplot:xlabel='Embarked', ylabel='count'>"
      ]
     },
     "execution_count": 206,
     "metadata": {},
     "output_type": "execute_result"
    },
    {
     "data": {
      "image/png": "[encoded data removed]",
      "text/plain": [
       "<Figure size 432x288 with 1 Axes>"
      ]
     },
     "metadata": {
      "needs_background": "light"
     },
     "output_type": "display_data"
    }
   ],
   "source": [
    "sns.countplot(x=\"Embarked\",data=titanic_df,hue=\"Survived\")"
   ]
  },
  {
   "cell_type": "code",
   "execution_count": 207,
   "id": "d5457fc5",
   "metadata": {},
   "outputs": [
    {
     "data": {
      "text/plain": [
       "B96 B98        4\n",
       "G6             4\n",
       "C23 C25 C27    4\n",
       "C22 C26        3\n",
       "F33            3\n",
       "              ..\n",
       "E34            1\n",
       "C7             1\n",
       "C54            1\n",
       "E36            1\n",
       "C148           1\n",
       "Name: Cabin, Length: 147, dtype: int64"
      ]
     },
     "execution_count": 207,
     "metadata": {},
     "output_type": "execute_result"
    }
   ],
   "source": [
    "titanic_df.Cabin.value_counts()"
   ]
  },
  {
   "cell_type": "markdown",
   "id": "c621b56f",
   "metadata": {},
   "source": [
    "## Feature Engineering"
   ]
  },
  {
   "cell_type": "code",
   "execution_count": 208,
   "id": "101694b0",
   "metadata": {},
   "outputs": [
    {
     "data": {
      "text/html": [
       "<div>\n",
       "<style scoped>\n",
       "    .dataframe tbody tr th:only-of-type {\n",
       "        vertical-align: middle;\n",
       "    }\n",
       "\n",
       "    .dataframe tbody tr th {\n",
       "        vertical-align: top;\n",
       "    }\n",
       "\n",
       "    .dataframe thead th {\n",
       "        text-align: right;\n",
       "    }\n",
       "</style>\n",
       "<table border=\"1\" class=\"dataframe\">\n",
       "  <thead>\n",
       "    <tr style=\"text-align: right;\">\n",
       "      <th></th>\n",
       "      <th>PassengerId</th>\n",
       "      <th>Survived</th>\n",
       "      <th>Pclass</th>\n",
       "      <th>Name</th>\n",
       "      <th>Sex</th>\n",
       "      <th>Age</th>\n",
       "      <th>SibSp</th>\n",
       "      <th>Parch</th>\n",
       "      <th>Ticket</th>\n",
       "      <th>Fare</th>\n",
       "      <th>Cabin</th>\n",
       "      <th>Embarked</th>\n",
       "      <th>age_bins</th>\n",
       "    </tr>\n",
       "  </thead>\n",
       "  <tbody>\n",
       "    <tr>\n",
       "      <th>0</th>\n",
       "      <td>1</td>\n",
       "      <td>0</td>\n",
       "      <td>3</td>\n",
       "      <td>Braund, Mr. Owen Harris</td>\n",
       "      <td>male</td>\n",
       "      <td>22.0</td>\n",
       "      <td>1</td>\n",
       "      <td>0</td>\n",
       "      <td>A/5 21171</td>\n",
       "      <td>7.2500</td>\n",
       "      <td>NaN</td>\n",
       "      <td>S</td>\n",
       "      <td>(19.0, 29.0]</td>\n",
       "    </tr>\n",
       "    <tr>\n",
       "      <th>1</th>\n",
       "      <td>2</td>\n",
       "      <td>1</td>\n",
       "      <td>1</td>\n",
       "      <td>Cumings, Mrs. John Bradley (Florence Briggs Th...</td>\n",
       "      <td>female</td>\n",
       "      <td>38.0</td>\n",
       "      <td>1</td>\n",
       "      <td>0</td>\n",
       "      <td>PC 17599</td>\n",
       "      <td>71.2833</td>\n",
       "      <td>C85</td>\n",
       "      <td>C</td>\n",
       "      <td>(29.0, 39.0]</td>\n",
       "    </tr>\n",
       "    <tr>\n",
       "      <th>2</th>\n",
       "      <td>3</td>\n",
       "      <td>1</td>\n",
       "      <td>3</td>\n",
       "      <td>Heikkinen, Miss. Laina</td>\n",
       "      <td>female</td>\n",
       "      <td>26.0</td>\n",
       "      <td>0</td>\n",
       "      <td>0</td>\n",
       "      <td>STON/O2. 3101282</td>\n",
       "      <td>7.9250</td>\n",
       "      <td>NaN</td>\n",
       "      <td>S</td>\n",
       "      <td>(19.0, 29.0]</td>\n",
       "    </tr>\n",
       "    <tr>\n",
       "      <th>3</th>\n",
       "      <td>4</td>\n",
       "      <td>1</td>\n",
       "      <td>1</td>\n",
       "      <td>Futrelle, Mrs. Jacques Heath (Lily May Peel)</td>\n",
       "      <td>female</td>\n",
       "      <td>35.0</td>\n",
       "      <td>1</td>\n",
       "      <td>0</td>\n",
       "      <td>113803</td>\n",
       "      <td>53.1000</td>\n",
       "      <td>C123</td>\n",
       "      <td>S</td>\n",
       "      <td>(29.0, 39.0]</td>\n",
       "    </tr>\n",
       "    <tr>\n",
       "      <th>4</th>\n",
       "      <td>5</td>\n",
       "      <td>0</td>\n",
       "      <td>3</td>\n",
       "      <td>Allen, Mr. William Henry</td>\n",
       "      <td>male</td>\n",
       "      <td>35.0</td>\n",
       "      <td>0</td>\n",
       "      <td>0</td>\n",
       "      <td>373450</td>\n",
       "      <td>8.0500</td>\n",
       "      <td>NaN</td>\n",
       "      <td>S</td>\n",
       "      <td>(29.0, 39.0]</td>\n",
       "    </tr>\n",
       "    <tr>\n",
       "      <th>...</th>\n",
       "      <td>...</td>\n",
       "      <td>...</td>\n",
       "      <td>...</td>\n",
       "      <td>...</td>\n",
       "      <td>...</td>\n",
       "      <td>...</td>\n",
       "      <td>...</td>\n",
       "      <td>...</td>\n",
       "      <td>...</td>\n",
       "      <td>...</td>\n",
       "      <td>...</td>\n",
       "      <td>...</td>\n",
       "      <td>...</td>\n",
       "    </tr>\n",
       "    <tr>\n",
       "      <th>886</th>\n",
       "      <td>887</td>\n",
       "      <td>0</td>\n",
       "      <td>2</td>\n",
       "      <td>Montvila, Rev. Juozas</td>\n",
       "      <td>male</td>\n",
       "      <td>27.0</td>\n",
       "      <td>0</td>\n",
       "      <td>0</td>\n",
       "      <td>211536</td>\n",
       "      <td>13.0000</td>\n",
       "      <td>NaN</td>\n",
       "      <td>S</td>\n",
       "      <td>(19.0, 29.0]</td>\n",
       "    </tr>\n",
       "    <tr>\n",
       "      <th>887</th>\n",
       "      <td>888</td>\n",
       "      <td>1</td>\n",
       "      <td>1</td>\n",
       "      <td>Graham, Miss. Margaret Edith</td>\n",
       "      <td>female</td>\n",
       "      <td>19.0</td>\n",
       "      <td>0</td>\n",
       "      <td>0</td>\n",
       "      <td>112053</td>\n",
       "      <td>30.0000</td>\n",
       "      <td>B42</td>\n",
       "      <td>S</td>\n",
       "      <td>(9.0, 19.0]</td>\n",
       "    </tr>\n",
       "    <tr>\n",
       "      <th>888</th>\n",
       "      <td>889</td>\n",
       "      <td>0</td>\n",
       "      <td>3</td>\n",
       "      <td>Johnston, Miss. Catherine Helen \"Carrie\"</td>\n",
       "      <td>female</td>\n",
       "      <td>NaN</td>\n",
       "      <td>1</td>\n",
       "      <td>2</td>\n",
       "      <td>W./C. 6607</td>\n",
       "      <td>23.4500</td>\n",
       "      <td>NaN</td>\n",
       "      <td>S</td>\n",
       "      <td>NaN</td>\n",
       "    </tr>\n",
       "    <tr>\n",
       "      <th>889</th>\n",
       "      <td>890</td>\n",
       "      <td>1</td>\n",
       "      <td>1</td>\n",
       "      <td>Behr, Mr. Karl Howell</td>\n",
       "      <td>male</td>\n",
       "      <td>26.0</td>\n",
       "      <td>0</td>\n",
       "      <td>0</td>\n",
       "      <td>111369</td>\n",
       "      <td>30.0000</td>\n",
       "      <td>C148</td>\n",
       "      <td>C</td>\n",
       "      <td>(19.0, 29.0]</td>\n",
       "    </tr>\n",
       "    <tr>\n",
       "      <th>890</th>\n",
       "      <td>891</td>\n",
       "      <td>0</td>\n",
       "      <td>3</td>\n",
       "      <td>Dooley, Mr. Patrick</td>\n",
       "      <td>male</td>\n",
       "      <td>32.0</td>\n",
       "      <td>0</td>\n",
       "      <td>0</td>\n",
       "      <td>370376</td>\n",
       "      <td>7.7500</td>\n",
       "      <td>NaN</td>\n",
       "      <td>Q</td>\n",
       "      <td>(29.0, 39.0]</td>\n",
       "    </tr>\n",
       "  </tbody>\n",
       "</table>\n",
       "<p>891 rows × 13 columns</p>\n",
       "</div>"
      ],
      "text/plain": [
       "     PassengerId  Survived  Pclass  \\\n",
       "0              1         0       3   \n",
       "1              2         1       1   \n",
       "2              3         1       3   \n",
       "3              4         1       1   \n",
       "4              5         0       3   \n",
       "..           ...       ...     ...   \n",
       "886          887         0       2   \n",
       "887          888         1       1   \n",
       "888          889         0       3   \n",
       "889          890         1       1   \n",
       "890          891         0       3   \n",
       "\n",
       "                                                  Name     Sex   Age  SibSp  \\\n",
       "0                              Braund, Mr. Owen Harris    male  22.0      1   \n",
       "1    Cumings, Mrs. John Bradley (Florence Briggs Th...  female  38.0      1   \n",
       "2                               Heikkinen, Miss. Laina  female  26.0      0   \n",
       "3         Futrelle, Mrs. Jacques Heath (Lily May Peel)  female  35.0      1   \n",
       "4                             Allen, Mr. William Henry    male  35.0      0   \n",
       "..                                                 ...     ...   ...    ...   \n",
       "886                              Montvila, Rev. Juozas    male  27.0      0   \n",
       "887                       Graham, Miss. Margaret Edith  female  19.0      0   \n",
       "888           Johnston, Miss. Catherine Helen \"Carrie\"  female   NaN      1   \n",
       "889                              Behr, Mr. Karl Howell    male  26.0      0   \n",
       "890                                Dooley, Mr. Patrick    male  32.0      0   \n",
       "\n",
       "     Parch            Ticket     Fare Cabin Embarked      age_bins  \n",
       "0        0         A/5 21171   7.2500   NaN        S  (19.0, 29.0]  \n",
       "1        0          PC 17599  71.2833   C85        C  (29.0, 39.0]  \n",
       "2        0  STON/O2. 3101282   7.9250   NaN        S  (19.0, 29.0]  \n",
       "3        0            113803  53.1000  C123        S  (29.0, 39.0]  \n",
       "4        0            373450   8.0500   NaN        S  (29.0, 39.0]  \n",
       "..     ...               ...      ...   ...      ...           ...  \n",
       "886      0            211536  13.0000   NaN        S  (19.0, 29.0]  \n",
       "887      0            112053  30.0000   B42        S   (9.0, 19.0]  \n",
       "888      2        W./C. 6607  23.4500   NaN        S           NaN  \n",
       "889      0            111369  30.0000  C148        C  (19.0, 29.0]  \n",
       "890      0            370376   7.7500   NaN        Q  (29.0, 39.0]  \n",
       "\n",
       "[891 rows x 13 columns]"
      ]
     },
     "execution_count": 208,
     "metadata": {},
     "output_type": "execute_result"
    }
   ],
   "source": [
    "titanic_df['age_bins'] = pd.cut(x=titanic_df['Age'], bins=[0,9,19,29,39,49,59,69,79,89,99])\n",
    "titanic_df"
   ]
  },
  {
   "cell_type": "code",
   "execution_count": 209,
   "id": "2f129f73",
   "metadata": {},
   "outputs": [
    {
     "data": {
      "text/plain": [
       "PassengerId   -0.005007\n",
       "Survived       1.000000\n",
       "Pclass        -0.338481\n",
       "Age           -0.077221\n",
       "SibSp         -0.035322\n",
       "Parch          0.081629\n",
       "Fare           0.257307\n",
       "Name: Survived, dtype: float64"
      ]
     },
     "execution_count": 209,
     "metadata": {},
     "output_type": "execute_result"
    }
   ],
   "source": [
    "corr_matrix = titanic_df.corr()[\"Survived\"]\n",
    "corr_matrix\n"
   ]
  },
  {
   "cell_type": "code",
   "execution_count": 210,
   "id": "e13b57f7",
   "metadata": {},
   "outputs": [
    {
     "data": {
      "text/plain": [
       "<AxesSubplot:xlabel='age_bins', ylabel='count'>"
      ]
     },
     "execution_count": 210,
     "metadata": {},
     "output_type": "execute_result"
    },
    {
     "data": {
      "image/png": "[encoded data removed]",
      "text/plain": [
       "<Figure size 864x576 with 1 Axes>"
      ]
     },
     "metadata": {
      "needs_background": "light"
     },
     "output_type": "display_data"
    }
   ],
   "source": [
    "plt.figure(figsize=(12,8))\n",
    "sns.countplot(x=\"age_bins\",data=titanic_df,hue=\"Survived\")"
   ]
  },
  {
   "cell_type": "markdown",
   "id": "2cb92ae2",
   "metadata": {},
   "source": [
    "## Preprocessing"
   ]
  },
  {
   "cell_type": "code",
   "execution_count": 211,
   "id": "50405c35",
   "metadata": {},
   "outputs": [],
   "source": [
    "df_tmp = titanic_df.copy()"
   ]
  },
  {
   "cell_type": "code",
   "execution_count": 212,
   "id": "642aa3d3",
   "metadata": {},
   "outputs": [],
   "source": [
    "df_tmp = df_tmp.drop(columns=[\"Name\",\"Ticket\",\"age_bins\",\"Cabin\"],axis=1)"
   ]
  },
  {
   "cell_type": "code",
   "execution_count": 213,
   "id": "a483c1a4",
   "metadata": {},
   "outputs": [
    {
     "data": {
      "text/plain": [
       "PassengerId      0\n",
       "Survived         0\n",
       "Pclass           0\n",
       "Sex              0\n",
       "Age            177\n",
       "SibSp            0\n",
       "Parch            0\n",
       "Fare             0\n",
       "Embarked         2\n",
       "dtype: int64"
      ]
     },
     "execution_count": 213,
     "metadata": {},
     "output_type": "execute_result"
    }
   ],
   "source": [
    "df_tmp.isna().sum()"
   ]
  },
  {
   "cell_type": "code",
   "execution_count": 214,
   "id": "fbad07e3",
   "metadata": {},
   "outputs": [],
   "source": [
    "cat_features = [\"Pclass\",\"Sex\",\"SibSp\",\"Parch\",\"Embarked\"]\n",
    "num_features = [\"Age\",\"Fare\"]\n",
    "num_pipeline = Pipeline([(\"num_imputer\",SimpleImputer(strategy=\"median\"))])\n",
    "cat_pipeline = Pipeline([(\"cat_imputer\",SimpleImputer(strategy=\"most_frequent\")),\n",
    "                        (\"one_hot\",OneHotEncoder(handle_unknown=\"ignore\"))])"
   ]
  },
  {
   "cell_type": "code",
   "execution_count": 215,
   "id": "209f7cc8",
   "metadata": {},
   "outputs": [],
   "source": [
    "transformer = ColumnTransformer([(\"num\",num_pipeline,num_features),(\"cat\",cat_pipeline,cat_features)],remainder=\"passthrough\")"
   ]
  },
  {
   "cell_type": "code",
   "execution_count": 216,
   "id": "c4d08c99",
   "metadata": {},
   "outputs": [],
   "source": [
    "X = df_tmp.drop(\"Survived\",axis=1)\n",
    "y = df_tmp.Survived\n",
    "X_train,X_val,y_train,y_val = train_test_split(X,y,test_size=0.2,random_state=42)\n"
   ]
  },
  {
   "cell_type": "code",
   "execution_count": 217,
   "id": "a5430298",
   "metadata": {},
   "outputs": [
    {
     "data": {
      "text/plain": [
       "(712, 25)"
      ]
     },
     "execution_count": 217,
     "metadata": {},
     "output_type": "execute_result"
    }
   ],
   "source": [
    "X_train_transformed = transformer.fit_transform(X_train)\n",
    "X_train_transformed.shape"
   ]
  },
  {
   "cell_type": "code",
   "execution_count": 218,
   "id": "6f9cde1f",
   "metadata": {},
   "outputs": [
    {
     "name": "stderr",
     "output_type": "stream",
     "text": [
      "D:\\Anaconda\\lib\\site-packages\\sklearn\\linear_model\\_logistic.py:814: ConvergenceWarning:\n",
      "\n",
      "lbfgs failed to converge (status=1):\n",
      "STOP: TOTAL NO. of ITERATIONS REACHED LIMIT.\n",
      "\n",
      "Increase the number of iterations (max_iter) or scale the data as shown in:\n",
      "    https://scikit-learn.org/stable/modules/preprocessing.html\n",
      "Please also refer to the documentation for alternative solver options:\n",
      "    https://scikit-learn.org/stable/modules/linear_model.html#logistic-regression\n",
      "\n"
     ]
    },
    {
     "data": {
      "text/plain": [
       "LogisticRegression()"
      ]
     },
     "execution_count": 218,
     "metadata": {},
     "output_type": "execute_result"
    }
   ],
   "source": [
    "logistic_clf = LogisticRegression()\n",
    "logistic_clf.fit(X_train_transformed,y_train)"
   ]
  },
  {
   "cell_type": "code",
   "execution_count": 219,
   "id": "bba85ea4",
   "metadata": {},
   "outputs": [
    {
     "data": {
      "text/plain": [
       "(179, 25)"
      ]
     },
     "execution_count": 219,
     "metadata": {},
     "output_type": "execute_result"
    }
   ],
   "source": [
    "X_val_transformed = transformer.transform(X_val)\n",
    "X_val_transformed.shape"
   ]
  },
  {
   "cell_type": "code",
   "execution_count": 220,
   "id": "c98c72f8",
   "metadata": {},
   "outputs": [
    {
     "data": {
      "text/plain": [
       "0.7988826815642458"
      ]
     },
     "execution_count": 220,
     "metadata": {},
     "output_type": "execute_result"
    }
   ],
   "source": [
    "logistic_clf.score(X_val_transformed,y_val)"
   ]
  },
  {
   "cell_type": "code",
   "execution_count": 221,
   "id": "dff34cd0",
   "metadata": {},
   "outputs": [
    {
     "data": {
      "text/plain": [
       "0.7988826815642458"
      ]
     },
     "execution_count": 221,
     "metadata": {},
     "output_type": "execute_result"
    }
   ],
   "source": [
    "y_val_preds = logistic_clf.predict(X_val_transformed)\n",
    "accuracy_score(y_val,y_val_preds)"
   ]
  },
  {
   "cell_type": "code",
   "execution_count": 222,
   "id": "372ed08d",
   "metadata": {},
   "outputs": [
    {
     "data": {
      "text/plain": [
       "0.7714285714285715"
      ]
     },
     "execution_count": 222,
     "metadata": {},
     "output_type": "execute_result"
    }
   ],
   "source": [
    "precision_score(y_val,y_val_preds)"
   ]
  },
  {
   "cell_type": "code",
   "execution_count": 223,
   "id": "230bd604",
   "metadata": {},
   "outputs": [],
   "source": [
    "conf_mx = confusion_matrix(y_val,y_val_preds)"
   ]
  },
  {
   "cell_type": "code",
   "execution_count": 224,
   "id": "23b069fe",
   "metadata": {},
   "outputs": [
    {
     "data": {
      "image/png": "[encoded data removed]",
      "text/plain": [
       "<Figure size 432x288 with 1 Axes>"
      ]
     },
     "metadata": {
      "needs_background": "light"
     },
     "output_type": "display_data"
    }
   ],
   "source": [
    "sns.heatmap(conf_mx, square=True, annot=True, cmap=\"Blues\", fmt='d', cbar=False);"
   ]
  },
  {
   "cell_type": "markdown",
   "id": "611fcc4c",
   "metadata": {},
   "source": [
    "## Cross Validation"
   ]
  },
  {
   "cell_type": "code",
   "execution_count": 225,
   "id": "b3c74305",
   "metadata": {},
   "outputs": [
    {
     "name": "stderr",
     "output_type": "stream",
     "text": [
      "D:\\Anaconda\\lib\\site-packages\\sklearn\\linear_model\\_logistic.py:814: ConvergenceWarning:\n",
      "\n",
      "lbfgs failed to converge (status=1):\n",
      "STOP: TOTAL NO. of ITERATIONS REACHED LIMIT.\n",
      "\n",
      "Increase the number of iterations (max_iter) or scale the data as shown in:\n",
      "    https://scikit-learn.org/stable/modules/preprocessing.html\n",
      "Please also refer to the documentation for alternative solver options:\n",
      "    https://scikit-learn.org/stable/modules/linear_model.html#logistic-regression\n",
      "\n",
      "D:\\Anaconda\\lib\\site-packages\\sklearn\\linear_model\\_logistic.py:814: ConvergenceWarning:\n",
      "\n",
      "lbfgs failed to converge (status=1):\n",
      "STOP: TOTAL NO. of ITERATIONS REACHED LIMIT.\n",
      "\n",
      "Increase the number of iterations (max_iter) or scale the data as shown in:\n",
      "    https://scikit-learn.org/stable/modules/preprocessing.html\n",
      "Please also refer to the documentation for alternative solver options:\n",
      "    https://scikit-learn.org/stable/modules/linear_model.html#logistic-regression\n",
      "\n",
      "D:\\Anaconda\\lib\\site-packages\\sklearn\\linear_model\\_logistic.py:814: ConvergenceWarning:\n",
      "\n",
      "lbfgs failed to converge (status=1):\n",
      "STOP: TOTAL NO. of ITERATIONS REACHED LIMIT.\n",
      "\n",
      "Increase the number of iterations (max_iter) or scale the data as shown in:\n",
      "    https://scikit-learn.org/stable/modules/preprocessing.html\n",
      "Please also refer to the documentation for alternative solver options:\n",
      "    https://scikit-learn.org/stable/modules/linear_model.html#logistic-regression\n",
      "\n",
      "D:\\Anaconda\\lib\\site-packages\\sklearn\\linear_model\\_logistic.py:814: ConvergenceWarning:\n",
      "\n",
      "lbfgs failed to converge (status=1):\n",
      "STOP: TOTAL NO. of ITERATIONS REACHED LIMIT.\n",
      "\n",
      "Increase the number of iterations (max_iter) or scale the data as shown in:\n",
      "    https://scikit-learn.org/stable/modules/preprocessing.html\n",
      "Please also refer to the documentation for alternative solver options:\n",
      "    https://scikit-learn.org/stable/modules/linear_model.html#logistic-regression\n",
      "\n",
      "D:\\Anaconda\\lib\\site-packages\\sklearn\\linear_model\\_logistic.py:814: ConvergenceWarning:\n",
      "\n",
      "lbfgs failed to converge (status=1):\n",
      "STOP: TOTAL NO. of ITERATIONS REACHED LIMIT.\n",
      "\n",
      "Increase the number of iterations (max_iter) or scale the data as shown in:\n",
      "    https://scikit-learn.org/stable/modules/preprocessing.html\n",
      "Please also refer to the documentation for alternative solver options:\n",
      "    https://scikit-learn.org/stable/modules/linear_model.html#logistic-regression\n",
      "\n"
     ]
    },
    {
     "data": {
      "text/plain": [
       "0.7991573033707865"
      ]
     },
     "execution_count": 225,
     "metadata": {},
     "output_type": "execute_result"
    }
   ],
   "source": [
    "y_train_preds = cross_val_predict(logistic_clf,X_train_transformed,y_train,cv=5)\n",
    "accuracy_score(y_train,y_train_preds)"
   ]
  },
  {
   "cell_type": "markdown",
   "id": "90e9f11d",
   "metadata": {},
   "source": [
    "## Trying another model"
   ]
  },
  {
   "cell_type": "code",
   "execution_count": 226,
   "id": "f89677b8",
   "metadata": {},
   "outputs": [],
   "source": [
    "knn_clf = KNeighborsClassifier()"
   ]
  },
  {
   "cell_type": "code",
   "execution_count": 227,
   "id": "934c1889",
   "metadata": {},
   "outputs": [
    {
     "data": {
      "text/plain": [
       "KNeighborsClassifier()"
      ]
     },
     "execution_count": 227,
     "metadata": {},
     "output_type": "execute_result"
    }
   ],
   "source": [
    "knn_clf.fit(X_train_transformed,y_train)"
   ]
  },
  {
   "cell_type": "code",
   "execution_count": 228,
   "id": "4e17983a",
   "metadata": {},
   "outputs": [
    {
     "data": {
      "text/plain": [
       "0.7514044943820225"
      ]
     },
     "execution_count": 228,
     "metadata": {},
     "output_type": "execute_result"
    }
   ],
   "source": [
    "knn_clf.score(X_train_transformed,y_train)"
   ]
  },
  {
   "cell_type": "code",
   "execution_count": 229,
   "id": "7fae44d7",
   "metadata": {},
   "outputs": [
    {
     "data": {
      "text/plain": [
       "0.659217877094972"
      ]
     },
     "execution_count": 229,
     "metadata": {},
     "output_type": "execute_result"
    }
   ],
   "source": [
    "y_val_preds = knn_clf.predict(X_val_transformed)\n",
    "accuracy_score(y_val,y_val_preds)"
   ]
  },
  {
   "cell_type": "markdown",
   "id": "9b74795a",
   "metadata": {},
   "source": [
    "## Let's try a Ensemble Models"
   ]
  },
  {
   "cell_type": "code",
   "execution_count": 230,
   "id": "7e582379",
   "metadata": {},
   "outputs": [],
   "source": [
    "ensemble_models = [RandomForestClassifier(),ExtraTreesClassifier(),AdaBoostClassifier(),GradientBoostingClassifier()]"
   ]
  },
  {
   "cell_type": "code",
   "execution_count": 231,
   "id": "09da5876",
   "metadata": {},
   "outputs": [
    {
     "name": "stdout",
     "output_type": "stream",
     "text": [
      "RandomForestClassifier() : 0.8324022346368715\n",
      "ExtraTreesClassifier() : 0.8547486033519553\n",
      "AdaBoostClassifier() : 0.7988826815642458\n",
      "GradientBoostingClassifier() : 0.8100558659217877\n"
     ]
    }
   ],
   "source": [
    "for model in ensemble_models:\n",
    "    model.fit(X_train_transformed,y_train)\n",
    "    y_val_preds = model.predict(X_val_transformed)\n",
    "    print(f\"{model} : {accuracy_score(y_val,y_val_preds)}\")"
   ]
  },
  {
   "cell_type": "code",
   "execution_count": 232,
   "id": "cf07d7ba",
   "metadata": {},
   "outputs": [],
   "source": [
    "### Let's tune the parameters of RandomForestClassifier\n",
    "# params = {\"n_estimators\":[100,200,300,400,500],\"max_features\":[0.5,1.0,\"auto\"],\"min_samples_split\":[2,4,6,8],\"min_samples_leaf\":[1,3,5,7],\"bootstrap\":[True,False]}\n",
    "# forest_clf  = RandomForestClassifier(random_state=42)\n",
    "# gs_clf = GridSearchCV(forest_clf,params,cv=10,verbose=2,scoring=\"accuracy\")\n",
    "# gs_clf.fit(X_train_transformed,y_train)"
   ]
  },
  {
   "cell_type": "code",
   "execution_count": 233,
   "id": "b0890a6e",
   "metadata": {},
   "outputs": [],
   "source": [
    "# gs_clf.best_score_"
   ]
  },
  {
   "cell_type": "code",
   "execution_count": 234,
   "id": "bb425444",
   "metadata": {},
   "outputs": [],
   "source": [
    "# gs_clf.best_params_"
   ]
  },
  {
   "cell_type": "code",
   "execution_count": 235,
   "id": "1ba4aab5",
   "metadata": {},
   "outputs": [],
   "source": [
    "grid_search_model = RandomForestClassifier(max_features=1.0, min_samples_split=8, n_estimators=400,\n",
    "                       random_state=42)"
   ]
  },
  {
   "cell_type": "code",
   "execution_count": 236,
   "id": "4dfd83f9",
   "metadata": {},
   "outputs": [
    {
     "data": {
      "text/plain": [
       "(891, 25)"
      ]
     },
     "execution_count": 236,
     "metadata": {},
     "output_type": "execute_result"
    }
   ],
   "source": [
    "X_transformed = transformer.fit_transform(X)\n",
    "X_transformed.shape"
   ]
  },
  {
   "cell_type": "code",
   "execution_count": 237,
   "id": "449896f6",
   "metadata": {},
   "outputs": [
    {
     "data": {
      "text/plain": [
       "RandomForestClassifier(max_features=1.0, min_samples_split=8, n_estimators=400,\n",
       "                       random_state=42)"
      ]
     },
     "execution_count": 237,
     "metadata": {},
     "output_type": "execute_result"
    }
   ],
   "source": [
    "grid_search_model.fit(X_transformed,y)"
   ]
  },
  {
   "cell_type": "code",
   "execution_count": 238,
   "id": "b15fa60c",
   "metadata": {},
   "outputs": [],
   "source": [
    "import joblib"
   ]
  },
  {
   "cell_type": "code",
   "execution_count": 239,
   "id": "0d631d7b",
   "metadata": {},
   "outputs": [
    {
     "data": {
      "text/plain": [
       "['gs_model.pkl']"
      ]
     },
     "execution_count": 239,
     "metadata": {},
     "output_type": "execute_result"
    }
   ],
   "source": [
    "joblib.dump(grid_search_model,\"gs_model.pkl\")"
   ]
  },
  {
   "cell_type": "code",
   "execution_count": 240,
   "id": "494b416f",
   "metadata": {},
   "outputs": [],
   "source": [
    "loaded_model = joblib.load(\"gs_model.pkl\")"
   ]
  },
  {
   "cell_type": "code",
   "execution_count": 241,
   "id": "285ca2f3",
   "metadata": {},
   "outputs": [
    {
     "data": {
      "text/plain": [
       "RandomForestClassifier(max_features=1.0, min_samples_split=8, n_estimators=400,\n",
       "                       random_state=42)"
      ]
     },
     "execution_count": 241,
     "metadata": {},
     "output_type": "execute_result"
    }
   ],
   "source": [
    "loaded_model"
   ]
  },
  {
   "cell_type": "code",
   "execution_count": null,
   "id": "9d946a25",
   "metadata": {},
   "outputs": [],
   "source": []
  },
  {
   "cell_type": "code",
   "execution_count": 242,
   "id": "db71785c",
   "metadata": {},
   "outputs": [],
   "source": [
    "test_df = pd.read_csv(\"test.csv\")"
   ]
  },
  {
   "cell_type": "code",
   "execution_count": 243,
   "id": "d0b3a125",
   "metadata": {},
   "outputs": [
    {
     "data": {
      "text/html": [
       "<div>\n",
       "<style scoped>\n",
       "    .dataframe tbody tr th:only-of-type {\n",
       "        vertical-align: middle;\n",
       "    }\n",
       "\n",
       "    .dataframe tbody tr th {\n",
       "        vertical-align: top;\n",
       "    }\n",
       "\n",
       "    .dataframe thead th {\n",
       "        text-align: right;\n",
       "    }\n",
       "</style>\n",
       "<table border=\"1\" class=\"dataframe\">\n",
       "  <thead>\n",
       "    <tr style=\"text-align: right;\">\n",
       "      <th></th>\n",
       "      <th>PassengerId</th>\n",
       "      <th>Pclass</th>\n",
       "      <th>Name</th>\n",
       "      <th>Sex</th>\n",
       "      <th>Age</th>\n",
       "      <th>SibSp</th>\n",
       "      <th>Parch</th>\n",
       "      <th>Ticket</th>\n",
       "      <th>Fare</th>\n",
       "      <th>Cabin</th>\n",
       "      <th>Embarked</th>\n",
       "    </tr>\n",
       "  </thead>\n",
       "  <tbody>\n",
       "    <tr>\n",
       "      <th>0</th>\n",
       "      <td>892</td>\n",
       "      <td>3</td>\n",
       "      <td>Kelly, Mr. James</td>\n",
       "      <td>male</td>\n",
       "      <td>34.5</td>\n",
       "      <td>0</td>\n",
       "      <td>0</td>\n",
       "      <td>330911</td>\n",
       "      <td>7.8292</td>\n",
       "      <td>NaN</td>\n",
       "      <td>Q</td>\n",
       "    </tr>\n",
       "    <tr>\n",
       "      <th>1</th>\n",
       "      <td>893</td>\n",
       "      <td>3</td>\n",
       "      <td>Wilkes, Mrs. James (Ellen Needs)</td>\n",
       "      <td>female</td>\n",
       "      <td>47.0</td>\n",
       "      <td>1</td>\n",
       "      <td>0</td>\n",
       "      <td>363272</td>\n",
       "      <td>7.0000</td>\n",
       "      <td>NaN</td>\n",
       "      <td>S</td>\n",
       "    </tr>\n",
       "    <tr>\n",
       "      <th>2</th>\n",
       "      <td>894</td>\n",
       "      <td>2</td>\n",
       "      <td>Myles, Mr. Thomas Francis</td>\n",
       "      <td>male</td>\n",
       "      <td>62.0</td>\n",
       "      <td>0</td>\n",
       "      <td>0</td>\n",
       "      <td>240276</td>\n",
       "      <td>9.6875</td>\n",
       "      <td>NaN</td>\n",
       "      <td>Q</td>\n",
       "    </tr>\n",
       "    <tr>\n",
       "      <th>3</th>\n",
       "      <td>895</td>\n",
       "      <td>3</td>\n",
       "      <td>Wirz, Mr. Albert</td>\n",
       "      <td>male</td>\n",
       "      <td>27.0</td>\n",
       "      <td>0</td>\n",
       "      <td>0</td>\n",
       "      <td>315154</td>\n",
       "      <td>8.6625</td>\n",
       "      <td>NaN</td>\n",
       "      <td>S</td>\n",
       "    </tr>\n",
       "    <tr>\n",
       "      <th>4</th>\n",
       "      <td>896</td>\n",
       "      <td>3</td>\n",
       "      <td>Hirvonen, Mrs. Alexander (Helga E Lindqvist)</td>\n",
       "      <td>female</td>\n",
       "      <td>22.0</td>\n",
       "      <td>1</td>\n",
       "      <td>1</td>\n",
       "      <td>3101298</td>\n",
       "      <td>12.2875</td>\n",
       "      <td>NaN</td>\n",
       "      <td>S</td>\n",
       "    </tr>\n",
       "  </tbody>\n",
       "</table>\n",
       "</div>"
      ],
      "text/plain": [
       "   PassengerId  Pclass                                          Name     Sex  \\\n",
       "0          892       3                              Kelly, Mr. James    male   \n",
       "1          893       3              Wilkes, Mrs. James (Ellen Needs)  female   \n",
       "2          894       2                     Myles, Mr. Thomas Francis    male   \n",
       "3          895       3                              Wirz, Mr. Albert    male   \n",
       "4          896       3  Hirvonen, Mrs. Alexander (Helga E Lindqvist)  female   \n",
       "\n",
       "    Age  SibSp  Parch   Ticket     Fare Cabin Embarked  \n",
       "0  34.5      0      0   330911   7.8292   NaN        Q  \n",
       "1  47.0      1      0   363272   7.0000   NaN        S  \n",
       "2  62.0      0      0   240276   9.6875   NaN        Q  \n",
       "3  27.0      0      0   315154   8.6625   NaN        S  \n",
       "4  22.0      1      1  3101298  12.2875   NaN        S  "
      ]
     },
     "execution_count": 243,
     "metadata": {},
     "output_type": "execute_result"
    }
   ],
   "source": [
    "test_df.head()"
   ]
  },
  {
   "cell_type": "code",
   "execution_count": 244,
   "id": "211bed47",
   "metadata": {},
   "outputs": [
    {
     "name": "stdout",
     "output_type": "stream",
     "text": [
      "<class 'pandas.core.frame.DataFrame'>\n",
      "RangeIndex: 418 entries, 0 to 417\n",
      "Data columns (total 11 columns):\n",
      " #   Column       Non-Null Count  Dtype  \n",
      "---  ------       --------------  -----  \n",
      " 0   PassengerId  418 non-null    int64  \n",
      " 1   Pclass       418 non-null    int64  \n",
      " 2   Name         418 non-null    object \n",
      " 3   Sex          418 non-null    object \n",
      " 4   Age          332 non-null    float64\n",
      " 5   SibSp        418 non-null    int64  \n",
      " 6   Parch        418 non-null    int64  \n",
      " 7   Ticket       418 non-null    object \n",
      " 8   Fare         417 non-null    float64\n",
      " 9   Cabin        91 non-null     object \n",
      " 10  Embarked     418 non-null    object \n",
      "dtypes: float64(2), int64(4), object(5)\n",
      "memory usage: 36.0+ KB\n"
     ]
    }
   ],
   "source": [
    "test_df.info()"
   ]
  },
  {
   "cell_type": "code",
   "execution_count": 245,
   "id": "2c7967ae",
   "metadata": {},
   "outputs": [],
   "source": [
    "test_df = test_df.drop(columns=[\"Name\",\"Ticket\",\"Cabin\"],axis=1)"
   ]
  },
  {
   "cell_type": "code",
   "execution_count": null,
   "id": "97bc7f42",
   "metadata": {},
   "outputs": [],
   "source": []
  },
  {
   "cell_type": "code",
   "execution_count": 246,
   "id": "af27cfe3",
   "metadata": {},
   "outputs": [
    {
     "data": {
      "text/plain": [
       "PassengerId     0\n",
       "Pclass          0\n",
       "Sex             0\n",
       "Age            86\n",
       "SibSp           0\n",
       "Parch           0\n",
       "Fare            1\n",
       "Embarked        0\n",
       "dtype: int64"
      ]
     },
     "execution_count": 246,
     "metadata": {},
     "output_type": "execute_result"
    }
   ],
   "source": [
    "test_df.isna().sum()"
   ]
  },
  {
   "cell_type": "code",
   "execution_count": 247,
   "id": "dfd84588",
   "metadata": {},
   "outputs": [
    {
     "data": {
      "text/plain": [
       "0    283\n",
       "1    110\n",
       "2     14\n",
       "3      4\n",
       "4      4\n",
       "8      2\n",
       "5      1\n",
       "Name: SibSp, dtype: int64"
      ]
     },
     "execution_count": 247,
     "metadata": {},
     "output_type": "execute_result"
    }
   ],
   "source": [
    "test_df.SibSp.value_counts()"
   ]
  },
  {
   "cell_type": "code",
   "execution_count": 248,
   "id": "c26f51c8",
   "metadata": {},
   "outputs": [
    {
     "data": {
      "text/plain": [
       "S    270\n",
       "C    102\n",
       "Q     46\n",
       "Name: Embarked, dtype: int64"
      ]
     },
     "execution_count": 248,
     "metadata": {},
     "output_type": "execute_result"
    }
   ],
   "source": [
    "test_df.Embarked.value_counts()"
   ]
  },
  {
   "cell_type": "code",
   "execution_count": null,
   "id": "cef7d783",
   "metadata": {},
   "outputs": [],
   "source": []
  },
  {
   "cell_type": "code",
   "execution_count": null,
   "id": "c33ac6ae",
   "metadata": {},
   "outputs": [],
   "source": []
  },
  {
   "cell_type": "code",
   "execution_count": 249,
   "id": "8c28ee41",
   "metadata": {},
   "outputs": [],
   "source": [
    "X_test_transformed = transformer.transform(test_df)"
   ]
  },
  {
   "cell_type": "code",
   "execution_count": 250,
   "id": "fd8ca1a8",
   "metadata": {},
   "outputs": [
    {
     "data": {
      "text/plain": [
       "(418, 25)"
      ]
     },
     "execution_count": 250,
     "metadata": {},
     "output_type": "execute_result"
    }
   ],
   "source": [
    "X_test_transformed.shape"
   ]
  },
  {
   "cell_type": "code",
   "execution_count": 251,
   "id": "f77d5430",
   "metadata": {},
   "outputs": [
    {
     "data": {
      "text/plain": [
       "array([[3.45000e+01, 7.82920e+00, 0.00000e+00, ..., 1.00000e+00,\n",
       "        0.00000e+00, 8.92000e+02],\n",
       "       [4.70000e+01, 7.00000e+00, 0.00000e+00, ..., 0.00000e+00,\n",
       "        1.00000e+00, 8.93000e+02],\n",
       "       [6.20000e+01, 9.68750e+00, 0.00000e+00, ..., 1.00000e+00,\n",
       "        0.00000e+00, 8.94000e+02],\n",
       "       ...,\n",
       "       [3.85000e+01, 7.25000e+00, 0.00000e+00, ..., 0.00000e+00,\n",
       "        1.00000e+00, 1.30700e+03],\n",
       "       [2.80000e+01, 8.05000e+00, 0.00000e+00, ..., 0.00000e+00,\n",
       "        1.00000e+00, 1.30800e+03],\n",
       "       [2.80000e+01, 2.23583e+01, 0.00000e+00, ..., 0.00000e+00,\n",
       "        0.00000e+00, 1.30900e+03]])"
      ]
     },
     "execution_count": 251,
     "metadata": {},
     "output_type": "execute_result"
    }
   ],
   "source": [
    "X_test_transformed"
   ]
  },
  {
   "cell_type": "code",
   "execution_count": null,
   "id": "d91e804f",
   "metadata": {},
   "outputs": [],
   "source": []
  },
  {
   "cell_type": "code",
   "execution_count": 252,
   "id": "5304e320",
   "metadata": {},
   "outputs": [],
   "source": [
    "y_pred = loaded_model.predict(X_test_transformed)"
   ]
  },
  {
   "cell_type": "code",
   "execution_count": 253,
   "id": "652c2057",
   "metadata": {},
   "outputs": [],
   "source": [
    "submission_df = pd.DataFrame()\n",
    "submission_df[\"PassengerId\"] = test_df.PassengerId\n",
    "submission_df[\"Survived\"] = y_pred"
   ]
  },
  {
   "cell_type": "code",
   "execution_count": 254,
   "id": "5bd0661a",
   "metadata": {},
   "outputs": [
    {
     "data": {
      "text/html": [
       "<div>\n",
       "<style scoped>\n",
       "    .dataframe tbody tr th:only-of-type {\n",
       "        vertical-align: middle;\n",
       "    }\n",
       "\n",
       "    .dataframe tbody tr th {\n",
       "        vertical-align: top;\n",
       "    }\n",
       "\n",
       "    .dataframe thead th {\n",
       "        text-align: right;\n",
       "    }\n",
       "</style>\n",
       "<table border=\"1\" class=\"dataframe\">\n",
       "  <thead>\n",
       "    <tr style=\"text-align: right;\">\n",
       "      <th></th>\n",
       "      <th>PassengerId</th>\n",
       "      <th>Survived</th>\n",
       "    </tr>\n",
       "  </thead>\n",
       "  <tbody>\n",
       "    <tr>\n",
       "      <th>0</th>\n",
       "      <td>892</td>\n",
       "      <td>0</td>\n",
       "    </tr>\n",
       "    <tr>\n",
       "      <th>1</th>\n",
       "      <td>893</td>\n",
       "      <td>0</td>\n",
       "    </tr>\n",
       "    <tr>\n",
       "      <th>2</th>\n",
       "      <td>894</td>\n",
       "      <td>0</td>\n",
       "    </tr>\n",
       "    <tr>\n",
       "      <th>3</th>\n",
       "      <td>895</td>\n",
       "      <td>0</td>\n",
       "    </tr>\n",
       "    <tr>\n",
       "      <th>4</th>\n",
       "      <td>896</td>\n",
       "      <td>0</td>\n",
       "    </tr>\n",
       "    <tr>\n",
       "      <th>...</th>\n",
       "      <td>...</td>\n",
       "      <td>...</td>\n",
       "    </tr>\n",
       "    <tr>\n",
       "      <th>413</th>\n",
       "      <td>1305</td>\n",
       "      <td>0</td>\n",
       "    </tr>\n",
       "    <tr>\n",
       "      <th>414</th>\n",
       "      <td>1306</td>\n",
       "      <td>1</td>\n",
       "    </tr>\n",
       "    <tr>\n",
       "      <th>415</th>\n",
       "      <td>1307</td>\n",
       "      <td>0</td>\n",
       "    </tr>\n",
       "    <tr>\n",
       "      <th>416</th>\n",
       "      <td>1308</td>\n",
       "      <td>0</td>\n",
       "    </tr>\n",
       "    <tr>\n",
       "      <th>417</th>\n",
       "      <td>1309</td>\n",
       "      <td>0</td>\n",
       "    </tr>\n",
       "  </tbody>\n",
       "</table>\n",
       "<p>418 rows × 2 columns</p>\n",
       "</div>"
      ],
      "text/plain": [
       "     PassengerId  Survived\n",
       "0            892         0\n",
       "1            893         0\n",
       "2            894         0\n",
       "3            895         0\n",
       "4            896         0\n",
       "..           ...       ...\n",
       "413         1305         0\n",
       "414         1306         1\n",
       "415         1307         0\n",
       "416         1308         0\n",
       "417         1309         0\n",
       "\n",
       "[418 rows x 2 columns]"
      ]
     },
     "execution_count": 254,
     "metadata": {},
     "output_type": "execute_result"
    }
   ],
   "source": [
    "submission_df"
   ]
  },
  {
   "cell_type": "code",
   "execution_count": 255,
   "id": "efac206d",
   "metadata": {},
   "outputs": [],
   "source": [
    "submission_df.to_csv(\"Submission.csv\",index=False)"
   ]
  },
  {
   "cell_type": "code",
   "execution_count": 256,
   "id": "825b87b2",
   "metadata": {},
   "outputs": [
    {
     "data": {
      "text/html": [
       "<div>\n",
       "<style scoped>\n",
       "    .dataframe tbody tr th:only-of-type {\n",
       "        vertical-align: middle;\n",
       "    }\n",
       "\n",
       "    .dataframe tbody tr th {\n",
       "        vertical-align: top;\n",
       "    }\n",
       "\n",
       "    .dataframe thead th {\n",
       "        text-align: right;\n",
       "    }\n",
       "</style>\n",
       "<table border=\"1\" class=\"dataframe\">\n",
       "  <thead>\n",
       "    <tr style=\"text-align: right;\">\n",
       "      <th></th>\n",
       "      <th>PassengerId</th>\n",
       "      <th>Survived</th>\n",
       "    </tr>\n",
       "  </thead>\n",
       "  <tbody>\n",
       "    <tr>\n",
       "      <th>0</th>\n",
       "      <td>892</td>\n",
       "      <td>0</td>\n",
       "    </tr>\n",
       "    <tr>\n",
       "      <th>1</th>\n",
       "      <td>893</td>\n",
       "      <td>0</td>\n",
       "    </tr>\n",
       "    <tr>\n",
       "      <th>2</th>\n",
       "      <td>894</td>\n",
       "      <td>0</td>\n",
       "    </tr>\n",
       "    <tr>\n",
       "      <th>3</th>\n",
       "      <td>895</td>\n",
       "      <td>0</td>\n",
       "    </tr>\n",
       "    <tr>\n",
       "      <th>4</th>\n",
       "      <td>896</td>\n",
       "      <td>0</td>\n",
       "    </tr>\n",
       "    <tr>\n",
       "      <th>...</th>\n",
       "      <td>...</td>\n",
       "      <td>...</td>\n",
       "    </tr>\n",
       "    <tr>\n",
       "      <th>413</th>\n",
       "      <td>1305</td>\n",
       "      <td>0</td>\n",
       "    </tr>\n",
       "    <tr>\n",
       "      <th>414</th>\n",
       "      <td>1306</td>\n",
       "      <td>1</td>\n",
       "    </tr>\n",
       "    <tr>\n",
       "      <th>415</th>\n",
       "      <td>1307</td>\n",
       "      <td>0</td>\n",
       "    </tr>\n",
       "    <tr>\n",
       "      <th>416</th>\n",
       "      <td>1308</td>\n",
       "      <td>0</td>\n",
       "    </tr>\n",
       "    <tr>\n",
       "      <th>417</th>\n",
       "      <td>1309</td>\n",
       "      <td>0</td>\n",
       "    </tr>\n",
       "  </tbody>\n",
       "</table>\n",
       "<p>418 rows × 2 columns</p>\n",
       "</div>"
      ],
      "text/plain": [
       "     PassengerId  Survived\n",
       "0            892         0\n",
       "1            893         0\n",
       "2            894         0\n",
       "3            895         0\n",
       "4            896         0\n",
       "..           ...       ...\n",
       "413         1305         0\n",
       "414         1306         1\n",
       "415         1307         0\n",
       "416         1308         0\n",
       "417         1309         0\n",
       "\n",
       "[418 rows x 2 columns]"
      ]
     },
     "execution_count": 256,
     "metadata": {},
     "output_type": "execute_result"
    }
   ],
   "source": [
    "pd.read_csv(\"Submission.csv\")"
   ]
  },
  {
   "cell_type": "code",
   "execution_count": 257,
   "id": "85f3006c",
   "metadata": {},
   "outputs": [
    {
     "data": {
      "text/html": [
       "<div>\n",
       "<style scoped>\n",
       "    .dataframe tbody tr th:only-of-type {\n",
       "        vertical-align: middle;\n",
       "    }\n",
       "\n",
       "    .dataframe tbody tr th {\n",
       "        vertical-align: top;\n",
       "    }\n",
       "\n",
       "    .dataframe thead th {\n",
       "        text-align: right;\n",
       "    }\n",
       "</style>\n",
       "<table border=\"1\" class=\"dataframe\">\n",
       "  <thead>\n",
       "    <tr style=\"text-align: right;\">\n",
       "      <th></th>\n",
       "      <th>PassengerId</th>\n",
       "      <th>Survived</th>\n",
       "      <th>Pclass</th>\n",
       "      <th>Name</th>\n",
       "      <th>Sex</th>\n",
       "      <th>Age</th>\n",
       "      <th>SibSp</th>\n",
       "      <th>Parch</th>\n",
       "      <th>Ticket</th>\n",
       "      <th>Fare</th>\n",
       "      <th>Cabin</th>\n",
       "      <th>Embarked</th>\n",
       "      <th>age_bins</th>\n",
       "    </tr>\n",
       "  </thead>\n",
       "  <tbody>\n",
       "    <tr>\n",
       "      <th>0</th>\n",
       "      <td>1</td>\n",
       "      <td>0</td>\n",
       "      <td>3</td>\n",
       "      <td>Braund, Mr. Owen Harris</td>\n",
       "      <td>male</td>\n",
       "      <td>22.0</td>\n",
       "      <td>1</td>\n",
       "      <td>0</td>\n",
       "      <td>A/5 21171</td>\n",
       "      <td>7.2500</td>\n",
       "      <td>NaN</td>\n",
       "      <td>S</td>\n",
       "      <td>(19.0, 29.0]</td>\n",
       "    </tr>\n",
       "    <tr>\n",
       "      <th>1</th>\n",
       "      <td>2</td>\n",
       "      <td>1</td>\n",
       "      <td>1</td>\n",
       "      <td>Cumings, Mrs. John Bradley (Florence Briggs Th...</td>\n",
       "      <td>female</td>\n",
       "      <td>38.0</td>\n",
       "      <td>1</td>\n",
       "      <td>0</td>\n",
       "      <td>PC 17599</td>\n",
       "      <td>71.2833</td>\n",
       "      <td>C85</td>\n",
       "      <td>C</td>\n",
       "      <td>(29.0, 39.0]</td>\n",
       "    </tr>\n",
       "    <tr>\n",
       "      <th>2</th>\n",
       "      <td>3</td>\n",
       "      <td>1</td>\n",
       "      <td>3</td>\n",
       "      <td>Heikkinen, Miss. Laina</td>\n",
       "      <td>female</td>\n",
       "      <td>26.0</td>\n",
       "      <td>0</td>\n",
       "      <td>0</td>\n",
       "      <td>STON/O2. 3101282</td>\n",
       "      <td>7.9250</td>\n",
       "      <td>NaN</td>\n",
       "      <td>S</td>\n",
       "      <td>(19.0, 29.0]</td>\n",
       "    </tr>\n",
       "    <tr>\n",
       "      <th>3</th>\n",
       "      <td>4</td>\n",
       "      <td>1</td>\n",
       "      <td>1</td>\n",
       "      <td>Futrelle, Mrs. Jacques Heath (Lily May Peel)</td>\n",
       "      <td>female</td>\n",
       "      <td>35.0</td>\n",
       "      <td>1</td>\n",
       "      <td>0</td>\n",
       "      <td>113803</td>\n",
       "      <td>53.1000</td>\n",
       "      <td>C123</td>\n",
       "      <td>S</td>\n",
       "      <td>(29.0, 39.0]</td>\n",
       "    </tr>\n",
       "    <tr>\n",
       "      <th>4</th>\n",
       "      <td>5</td>\n",
       "      <td>0</td>\n",
       "      <td>3</td>\n",
       "      <td>Allen, Mr. William Henry</td>\n",
       "      <td>male</td>\n",
       "      <td>35.0</td>\n",
       "      <td>0</td>\n",
       "      <td>0</td>\n",
       "      <td>373450</td>\n",
       "      <td>8.0500</td>\n",
       "      <td>NaN</td>\n",
       "      <td>S</td>\n",
       "      <td>(29.0, 39.0]</td>\n",
       "    </tr>\n",
       "    <tr>\n",
       "      <th>...</th>\n",
       "      <td>...</td>\n",
       "      <td>...</td>\n",
       "      <td>...</td>\n",
       "      <td>...</td>\n",
       "      <td>...</td>\n",
       "      <td>...</td>\n",
       "      <td>...</td>\n",
       "      <td>...</td>\n",
       "      <td>...</td>\n",
       "      <td>...</td>\n",
       "      <td>...</td>\n",
       "      <td>...</td>\n",
       "      <td>...</td>\n",
       "    </tr>\n",
       "    <tr>\n",
       "      <th>886</th>\n",
       "      <td>887</td>\n",
       "      <td>0</td>\n",
       "      <td>2</td>\n",
       "      <td>Montvila, Rev. Juozas</td>\n",
       "      <td>male</td>\n",
       "      <td>27.0</td>\n",
       "      <td>0</td>\n",
       "      <td>0</td>\n",
       "      <td>211536</td>\n",
       "      <td>13.0000</td>\n",
       "      <td>NaN</td>\n",
       "      <td>S</td>\n",
       "      <td>(19.0, 29.0]</td>\n",
       "    </tr>\n",
       "    <tr>\n",
       "      <th>887</th>\n",
       "      <td>888</td>\n",
       "      <td>1</td>\n",
       "      <td>1</td>\n",
       "      <td>Graham, Miss. Margaret Edith</td>\n",
       "      <td>female</td>\n",
       "      <td>19.0</td>\n",
       "      <td>0</td>\n",
       "      <td>0</td>\n",
       "      <td>112053</td>\n",
       "      <td>30.0000</td>\n",
       "      <td>B42</td>\n",
       "      <td>S</td>\n",
       "      <td>(9.0, 19.0]</td>\n",
       "    </tr>\n",
       "    <tr>\n",
       "      <th>888</th>\n",
       "      <td>889</td>\n",
       "      <td>0</td>\n",
       "      <td>3</td>\n",
       "      <td>Johnston, Miss. Catherine Helen \"Carrie\"</td>\n",
       "      <td>female</td>\n",
       "      <td>NaN</td>\n",
       "      <td>1</td>\n",
       "      <td>2</td>\n",
       "      <td>W./C. 6607</td>\n",
       "      <td>23.4500</td>\n",
       "      <td>NaN</td>\n",
       "      <td>S</td>\n",
       "      <td>NaN</td>\n",
       "    </tr>\n",
       "    <tr>\n",
       "      <th>889</th>\n",
       "      <td>890</td>\n",
       "      <td>1</td>\n",
       "      <td>1</td>\n",
       "      <td>Behr, Mr. Karl Howell</td>\n",
       "      <td>male</td>\n",
       "      <td>26.0</td>\n",
       "      <td>0</td>\n",
       "      <td>0</td>\n",
       "      <td>111369</td>\n",
       "      <td>30.0000</td>\n",
       "      <td>C148</td>\n",
       "      <td>C</td>\n",
       "      <td>(19.0, 29.0]</td>\n",
       "    </tr>\n",
       "    <tr>\n",
       "      <th>890</th>\n",
       "      <td>891</td>\n",
       "      <td>0</td>\n",
       "      <td>3</td>\n",
       "      <td>Dooley, Mr. Patrick</td>\n",
       "      <td>male</td>\n",
       "      <td>32.0</td>\n",
       "      <td>0</td>\n",
       "      <td>0</td>\n",
       "      <td>370376</td>\n",
       "      <td>7.7500</td>\n",
       "      <td>NaN</td>\n",
       "      <td>Q</td>\n",
       "      <td>(29.0, 39.0]</td>\n",
       "    </tr>\n",
       "  </tbody>\n",
       "</table>\n",
       "<p>891 rows × 13 columns</p>\n",
       "</div>"
      ],
      "text/plain": [
       "     PassengerId  Survived  Pclass  \\\n",
       "0              1         0       3   \n",
       "1              2         1       1   \n",
       "2              3         1       3   \n",
       "3              4         1       1   \n",
       "4              5         0       3   \n",
       "..           ...       ...     ...   \n",
       "886          887         0       2   \n",
       "887          888         1       1   \n",
       "888          889         0       3   \n",
       "889          890         1       1   \n",
       "890          891         0       3   \n",
       "\n",
       "                                                  Name     Sex   Age  SibSp  \\\n",
       "0                              Braund, Mr. Owen Harris    male  22.0      1   \n",
       "1    Cumings, Mrs. John Bradley (Florence Briggs Th...  female  38.0      1   \n",
       "2                               Heikkinen, Miss. Laina  female  26.0      0   \n",
       "3         Futrelle, Mrs. Jacques Heath (Lily May Peel)  female  35.0      1   \n",
       "4                             Allen, Mr. William Henry    male  35.0      0   \n",
       "..                                                 ...     ...   ...    ...   \n",
       "886                              Montvila, Rev. Juozas    male  27.0      0   \n",
       "887                       Graham, Miss. Margaret Edith  female  19.0      0   \n",
       "888           Johnston, Miss. Catherine Helen \"Carrie\"  female   NaN      1   \n",
       "889                              Behr, Mr. Karl Howell    male  26.0      0   \n",
       "890                                Dooley, Mr. Patrick    male  32.0      0   \n",
       "\n",
       "     Parch            Ticket     Fare Cabin Embarked      age_bins  \n",
       "0        0         A/5 21171   7.2500   NaN        S  (19.0, 29.0]  \n",
       "1        0          PC 17599  71.2833   C85        C  (29.0, 39.0]  \n",
       "2        0  STON/O2. 3101282   7.9250   NaN        S  (19.0, 29.0]  \n",
       "3        0            113803  53.1000  C123        S  (29.0, 39.0]  \n",
       "4        0            373450   8.0500   NaN        S  (29.0, 39.0]  \n",
       "..     ...               ...      ...   ...      ...           ...  \n",
       "886      0            211536  13.0000   NaN        S  (19.0, 29.0]  \n",
       "887      0            112053  30.0000   B42        S   (9.0, 19.0]  \n",
       "888      2        W./C. 6607  23.4500   NaN        S           NaN  \n",
       "889      0            111369  30.0000  C148        C  (19.0, 29.0]  \n",
       "890      0            370376   7.7500   NaN        Q  (29.0, 39.0]  \n",
       "\n",
       "[891 rows x 13 columns]"
      ]
     },
     "execution_count": 257,
     "metadata": {},
     "output_type": "execute_result"
    }
   ],
   "source": [
    "df_tmp = titanic_df.copy()\n",
    "df_tmp"
   ]
  },
  {
   "cell_type": "code",
   "execution_count": 258,
   "id": "88e9575a",
   "metadata": {},
   "outputs": [],
   "source": [
    "df_tmp[\"Age\"].fillna(df_tmp[\"Age\"].median(),inplace=True)"
   ]
  },
  {
   "cell_type": "code",
   "execution_count": 259,
   "id": "6f653973",
   "metadata": {},
   "outputs": [
    {
     "data": {
      "text/html": [
       "<div>\n",
       "<style scoped>\n",
       "    .dataframe tbody tr th:only-of-type {\n",
       "        vertical-align: middle;\n",
       "    }\n",
       "\n",
       "    .dataframe tbody tr th {\n",
       "        vertical-align: top;\n",
       "    }\n",
       "\n",
       "    .dataframe thead th {\n",
       "        text-align: right;\n",
       "    }\n",
       "</style>\n",
       "<table border=\"1\" class=\"dataframe\">\n",
       "  <thead>\n",
       "    <tr style=\"text-align: right;\">\n",
       "      <th></th>\n",
       "      <th>PassengerId</th>\n",
       "      <th>Survived</th>\n",
       "      <th>Pclass</th>\n",
       "      <th>Name</th>\n",
       "      <th>Sex</th>\n",
       "      <th>Age</th>\n",
       "      <th>SibSp</th>\n",
       "      <th>Parch</th>\n",
       "      <th>Ticket</th>\n",
       "      <th>Fare</th>\n",
       "      <th>Cabin</th>\n",
       "      <th>Embarked</th>\n",
       "      <th>age_bins</th>\n",
       "    </tr>\n",
       "  </thead>\n",
       "  <tbody>\n",
       "    <tr>\n",
       "      <th>0</th>\n",
       "      <td>1</td>\n",
       "      <td>0</td>\n",
       "      <td>3</td>\n",
       "      <td>Braund, Mr. Owen Harris</td>\n",
       "      <td>male</td>\n",
       "      <td>22.0</td>\n",
       "      <td>1</td>\n",
       "      <td>0</td>\n",
       "      <td>A/5 21171</td>\n",
       "      <td>7.2500</td>\n",
       "      <td>NaN</td>\n",
       "      <td>S</td>\n",
       "      <td>(19, 29]</td>\n",
       "    </tr>\n",
       "    <tr>\n",
       "      <th>1</th>\n",
       "      <td>2</td>\n",
       "      <td>1</td>\n",
       "      <td>1</td>\n",
       "      <td>Cumings, Mrs. John Bradley (Florence Briggs Th...</td>\n",
       "      <td>female</td>\n",
       "      <td>38.0</td>\n",
       "      <td>1</td>\n",
       "      <td>0</td>\n",
       "      <td>PC 17599</td>\n",
       "      <td>71.2833</td>\n",
       "      <td>C85</td>\n",
       "      <td>C</td>\n",
       "      <td>(29, 39]</td>\n",
       "    </tr>\n",
       "    <tr>\n",
       "      <th>2</th>\n",
       "      <td>3</td>\n",
       "      <td>1</td>\n",
       "      <td>3</td>\n",
       "      <td>Heikkinen, Miss. Laina</td>\n",
       "      <td>female</td>\n",
       "      <td>26.0</td>\n",
       "      <td>0</td>\n",
       "      <td>0</td>\n",
       "      <td>STON/O2. 3101282</td>\n",
       "      <td>7.9250</td>\n",
       "      <td>NaN</td>\n",
       "      <td>S</td>\n",
       "      <td>(19, 29]</td>\n",
       "    </tr>\n",
       "    <tr>\n",
       "      <th>3</th>\n",
       "      <td>4</td>\n",
       "      <td>1</td>\n",
       "      <td>1</td>\n",
       "      <td>Futrelle, Mrs. Jacques Heath (Lily May Peel)</td>\n",
       "      <td>female</td>\n",
       "      <td>35.0</td>\n",
       "      <td>1</td>\n",
       "      <td>0</td>\n",
       "      <td>113803</td>\n",
       "      <td>53.1000</td>\n",
       "      <td>C123</td>\n",
       "      <td>S</td>\n",
       "      <td>(29, 39]</td>\n",
       "    </tr>\n",
       "    <tr>\n",
       "      <th>4</th>\n",
       "      <td>5</td>\n",
       "      <td>0</td>\n",
       "      <td>3</td>\n",
       "      <td>Allen, Mr. William Henry</td>\n",
       "      <td>male</td>\n",
       "      <td>35.0</td>\n",
       "      <td>0</td>\n",
       "      <td>0</td>\n",
       "      <td>373450</td>\n",
       "      <td>8.0500</td>\n",
       "      <td>NaN</td>\n",
       "      <td>S</td>\n",
       "      <td>(29, 39]</td>\n",
       "    </tr>\n",
       "    <tr>\n",
       "      <th>...</th>\n",
       "      <td>...</td>\n",
       "      <td>...</td>\n",
       "      <td>...</td>\n",
       "      <td>...</td>\n",
       "      <td>...</td>\n",
       "      <td>...</td>\n",
       "      <td>...</td>\n",
       "      <td>...</td>\n",
       "      <td>...</td>\n",
       "      <td>...</td>\n",
       "      <td>...</td>\n",
       "      <td>...</td>\n",
       "      <td>...</td>\n",
       "    </tr>\n",
       "    <tr>\n",
       "      <th>886</th>\n",
       "      <td>887</td>\n",
       "      <td>0</td>\n",
       "      <td>2</td>\n",
       "      <td>Montvila, Rev. Juozas</td>\n",
       "      <td>male</td>\n",
       "      <td>27.0</td>\n",
       "      <td>0</td>\n",
       "      <td>0</td>\n",
       "      <td>211536</td>\n",
       "      <td>13.0000</td>\n",
       "      <td>NaN</td>\n",
       "      <td>S</td>\n",
       "      <td>(19, 29]</td>\n",
       "    </tr>\n",
       "    <tr>\n",
       "      <th>887</th>\n",
       "      <td>888</td>\n",
       "      <td>1</td>\n",
       "      <td>1</td>\n",
       "      <td>Graham, Miss. Margaret Edith</td>\n",
       "      <td>female</td>\n",
       "      <td>19.0</td>\n",
       "      <td>0</td>\n",
       "      <td>0</td>\n",
       "      <td>112053</td>\n",
       "      <td>30.0000</td>\n",
       "      <td>B42</td>\n",
       "      <td>S</td>\n",
       "      <td>(9, 19]</td>\n",
       "    </tr>\n",
       "    <tr>\n",
       "      <th>888</th>\n",
       "      <td>889</td>\n",
       "      <td>0</td>\n",
       "      <td>3</td>\n",
       "      <td>Johnston, Miss. Catherine Helen \"Carrie\"</td>\n",
       "      <td>female</td>\n",
       "      <td>28.0</td>\n",
       "      <td>1</td>\n",
       "      <td>2</td>\n",
       "      <td>W./C. 6607</td>\n",
       "      <td>23.4500</td>\n",
       "      <td>NaN</td>\n",
       "      <td>S</td>\n",
       "      <td>(19, 29]</td>\n",
       "    </tr>\n",
       "    <tr>\n",
       "      <th>889</th>\n",
       "      <td>890</td>\n",
       "      <td>1</td>\n",
       "      <td>1</td>\n",
       "      <td>Behr, Mr. Karl Howell</td>\n",
       "      <td>male</td>\n",
       "      <td>26.0</td>\n",
       "      <td>0</td>\n",
       "      <td>0</td>\n",
       "      <td>111369</td>\n",
       "      <td>30.0000</td>\n",
       "      <td>C148</td>\n",
       "      <td>C</td>\n",
       "      <td>(19, 29]</td>\n",
       "    </tr>\n",
       "    <tr>\n",
       "      <th>890</th>\n",
       "      <td>891</td>\n",
       "      <td>0</td>\n",
       "      <td>3</td>\n",
       "      <td>Dooley, Mr. Patrick</td>\n",
       "      <td>male</td>\n",
       "      <td>32.0</td>\n",
       "      <td>0</td>\n",
       "      <td>0</td>\n",
       "      <td>370376</td>\n",
       "      <td>7.7500</td>\n",
       "      <td>NaN</td>\n",
       "      <td>Q</td>\n",
       "      <td>(29, 39]</td>\n",
       "    </tr>\n",
       "  </tbody>\n",
       "</table>\n",
       "<p>891 rows × 13 columns</p>\n",
       "</div>"
      ],
      "text/plain": [
       "     PassengerId  Survived  Pclass  \\\n",
       "0              1         0       3   \n",
       "1              2         1       1   \n",
       "2              3         1       3   \n",
       "3              4         1       1   \n",
       "4              5         0       3   \n",
       "..           ...       ...     ...   \n",
       "886          887         0       2   \n",
       "887          888         1       1   \n",
       "888          889         0       3   \n",
       "889          890         1       1   \n",
       "890          891         0       3   \n",
       "\n",
       "                                                  Name     Sex   Age  SibSp  \\\n",
       "0                              Braund, Mr. Owen Harris    male  22.0      1   \n",
       "1    Cumings, Mrs. John Bradley (Florence Briggs Th...  female  38.0      1   \n",
       "2                               Heikkinen, Miss. Laina  female  26.0      0   \n",
       "3         Futrelle, Mrs. Jacques Heath (Lily May Peel)  female  35.0      1   \n",
       "4                             Allen, Mr. William Henry    male  35.0      0   \n",
       "..                                                 ...     ...   ...    ...   \n",
       "886                              Montvila, Rev. Juozas    male  27.0      0   \n",
       "887                       Graham, Miss. Margaret Edith  female  19.0      0   \n",
       "888           Johnston, Miss. Catherine Helen \"Carrie\"  female  28.0      1   \n",
       "889                              Behr, Mr. Karl Howell    male  26.0      0   \n",
       "890                                Dooley, Mr. Patrick    male  32.0      0   \n",
       "\n",
       "     Parch            Ticket     Fare Cabin Embarked  age_bins  \n",
       "0        0         A/5 21171   7.2500   NaN        S  (19, 29]  \n",
       "1        0          PC 17599  71.2833   C85        C  (29, 39]  \n",
       "2        0  STON/O2. 3101282   7.9250   NaN        S  (19, 29]  \n",
       "3        0            113803  53.1000  C123        S  (29, 39]  \n",
       "4        0            373450   8.0500   NaN        S  (29, 39]  \n",
       "..     ...               ...      ...   ...      ...       ...  \n",
       "886      0            211536  13.0000   NaN        S  (19, 29]  \n",
       "887      0            112053  30.0000   B42        S   (9, 19]  \n",
       "888      2        W./C. 6607  23.4500   NaN        S  (19, 29]  \n",
       "889      0            111369  30.0000  C148        C  (19, 29]  \n",
       "890      0            370376   7.7500   NaN        Q  (29, 39]  \n",
       "\n",
       "[891 rows x 13 columns]"
      ]
     },
     "execution_count": 259,
     "metadata": {},
     "output_type": "execute_result"
    }
   ],
   "source": [
    "df_tmp['age_bins'] = pd.cut(x=df_tmp['Age'], bins=[0,9,19,29,39,49,59,69,79,89,99])\n",
    "df_tmp"
   ]
  },
  {
   "cell_type": "code",
   "execution_count": 260,
   "id": "ae9adf8f",
   "metadata": {},
   "outputs": [
    {
     "data": {
      "text/plain": [
       "PassengerId      0\n",
       "Survived         0\n",
       "Pclass           0\n",
       "Name             0\n",
       "Sex              0\n",
       "Age              0\n",
       "SibSp            0\n",
       "Parch            0\n",
       "Ticket           0\n",
       "Fare             0\n",
       "Cabin          687\n",
       "Embarked         2\n",
       "age_bins         0\n",
       "dtype: int64"
      ]
     },
     "execution_count": 260,
     "metadata": {},
     "output_type": "execute_result"
    }
   ],
   "source": [
    "df_tmp.isna().sum()"
   ]
  },
  {
   "cell_type": "code",
   "execution_count": 261,
   "id": "98bebe5b",
   "metadata": {},
   "outputs": [],
   "source": [
    "df_tmp.drop(columns=[\"Name\",\"Ticket\",\"Cabin\"],axis=1,inplace=True)"
   ]
  },
  {
   "cell_type": "code",
   "execution_count": 262,
   "id": "41606dee",
   "metadata": {},
   "outputs": [],
   "source": [
    "num_features = [\"Age\",\"Fare\"]\n",
    "cat_features = [\"Pclass\",\"Sex\",\"SibSp\",\"Parch\",\"Embarked\",\"age_bins\"]\n",
    "\n",
    "\n",
    "num_pipeline = Pipeline([(\"num_imputer\",SimpleImputer(strategy=\"median\"))])\n",
    "cat_pipeline = Pipeline([(\"cat_imputer\",SimpleImputer(strategy=\"most_frequent\")),\n",
    "                        (\"one_hot\",OneHotEncoder(handle_unknown=\"ignore\"))])\n",
    "\n",
    "\n",
    "\n",
    "transformer = ColumnTransformer([(\"num\",num_pipeline,num_features),(\"cat\",cat_pipeline,cat_features)])\n"
   ]
  },
  {
   "cell_type": "code",
   "execution_count": 263,
   "id": "89338f9f",
   "metadata": {},
   "outputs": [],
   "source": [
    "X = df_tmp.drop(\"Survived\",axis=1)\n",
    "y = df_tmp.Survived"
   ]
  },
  {
   "cell_type": "code",
   "execution_count": 269,
   "id": "c7f64b76",
   "metadata": {},
   "outputs": [],
   "source": [
    "X_transformed = transformer.fit_transform(X)"
   ]
  },
  {
   "cell_type": "code",
   "execution_count": 270,
   "id": "9ab64fff",
   "metadata": {},
   "outputs": [
    {
     "data": {
      "text/plain": [
       "(891, 33)"
      ]
     },
     "execution_count": 270,
     "metadata": {},
     "output_type": "execute_result"
    }
   ],
   "source": [
    "X_transformed.shape"
   ]
  },
  {
   "cell_type": "code",
   "execution_count": 275,
   "id": "4a3672bc",
   "metadata": {},
   "outputs": [
    {
     "name": "stdout",
     "output_type": "stream",
     "text": [
      "RandomForestClassifier() : 0.9797979797979798\n",
      "ExtraTreesClassifier() : 0.9797979797979798\n",
      "AdaBoostClassifier() : 0.8327721661054994\n",
      "GradientBoostingClassifier() : 0.8843995510662177\n"
     ]
    }
   ],
   "source": [
    "for model in ensemble_models:\n",
    "    model.fit(X_transformed,y)\n",
    "    y_preds = model.predict(X_transformed)\n",
    "    print(f\"{model} : {accuracy_score(y,y_preds)}\")"
   ]
  },
  {
   "cell_type": "code",
   "execution_count": 276,
   "id": "c6a7934f",
   "metadata": {},
   "outputs": [],
   "source": [
    "forest_clf = RandomForestClassifier(random_state=42)"
   ]
  },
  {
   "cell_type": "code",
   "execution_count": 279,
   "id": "79d0e90e",
   "metadata": {},
   "outputs": [
    {
     "name": "stdout",
     "output_type": "stream",
     "text": [
      "Fitting 10 folds for each of 10 candidates, totalling 100 fits\n",
      "[CV] END bootstrap=False, max_features=1.0, min_samples_leaf=3, min_samples_split=2, n_estimators=300; total time=   4.1s\n",
      "[CV] END bootstrap=False, max_features=1.0, min_samples_leaf=3, min_samples_split=2, n_estimators=300; total time=   4.2s\n",
      "[CV] END bootstrap=False, max_features=1.0, min_samples_leaf=3, min_samples_split=2, n_estimators=300; total time=   4.0s\n",
      "[CV] END bootstrap=False, max_features=1.0, min_samples_leaf=3, min_samples_split=2, n_estimators=300; total time=   4.0s\n",
      "[CV] END bootstrap=False, max_features=1.0, min_samples_leaf=3, min_samples_split=2, n_estimators=300; total time=   4.4s\n",
      "[CV] END bootstrap=False, max_features=1.0, min_samples_leaf=3, min_samples_split=2, n_estimators=300; total time=   4.2s\n",
      "[CV] END bootstrap=False, max_features=1.0, min_samples_leaf=3, min_samples_split=2, n_estimators=300; total time=   4.2s\n",
      "[CV] END bootstrap=False, max_features=1.0, min_samples_leaf=3, min_samples_split=2, n_estimators=300; total time=   4.2s\n",
      "[CV] END bootstrap=False, max_features=1.0, min_samples_leaf=3, min_samples_split=2, n_estimators=300; total time=   4.1s\n",
      "[CV] END bootstrap=False, max_features=1.0, min_samples_leaf=3, min_samples_split=2, n_estimators=300; total time=   4.2s\n",
      "[CV] END bootstrap=False, max_features=auto, min_samples_leaf=7, min_samples_split=8, n_estimators=400; total time=   1.6s\n",
      "[CV] END bootstrap=False, max_features=auto, min_samples_leaf=7, min_samples_split=8, n_estimators=400; total time=   1.7s\n",
      "[CV] END bootstrap=False, max_features=auto, min_samples_leaf=7, min_samples_split=8, n_estimators=400; total time=   1.6s\n",
      "[CV] END bootstrap=False, max_features=auto, min_samples_leaf=7, min_samples_split=8, n_estimators=400; total time=   1.6s\n",
      "[CV] END bootstrap=False, max_features=auto, min_samples_leaf=7, min_samples_split=8, n_estimators=400; total time=   1.6s\n",
      "[CV] END bootstrap=False, max_features=auto, min_samples_leaf=7, min_samples_split=8, n_estimators=400; total time=   1.7s\n",
      "[CV] END bootstrap=False, max_features=auto, min_samples_leaf=7, min_samples_split=8, n_estimators=400; total time=   1.7s\n",
      "[CV] END bootstrap=False, max_features=auto, min_samples_leaf=7, min_samples_split=8, n_estimators=400; total time=   1.7s\n",
      "[CV] END bootstrap=False, max_features=auto, min_samples_leaf=7, min_samples_split=8, n_estimators=400; total time=   1.6s\n",
      "[CV] END bootstrap=False, max_features=auto, min_samples_leaf=7, min_samples_split=8, n_estimators=400; total time=   1.7s\n",
      "[CV] END bootstrap=False, max_features=auto, min_samples_leaf=1, min_samples_split=2, n_estimators=100; total time=   0.8s\n",
      "[CV] END bootstrap=False, max_features=auto, min_samples_leaf=1, min_samples_split=2, n_estimators=100; total time=   0.8s\n",
      "[CV] END bootstrap=False, max_features=auto, min_samples_leaf=1, min_samples_split=2, n_estimators=100; total time=   0.7s\n",
      "[CV] END bootstrap=False, max_features=auto, min_samples_leaf=1, min_samples_split=2, n_estimators=100; total time=   0.8s\n",
      "[CV] END bootstrap=False, max_features=auto, min_samples_leaf=1, min_samples_split=2, n_estimators=100; total time=   0.8s\n",
      "[CV] END bootstrap=False, max_features=auto, min_samples_leaf=1, min_samples_split=2, n_estimators=100; total time=   0.8s\n",
      "[CV] END bootstrap=False, max_features=auto, min_samples_leaf=1, min_samples_split=2, n_estimators=100; total time=   0.8s\n",
      "[CV] END bootstrap=False, max_features=auto, min_samples_leaf=1, min_samples_split=2, n_estimators=100; total time=   0.8s\n",
      "[CV] END bootstrap=False, max_features=auto, min_samples_leaf=1, min_samples_split=2, n_estimators=100; total time=   0.8s\n",
      "[CV] END bootstrap=False, max_features=auto, min_samples_leaf=1, min_samples_split=2, n_estimators=100; total time=   0.8s\n",
      "[CV] END bootstrap=True, max_features=auto, min_samples_leaf=5, min_samples_split=2, n_estimators=100; total time=   0.4s\n",
      "[CV] END bootstrap=True, max_features=auto, min_samples_leaf=5, min_samples_split=2, n_estimators=100; total time=   0.4s\n",
      "[CV] END bootstrap=True, max_features=auto, min_samples_leaf=5, min_samples_split=2, n_estimators=100; total time=   0.4s\n",
      "[CV] END bootstrap=True, max_features=auto, min_samples_leaf=5, min_samples_split=2, n_estimators=100; total time=   0.4s\n",
      "[CV] END bootstrap=True, max_features=auto, min_samples_leaf=5, min_samples_split=2, n_estimators=100; total time=   0.4s\n",
      "[CV] END bootstrap=True, max_features=auto, min_samples_leaf=5, min_samples_split=2, n_estimators=100; total time=   0.4s\n",
      "[CV] END bootstrap=True, max_features=auto, min_samples_leaf=5, min_samples_split=2, n_estimators=100; total time=   0.4s\n",
      "[CV] END bootstrap=True, max_features=auto, min_samples_leaf=5, min_samples_split=2, n_estimators=100; total time=   0.4s\n",
      "[CV] END bootstrap=True, max_features=auto, min_samples_leaf=5, min_samples_split=2, n_estimators=100; total time=   0.4s\n",
      "[CV] END bootstrap=True, max_features=auto, min_samples_leaf=5, min_samples_split=2, n_estimators=100; total time=   0.4s\n",
      "[CV] END bootstrap=False, max_features=auto, min_samples_leaf=3, min_samples_split=2, n_estimators=200; total time=   1.0s\n",
      "[CV] END bootstrap=False, max_features=auto, min_samples_leaf=3, min_samples_split=2, n_estimators=200; total time=   1.0s\n",
      "[CV] END bootstrap=False, max_features=auto, min_samples_leaf=3, min_samples_split=2, n_estimators=200; total time=   1.0s\n",
      "[CV] END bootstrap=False, max_features=auto, min_samples_leaf=3, min_samples_split=2, n_estimators=200; total time=   1.0s\n",
      "[CV] END bootstrap=False, max_features=auto, min_samples_leaf=3, min_samples_split=2, n_estimators=200; total time=   1.0s\n",
      "[CV] END bootstrap=False, max_features=auto, min_samples_leaf=3, min_samples_split=2, n_estimators=200; total time=   1.2s\n",
      "[CV] END bootstrap=False, max_features=auto, min_samples_leaf=3, min_samples_split=2, n_estimators=200; total time=   1.0s\n",
      "[CV] END bootstrap=False, max_features=auto, min_samples_leaf=3, min_samples_split=2, n_estimators=200; total time=   1.1s\n",
      "[CV] END bootstrap=False, max_features=auto, min_samples_leaf=3, min_samples_split=2, n_estimators=200; total time=   1.1s\n",
      "[CV] END bootstrap=False, max_features=auto, min_samples_leaf=3, min_samples_split=2, n_estimators=200; total time=   1.0s\n",
      "[CV] END bootstrap=True, max_features=0.5, min_samples_leaf=7, min_samples_split=2, n_estimators=400; total time=   2.6s\n",
      "[CV] END bootstrap=True, max_features=0.5, min_samples_leaf=7, min_samples_split=2, n_estimators=400; total time=   2.7s\n",
      "[CV] END bootstrap=True, max_features=0.5, min_samples_leaf=7, min_samples_split=2, n_estimators=400; total time=   2.6s\n",
      "[CV] END bootstrap=True, max_features=0.5, min_samples_leaf=7, min_samples_split=2, n_estimators=400; total time=   2.7s\n",
      "[CV] END bootstrap=True, max_features=0.5, min_samples_leaf=7, min_samples_split=2, n_estimators=400; total time=   2.7s\n",
      "[CV] END bootstrap=True, max_features=0.5, min_samples_leaf=7, min_samples_split=2, n_estimators=400; total time=   2.7s\n",
      "[CV] END bootstrap=True, max_features=0.5, min_samples_leaf=7, min_samples_split=2, n_estimators=400; total time=   2.7s\n",
      "[CV] END bootstrap=True, max_features=0.5, min_samples_leaf=7, min_samples_split=2, n_estimators=400; total time=   2.7s\n",
      "[CV] END bootstrap=True, max_features=0.5, min_samples_leaf=7, min_samples_split=2, n_estimators=400; total time=   2.7s\n",
      "[CV] END bootstrap=True, max_features=0.5, min_samples_leaf=7, min_samples_split=2, n_estimators=400; total time=   2.7s\n",
      "[CV] END bootstrap=True, max_features=auto, min_samples_leaf=1, min_samples_split=6, n_estimators=300; total time=   2.0s\n",
      "[CV] END bootstrap=True, max_features=auto, min_samples_leaf=1, min_samples_split=6, n_estimators=300; total time=   2.0s\n",
      "[CV] END bootstrap=True, max_features=auto, min_samples_leaf=1, min_samples_split=6, n_estimators=300; total time=   2.0s\n",
      "[CV] END bootstrap=True, max_features=auto, min_samples_leaf=1, min_samples_split=6, n_estimators=300; total time=   2.0s\n",
      "[CV] END bootstrap=True, max_features=auto, min_samples_leaf=1, min_samples_split=6, n_estimators=300; total time=   2.0s\n",
      "[CV] END bootstrap=True, max_features=auto, min_samples_leaf=1, min_samples_split=6, n_estimators=300; total time=   2.0s\n",
      "[CV] END bootstrap=True, max_features=auto, min_samples_leaf=1, min_samples_split=6, n_estimators=300; total time=   2.0s\n"
     ]
    },
    {
     "name": "stdout",
     "output_type": "stream",
     "text": [
      "[CV] END bootstrap=True, max_features=auto, min_samples_leaf=1, min_samples_split=6, n_estimators=300; total time=   2.1s\n",
      "[CV] END bootstrap=True, max_features=auto, min_samples_leaf=1, min_samples_split=6, n_estimators=300; total time=   2.0s\n",
      "[CV] END bootstrap=True, max_features=auto, min_samples_leaf=1, min_samples_split=6, n_estimators=300; total time=   2.0s\n",
      "[CV] END bootstrap=True, max_features=auto, min_samples_leaf=1, min_samples_split=8, n_estimators=100; total time=   0.6s\n",
      "[CV] END bootstrap=True, max_features=auto, min_samples_leaf=1, min_samples_split=8, n_estimators=100; total time=   0.6s\n",
      "[CV] END bootstrap=True, max_features=auto, min_samples_leaf=1, min_samples_split=8, n_estimators=100; total time=   0.6s\n",
      "[CV] END bootstrap=True, max_features=auto, min_samples_leaf=1, min_samples_split=8, n_estimators=100; total time=   0.6s\n",
      "[CV] END bootstrap=True, max_features=auto, min_samples_leaf=1, min_samples_split=8, n_estimators=100; total time=   0.6s\n",
      "[CV] END bootstrap=True, max_features=auto, min_samples_leaf=1, min_samples_split=8, n_estimators=100; total time=   0.6s\n",
      "[CV] END bootstrap=True, max_features=auto, min_samples_leaf=1, min_samples_split=8, n_estimators=100; total time=   0.6s\n",
      "[CV] END bootstrap=True, max_features=auto, min_samples_leaf=1, min_samples_split=8, n_estimators=100; total time=   0.6s\n",
      "[CV] END bootstrap=True, max_features=auto, min_samples_leaf=1, min_samples_split=8, n_estimators=100; total time=   0.6s\n",
      "[CV] END bootstrap=True, max_features=auto, min_samples_leaf=1, min_samples_split=8, n_estimators=100; total time=   0.6s\n",
      "[CV] END bootstrap=True, max_features=auto, min_samples_leaf=1, min_samples_split=2, n_estimators=200; total time=   1.5s\n",
      "[CV] END bootstrap=True, max_features=auto, min_samples_leaf=1, min_samples_split=2, n_estimators=200; total time=   1.5s\n",
      "[CV] END bootstrap=True, max_features=auto, min_samples_leaf=1, min_samples_split=2, n_estimators=200; total time=   1.5s\n",
      "[CV] END bootstrap=True, max_features=auto, min_samples_leaf=1, min_samples_split=2, n_estimators=200; total time=   1.5s\n",
      "[CV] END bootstrap=True, max_features=auto, min_samples_leaf=1, min_samples_split=2, n_estimators=200; total time=   1.5s\n",
      "[CV] END bootstrap=True, max_features=auto, min_samples_leaf=1, min_samples_split=2, n_estimators=200; total time=   1.5s\n",
      "[CV] END bootstrap=True, max_features=auto, min_samples_leaf=1, min_samples_split=2, n_estimators=200; total time=   1.5s\n",
      "[CV] END bootstrap=True, max_features=auto, min_samples_leaf=1, min_samples_split=2, n_estimators=200; total time=   1.5s\n",
      "[CV] END bootstrap=True, max_features=auto, min_samples_leaf=1, min_samples_split=2, n_estimators=200; total time=   1.5s\n",
      "[CV] END bootstrap=True, max_features=auto, min_samples_leaf=1, min_samples_split=2, n_estimators=200; total time=   1.5s\n",
      "[CV] END bootstrap=True, max_features=1.0, min_samples_leaf=7, min_samples_split=6, n_estimators=100; total time=   0.8s\n",
      "[CV] END bootstrap=True, max_features=1.0, min_samples_leaf=7, min_samples_split=6, n_estimators=100; total time=   0.9s\n",
      "[CV] END bootstrap=True, max_features=1.0, min_samples_leaf=7, min_samples_split=6, n_estimators=100; total time=   0.9s\n",
      "[CV] END bootstrap=True, max_features=1.0, min_samples_leaf=7, min_samples_split=6, n_estimators=100; total time=   0.9s\n",
      "[CV] END bootstrap=True, max_features=1.0, min_samples_leaf=7, min_samples_split=6, n_estimators=100; total time=   0.9s\n",
      "[CV] END bootstrap=True, max_features=1.0, min_samples_leaf=7, min_samples_split=6, n_estimators=100; total time=   0.8s\n",
      "[CV] END bootstrap=True, max_features=1.0, min_samples_leaf=7, min_samples_split=6, n_estimators=100; total time=   0.9s\n",
      "[CV] END bootstrap=True, max_features=1.0, min_samples_leaf=7, min_samples_split=6, n_estimators=100; total time=   0.9s\n",
      "[CV] END bootstrap=True, max_features=1.0, min_samples_leaf=7, min_samples_split=6, n_estimators=100; total time=   0.9s\n",
      "[CV] END bootstrap=True, max_features=1.0, min_samples_leaf=7, min_samples_split=6, n_estimators=100; total time=   0.9s\n"
     ]
    },
    {
     "data": {
      "text/plain": [
       "RandomizedSearchCV(cv=10, estimator=RandomForestClassifier(random_state=42),\n",
       "                   param_distributions={'bootstrap': [True, False],\n",
       "                                        'max_features': [0.5, 1.0, 'auto'],\n",
       "                                        'min_samples_leaf': [1, 3, 5, 7],\n",
       "                                        'min_samples_split': [2, 4, 6, 8],\n",
       "                                        'n_estimators': [100, 200, 300, 400,\n",
       "                                                         500]},\n",
       "                   scoring='accuracy', verbose=2)"
      ]
     },
     "execution_count": 279,
     "metadata": {},
     "output_type": "execute_result"
    }
   ],
   "source": [
    "## Let's tune the parameters of RandomForestClassifier\n",
    "params = {\"n_estimators\":[100,200,300,400,500],\"max_features\":[0.5,1.0,\"auto\"],\"min_samples_split\":[2,4,6,8],\"min_samples_leaf\":[1,3,5,7],\"bootstrap\":[True,False]}\n",
    "rs_clf = RandomizedSearchCV(forest_clf,params,cv=10,n_iter=10,verbose=2,scoring=\"accuracy\")\n",
    "rs_clf.fit(X_transformed,y)"
   ]
  },
  {
   "cell_type": "code",
   "execution_count": 280,
   "id": "d1947ddd",
   "metadata": {},
   "outputs": [
    {
     "data": {
      "text/plain": [
       "0.8249438202247191"
      ]
     },
     "execution_count": 280,
     "metadata": {},
     "output_type": "execute_result"
    }
   ],
   "source": [
    "rs_clf.best_score_"
   ]
  },
  {
   "cell_type": "code",
   "execution_count": 282,
   "id": "ddd7eaf0",
   "metadata": {},
   "outputs": [
    {
     "name": "stdout",
     "output_type": "stream",
     "text": [
      "Fitting 5 folds for each of 480 candidates, totalling 2400 fits\n",
      "[CV] END bootstrap=True, max_features=0.5, min_samples_leaf=1, min_samples_split=2, n_estimators=100; total time=   0.8s\n",
      "[CV] END bootstrap=True, max_features=0.5, min_samples_leaf=1, min_samples_split=2, n_estimators=100; total time=   0.8s\n",
      "[CV] END bootstrap=True, max_features=0.5, min_samples_leaf=1, min_samples_split=2, n_estimators=100; total time=   0.8s\n",
      "[CV] END bootstrap=True, max_features=0.5, min_samples_leaf=1, min_samples_split=2, n_estimators=100; total time=   0.8s\n",
      "[CV] END bootstrap=True, max_features=0.5, min_samples_leaf=1, min_samples_split=2, n_estimators=100; total time=   0.8s\n",
      "[CV] END bootstrap=True, max_features=0.5, min_samples_leaf=1, min_samples_split=2, n_estimators=200; total time=   1.6s\n",
      "[CV] END bootstrap=True, max_features=0.5, min_samples_leaf=1, min_samples_split=2, n_estimators=200; total time=   1.6s\n",
      "[CV] END bootstrap=True, max_features=0.5, min_samples_leaf=1, min_samples_split=2, n_estimators=200; total time=   1.7s\n",
      "[CV] END bootstrap=True, max_features=0.5, min_samples_leaf=1, min_samples_split=2, n_estimators=200; total time=   1.5s\n",
      "[CV] END bootstrap=True, max_features=0.5, min_samples_leaf=1, min_samples_split=2, n_estimators=200; total time=   0.5s\n",
      "[CV] END bootstrap=True, max_features=0.5, min_samples_leaf=1, min_samples_split=2, n_estimators=300; total time=   0.6s\n",
      "[CV] END bootstrap=True, max_features=0.5, min_samples_leaf=1, min_samples_split=2, n_estimators=300; total time=   0.6s\n",
      "[CV] END bootstrap=True, max_features=0.5, min_samples_leaf=1, min_samples_split=2, n_estimators=300; total time=   0.5s\n",
      "[CV] END bootstrap=True, max_features=0.5, min_samples_leaf=1, min_samples_split=2, n_estimators=300; total time=   0.5s\n",
      "[CV] END bootstrap=True, max_features=0.5, min_samples_leaf=1, min_samples_split=2, n_estimators=300; total time=   0.4s\n",
      "[CV] END bootstrap=True, max_features=0.5, min_samples_leaf=1, min_samples_split=2, n_estimators=400; total time=11.3min\n",
      "[CV] END bootstrap=True, max_features=0.5, min_samples_leaf=1, min_samples_split=2, n_estimators=400; total time=   0.7s\n",
      "[CV] END bootstrap=True, max_features=0.5, min_samples_leaf=1, min_samples_split=2, n_estimators=400; total time=   1.1s\n",
      "[CV] END bootstrap=True, max_features=0.5, min_samples_leaf=1, min_samples_split=2, n_estimators=400; total time=   1.0s\n",
      "[CV] END bootstrap=True, max_features=0.5, min_samples_leaf=1, min_samples_split=2, n_estimators=400; total time=   0.7s\n",
      "[CV] END bootstrap=True, max_features=0.5, min_samples_leaf=1, min_samples_split=2, n_estimators=500; total time=   0.9s\n",
      "[CV] END bootstrap=True, max_features=0.5, min_samples_leaf=1, min_samples_split=2, n_estimators=500; total time=   0.8s\n",
      "[CV] END bootstrap=True, max_features=0.5, min_samples_leaf=1, min_samples_split=2, n_estimators=500; total time=   0.9s\n",
      "[CV] END bootstrap=True, max_features=0.5, min_samples_leaf=1, min_samples_split=2, n_estimators=500; total time=   0.9s\n",
      "[CV] END bootstrap=True, max_features=0.5, min_samples_leaf=1, min_samples_split=2, n_estimators=500; total time=   0.9s\n",
      "[CV] END bootstrap=True, max_features=0.5, min_samples_leaf=1, min_samples_split=4, n_estimators=100; total time=   0.1s\n",
      "[CV] END bootstrap=True, max_features=0.5, min_samples_leaf=1, min_samples_split=4, n_estimators=100; total time=   0.1s\n",
      "[CV] END bootstrap=True, max_features=0.5, min_samples_leaf=1, min_samples_split=4, n_estimators=100; total time=   0.1s\n",
      "[CV] END bootstrap=True, max_features=0.5, min_samples_leaf=1, min_samples_split=4, n_estimators=100; total time=   0.1s\n",
      "[CV] END bootstrap=True, max_features=0.5, min_samples_leaf=1, min_samples_split=4, n_estimators=100; total time=   0.1s\n",
      "[CV] END bootstrap=True, max_features=0.5, min_samples_leaf=1, min_samples_split=4, n_estimators=200; total time=   0.2s\n",
      "[CV] END bootstrap=True, max_features=0.5, min_samples_leaf=1, min_samples_split=4, n_estimators=200; total time=   0.3s\n",
      "[CV] END bootstrap=True, max_features=0.5, min_samples_leaf=1, min_samples_split=4, n_estimators=200; total time=   0.3s\n",
      "[CV] END bootstrap=True, max_features=0.5, min_samples_leaf=1, min_samples_split=4, n_estimators=200; total time=   0.3s\n",
      "[CV] END bootstrap=True, max_features=0.5, min_samples_leaf=1, min_samples_split=4, n_estimators=200; total time=   0.3s\n",
      "[CV] END bootstrap=True, max_features=0.5, min_samples_leaf=1, min_samples_split=4, n_estimators=300; total time=   0.4s\n",
      "[CV] END bootstrap=True, max_features=0.5, min_samples_leaf=1, min_samples_split=4, n_estimators=300; total time=   0.5s\n",
      "[CV] END bootstrap=True, max_features=0.5, min_samples_leaf=1, min_samples_split=4, n_estimators=300; total time=   0.5s\n",
      "[CV] END bootstrap=True, max_features=0.5, min_samples_leaf=1, min_samples_split=4, n_estimators=300; total time=   0.5s\n",
      "[CV] END bootstrap=True, max_features=0.5, min_samples_leaf=1, min_samples_split=4, n_estimators=300; total time=   0.4s\n",
      "[CV] END bootstrap=True, max_features=0.5, min_samples_leaf=1, min_samples_split=4, n_estimators=400; total time=   0.6s\n",
      "[CV] END bootstrap=True, max_features=0.5, min_samples_leaf=1, min_samples_split=4, n_estimators=400; total time=   0.6s\n",
      "[CV] END bootstrap=True, max_features=0.5, min_samples_leaf=1, min_samples_split=4, n_estimators=400; total time=   0.6s\n",
      "[CV] END bootstrap=True, max_features=0.5, min_samples_leaf=1, min_samples_split=4, n_estimators=400; total time=   0.6s\n",
      "[CV] END bootstrap=True, max_features=0.5, min_samples_leaf=1, min_samples_split=4, n_estimators=400; total time=   0.6s\n",
      "[CV] END bootstrap=True, max_features=0.5, min_samples_leaf=1, min_samples_split=4, n_estimators=500; total time=   0.7s\n",
      "[CV] END bootstrap=True, max_features=0.5, min_samples_leaf=1, min_samples_split=4, n_estimators=500; total time=   0.7s\n",
      "[CV] END bootstrap=True, max_features=0.5, min_samples_leaf=1, min_samples_split=4, n_estimators=500; total time=   0.8s\n",
      "[CV] END bootstrap=True, max_features=0.5, min_samples_leaf=1, min_samples_split=4, n_estimators=500; total time=   0.8s\n",
      "[CV] END bootstrap=True, max_features=0.5, min_samples_leaf=1, min_samples_split=4, n_estimators=500; total time=   0.8s\n",
      "[CV] END bootstrap=True, max_features=0.5, min_samples_leaf=1, min_samples_split=6, n_estimators=100; total time=   0.1s\n",
      "[CV] END bootstrap=True, max_features=0.5, min_samples_leaf=1, min_samples_split=6, n_estimators=100; total time=   0.1s\n",
      "[CV] END bootstrap=True, max_features=0.5, min_samples_leaf=1, min_samples_split=6, n_estimators=100; total time=   0.1s\n",
      "[CV] END bootstrap=True, max_features=0.5, min_samples_leaf=1, min_samples_split=6, n_estimators=100; total time=   0.1s\n",
      "[CV] END bootstrap=True, max_features=0.5, min_samples_leaf=1, min_samples_split=6, n_estimators=100; total time=   0.1s\n",
      "[CV] END bootstrap=True, max_features=0.5, min_samples_leaf=1, min_samples_split=6, n_estimators=200; total time=   0.2s\n",
      "[CV] END bootstrap=True, max_features=0.5, min_samples_leaf=1, min_samples_split=6, n_estimators=200; total time=   0.2s\n",
      "[CV] END bootstrap=True, max_features=0.5, min_samples_leaf=1, min_samples_split=6, n_estimators=200; total time=   0.2s\n",
      "[CV] END bootstrap=True, max_features=0.5, min_samples_leaf=1, min_samples_split=6, n_estimators=200; total time=   0.2s\n",
      "[CV] END bootstrap=True, max_features=0.5, min_samples_leaf=1, min_samples_split=6, n_estimators=200; total time=   0.2s\n",
      "[CV] END bootstrap=True, max_features=0.5, min_samples_leaf=1, min_samples_split=6, n_estimators=300; total time=   0.4s\n",
      "[CV] END bootstrap=True, max_features=0.5, min_samples_leaf=1, min_samples_split=6, n_estimators=300; total time=   0.4s\n",
      "[CV] END bootstrap=True, max_features=0.5, min_samples_leaf=1, min_samples_split=6, n_estimators=300; total time=   0.4s\n",
      "[CV] END bootstrap=True, max_features=0.5, min_samples_leaf=1, min_samples_split=6, n_estimators=300; total time=   0.4s\n",
      "[CV] END bootstrap=True, max_features=0.5, min_samples_leaf=1, min_samples_split=6, n_estimators=300; total time=   0.4s\n",
      "[CV] END bootstrap=True, max_features=0.5, min_samples_leaf=1, min_samples_split=6, n_estimators=400; total time=   0.6s\n",
      "[CV] END bootstrap=True, max_features=0.5, min_samples_leaf=1, min_samples_split=6, n_estimators=400; total time=   0.5s\n",
      "[CV] END bootstrap=True, max_features=0.5, min_samples_leaf=1, min_samples_split=6, n_estimators=400; total time=   0.6s\n"
     ]
    },
    {
     "name": "stdout",
     "output_type": "stream",
     "text": [
      "[CV] END bootstrap=True, max_features=0.5, min_samples_leaf=1, min_samples_split=6, n_estimators=400; total time=   0.6s\n",
      "[CV] END bootstrap=True, max_features=0.5, min_samples_leaf=1, min_samples_split=6, n_estimators=400; total time=   0.6s\n",
      "[CV] END bootstrap=True, max_features=0.5, min_samples_leaf=1, min_samples_split=6, n_estimators=500; total time=   0.7s\n",
      "[CV] END bootstrap=True, max_features=0.5, min_samples_leaf=1, min_samples_split=6, n_estimators=500; total time=   0.7s\n",
      "[CV] END bootstrap=True, max_features=0.5, min_samples_leaf=1, min_samples_split=6, n_estimators=500; total time=   0.7s\n",
      "[CV] END bootstrap=True, max_features=0.5, min_samples_leaf=1, min_samples_split=6, n_estimators=500; total time=   0.7s\n",
      "[CV] END bootstrap=True, max_features=0.5, min_samples_leaf=1, min_samples_split=6, n_estimators=500; total time=   0.7s\n",
      "[CV] END bootstrap=True, max_features=0.5, min_samples_leaf=1, min_samples_split=8, n_estimators=100; total time=   0.1s\n",
      "[CV] END bootstrap=True, max_features=0.5, min_samples_leaf=1, min_samples_split=8, n_estimators=100; total time=   0.1s\n",
      "[CV] END bootstrap=True, max_features=0.5, min_samples_leaf=1, min_samples_split=8, n_estimators=100; total time=   0.1s\n",
      "[CV] END bootstrap=True, max_features=0.5, min_samples_leaf=1, min_samples_split=8, n_estimators=100; total time=   0.1s\n",
      "[CV] END bootstrap=True, max_features=0.5, min_samples_leaf=1, min_samples_split=8, n_estimators=100; total time=   0.1s\n",
      "[CV] END bootstrap=True, max_features=0.5, min_samples_leaf=1, min_samples_split=8, n_estimators=200; total time=   0.2s\n",
      "[CV] END bootstrap=True, max_features=0.5, min_samples_leaf=1, min_samples_split=8, n_estimators=200; total time=   0.2s\n",
      "[CV] END bootstrap=True, max_features=0.5, min_samples_leaf=1, min_samples_split=8, n_estimators=200; total time=   0.2s\n",
      "[CV] END bootstrap=True, max_features=0.5, min_samples_leaf=1, min_samples_split=8, n_estimators=200; total time=   0.2s\n",
      "[CV] END bootstrap=True, max_features=0.5, min_samples_leaf=1, min_samples_split=8, n_estimators=200; total time=   0.2s\n",
      "[CV] END bootstrap=True, max_features=0.5, min_samples_leaf=1, min_samples_split=8, n_estimators=300; total time=   0.4s\n",
      "[CV] END bootstrap=True, max_features=0.5, min_samples_leaf=1, min_samples_split=8, n_estimators=300; total time=   0.4s\n",
      "[CV] END bootstrap=True, max_features=0.5, min_samples_leaf=1, min_samples_split=8, n_estimators=300; total time=   0.4s\n",
      "[CV] END bootstrap=True, max_features=0.5, min_samples_leaf=1, min_samples_split=8, n_estimators=300; total time=   0.4s\n",
      "[CV] END bootstrap=True, max_features=0.5, min_samples_leaf=1, min_samples_split=8, n_estimators=300; total time=   0.4s\n",
      "[CV] END bootstrap=True, max_features=0.5, min_samples_leaf=1, min_samples_split=8, n_estimators=400; total time=   0.5s\n",
      "[CV] END bootstrap=True, max_features=0.5, min_samples_leaf=1, min_samples_split=8, n_estimators=400; total time=   0.5s\n",
      "[CV] END bootstrap=True, max_features=0.5, min_samples_leaf=1, min_samples_split=8, n_estimators=400; total time=   0.5s\n",
      "[CV] END bootstrap=True, max_features=0.5, min_samples_leaf=1, min_samples_split=8, n_estimators=400; total time=   0.5s\n",
      "[CV] END bootstrap=True, max_features=0.5, min_samples_leaf=1, min_samples_split=8, n_estimators=400; total time=   0.5s\n",
      "[CV] END bootstrap=True, max_features=0.5, min_samples_leaf=1, min_samples_split=8, n_estimators=500; total time=   0.7s\n",
      "[CV] END bootstrap=True, max_features=0.5, min_samples_leaf=1, min_samples_split=8, n_estimators=500; total time=   0.7s\n",
      "[CV] END bootstrap=True, max_features=0.5, min_samples_leaf=1, min_samples_split=8, n_estimators=500; total time=   0.7s\n",
      "[CV] END bootstrap=True, max_features=0.5, min_samples_leaf=1, min_samples_split=8, n_estimators=500; total time=   0.7s\n",
      "[CV] END bootstrap=True, max_features=0.5, min_samples_leaf=1, min_samples_split=8, n_estimators=500; total time=   0.7s\n",
      "[CV] END bootstrap=True, max_features=0.5, min_samples_leaf=3, min_samples_split=2, n_estimators=100; total time=   0.1s\n",
      "[CV] END bootstrap=True, max_features=0.5, min_samples_leaf=3, min_samples_split=2, n_estimators=100; total time=   0.1s\n",
      "[CV] END bootstrap=True, max_features=0.5, min_samples_leaf=3, min_samples_split=2, n_estimators=100; total time=   0.1s\n",
      "[CV] END bootstrap=True, max_features=0.5, min_samples_leaf=3, min_samples_split=2, n_estimators=100; total time=   0.1s\n",
      "[CV] END bootstrap=True, max_features=0.5, min_samples_leaf=3, min_samples_split=2, n_estimators=100; total time=   0.1s\n",
      "[CV] END bootstrap=True, max_features=0.5, min_samples_leaf=3, min_samples_split=2, n_estimators=200; total time=   0.2s\n",
      "[CV] END bootstrap=True, max_features=0.5, min_samples_leaf=3, min_samples_split=2, n_estimators=200; total time=   0.2s\n",
      "[CV] END bootstrap=True, max_features=0.5, min_samples_leaf=3, min_samples_split=2, n_estimators=200; total time=   0.2s\n",
      "[CV] END bootstrap=True, max_features=0.5, min_samples_leaf=3, min_samples_split=2, n_estimators=200; total time=   0.2s\n",
      "[CV] END bootstrap=True, max_features=0.5, min_samples_leaf=3, min_samples_split=2, n_estimators=200; total time=   0.2s\n",
      "[CV] END bootstrap=True, max_features=0.5, min_samples_leaf=3, min_samples_split=2, n_estimators=300; total time=   0.4s\n",
      "[CV] END bootstrap=True, max_features=0.5, min_samples_leaf=3, min_samples_split=2, n_estimators=300; total time=   0.4s\n",
      "[CV] END bootstrap=True, max_features=0.5, min_samples_leaf=3, min_samples_split=2, n_estimators=300; total time=   0.4s\n",
      "[CV] END bootstrap=True, max_features=0.5, min_samples_leaf=3, min_samples_split=2, n_estimators=300; total time=   0.4s\n",
      "[CV] END bootstrap=True, max_features=0.5, min_samples_leaf=3, min_samples_split=2, n_estimators=300; total time=   0.4s\n",
      "[CV] END bootstrap=True, max_features=0.5, min_samples_leaf=3, min_samples_split=2, n_estimators=400; total time=   0.5s\n",
      "[CV] END bootstrap=True, max_features=0.5, min_samples_leaf=3, min_samples_split=2, n_estimators=400; total time=   0.5s\n",
      "[CV] END bootstrap=True, max_features=0.5, min_samples_leaf=3, min_samples_split=2, n_estimators=400; total time=   0.5s\n",
      "[CV] END bootstrap=True, max_features=0.5, min_samples_leaf=3, min_samples_split=2, n_estimators=400; total time=   0.5s\n",
      "[CV] END bootstrap=True, max_features=0.5, min_samples_leaf=3, min_samples_split=2, n_estimators=400; total time=   0.5s\n",
      "[CV] END bootstrap=True, max_features=0.5, min_samples_leaf=3, min_samples_split=2, n_estimators=500; total time=   0.7s\n",
      "[CV] END bootstrap=True, max_features=0.5, min_samples_leaf=3, min_samples_split=2, n_estimators=500; total time=   0.7s\n",
      "[CV] END bootstrap=True, max_features=0.5, min_samples_leaf=3, min_samples_split=2, n_estimators=500; total time=   0.7s\n",
      "[CV] END bootstrap=True, max_features=0.5, min_samples_leaf=3, min_samples_split=2, n_estimators=500; total time=   0.7s\n",
      "[CV] END bootstrap=True, max_features=0.5, min_samples_leaf=3, min_samples_split=2, n_estimators=500; total time=   0.7s\n",
      "[CV] END bootstrap=True, max_features=0.5, min_samples_leaf=3, min_samples_split=4, n_estimators=100; total time=   0.1s\n",
      "[CV] END bootstrap=True, max_features=0.5, min_samples_leaf=3, min_samples_split=4, n_estimators=100; total time=   0.1s\n",
      "[CV] END bootstrap=True, max_features=0.5, min_samples_leaf=3, min_samples_split=4, n_estimators=100; total time=   0.1s\n",
      "[CV] END bootstrap=True, max_features=0.5, min_samples_leaf=3, min_samples_split=4, n_estimators=100; total time=   0.1s\n",
      "[CV] END bootstrap=True, max_features=0.5, min_samples_leaf=3, min_samples_split=4, n_estimators=100; total time=   0.1s\n",
      "[CV] END bootstrap=True, max_features=0.5, min_samples_leaf=3, min_samples_split=4, n_estimators=200; total time=   0.2s\n",
      "[CV] END bootstrap=True, max_features=0.5, min_samples_leaf=3, min_samples_split=4, n_estimators=200; total time=   0.2s\n",
      "[CV] END bootstrap=True, max_features=0.5, min_samples_leaf=3, min_samples_split=4, n_estimators=200; total time=   0.2s\n",
      "[CV] END bootstrap=True, max_features=0.5, min_samples_leaf=3, min_samples_split=4, n_estimators=200; total time=   0.2s\n",
      "[CV] END bootstrap=True, max_features=0.5, min_samples_leaf=3, min_samples_split=4, n_estimators=200; total time=   0.2s\n",
      "[CV] END bootstrap=True, max_features=0.5, min_samples_leaf=3, min_samples_split=4, n_estimators=300; total time=   0.4s\n"
     ]
    },
    {
     "name": "stdout",
     "output_type": "stream",
     "text": [
      "[CV] END bootstrap=True, max_features=0.5, min_samples_leaf=3, min_samples_split=4, n_estimators=300; total time=   0.4s\n",
      "[CV] END bootstrap=True, max_features=0.5, min_samples_leaf=3, min_samples_split=4, n_estimators=300; total time=   0.4s\n",
      "[CV] END bootstrap=True, max_features=0.5, min_samples_leaf=3, min_samples_split=4, n_estimators=300; total time=   0.4s\n",
      "[CV] END bootstrap=True, max_features=0.5, min_samples_leaf=3, min_samples_split=4, n_estimators=300; total time=   0.4s\n",
      "[CV] END bootstrap=True, max_features=0.5, min_samples_leaf=3, min_samples_split=4, n_estimators=400; total time=   0.5s\n",
      "[CV] END bootstrap=True, max_features=0.5, min_samples_leaf=3, min_samples_split=4, n_estimators=400; total time=   0.5s\n",
      "[CV] END bootstrap=True, max_features=0.5, min_samples_leaf=3, min_samples_split=4, n_estimators=400; total time=   0.5s\n",
      "[CV] END bootstrap=True, max_features=0.5, min_samples_leaf=3, min_samples_split=4, n_estimators=400; total time=   0.5s\n",
      "[CV] END bootstrap=True, max_features=0.5, min_samples_leaf=3, min_samples_split=4, n_estimators=400; total time=   0.5s\n",
      "[CV] END bootstrap=True, max_features=0.5, min_samples_leaf=3, min_samples_split=4, n_estimators=500; total time=   0.7s\n",
      "[CV] END bootstrap=True, max_features=0.5, min_samples_leaf=3, min_samples_split=4, n_estimators=500; total time=   0.7s\n",
      "[CV] END bootstrap=True, max_features=0.5, min_samples_leaf=3, min_samples_split=4, n_estimators=500; total time=   0.7s\n",
      "[CV] END bootstrap=True, max_features=0.5, min_samples_leaf=3, min_samples_split=4, n_estimators=500; total time=   0.7s\n",
      "[CV] END bootstrap=True, max_features=0.5, min_samples_leaf=3, min_samples_split=4, n_estimators=500; total time=   0.7s\n",
      "[CV] END bootstrap=True, max_features=0.5, min_samples_leaf=3, min_samples_split=6, n_estimators=100; total time=   0.1s\n",
      "[CV] END bootstrap=True, max_features=0.5, min_samples_leaf=3, min_samples_split=6, n_estimators=100; total time=   0.1s\n",
      "[CV] END bootstrap=True, max_features=0.5, min_samples_leaf=3, min_samples_split=6, n_estimators=100; total time=   0.1s\n",
      "[CV] END bootstrap=True, max_features=0.5, min_samples_leaf=3, min_samples_split=6, n_estimators=100; total time=   0.1s\n",
      "[CV] END bootstrap=True, max_features=0.5, min_samples_leaf=3, min_samples_split=6, n_estimators=100; total time=   0.1s\n",
      "[CV] END bootstrap=True, max_features=0.5, min_samples_leaf=3, min_samples_split=6, n_estimators=200; total time=   0.2s\n",
      "[CV] END bootstrap=True, max_features=0.5, min_samples_leaf=3, min_samples_split=6, n_estimators=200; total time=   0.2s\n",
      "[CV] END bootstrap=True, max_features=0.5, min_samples_leaf=3, min_samples_split=6, n_estimators=200; total time=   0.2s\n",
      "[CV] END bootstrap=True, max_features=0.5, min_samples_leaf=3, min_samples_split=6, n_estimators=200; total time=   0.2s\n",
      "[CV] END bootstrap=True, max_features=0.5, min_samples_leaf=3, min_samples_split=6, n_estimators=200; total time=   0.2s\n",
      "[CV] END bootstrap=True, max_features=0.5, min_samples_leaf=3, min_samples_split=6, n_estimators=300; total time=   0.4s\n",
      "[CV] END bootstrap=True, max_features=0.5, min_samples_leaf=3, min_samples_split=6, n_estimators=300; total time=   0.4s\n",
      "[CV] END bootstrap=True, max_features=0.5, min_samples_leaf=3, min_samples_split=6, n_estimators=300; total time=   0.4s\n",
      "[CV] END bootstrap=True, max_features=0.5, min_samples_leaf=3, min_samples_split=6, n_estimators=300; total time=   0.4s\n",
      "[CV] END bootstrap=True, max_features=0.5, min_samples_leaf=3, min_samples_split=6, n_estimators=300; total time=   0.4s\n",
      "[CV] END bootstrap=True, max_features=0.5, min_samples_leaf=3, min_samples_split=6, n_estimators=400; total time=   0.5s\n",
      "[CV] END bootstrap=True, max_features=0.5, min_samples_leaf=3, min_samples_split=6, n_estimators=400; total time=   0.5s\n",
      "[CV] END bootstrap=True, max_features=0.5, min_samples_leaf=3, min_samples_split=6, n_estimators=400; total time=   0.5s\n",
      "[CV] END bootstrap=True, max_features=0.5, min_samples_leaf=3, min_samples_split=6, n_estimators=400; total time=   0.5s\n",
      "[CV] END bootstrap=True, max_features=0.5, min_samples_leaf=3, min_samples_split=6, n_estimators=400; total time=   0.5s\n",
      "[CV] END bootstrap=True, max_features=0.5, min_samples_leaf=3, min_samples_split=6, n_estimators=500; total time=   0.7s\n",
      "[CV] END bootstrap=True, max_features=0.5, min_samples_leaf=3, min_samples_split=6, n_estimators=500; total time=   0.7s\n",
      "[CV] END bootstrap=True, max_features=0.5, min_samples_leaf=3, min_samples_split=6, n_estimators=500; total time=   0.7s\n",
      "[CV] END bootstrap=True, max_features=0.5, min_samples_leaf=3, min_samples_split=6, n_estimators=500; total time=   0.7s\n",
      "[CV] END bootstrap=True, max_features=0.5, min_samples_leaf=3, min_samples_split=6, n_estimators=500; total time=   0.7s\n",
      "[CV] END bootstrap=True, max_features=0.5, min_samples_leaf=3, min_samples_split=8, n_estimators=100; total time=   0.0s\n",
      "[CV] END bootstrap=True, max_features=0.5, min_samples_leaf=3, min_samples_split=8, n_estimators=100; total time=   0.1s\n",
      "[CV] END bootstrap=True, max_features=0.5, min_samples_leaf=3, min_samples_split=8, n_estimators=100; total time=   0.0s\n",
      "[CV] END bootstrap=True, max_features=0.5, min_samples_leaf=3, min_samples_split=8, n_estimators=100; total time=   0.1s\n",
      "[CV] END bootstrap=True, max_features=0.5, min_samples_leaf=3, min_samples_split=8, n_estimators=100; total time=   0.1s\n",
      "[CV] END bootstrap=True, max_features=0.5, min_samples_leaf=3, min_samples_split=8, n_estimators=200; total time=   0.2s\n",
      "[CV] END bootstrap=True, max_features=0.5, min_samples_leaf=3, min_samples_split=8, n_estimators=200; total time=   0.2s\n",
      "[CV] END bootstrap=True, max_features=0.5, min_samples_leaf=3, min_samples_split=8, n_estimators=200; total time=   0.2s\n",
      "[CV] END bootstrap=True, max_features=0.5, min_samples_leaf=3, min_samples_split=8, n_estimators=200; total time=   0.2s\n",
      "[CV] END bootstrap=True, max_features=0.5, min_samples_leaf=3, min_samples_split=8, n_estimators=200; total time=   0.2s\n",
      "[CV] END bootstrap=True, max_features=0.5, min_samples_leaf=3, min_samples_split=8, n_estimators=300; total time=   0.3s\n",
      "[CV] END bootstrap=True, max_features=0.5, min_samples_leaf=3, min_samples_split=8, n_estimators=300; total time=   0.3s\n",
      "[CV] END bootstrap=True, max_features=0.5, min_samples_leaf=3, min_samples_split=8, n_estimators=300; total time=   0.3s\n",
      "[CV] END bootstrap=True, max_features=0.5, min_samples_leaf=3, min_samples_split=8, n_estimators=300; total time=   0.4s\n",
      "[CV] END bootstrap=True, max_features=0.5, min_samples_leaf=3, min_samples_split=8, n_estimators=300; total time=   0.4s\n",
      "[CV] END bootstrap=True, max_features=0.5, min_samples_leaf=3, min_samples_split=8, n_estimators=400; total time=   0.5s\n",
      "[CV] END bootstrap=True, max_features=0.5, min_samples_leaf=3, min_samples_split=8, n_estimators=400; total time=   0.5s\n",
      "[CV] END bootstrap=True, max_features=0.5, min_samples_leaf=3, min_samples_split=8, n_estimators=400; total time=   0.5s\n",
      "[CV] END bootstrap=True, max_features=0.5, min_samples_leaf=3, min_samples_split=8, n_estimators=400; total time=   0.5s\n",
      "[CV] END bootstrap=True, max_features=0.5, min_samples_leaf=3, min_samples_split=8, n_estimators=400; total time=   0.5s\n",
      "[CV] END bootstrap=True, max_features=0.5, min_samples_leaf=3, min_samples_split=8, n_estimators=500; total time=   0.6s\n",
      "[CV] END bootstrap=True, max_features=0.5, min_samples_leaf=3, min_samples_split=8, n_estimators=500; total time=   0.6s\n",
      "[CV] END bootstrap=True, max_features=0.5, min_samples_leaf=3, min_samples_split=8, n_estimators=500; total time=   0.6s\n",
      "[CV] END bootstrap=True, max_features=0.5, min_samples_leaf=3, min_samples_split=8, n_estimators=500; total time=   0.9s\n",
      "[CV] END bootstrap=True, max_features=0.5, min_samples_leaf=3, min_samples_split=8, n_estimators=500; total time=   3.6s\n",
      "[CV] END bootstrap=True, max_features=0.5, min_samples_leaf=5, min_samples_split=2, n_estimators=100; total time=   0.6s\n",
      "[CV] END bootstrap=True, max_features=0.5, min_samples_leaf=5, min_samples_split=2, n_estimators=100; total time=   0.6s\n",
      "[CV] END bootstrap=True, max_features=0.5, min_samples_leaf=5, min_samples_split=2, n_estimators=100; total time=   0.6s\n",
      "[CV] END bootstrap=True, max_features=0.5, min_samples_leaf=5, min_samples_split=2, n_estimators=100; total time=   0.6s\n"
     ]
    },
    {
     "name": "stdout",
     "output_type": "stream",
     "text": [
      "[CV] END bootstrap=True, max_features=0.5, min_samples_leaf=5, min_samples_split=2, n_estimators=100; total time=   0.6s\n",
      "[CV] END bootstrap=True, max_features=0.5, min_samples_leaf=5, min_samples_split=2, n_estimators=200; total time=   1.3s\n",
      "[CV] END bootstrap=True, max_features=0.5, min_samples_leaf=5, min_samples_split=2, n_estimators=200; total time=   1.3s\n",
      "[CV] END bootstrap=True, max_features=0.5, min_samples_leaf=5, min_samples_split=2, n_estimators=200; total time=   1.3s\n",
      "[CV] END bootstrap=True, max_features=0.5, min_samples_leaf=5, min_samples_split=2, n_estimators=200; total time=   1.3s\n",
      "[CV] END bootstrap=True, max_features=0.5, min_samples_leaf=5, min_samples_split=2, n_estimators=200; total time=   1.3s\n",
      "[CV] END bootstrap=True, max_features=0.5, min_samples_leaf=5, min_samples_split=2, n_estimators=300; total time=   1.9s\n",
      "[CV] END bootstrap=True, max_features=0.5, min_samples_leaf=5, min_samples_split=2, n_estimators=300; total time=   1.9s\n",
      "[CV] END bootstrap=True, max_features=0.5, min_samples_leaf=5, min_samples_split=2, n_estimators=300; total time=   2.0s\n",
      "[CV] END bootstrap=True, max_features=0.5, min_samples_leaf=5, min_samples_split=2, n_estimators=300; total time=   2.0s\n",
      "[CV] END bootstrap=True, max_features=0.5, min_samples_leaf=5, min_samples_split=2, n_estimators=300; total time=   2.0s\n",
      "[CV] END bootstrap=True, max_features=0.5, min_samples_leaf=5, min_samples_split=2, n_estimators=400; total time=   2.7s\n",
      "[CV] END bootstrap=True, max_features=0.5, min_samples_leaf=5, min_samples_split=2, n_estimators=400; total time=   2.6s\n",
      "[CV] END bootstrap=True, max_features=0.5, min_samples_leaf=5, min_samples_split=2, n_estimators=400; total time=   2.6s\n",
      "[CV] END bootstrap=True, max_features=0.5, min_samples_leaf=5, min_samples_split=2, n_estimators=400; total time=   2.7s\n",
      "[CV] END bootstrap=True, max_features=0.5, min_samples_leaf=5, min_samples_split=2, n_estimators=400; total time=   2.6s\n",
      "[CV] END bootstrap=True, max_features=0.5, min_samples_leaf=5, min_samples_split=2, n_estimators=500; total time=   3.4s\n",
      "[CV] END bootstrap=True, max_features=0.5, min_samples_leaf=5, min_samples_split=2, n_estimators=500; total time=   3.3s\n",
      "[CV] END bootstrap=True, max_features=0.5, min_samples_leaf=5, min_samples_split=2, n_estimators=500; total time=   3.4s\n",
      "[CV] END bootstrap=True, max_features=0.5, min_samples_leaf=5, min_samples_split=2, n_estimators=500; total time=   3.6s\n",
      "[CV] END bootstrap=True, max_features=0.5, min_samples_leaf=5, min_samples_split=2, n_estimators=500; total time=   3.5s\n",
      "[CV] END bootstrap=True, max_features=0.5, min_samples_leaf=5, min_samples_split=4, n_estimators=100; total time=   0.6s\n",
      "[CV] END bootstrap=True, max_features=0.5, min_samples_leaf=5, min_samples_split=4, n_estimators=100; total time=   0.6s\n",
      "[CV] END bootstrap=True, max_features=0.5, min_samples_leaf=5, min_samples_split=4, n_estimators=100; total time=   0.6s\n",
      "[CV] END bootstrap=True, max_features=0.5, min_samples_leaf=5, min_samples_split=4, n_estimators=100; total time=   0.6s\n",
      "[CV] END bootstrap=True, max_features=0.5, min_samples_leaf=5, min_samples_split=4, n_estimators=100; total time=   0.6s\n",
      "[CV] END bootstrap=True, max_features=0.5, min_samples_leaf=5, min_samples_split=4, n_estimators=200; total time=   1.3s\n",
      "[CV] END bootstrap=True, max_features=0.5, min_samples_leaf=5, min_samples_split=4, n_estimators=200; total time=   1.3s\n",
      "[CV] END bootstrap=True, max_features=0.5, min_samples_leaf=5, min_samples_split=4, n_estimators=200; total time=   1.3s\n",
      "[CV] END bootstrap=True, max_features=0.5, min_samples_leaf=5, min_samples_split=4, n_estimators=200; total time=   1.3s\n",
      "[CV] END bootstrap=True, max_features=0.5, min_samples_leaf=5, min_samples_split=4, n_estimators=200; total time=   1.2s\n",
      "[CV] END bootstrap=True, max_features=0.5, min_samples_leaf=5, min_samples_split=4, n_estimators=300; total time=   1.9s\n",
      "[CV] END bootstrap=True, max_features=0.5, min_samples_leaf=5, min_samples_split=4, n_estimators=300; total time=   1.9s\n",
      "[CV] END bootstrap=True, max_features=0.5, min_samples_leaf=5, min_samples_split=4, n_estimators=300; total time=   2.0s\n",
      "[CV] END bootstrap=True, max_features=0.5, min_samples_leaf=5, min_samples_split=4, n_estimators=300; total time=   2.0s\n",
      "[CV] END bootstrap=True, max_features=0.5, min_samples_leaf=5, min_samples_split=4, n_estimators=300; total time=   2.0s\n",
      "[CV] END bootstrap=True, max_features=0.5, min_samples_leaf=5, min_samples_split=4, n_estimators=400; total time=   2.6s\n",
      "[CV] END bootstrap=True, max_features=0.5, min_samples_leaf=5, min_samples_split=4, n_estimators=400; total time=   2.6s\n",
      "[CV] END bootstrap=True, max_features=0.5, min_samples_leaf=5, min_samples_split=4, n_estimators=400; total time=   2.7s\n",
      "[CV] END bootstrap=True, max_features=0.5, min_samples_leaf=5, min_samples_split=4, n_estimators=400; total time=   2.7s\n",
      "[CV] END bootstrap=True, max_features=0.5, min_samples_leaf=5, min_samples_split=4, n_estimators=400; total time=   2.8s\n",
      "[CV] END bootstrap=True, max_features=0.5, min_samples_leaf=5, min_samples_split=4, n_estimators=500; total time=   3.6s\n",
      "[CV] END bootstrap=True, max_features=0.5, min_samples_leaf=5, min_samples_split=4, n_estimators=500; total time=   4.0s\n",
      "[CV] END bootstrap=True, max_features=0.5, min_samples_leaf=5, min_samples_split=4, n_estimators=500; total time=   3.4s\n",
      "[CV] END bootstrap=True, max_features=0.5, min_samples_leaf=5, min_samples_split=4, n_estimators=500; total time=   3.5s\n",
      "[CV] END bootstrap=True, max_features=0.5, min_samples_leaf=5, min_samples_split=4, n_estimators=500; total time=   3.4s\n",
      "[CV] END bootstrap=True, max_features=0.5, min_samples_leaf=5, min_samples_split=6, n_estimators=100; total time=   0.6s\n",
      "[CV] END bootstrap=True, max_features=0.5, min_samples_leaf=5, min_samples_split=6, n_estimators=100; total time=   0.6s\n",
      "[CV] END bootstrap=True, max_features=0.5, min_samples_leaf=5, min_samples_split=6, n_estimators=100; total time=   0.6s\n",
      "[CV] END bootstrap=True, max_features=0.5, min_samples_leaf=5, min_samples_split=6, n_estimators=100; total time=   0.6s\n",
      "[CV] END bootstrap=True, max_features=0.5, min_samples_leaf=5, min_samples_split=6, n_estimators=100; total time=   0.6s\n",
      "[CV] END bootstrap=True, max_features=0.5, min_samples_leaf=5, min_samples_split=6, n_estimators=200; total time=   1.3s\n",
      "[CV] END bootstrap=True, max_features=0.5, min_samples_leaf=5, min_samples_split=6, n_estimators=200; total time=   1.3s\n",
      "[CV] END bootstrap=True, max_features=0.5, min_samples_leaf=5, min_samples_split=6, n_estimators=200; total time=   1.3s\n",
      "[CV] END bootstrap=True, max_features=0.5, min_samples_leaf=5, min_samples_split=6, n_estimators=200; total time=   1.3s\n",
      "[CV] END bootstrap=True, max_features=0.5, min_samples_leaf=5, min_samples_split=6, n_estimators=200; total time=   1.3s\n",
      "[CV] END bootstrap=True, max_features=0.5, min_samples_leaf=5, min_samples_split=6, n_estimators=300; total time=   2.0s\n",
      "[CV] END bootstrap=True, max_features=0.5, min_samples_leaf=5, min_samples_split=6, n_estimators=300; total time=   2.3s\n",
      "[CV] END bootstrap=True, max_features=0.5, min_samples_leaf=5, min_samples_split=6, n_estimators=300; total time=   2.3s\n",
      "[CV] END bootstrap=True, max_features=0.5, min_samples_leaf=5, min_samples_split=6, n_estimators=300; total time=   2.6s\n",
      "[CV] END bootstrap=True, max_features=0.5, min_samples_leaf=5, min_samples_split=6, n_estimators=300; total time=   2.4s\n",
      "[CV] END bootstrap=True, max_features=0.5, min_samples_leaf=5, min_samples_split=6, n_estimators=400; total time=   3.3s\n",
      "[CV] END bootstrap=True, max_features=0.5, min_samples_leaf=5, min_samples_split=6, n_estimators=400; total time=   3.0s\n",
      "[CV] END bootstrap=True, max_features=0.5, min_samples_leaf=5, min_samples_split=6, n_estimators=400; total time=   2.6s\n",
      "[CV] END bootstrap=True, max_features=0.5, min_samples_leaf=5, min_samples_split=6, n_estimators=400; total time=   2.7s\n",
      "[CV] END bootstrap=True, max_features=0.5, min_samples_leaf=5, min_samples_split=6, n_estimators=400; total time=   2.8s\n",
      "[CV] END bootstrap=True, max_features=0.5, min_samples_leaf=5, min_samples_split=6, n_estimators=500; total time=   3.3s\n",
      "[CV] END bootstrap=True, max_features=0.5, min_samples_leaf=5, min_samples_split=6, n_estimators=500; total time=   3.3s\n"
     ]
    },
    {
     "name": "stdout",
     "output_type": "stream",
     "text": [
      "[CV] END bootstrap=True, max_features=0.5, min_samples_leaf=5, min_samples_split=6, n_estimators=500; total time=   3.3s\n",
      "[CV] END bootstrap=True, max_features=0.5, min_samples_leaf=5, min_samples_split=6, n_estimators=500; total time=   3.5s\n",
      "[CV] END bootstrap=True, max_features=0.5, min_samples_leaf=5, min_samples_split=6, n_estimators=500; total time=   3.3s\n",
      "[CV] END bootstrap=True, max_features=0.5, min_samples_leaf=5, min_samples_split=8, n_estimators=100; total time=   0.6s\n",
      "[CV] END bootstrap=True, max_features=0.5, min_samples_leaf=5, min_samples_split=8, n_estimators=100; total time=   0.6s\n",
      "[CV] END bootstrap=True, max_features=0.5, min_samples_leaf=5, min_samples_split=8, n_estimators=100; total time=   0.6s\n",
      "[CV] END bootstrap=True, max_features=0.5, min_samples_leaf=5, min_samples_split=8, n_estimators=100; total time=   0.6s\n",
      "[CV] END bootstrap=True, max_features=0.5, min_samples_leaf=5, min_samples_split=8, n_estimators=100; total time=   0.6s\n",
      "[CV] END bootstrap=True, max_features=0.5, min_samples_leaf=5, min_samples_split=8, n_estimators=200; total time=   1.2s\n",
      "[CV] END bootstrap=True, max_features=0.5, min_samples_leaf=5, min_samples_split=8, n_estimators=200; total time=   1.3s\n",
      "[CV] END bootstrap=True, max_features=0.5, min_samples_leaf=5, min_samples_split=8, n_estimators=200; total time=   1.3s\n",
      "[CV] END bootstrap=True, max_features=0.5, min_samples_leaf=5, min_samples_split=8, n_estimators=200; total time=   1.3s\n",
      "[CV] END bootstrap=True, max_features=0.5, min_samples_leaf=5, min_samples_split=8, n_estimators=200; total time=   1.3s\n",
      "[CV] END bootstrap=True, max_features=0.5, min_samples_leaf=5, min_samples_split=8, n_estimators=300; total time=   1.9s\n",
      "[CV] END bootstrap=True, max_features=0.5, min_samples_leaf=5, min_samples_split=8, n_estimators=300; total time=   1.9s\n",
      "[CV] END bootstrap=True, max_features=0.5, min_samples_leaf=5, min_samples_split=8, n_estimators=300; total time=   2.0s\n",
      "[CV] END bootstrap=True, max_features=0.5, min_samples_leaf=5, min_samples_split=8, n_estimators=300; total time=   2.0s\n",
      "[CV] END bootstrap=True, max_features=0.5, min_samples_leaf=5, min_samples_split=8, n_estimators=300; total time=   2.0s\n",
      "[CV] END bootstrap=True, max_features=0.5, min_samples_leaf=5, min_samples_split=8, n_estimators=400; total time=   2.6s\n",
      "[CV] END bootstrap=True, max_features=0.5, min_samples_leaf=5, min_samples_split=8, n_estimators=400; total time=   2.6s\n",
      "[CV] END bootstrap=True, max_features=0.5, min_samples_leaf=5, min_samples_split=8, n_estimators=400; total time=   2.6s\n",
      "[CV] END bootstrap=True, max_features=0.5, min_samples_leaf=5, min_samples_split=8, n_estimators=400; total time=   2.7s\n",
      "[CV] END bootstrap=True, max_features=0.5, min_samples_leaf=5, min_samples_split=8, n_estimators=400; total time=   2.6s\n",
      "[CV] END bootstrap=True, max_features=0.5, min_samples_leaf=5, min_samples_split=8, n_estimators=500; total time=   3.7s\n",
      "[CV] END bootstrap=True, max_features=0.5, min_samples_leaf=5, min_samples_split=8, n_estimators=500; total time=   3.3s\n",
      "[CV] END bootstrap=True, max_features=0.5, min_samples_leaf=5, min_samples_split=8, n_estimators=500; total time=   3.4s\n",
      "[CV] END bootstrap=True, max_features=0.5, min_samples_leaf=5, min_samples_split=8, n_estimators=500; total time=   3.4s\n",
      "[CV] END bootstrap=True, max_features=0.5, min_samples_leaf=5, min_samples_split=8, n_estimators=500; total time=   4.3s\n",
      "[CV] END bootstrap=True, max_features=0.5, min_samples_leaf=7, min_samples_split=2, n_estimators=100; total time=   0.7s\n",
      "[CV] END bootstrap=True, max_features=0.5, min_samples_leaf=7, min_samples_split=2, n_estimators=100; total time=   0.6s\n",
      "[CV] END bootstrap=True, max_features=0.5, min_samples_leaf=7, min_samples_split=2, n_estimators=100; total time=   0.7s\n",
      "[CV] END bootstrap=True, max_features=0.5, min_samples_leaf=7, min_samples_split=2, n_estimators=100; total time=   0.8s\n",
      "[CV] END bootstrap=True, max_features=0.5, min_samples_leaf=7, min_samples_split=2, n_estimators=100; total time=   0.7s\n",
      "[CV] END bootstrap=True, max_features=0.5, min_samples_leaf=7, min_samples_split=2, n_estimators=200; total time=   1.4s\n",
      "[CV] END bootstrap=True, max_features=0.5, min_samples_leaf=7, min_samples_split=2, n_estimators=200; total time=   1.4s\n",
      "[CV] END bootstrap=True, max_features=0.5, min_samples_leaf=7, min_samples_split=2, n_estimators=200; total time=   1.6s\n",
      "[CV] END bootstrap=True, max_features=0.5, min_samples_leaf=7, min_samples_split=2, n_estimators=200; total time=   1.6s\n",
      "[CV] END bootstrap=True, max_features=0.5, min_samples_leaf=7, min_samples_split=2, n_estimators=200; total time=   1.4s\n",
      "[CV] END bootstrap=True, max_features=0.5, min_samples_leaf=7, min_samples_split=2, n_estimators=300; total time=   2.3s\n",
      "[CV] END bootstrap=True, max_features=0.5, min_samples_leaf=7, min_samples_split=2, n_estimators=300; total time=   2.4s\n",
      "[CV] END bootstrap=True, max_features=0.5, min_samples_leaf=7, min_samples_split=2, n_estimators=300; total time=   2.4s\n",
      "[CV] END bootstrap=True, max_features=0.5, min_samples_leaf=7, min_samples_split=2, n_estimators=300; total time=   2.5s\n",
      "[CV] END bootstrap=True, max_features=0.5, min_samples_leaf=7, min_samples_split=2, n_estimators=300; total time=   2.2s\n",
      "[CV] END bootstrap=True, max_features=0.5, min_samples_leaf=7, min_samples_split=2, n_estimators=400; total time=   3.2s\n",
      "[CV] END bootstrap=True, max_features=0.5, min_samples_leaf=7, min_samples_split=2, n_estimators=400; total time=   3.1s\n",
      "[CV] END bootstrap=True, max_features=0.5, min_samples_leaf=7, min_samples_split=2, n_estimators=400; total time=   2.9s\n",
      "[CV] END bootstrap=True, max_features=0.5, min_samples_leaf=7, min_samples_split=2, n_estimators=400; total time=   2.5s\n",
      "[CV] END bootstrap=True, max_features=0.5, min_samples_leaf=7, min_samples_split=2, n_estimators=400; total time=   2.5s\n",
      "[CV] END bootstrap=True, max_features=0.5, min_samples_leaf=7, min_samples_split=2, n_estimators=500; total time=   3.1s\n",
      "[CV] END bootstrap=True, max_features=0.5, min_samples_leaf=7, min_samples_split=2, n_estimators=500; total time=   3.0s\n",
      "[CV] END bootstrap=True, max_features=0.5, min_samples_leaf=7, min_samples_split=2, n_estimators=500; total time=   3.1s\n",
      "[CV] END bootstrap=True, max_features=0.5, min_samples_leaf=7, min_samples_split=2, n_estimators=500; total time=   3.3s\n",
      "[CV] END bootstrap=True, max_features=0.5, min_samples_leaf=7, min_samples_split=2, n_estimators=500; total time=   3.1s\n",
      "[CV] END bootstrap=True, max_features=0.5, min_samples_leaf=7, min_samples_split=4, n_estimators=100; total time=   0.5s\n",
      "[CV] END bootstrap=True, max_features=0.5, min_samples_leaf=7, min_samples_split=4, n_estimators=100; total time=   0.5s\n",
      "[CV] END bootstrap=True, max_features=0.5, min_samples_leaf=7, min_samples_split=4, n_estimators=100; total time=   0.5s\n",
      "[CV] END bootstrap=True, max_features=0.5, min_samples_leaf=7, min_samples_split=4, n_estimators=100; total time=   0.6s\n",
      "[CV] END bootstrap=True, max_features=0.5, min_samples_leaf=7, min_samples_split=4, n_estimators=100; total time=   0.5s\n",
      "[CV] END bootstrap=True, max_features=0.5, min_samples_leaf=7, min_samples_split=4, n_estimators=200; total time=   1.2s\n",
      "[CV] END bootstrap=True, max_features=0.5, min_samples_leaf=7, min_samples_split=4, n_estimators=200; total time=   1.2s\n",
      "[CV] END bootstrap=True, max_features=0.5, min_samples_leaf=7, min_samples_split=4, n_estimators=200; total time=   1.2s\n",
      "[CV] END bootstrap=True, max_features=0.5, min_samples_leaf=7, min_samples_split=4, n_estimators=200; total time=   1.2s\n",
      "[CV] END bootstrap=True, max_features=0.5, min_samples_leaf=7, min_samples_split=4, n_estimators=200; total time=   1.2s\n",
      "[CV] END bootstrap=True, max_features=0.5, min_samples_leaf=7, min_samples_split=4, n_estimators=300; total time=   1.8s\n",
      "[CV] END bootstrap=True, max_features=0.5, min_samples_leaf=7, min_samples_split=4, n_estimators=300; total time=   1.8s\n",
      "[CV] END bootstrap=True, max_features=0.5, min_samples_leaf=7, min_samples_split=4, n_estimators=300; total time=   1.8s\n",
      "[CV] END bootstrap=True, max_features=0.5, min_samples_leaf=7, min_samples_split=4, n_estimators=300; total time=   1.8s\n",
      "[CV] END bootstrap=True, max_features=0.5, min_samples_leaf=7, min_samples_split=4, n_estimators=300; total time=   1.8s\n"
     ]
    },
    {
     "name": "stdout",
     "output_type": "stream",
     "text": [
      "[CV] END bootstrap=True, max_features=0.5, min_samples_leaf=7, min_samples_split=4, n_estimators=400; total time=   2.4s\n",
      "[CV] END bootstrap=True, max_features=0.5, min_samples_leaf=7, min_samples_split=4, n_estimators=400; total time=   2.4s\n",
      "[CV] END bootstrap=True, max_features=0.5, min_samples_leaf=7, min_samples_split=4, n_estimators=400; total time=   2.4s\n",
      "[CV] END bootstrap=True, max_features=0.5, min_samples_leaf=7, min_samples_split=4, n_estimators=400; total time=   2.5s\n",
      "[CV] END bootstrap=True, max_features=0.5, min_samples_leaf=7, min_samples_split=4, n_estimators=400; total time=   2.5s\n",
      "[CV] END bootstrap=True, max_features=0.5, min_samples_leaf=7, min_samples_split=4, n_estimators=500; total time=   3.0s\n",
      "[CV] END bootstrap=True, max_features=0.5, min_samples_leaf=7, min_samples_split=4, n_estimators=500; total time=   3.0s\n",
      "[CV] END bootstrap=True, max_features=0.5, min_samples_leaf=7, min_samples_split=4, n_estimators=500; total time=   3.1s\n",
      "[CV] END bootstrap=True, max_features=0.5, min_samples_leaf=7, min_samples_split=4, n_estimators=500; total time=   3.1s\n",
      "[CV] END bootstrap=True, max_features=0.5, min_samples_leaf=7, min_samples_split=4, n_estimators=500; total time=   3.0s\n",
      "[CV] END bootstrap=True, max_features=0.5, min_samples_leaf=7, min_samples_split=6, n_estimators=100; total time=   0.5s\n",
      "[CV] END bootstrap=True, max_features=0.5, min_samples_leaf=7, min_samples_split=6, n_estimators=100; total time=   0.5s\n",
      "[CV] END bootstrap=True, max_features=0.5, min_samples_leaf=7, min_samples_split=6, n_estimators=100; total time=   0.5s\n",
      "[CV] END bootstrap=True, max_features=0.5, min_samples_leaf=7, min_samples_split=6, n_estimators=100; total time=   0.6s\n",
      "[CV] END bootstrap=True, max_features=0.5, min_samples_leaf=7, min_samples_split=6, n_estimators=100; total time=   0.5s\n",
      "[CV] END bootstrap=True, max_features=0.5, min_samples_leaf=7, min_samples_split=6, n_estimators=200; total time=   1.2s\n",
      "[CV] END bootstrap=True, max_features=0.5, min_samples_leaf=7, min_samples_split=6, n_estimators=200; total time=   1.1s\n",
      "[CV] END bootstrap=True, max_features=0.5, min_samples_leaf=7, min_samples_split=6, n_estimators=200; total time=   1.2s\n",
      "[CV] END bootstrap=True, max_features=0.5, min_samples_leaf=7, min_samples_split=6, n_estimators=200; total time=   1.2s\n",
      "[CV] END bootstrap=True, max_features=0.5, min_samples_leaf=7, min_samples_split=6, n_estimators=200; total time=   1.2s\n",
      "[CV] END bootstrap=True, max_features=0.5, min_samples_leaf=7, min_samples_split=6, n_estimators=300; total time=   1.8s\n",
      "[CV] END bootstrap=True, max_features=0.5, min_samples_leaf=7, min_samples_split=6, n_estimators=300; total time=   1.8s\n",
      "[CV] END bootstrap=True, max_features=0.5, min_samples_leaf=7, min_samples_split=6, n_estimators=300; total time=   1.8s\n",
      "[CV] END bootstrap=True, max_features=0.5, min_samples_leaf=7, min_samples_split=6, n_estimators=300; total time=   1.8s\n",
      "[CV] END bootstrap=True, max_features=0.5, min_samples_leaf=7, min_samples_split=6, n_estimators=300; total time=   1.8s\n",
      "[CV] END bootstrap=True, max_features=0.5, min_samples_leaf=7, min_samples_split=6, n_estimators=400; total time=   2.4s\n",
      "[CV] END bootstrap=True, max_features=0.5, min_samples_leaf=7, min_samples_split=6, n_estimators=400; total time=   2.6s\n",
      "[CV] END bootstrap=True, max_features=0.5, min_samples_leaf=7, min_samples_split=6, n_estimators=400; total time=   2.6s\n",
      "[CV] END bootstrap=True, max_features=0.5, min_samples_leaf=7, min_samples_split=6, n_estimators=400; total time=   2.5s\n",
      "[CV] END bootstrap=True, max_features=0.5, min_samples_leaf=7, min_samples_split=6, n_estimators=400; total time=   2.5s\n",
      "[CV] END bootstrap=True, max_features=0.5, min_samples_leaf=7, min_samples_split=6, n_estimators=500; total time=   3.0s\n",
      "[CV] END bootstrap=True, max_features=0.5, min_samples_leaf=7, min_samples_split=6, n_estimators=500; total time=   3.0s\n",
      "[CV] END bootstrap=True, max_features=0.5, min_samples_leaf=7, min_samples_split=6, n_estimators=500; total time=   3.1s\n",
      "[CV] END bootstrap=True, max_features=0.5, min_samples_leaf=7, min_samples_split=6, n_estimators=500; total time=   3.2s\n",
      "[CV] END bootstrap=True, max_features=0.5, min_samples_leaf=7, min_samples_split=6, n_estimators=500; total time=   3.1s\n",
      "[CV] END bootstrap=True, max_features=0.5, min_samples_leaf=7, min_samples_split=8, n_estimators=100; total time=   0.5s\n",
      "[CV] END bootstrap=True, max_features=0.5, min_samples_leaf=7, min_samples_split=8, n_estimators=100; total time=   0.5s\n",
      "[CV] END bootstrap=True, max_features=0.5, min_samples_leaf=7, min_samples_split=8, n_estimators=100; total time=   0.6s\n",
      "[CV] END bootstrap=True, max_features=0.5, min_samples_leaf=7, min_samples_split=8, n_estimators=100; total time=   0.6s\n",
      "[CV] END bootstrap=True, max_features=0.5, min_samples_leaf=7, min_samples_split=8, n_estimators=100; total time=   0.6s\n",
      "[CV] END bootstrap=True, max_features=0.5, min_samples_leaf=7, min_samples_split=8, n_estimators=200; total time=   1.5s\n",
      "[CV] END bootstrap=True, max_features=0.5, min_samples_leaf=7, min_samples_split=8, n_estimators=200; total time=   1.3s\n",
      "[CV] END bootstrap=True, max_features=0.5, min_samples_leaf=7, min_samples_split=8, n_estimators=200; total time=   1.4s\n",
      "[CV] END bootstrap=True, max_features=0.5, min_samples_leaf=7, min_samples_split=8, n_estimators=200; total time=   1.4s\n",
      "[CV] END bootstrap=True, max_features=0.5, min_samples_leaf=7, min_samples_split=8, n_estimators=200; total time=   1.2s\n",
      "[CV] END bootstrap=True, max_features=0.5, min_samples_leaf=7, min_samples_split=8, n_estimators=300; total time=   1.8s\n",
      "[CV] END bootstrap=True, max_features=0.5, min_samples_leaf=7, min_samples_split=8, n_estimators=300; total time=   1.8s\n",
      "[CV] END bootstrap=True, max_features=0.5, min_samples_leaf=7, min_samples_split=8, n_estimators=300; total time=   1.8s\n",
      "[CV] END bootstrap=True, max_features=0.5, min_samples_leaf=7, min_samples_split=8, n_estimators=300; total time=   1.9s\n",
      "[CV] END bootstrap=True, max_features=0.5, min_samples_leaf=7, min_samples_split=8, n_estimators=300; total time=   1.9s\n",
      "[CV] END bootstrap=True, max_features=0.5, min_samples_leaf=7, min_samples_split=8, n_estimators=400; total time=   2.4s\n",
      "[CV] END bootstrap=True, max_features=0.5, min_samples_leaf=7, min_samples_split=8, n_estimators=400; total time=   2.4s\n",
      "[CV] END bootstrap=True, max_features=0.5, min_samples_leaf=7, min_samples_split=8, n_estimators=400; total time=   2.5s\n",
      "[CV] END bootstrap=True, max_features=0.5, min_samples_leaf=7, min_samples_split=8, n_estimators=400; total time=   2.5s\n",
      "[CV] END bootstrap=True, max_features=0.5, min_samples_leaf=7, min_samples_split=8, n_estimators=400; total time=   2.5s\n",
      "[CV] END bootstrap=True, max_features=0.5, min_samples_leaf=7, min_samples_split=8, n_estimators=500; total time=   3.0s\n",
      "[CV] END bootstrap=True, max_features=0.5, min_samples_leaf=7, min_samples_split=8, n_estimators=500; total time=   3.3s\n",
      "[CV] END bootstrap=True, max_features=0.5, min_samples_leaf=7, min_samples_split=8, n_estimators=500; total time=   3.4s\n",
      "[CV] END bootstrap=True, max_features=0.5, min_samples_leaf=7, min_samples_split=8, n_estimators=500; total time=   3.2s\n",
      "[CV] END bootstrap=True, max_features=0.5, min_samples_leaf=7, min_samples_split=8, n_estimators=500; total time=   3.1s\n",
      "[CV] END bootstrap=True, max_features=1.0, min_samples_leaf=1, min_samples_split=2, n_estimators=100; total time=   1.0s\n",
      "[CV] END bootstrap=True, max_features=1.0, min_samples_leaf=1, min_samples_split=2, n_estimators=100; total time=   1.0s\n",
      "[CV] END bootstrap=True, max_features=1.0, min_samples_leaf=1, min_samples_split=2, n_estimators=100; total time=   1.1s\n",
      "[CV] END bootstrap=True, max_features=1.0, min_samples_leaf=1, min_samples_split=2, n_estimators=100; total time=   1.1s\n",
      "[CV] END bootstrap=True, max_features=1.0, min_samples_leaf=1, min_samples_split=2, n_estimators=100; total time=   1.1s\n",
      "[CV] END bootstrap=True, max_features=1.0, min_samples_leaf=1, min_samples_split=2, n_estimators=200; total time=   2.2s\n",
      "[CV] END bootstrap=True, max_features=1.0, min_samples_leaf=1, min_samples_split=2, n_estimators=200; total time=   2.1s\n",
      "[CV] END bootstrap=True, max_features=1.0, min_samples_leaf=1, min_samples_split=2, n_estimators=200; total time=   2.2s\n"
     ]
    },
    {
     "name": "stdout",
     "output_type": "stream",
     "text": [
      "[CV] END bootstrap=True, max_features=1.0, min_samples_leaf=1, min_samples_split=2, n_estimators=200; total time=   2.2s\n",
      "[CV] END bootstrap=True, max_features=1.0, min_samples_leaf=1, min_samples_split=2, n_estimators=200; total time=   2.2s\n",
      "[CV] END bootstrap=True, max_features=1.0, min_samples_leaf=1, min_samples_split=2, n_estimators=300; total time=   3.3s\n",
      "[CV] END bootstrap=True, max_features=1.0, min_samples_leaf=1, min_samples_split=2, n_estimators=300; total time=   3.2s\n",
      "[CV] END bootstrap=True, max_features=1.0, min_samples_leaf=1, min_samples_split=2, n_estimators=300; total time=   3.4s\n",
      "[CV] END bootstrap=True, max_features=1.0, min_samples_leaf=1, min_samples_split=2, n_estimators=300; total time=   3.4s\n",
      "[CV] END bootstrap=True, max_features=1.0, min_samples_leaf=1, min_samples_split=2, n_estimators=300; total time=   3.4s\n",
      "[CV] END bootstrap=True, max_features=1.0, min_samples_leaf=1, min_samples_split=2, n_estimators=400; total time=   4.5s\n",
      "[CV] END bootstrap=True, max_features=1.0, min_samples_leaf=1, min_samples_split=2, n_estimators=400; total time=   4.3s\n",
      "[CV] END bootstrap=True, max_features=1.0, min_samples_leaf=1, min_samples_split=2, n_estimators=400; total time=   4.6s\n",
      "[CV] END bootstrap=True, max_features=1.0, min_samples_leaf=1, min_samples_split=2, n_estimators=400; total time=   4.6s\n",
      "[CV] END bootstrap=True, max_features=1.0, min_samples_leaf=1, min_samples_split=2, n_estimators=400; total time=   4.6s\n",
      "[CV] END bootstrap=True, max_features=1.0, min_samples_leaf=1, min_samples_split=2, n_estimators=500; total time=   5.6s\n",
      "[CV] END bootstrap=True, max_features=1.0, min_samples_leaf=1, min_samples_split=2, n_estimators=500; total time=   5.4s\n",
      "[CV] END bootstrap=True, max_features=1.0, min_samples_leaf=1, min_samples_split=2, n_estimators=500; total time=   5.7s\n",
      "[CV] END bootstrap=True, max_features=1.0, min_samples_leaf=1, min_samples_split=2, n_estimators=500; total time=   5.7s\n",
      "[CV] END bootstrap=True, max_features=1.0, min_samples_leaf=1, min_samples_split=2, n_estimators=500; total time=   5.8s\n",
      "[CV] END bootstrap=True, max_features=1.0, min_samples_leaf=1, min_samples_split=4, n_estimators=100; total time=   1.0s\n",
      "[CV] END bootstrap=True, max_features=1.0, min_samples_leaf=1, min_samples_split=4, n_estimators=100; total time=   1.0s\n",
      "[CV] END bootstrap=True, max_features=1.0, min_samples_leaf=1, min_samples_split=4, n_estimators=100; total time=   1.1s\n",
      "[CV] END bootstrap=True, max_features=1.0, min_samples_leaf=1, min_samples_split=4, n_estimators=100; total time=   1.0s\n",
      "[CV] END bootstrap=True, max_features=1.0, min_samples_leaf=1, min_samples_split=4, n_estimators=100; total time=   1.0s\n",
      "[CV] END bootstrap=True, max_features=1.0, min_samples_leaf=1, min_samples_split=4, n_estimators=200; total time=   2.2s\n",
      "[CV] END bootstrap=True, max_features=1.0, min_samples_leaf=1, min_samples_split=4, n_estimators=200; total time=   2.2s\n",
      "[CV] END bootstrap=True, max_features=1.0, min_samples_leaf=1, min_samples_split=4, n_estimators=200; total time=   2.2s\n",
      "[CV] END bootstrap=True, max_features=1.0, min_samples_leaf=1, min_samples_split=4, n_estimators=200; total time=   2.2s\n",
      "[CV] END bootstrap=True, max_features=1.0, min_samples_leaf=1, min_samples_split=4, n_estimators=200; total time=   2.3s\n",
      "[CV] END bootstrap=True, max_features=1.0, min_samples_leaf=1, min_samples_split=4, n_estimators=300; total time=   3.2s\n",
      "[CV] END bootstrap=True, max_features=1.0, min_samples_leaf=1, min_samples_split=4, n_estimators=300; total time=   3.1s\n",
      "[CV] END bootstrap=True, max_features=1.0, min_samples_leaf=1, min_samples_split=4, n_estimators=300; total time=   3.3s\n",
      "[CV] END bootstrap=True, max_features=1.0, min_samples_leaf=1, min_samples_split=4, n_estimators=300; total time=   3.3s\n",
      "[CV] END bootstrap=True, max_features=1.0, min_samples_leaf=1, min_samples_split=4, n_estimators=300; total time=   3.3s\n",
      "[CV] END bootstrap=True, max_features=1.0, min_samples_leaf=1, min_samples_split=4, n_estimators=400; total time=   4.3s\n",
      "[CV] END bootstrap=True, max_features=1.0, min_samples_leaf=1, min_samples_split=4, n_estimators=400; total time=   4.2s\n",
      "[CV] END bootstrap=True, max_features=1.0, min_samples_leaf=1, min_samples_split=4, n_estimators=400; total time=   4.4s\n",
      "[CV] END bootstrap=True, max_features=1.0, min_samples_leaf=1, min_samples_split=4, n_estimators=400; total time=   4.4s\n",
      "[CV] END bootstrap=True, max_features=1.0, min_samples_leaf=1, min_samples_split=4, n_estimators=400; total time=   4.4s\n",
      "[CV] END bootstrap=True, max_features=1.0, min_samples_leaf=1, min_samples_split=4, n_estimators=500; total time=   5.4s\n",
      "[CV] END bootstrap=True, max_features=1.0, min_samples_leaf=1, min_samples_split=4, n_estimators=500; total time=   5.4s\n",
      "[CV] END bootstrap=True, max_features=1.0, min_samples_leaf=1, min_samples_split=4, n_estimators=500; total time=   5.6s\n",
      "[CV] END bootstrap=True, max_features=1.0, min_samples_leaf=1, min_samples_split=4, n_estimators=500; total time=   5.6s\n",
      "[CV] END bootstrap=True, max_features=1.0, min_samples_leaf=1, min_samples_split=4, n_estimators=500; total time=   5.6s\n",
      "[CV] END bootstrap=True, max_features=1.0, min_samples_leaf=1, min_samples_split=6, n_estimators=100; total time=   1.0s\n",
      "[CV] END bootstrap=True, max_features=1.0, min_samples_leaf=1, min_samples_split=6, n_estimators=100; total time=   0.9s\n",
      "[CV] END bootstrap=True, max_features=1.0, min_samples_leaf=1, min_samples_split=6, n_estimators=100; total time=   1.0s\n",
      "[CV] END bootstrap=True, max_features=1.0, min_samples_leaf=1, min_samples_split=6, n_estimators=100; total time=   1.0s\n",
      "[CV] END bootstrap=True, max_features=1.0, min_samples_leaf=1, min_samples_split=6, n_estimators=100; total time=   1.0s\n",
      "[CV] END bootstrap=True, max_features=1.0, min_samples_leaf=1, min_samples_split=6, n_estimators=200; total time=   2.0s\n",
      "[CV] END bootstrap=True, max_features=1.0, min_samples_leaf=1, min_samples_split=6, n_estimators=200; total time=   2.0s\n",
      "[CV] END bootstrap=True, max_features=1.0, min_samples_leaf=1, min_samples_split=6, n_estimators=200; total time=   2.1s\n",
      "[CV] END bootstrap=True, max_features=1.0, min_samples_leaf=1, min_samples_split=6, n_estimators=200; total time=   2.1s\n",
      "[CV] END bootstrap=True, max_features=1.0, min_samples_leaf=1, min_samples_split=6, n_estimators=200; total time=   2.1s\n",
      "[CV] END bootstrap=True, max_features=1.0, min_samples_leaf=1, min_samples_split=6, n_estimators=300; total time=   3.1s\n",
      "[CV] END bootstrap=True, max_features=1.0, min_samples_leaf=1, min_samples_split=6, n_estimators=300; total time=   3.0s\n",
      "[CV] END bootstrap=True, max_features=1.0, min_samples_leaf=1, min_samples_split=6, n_estimators=300; total time=   3.2s\n",
      "[CV] END bootstrap=True, max_features=1.0, min_samples_leaf=1, min_samples_split=6, n_estimators=300; total time=   3.2s\n",
      "[CV] END bootstrap=True, max_features=1.0, min_samples_leaf=1, min_samples_split=6, n_estimators=300; total time=   3.2s\n",
      "[CV] END bootstrap=True, max_features=1.0, min_samples_leaf=1, min_samples_split=6, n_estimators=400; total time=   4.2s\n",
      "[CV] END bootstrap=True, max_features=1.0, min_samples_leaf=1, min_samples_split=6, n_estimators=400; total time=   4.1s\n",
      "[CV] END bootstrap=True, max_features=1.0, min_samples_leaf=1, min_samples_split=6, n_estimators=400; total time=   4.3s\n",
      "[CV] END bootstrap=True, max_features=1.0, min_samples_leaf=1, min_samples_split=6, n_estimators=400; total time=   4.3s\n",
      "[CV] END bootstrap=True, max_features=1.0, min_samples_leaf=1, min_samples_split=6, n_estimators=400; total time=   4.3s\n",
      "[CV] END bootstrap=True, max_features=1.0, min_samples_leaf=1, min_samples_split=6, n_estimators=500; total time=   5.4s\n",
      "[CV] END bootstrap=True, max_features=1.0, min_samples_leaf=1, min_samples_split=6, n_estimators=500; total time=   5.1s\n",
      "[CV] END bootstrap=True, max_features=1.0, min_samples_leaf=1, min_samples_split=6, n_estimators=500; total time=   5.4s\n",
      "[CV] END bootstrap=True, max_features=1.0, min_samples_leaf=1, min_samples_split=6, n_estimators=500; total time=   5.4s\n",
      "[CV] END bootstrap=True, max_features=1.0, min_samples_leaf=1, min_samples_split=6, n_estimators=500; total time=   5.4s\n",
      "[CV] END bootstrap=True, max_features=1.0, min_samples_leaf=1, min_samples_split=8, n_estimators=100; total time=   0.9s\n"
     ]
    },
    {
     "name": "stdout",
     "output_type": "stream",
     "text": [
      "[CV] END bootstrap=True, max_features=1.0, min_samples_leaf=1, min_samples_split=8, n_estimators=100; total time=   0.9s\n",
      "[CV] END bootstrap=True, max_features=1.0, min_samples_leaf=1, min_samples_split=8, n_estimators=100; total time=   1.0s\n",
      "[CV] END bootstrap=True, max_features=1.0, min_samples_leaf=1, min_samples_split=8, n_estimators=100; total time=   1.0s\n",
      "[CV] END bootstrap=True, max_features=1.0, min_samples_leaf=1, min_samples_split=8, n_estimators=100; total time=   1.0s\n",
      "[CV] END bootstrap=True, max_features=1.0, min_samples_leaf=1, min_samples_split=8, n_estimators=200; total time=   1.9s\n",
      "[CV] END bootstrap=True, max_features=1.0, min_samples_leaf=1, min_samples_split=8, n_estimators=200; total time=   1.9s\n",
      "[CV] END bootstrap=True, max_features=1.0, min_samples_leaf=1, min_samples_split=8, n_estimators=200; total time=   2.0s\n",
      "[CV] END bootstrap=True, max_features=1.0, min_samples_leaf=1, min_samples_split=8, n_estimators=200; total time=   2.0s\n",
      "[CV] END bootstrap=True, max_features=1.0, min_samples_leaf=1, min_samples_split=8, n_estimators=200; total time=   2.0s\n",
      "[CV] END bootstrap=True, max_features=1.0, min_samples_leaf=1, min_samples_split=8, n_estimators=300; total time=   3.0s\n",
      "[CV] END bootstrap=True, max_features=1.0, min_samples_leaf=1, min_samples_split=8, n_estimators=300; total time=   2.9s\n",
      "[CV] END bootstrap=True, max_features=1.0, min_samples_leaf=1, min_samples_split=8, n_estimators=300; total time=   3.1s\n",
      "[CV] END bootstrap=True, max_features=1.0, min_samples_leaf=1, min_samples_split=8, n_estimators=300; total time=   3.0s\n",
      "[CV] END bootstrap=True, max_features=1.0, min_samples_leaf=1, min_samples_split=8, n_estimators=300; total time=   3.1s\n",
      "[CV] END bootstrap=True, max_features=1.0, min_samples_leaf=1, min_samples_split=8, n_estimators=400; total time=   4.0s\n",
      "[CV] END bootstrap=True, max_features=1.0, min_samples_leaf=1, min_samples_split=8, n_estimators=400; total time=   3.9s\n",
      "[CV] END bootstrap=True, max_features=1.0, min_samples_leaf=1, min_samples_split=8, n_estimators=400; total time=   4.1s\n",
      "[CV] END bootstrap=True, max_features=1.0, min_samples_leaf=1, min_samples_split=8, n_estimators=400; total time=   4.1s\n",
      "[CV] END bootstrap=True, max_features=1.0, min_samples_leaf=1, min_samples_split=8, n_estimators=400; total time=   4.1s\n",
      "[CV] END bootstrap=True, max_features=1.0, min_samples_leaf=1, min_samples_split=8, n_estimators=500; total time=   5.0s\n",
      "[CV] END bootstrap=True, max_features=1.0, min_samples_leaf=1, min_samples_split=8, n_estimators=500; total time=   5.0s\n",
      "[CV] END bootstrap=True, max_features=1.0, min_samples_leaf=1, min_samples_split=8, n_estimators=500; total time=   5.2s\n",
      "[CV] END bootstrap=True, max_features=1.0, min_samples_leaf=1, min_samples_split=8, n_estimators=500; total time=   5.1s\n",
      "[CV] END bootstrap=True, max_features=1.0, min_samples_leaf=1, min_samples_split=8, n_estimators=500; total time=   5.2s\n",
      "[CV] END bootstrap=True, max_features=1.0, min_samples_leaf=3, min_samples_split=2, n_estimators=100; total time=   0.9s\n",
      "[CV] END bootstrap=True, max_features=1.0, min_samples_leaf=3, min_samples_split=2, n_estimators=100; total time=   0.9s\n",
      "[CV] END bootstrap=True, max_features=1.0, min_samples_leaf=3, min_samples_split=2, n_estimators=100; total time=   1.0s\n",
      "[CV] END bootstrap=True, max_features=1.0, min_samples_leaf=3, min_samples_split=2, n_estimators=100; total time=   1.0s\n",
      "[CV] END bootstrap=True, max_features=1.0, min_samples_leaf=3, min_samples_split=2, n_estimators=100; total time=   0.9s\n",
      "[CV] END bootstrap=True, max_features=1.0, min_samples_leaf=3, min_samples_split=2, n_estimators=200; total time=   2.0s\n",
      "[CV] END bootstrap=True, max_features=1.0, min_samples_leaf=3, min_samples_split=2, n_estimators=200; total time=   1.9s\n",
      "[CV] END bootstrap=True, max_features=1.0, min_samples_leaf=3, min_samples_split=2, n_estimators=200; total time=   2.0s\n",
      "[CV] END bootstrap=True, max_features=1.0, min_samples_leaf=3, min_samples_split=2, n_estimators=200; total time=   2.0s\n",
      "[CV] END bootstrap=True, max_features=1.0, min_samples_leaf=3, min_samples_split=2, n_estimators=200; total time=   2.0s\n",
      "[CV] END bootstrap=True, max_features=1.0, min_samples_leaf=3, min_samples_split=2, n_estimators=300; total time=   3.1s\n",
      "[CV] END bootstrap=True, max_features=1.0, min_samples_leaf=3, min_samples_split=2, n_estimators=300; total time=   3.0s\n",
      "[CV] END bootstrap=True, max_features=1.0, min_samples_leaf=3, min_samples_split=2, n_estimators=300; total time=   3.1s\n",
      "[CV] END bootstrap=True, max_features=1.0, min_samples_leaf=3, min_samples_split=2, n_estimators=300; total time=   3.0s\n",
      "[CV] END bootstrap=True, max_features=1.0, min_samples_leaf=3, min_samples_split=2, n_estimators=300; total time=   3.1s\n",
      "[CV] END bootstrap=True, max_features=1.0, min_samples_leaf=3, min_samples_split=2, n_estimators=400; total time=   4.0s\n",
      "[CV] END bootstrap=True, max_features=1.0, min_samples_leaf=3, min_samples_split=2, n_estimators=400; total time=   3.9s\n",
      "[CV] END bootstrap=True, max_features=1.0, min_samples_leaf=3, min_samples_split=2, n_estimators=400; total time=   4.1s\n",
      "[CV] END bootstrap=True, max_features=1.0, min_samples_leaf=3, min_samples_split=2, n_estimators=400; total time=   4.1s\n",
      "[CV] END bootstrap=True, max_features=1.0, min_samples_leaf=3, min_samples_split=2, n_estimators=400; total time=   4.1s\n",
      "[CV] END bootstrap=True, max_features=1.0, min_samples_leaf=3, min_samples_split=2, n_estimators=500; total time=   5.0s\n",
      "[CV] END bootstrap=True, max_features=1.0, min_samples_leaf=3, min_samples_split=2, n_estimators=500; total time=   4.9s\n",
      "[CV] END bootstrap=True, max_features=1.0, min_samples_leaf=3, min_samples_split=2, n_estimators=500; total time=   5.3s\n",
      "[CV] END bootstrap=True, max_features=1.0, min_samples_leaf=3, min_samples_split=2, n_estimators=500; total time=   5.3s\n",
      "[CV] END bootstrap=True, max_features=1.0, min_samples_leaf=3, min_samples_split=2, n_estimators=500; total time=   5.4s\n",
      "[CV] END bootstrap=True, max_features=1.0, min_samples_leaf=3, min_samples_split=4, n_estimators=100; total time=   0.9s\n",
      "[CV] END bootstrap=True, max_features=1.0, min_samples_leaf=3, min_samples_split=4, n_estimators=100; total time=   0.9s\n",
      "[CV] END bootstrap=True, max_features=1.0, min_samples_leaf=3, min_samples_split=4, n_estimators=100; total time=   1.0s\n",
      "[CV] END bootstrap=True, max_features=1.0, min_samples_leaf=3, min_samples_split=4, n_estimators=100; total time=   1.0s\n",
      "[CV] END bootstrap=True, max_features=1.0, min_samples_leaf=3, min_samples_split=4, n_estimators=100; total time=   1.0s\n",
      "[CV] END bootstrap=True, max_features=1.0, min_samples_leaf=3, min_samples_split=4, n_estimators=200; total time=   2.0s\n",
      "[CV] END bootstrap=True, max_features=1.0, min_samples_leaf=3, min_samples_split=4, n_estimators=200; total time=   2.1s\n",
      "[CV] END bootstrap=True, max_features=1.0, min_samples_leaf=3, min_samples_split=4, n_estimators=200; total time=   2.0s\n",
      "[CV] END bootstrap=True, max_features=1.0, min_samples_leaf=3, min_samples_split=4, n_estimators=200; total time=   2.4s\n",
      "[CV] END bootstrap=True, max_features=1.0, min_samples_leaf=3, min_samples_split=4, n_estimators=200; total time=   2.5s\n",
      "[CV] END bootstrap=True, max_features=1.0, min_samples_leaf=3, min_samples_split=4, n_estimators=300; total time=   3.4s\n",
      "[CV] END bootstrap=True, max_features=1.0, min_samples_leaf=3, min_samples_split=4, n_estimators=300; total time=   3.1s\n",
      "[CV] END bootstrap=True, max_features=1.0, min_samples_leaf=3, min_samples_split=4, n_estimators=300; total time=   3.3s\n",
      "[CV] END bootstrap=True, max_features=1.0, min_samples_leaf=3, min_samples_split=4, n_estimators=300; total time=   3.5s\n",
      "[CV] END bootstrap=True, max_features=1.0, min_samples_leaf=3, min_samples_split=4, n_estimators=300; total time=   3.8s\n",
      "[CV] END bootstrap=True, max_features=1.0, min_samples_leaf=3, min_samples_split=4, n_estimators=400; total time=   4.0s\n",
      "[CV] END bootstrap=True, max_features=1.0, min_samples_leaf=3, min_samples_split=4, n_estimators=400; total time=   3.9s\n",
      "[CV] END bootstrap=True, max_features=1.0, min_samples_leaf=3, min_samples_split=4, n_estimators=400; total time=   4.1s\n",
      "[CV] END bootstrap=True, max_features=1.0, min_samples_leaf=3, min_samples_split=4, n_estimators=400; total time=   4.1s\n"
     ]
    },
    {
     "name": "stdout",
     "output_type": "stream",
     "text": [
      "[CV] END bootstrap=True, max_features=1.0, min_samples_leaf=3, min_samples_split=4, n_estimators=400; total time=   4.1s\n",
      "[CV] END bootstrap=True, max_features=1.0, min_samples_leaf=3, min_samples_split=4, n_estimators=500; total time=   5.0s\n",
      "[CV] END bootstrap=True, max_features=1.0, min_samples_leaf=3, min_samples_split=4, n_estimators=500; total time=   5.0s\n",
      "[CV] END bootstrap=True, max_features=1.0, min_samples_leaf=3, min_samples_split=4, n_estimators=500; total time=   5.1s\n",
      "[CV] END bootstrap=True, max_features=1.0, min_samples_leaf=3, min_samples_split=4, n_estimators=500; total time=   5.1s\n",
      "[CV] END bootstrap=True, max_features=1.0, min_samples_leaf=3, min_samples_split=4, n_estimators=500; total time=   5.2s\n",
      "[CV] END bootstrap=True, max_features=1.0, min_samples_leaf=3, min_samples_split=6, n_estimators=100; total time=   0.9s\n",
      "[CV] END bootstrap=True, max_features=1.0, min_samples_leaf=3, min_samples_split=6, n_estimators=100; total time=   0.9s\n",
      "[CV] END bootstrap=True, max_features=1.0, min_samples_leaf=3, min_samples_split=6, n_estimators=100; total time=   1.0s\n",
      "[CV] END bootstrap=True, max_features=1.0, min_samples_leaf=3, min_samples_split=6, n_estimators=100; total time=   1.0s\n",
      "[CV] END bootstrap=True, max_features=1.0, min_samples_leaf=3, min_samples_split=6, n_estimators=100; total time=   1.0s\n",
      "[CV] END bootstrap=True, max_features=1.0, min_samples_leaf=3, min_samples_split=6, n_estimators=200; total time=   2.0s\n",
      "[CV] END bootstrap=True, max_features=1.0, min_samples_leaf=3, min_samples_split=6, n_estimators=200; total time=   1.9s\n",
      "[CV] END bootstrap=True, max_features=1.0, min_samples_leaf=3, min_samples_split=6, n_estimators=200; total time=   2.0s\n",
      "[CV] END bootstrap=True, max_features=1.0, min_samples_leaf=3, min_samples_split=6, n_estimators=200; total time=   2.0s\n",
      "[CV] END bootstrap=True, max_features=1.0, min_samples_leaf=3, min_samples_split=6, n_estimators=200; total time=   2.0s\n",
      "[CV] END bootstrap=True, max_features=1.0, min_samples_leaf=3, min_samples_split=6, n_estimators=300; total time=   3.0s\n",
      "[CV] END bootstrap=True, max_features=1.0, min_samples_leaf=3, min_samples_split=6, n_estimators=300; total time=   2.9s\n",
      "[CV] END bootstrap=True, max_features=1.0, min_samples_leaf=3, min_samples_split=6, n_estimators=300; total time=   3.1s\n",
      "[CV] END bootstrap=True, max_features=1.0, min_samples_leaf=3, min_samples_split=6, n_estimators=300; total time=   3.1s\n",
      "[CV] END bootstrap=True, max_features=1.0, min_samples_leaf=3, min_samples_split=6, n_estimators=300; total time=   3.1s\n",
      "[CV] END bootstrap=True, max_features=1.0, min_samples_leaf=3, min_samples_split=6, n_estimators=400; total time=   4.0s\n",
      "[CV] END bootstrap=True, max_features=1.0, min_samples_leaf=3, min_samples_split=6, n_estimators=400; total time=   3.9s\n",
      "[CV] END bootstrap=True, max_features=1.0, min_samples_leaf=3, min_samples_split=6, n_estimators=400; total time=   4.1s\n",
      "[CV] END bootstrap=True, max_features=1.0, min_samples_leaf=3, min_samples_split=6, n_estimators=400; total time=   4.1s\n",
      "[CV] END bootstrap=True, max_features=1.0, min_samples_leaf=3, min_samples_split=6, n_estimators=400; total time=   4.1s\n",
      "[CV] END bootstrap=True, max_features=1.0, min_samples_leaf=3, min_samples_split=6, n_estimators=500; total time=   5.0s\n",
      "[CV] END bootstrap=True, max_features=1.0, min_samples_leaf=3, min_samples_split=6, n_estimators=500; total time=   5.0s\n",
      "[CV] END bootstrap=True, max_features=1.0, min_samples_leaf=3, min_samples_split=6, n_estimators=500; total time=   5.2s\n",
      "[CV] END bootstrap=True, max_features=1.0, min_samples_leaf=3, min_samples_split=6, n_estimators=500; total time=   5.1s\n",
      "[CV] END bootstrap=True, max_features=1.0, min_samples_leaf=3, min_samples_split=6, n_estimators=500; total time=   5.2s\n",
      "[CV] END bootstrap=True, max_features=1.0, min_samples_leaf=3, min_samples_split=8, n_estimators=100; total time=   0.9s\n",
      "[CV] END bootstrap=True, max_features=1.0, min_samples_leaf=3, min_samples_split=8, n_estimators=100; total time=   0.9s\n",
      "[CV] END bootstrap=True, max_features=1.0, min_samples_leaf=3, min_samples_split=8, n_estimators=100; total time=   0.9s\n",
      "[CV] END bootstrap=True, max_features=1.0, min_samples_leaf=3, min_samples_split=8, n_estimators=100; total time=   0.9s\n",
      "[CV] END bootstrap=True, max_features=1.0, min_samples_leaf=3, min_samples_split=8, n_estimators=100; total time=   0.9s\n",
      "[CV] END bootstrap=True, max_features=1.0, min_samples_leaf=3, min_samples_split=8, n_estimators=200; total time=   1.9s\n",
      "[CV] END bootstrap=True, max_features=1.0, min_samples_leaf=3, min_samples_split=8, n_estimators=200; total time=   1.8s\n",
      "[CV] END bootstrap=True, max_features=1.0, min_samples_leaf=3, min_samples_split=8, n_estimators=200; total time=   1.9s\n",
      "[CV] END bootstrap=True, max_features=1.0, min_samples_leaf=3, min_samples_split=8, n_estimators=200; total time=   1.9s\n",
      "[CV] END bootstrap=True, max_features=1.0, min_samples_leaf=3, min_samples_split=8, n_estimators=200; total time=   1.9s\n",
      "[CV] END bootstrap=True, max_features=1.0, min_samples_leaf=3, min_samples_split=8, n_estimators=300; total time=   2.8s\n",
      "[CV] END bootstrap=True, max_features=1.0, min_samples_leaf=3, min_samples_split=8, n_estimators=300; total time=   2.8s\n",
      "[CV] END bootstrap=True, max_features=1.0, min_samples_leaf=3, min_samples_split=8, n_estimators=300; total time=   2.9s\n",
      "[CV] END bootstrap=True, max_features=1.0, min_samples_leaf=3, min_samples_split=8, n_estimators=300; total time=   2.9s\n",
      "[CV] END bootstrap=True, max_features=1.0, min_samples_leaf=3, min_samples_split=8, n_estimators=300; total time=   2.9s\n",
      "[CV] END bootstrap=True, max_features=1.0, min_samples_leaf=3, min_samples_split=8, n_estimators=400; total time=   3.8s\n",
      "[CV] END bootstrap=True, max_features=1.0, min_samples_leaf=3, min_samples_split=8, n_estimators=400; total time=   3.7s\n",
      "[CV] END bootstrap=True, max_features=1.0, min_samples_leaf=3, min_samples_split=8, n_estimators=400; total time=   3.9s\n",
      "[CV] END bootstrap=True, max_features=1.0, min_samples_leaf=3, min_samples_split=8, n_estimators=400; total time=   3.9s\n",
      "[CV] END bootstrap=True, max_features=1.0, min_samples_leaf=3, min_samples_split=8, n_estimators=400; total time=   4.0s\n",
      "[CV] END bootstrap=True, max_features=1.0, min_samples_leaf=3, min_samples_split=8, n_estimators=500; total time=   4.8s\n",
      "[CV] END bootstrap=True, max_features=1.0, min_samples_leaf=3, min_samples_split=8, n_estimators=500; total time=   4.7s\n",
      "[CV] END bootstrap=True, max_features=1.0, min_samples_leaf=3, min_samples_split=8, n_estimators=500; total time=   4.9s\n",
      "[CV] END bootstrap=True, max_features=1.0, min_samples_leaf=3, min_samples_split=8, n_estimators=500; total time=   4.9s\n",
      "[CV] END bootstrap=True, max_features=1.0, min_samples_leaf=3, min_samples_split=8, n_estimators=500; total time=   4.9s\n",
      "[CV] END bootstrap=True, max_features=1.0, min_samples_leaf=5, min_samples_split=2, n_estimators=100; total time=   0.8s\n",
      "[CV] END bootstrap=True, max_features=1.0, min_samples_leaf=5, min_samples_split=2, n_estimators=100; total time=   0.8s\n",
      "[CV] END bootstrap=True, max_features=1.0, min_samples_leaf=5, min_samples_split=2, n_estimators=100; total time=   0.9s\n",
      "[CV] END bootstrap=True, max_features=1.0, min_samples_leaf=5, min_samples_split=2, n_estimators=100; total time=   0.9s\n",
      "[CV] END bootstrap=True, max_features=1.0, min_samples_leaf=5, min_samples_split=2, n_estimators=100; total time=   0.8s\n",
      "[CV] END bootstrap=True, max_features=1.0, min_samples_leaf=5, min_samples_split=2, n_estimators=200; total time=   1.7s\n",
      "[CV] END bootstrap=True, max_features=1.0, min_samples_leaf=5, min_samples_split=2, n_estimators=200; total time=   1.8s\n",
      "[CV] END bootstrap=True, max_features=1.0, min_samples_leaf=5, min_samples_split=2, n_estimators=200; total time=   1.8s\n",
      "[CV] END bootstrap=True, max_features=1.0, min_samples_leaf=5, min_samples_split=2, n_estimators=200; total time=   1.8s\n",
      "[CV] END bootstrap=True, max_features=1.0, min_samples_leaf=5, min_samples_split=2, n_estimators=200; total time=   1.8s\n",
      "[CV] END bootstrap=True, max_features=1.0, min_samples_leaf=5, min_samples_split=2, n_estimators=300; total time=   2.6s\n",
      "[CV] END bootstrap=True, max_features=1.0, min_samples_leaf=5, min_samples_split=2, n_estimators=300; total time=   2.6s\n"
     ]
    },
    {
     "name": "stdout",
     "output_type": "stream",
     "text": [
      "[CV] END bootstrap=True, max_features=1.0, min_samples_leaf=5, min_samples_split=2, n_estimators=300; total time=   2.7s\n",
      "[CV] END bootstrap=True, max_features=1.0, min_samples_leaf=5, min_samples_split=2, n_estimators=300; total time=   2.7s\n",
      "[CV] END bootstrap=True, max_features=1.0, min_samples_leaf=5, min_samples_split=2, n_estimators=300; total time=   2.7s\n",
      "[CV] END bootstrap=True, max_features=1.0, min_samples_leaf=5, min_samples_split=2, n_estimators=400; total time=   3.5s\n",
      "[CV] END bootstrap=True, max_features=1.0, min_samples_leaf=5, min_samples_split=2, n_estimators=400; total time=   3.5s\n",
      "[CV] END bootstrap=True, max_features=1.0, min_samples_leaf=5, min_samples_split=2, n_estimators=400; total time=   3.6s\n",
      "[CV] END bootstrap=True, max_features=1.0, min_samples_leaf=5, min_samples_split=2, n_estimators=400; total time=   3.6s\n",
      "[CV] END bootstrap=True, max_features=1.0, min_samples_leaf=5, min_samples_split=2, n_estimators=400; total time=   3.6s\n",
      "[CV] END bootstrap=True, max_features=1.0, min_samples_leaf=5, min_samples_split=2, n_estimators=500; total time=   4.6s\n",
      "[CV] END bootstrap=True, max_features=1.0, min_samples_leaf=5, min_samples_split=2, n_estimators=500; total time=   4.4s\n",
      "[CV] END bootstrap=True, max_features=1.0, min_samples_leaf=5, min_samples_split=2, n_estimators=500; total time=   4.6s\n",
      "[CV] END bootstrap=True, max_features=1.0, min_samples_leaf=5, min_samples_split=2, n_estimators=500; total time=   5.0s\n",
      "[CV] END bootstrap=True, max_features=1.0, min_samples_leaf=5, min_samples_split=2, n_estimators=500; total time=   4.6s\n",
      "[CV] END bootstrap=True, max_features=1.0, min_samples_leaf=5, min_samples_split=4, n_estimators=100; total time=   0.8s\n",
      "[CV] END bootstrap=True, max_features=1.0, min_samples_leaf=5, min_samples_split=4, n_estimators=100; total time=   0.8s\n",
      "[CV] END bootstrap=True, max_features=1.0, min_samples_leaf=5, min_samples_split=4, n_estimators=100; total time=   0.8s\n",
      "[CV] END bootstrap=True, max_features=1.0, min_samples_leaf=5, min_samples_split=4, n_estimators=100; total time=   0.8s\n",
      "[CV] END bootstrap=True, max_features=1.0, min_samples_leaf=5, min_samples_split=4, n_estimators=100; total time=   0.8s\n",
      "[CV] END bootstrap=True, max_features=1.0, min_samples_leaf=5, min_samples_split=4, n_estimators=200; total time=   1.7s\n",
      "[CV] END bootstrap=True, max_features=1.0, min_samples_leaf=5, min_samples_split=4, n_estimators=200; total time=   1.7s\n",
      "[CV] END bootstrap=True, max_features=1.0, min_samples_leaf=5, min_samples_split=4, n_estimators=200; total time=   1.8s\n",
      "[CV] END bootstrap=True, max_features=1.0, min_samples_leaf=5, min_samples_split=4, n_estimators=200; total time=   1.8s\n",
      "[CV] END bootstrap=True, max_features=1.0, min_samples_leaf=5, min_samples_split=4, n_estimators=200; total time=   1.8s\n",
      "[CV] END bootstrap=True, max_features=1.0, min_samples_leaf=5, min_samples_split=4, n_estimators=300; total time=   2.9s\n",
      "[CV] END bootstrap=True, max_features=1.0, min_samples_leaf=5, min_samples_split=4, n_estimators=300; total time=   3.1s\n",
      "[CV] END bootstrap=True, max_features=1.0, min_samples_leaf=5, min_samples_split=4, n_estimators=300; total time=   3.1s\n",
      "[CV] END bootstrap=True, max_features=1.0, min_samples_leaf=5, min_samples_split=4, n_estimators=300; total time=   3.1s\n",
      "[CV] END bootstrap=True, max_features=1.0, min_samples_leaf=5, min_samples_split=4, n_estimators=300; total time=   2.8s\n",
      "[CV] END bootstrap=True, max_features=1.0, min_samples_leaf=5, min_samples_split=4, n_estimators=400; total time=   3.5s\n",
      "[CV] END bootstrap=True, max_features=1.0, min_samples_leaf=5, min_samples_split=4, n_estimators=400; total time=   3.5s\n",
      "[CV] END bootstrap=True, max_features=1.0, min_samples_leaf=5, min_samples_split=4, n_estimators=400; total time=   3.6s\n",
      "[CV] END bootstrap=True, max_features=1.0, min_samples_leaf=5, min_samples_split=4, n_estimators=400; total time=   3.7s\n",
      "[CV] END bootstrap=True, max_features=1.0, min_samples_leaf=5, min_samples_split=4, n_estimators=400; total time=   3.6s\n",
      "[CV] END bootstrap=True, max_features=1.0, min_samples_leaf=5, min_samples_split=4, n_estimators=500; total time=   4.4s\n",
      "[CV] END bootstrap=True, max_features=1.0, min_samples_leaf=5, min_samples_split=4, n_estimators=500; total time=   4.4s\n",
      "[CV] END bootstrap=True, max_features=1.0, min_samples_leaf=5, min_samples_split=4, n_estimators=500; total time=   4.6s\n",
      "[CV] END bootstrap=True, max_features=1.0, min_samples_leaf=5, min_samples_split=4, n_estimators=500; total time=   4.7s\n",
      "[CV] END bootstrap=True, max_features=1.0, min_samples_leaf=5, min_samples_split=4, n_estimators=500; total time=   4.7s\n",
      "[CV] END bootstrap=True, max_features=1.0, min_samples_leaf=5, min_samples_split=6, n_estimators=100; total time=   0.8s\n",
      "[CV] END bootstrap=True, max_features=1.0, min_samples_leaf=5, min_samples_split=6, n_estimators=100; total time=   0.8s\n",
      "[CV] END bootstrap=True, max_features=1.0, min_samples_leaf=5, min_samples_split=6, n_estimators=100; total time=   0.8s\n",
      "[CV] END bootstrap=True, max_features=1.0, min_samples_leaf=5, min_samples_split=6, n_estimators=100; total time=   0.8s\n",
      "[CV] END bootstrap=True, max_features=1.0, min_samples_leaf=5, min_samples_split=6, n_estimators=100; total time=   0.8s\n",
      "[CV] END bootstrap=True, max_features=1.0, min_samples_leaf=5, min_samples_split=6, n_estimators=200; total time=   1.7s\n",
      "[CV] END bootstrap=True, max_features=1.0, min_samples_leaf=5, min_samples_split=6, n_estimators=200; total time=   1.7s\n",
      "[CV] END bootstrap=True, max_features=1.0, min_samples_leaf=5, min_samples_split=6, n_estimators=200; total time=   1.8s\n",
      "[CV] END bootstrap=True, max_features=1.0, min_samples_leaf=5, min_samples_split=6, n_estimators=200; total time=   1.8s\n",
      "[CV] END bootstrap=True, max_features=1.0, min_samples_leaf=5, min_samples_split=6, n_estimators=200; total time=   1.8s\n",
      "[CV] END bootstrap=True, max_features=1.0, min_samples_leaf=5, min_samples_split=6, n_estimators=300; total time=   2.6s\n",
      "[CV] END bootstrap=True, max_features=1.0, min_samples_leaf=5, min_samples_split=6, n_estimators=300; total time=   2.6s\n",
      "[CV] END bootstrap=True, max_features=1.0, min_samples_leaf=5, min_samples_split=6, n_estimators=300; total time=   2.7s\n",
      "[CV] END bootstrap=True, max_features=1.0, min_samples_leaf=5, min_samples_split=6, n_estimators=300; total time=   2.7s\n",
      "[CV] END bootstrap=True, max_features=1.0, min_samples_leaf=5, min_samples_split=6, n_estimators=300; total time=   2.8s\n",
      "[CV] END bootstrap=True, max_features=1.0, min_samples_leaf=5, min_samples_split=6, n_estimators=400; total time=   3.5s\n",
      "[CV] END bootstrap=True, max_features=1.0, min_samples_leaf=5, min_samples_split=6, n_estimators=400; total time=   3.5s\n",
      "[CV] END bootstrap=True, max_features=1.0, min_samples_leaf=5, min_samples_split=6, n_estimators=400; total time=   3.6s\n",
      "[CV] END bootstrap=True, max_features=1.0, min_samples_leaf=5, min_samples_split=6, n_estimators=400; total time=   3.7s\n",
      "[CV] END bootstrap=True, max_features=1.0, min_samples_leaf=5, min_samples_split=6, n_estimators=400; total time=   3.6s\n",
      "[CV] END bootstrap=True, max_features=1.0, min_samples_leaf=5, min_samples_split=6, n_estimators=500; total time=   4.5s\n",
      "[CV] END bootstrap=True, max_features=1.0, min_samples_leaf=5, min_samples_split=6, n_estimators=500; total time=   4.3s\n",
      "[CV] END bootstrap=True, max_features=1.0, min_samples_leaf=5, min_samples_split=6, n_estimators=500; total time=   4.5s\n",
      "[CV] END bootstrap=True, max_features=1.0, min_samples_leaf=5, min_samples_split=6, n_estimators=500; total time=   4.6s\n",
      "[CV] END bootstrap=True, max_features=1.0, min_samples_leaf=5, min_samples_split=6, n_estimators=500; total time=   4.5s\n",
      "[CV] END bootstrap=True, max_features=1.0, min_samples_leaf=5, min_samples_split=8, n_estimators=100; total time=   0.8s\n",
      "[CV] END bootstrap=True, max_features=1.0, min_samples_leaf=5, min_samples_split=8, n_estimators=100; total time=   0.8s\n",
      "[CV] END bootstrap=True, max_features=1.0, min_samples_leaf=5, min_samples_split=8, n_estimators=100; total time=   0.8s\n",
      "[CV] END bootstrap=True, max_features=1.0, min_samples_leaf=5, min_samples_split=8, n_estimators=100; total time=   0.9s\n",
      "[CV] END bootstrap=True, max_features=1.0, min_samples_leaf=5, min_samples_split=8, n_estimators=100; total time=   0.9s\n"
     ]
    },
    {
     "name": "stdout",
     "output_type": "stream",
     "text": [
      "[CV] END bootstrap=True, max_features=1.0, min_samples_leaf=5, min_samples_split=8, n_estimators=200; total time=   1.7s\n",
      "[CV] END bootstrap=True, max_features=1.0, min_samples_leaf=5, min_samples_split=8, n_estimators=200; total time=   1.7s\n",
      "[CV] END bootstrap=True, max_features=1.0, min_samples_leaf=5, min_samples_split=8, n_estimators=200; total time=   1.8s\n",
      "[CV] END bootstrap=True, max_features=1.0, min_samples_leaf=5, min_samples_split=8, n_estimators=200; total time=   1.8s\n",
      "[CV] END bootstrap=True, max_features=1.0, min_samples_leaf=5, min_samples_split=8, n_estimators=200; total time=   1.8s\n",
      "[CV] END bootstrap=True, max_features=1.0, min_samples_leaf=5, min_samples_split=8, n_estimators=300; total time=   2.6s\n",
      "[CV] END bootstrap=True, max_features=1.0, min_samples_leaf=5, min_samples_split=8, n_estimators=300; total time=   2.6s\n",
      "[CV] END bootstrap=True, max_features=1.0, min_samples_leaf=5, min_samples_split=8, n_estimators=300; total time=   2.7s\n",
      "[CV] END bootstrap=True, max_features=1.0, min_samples_leaf=5, min_samples_split=8, n_estimators=300; total time=   2.7s\n",
      "[CV] END bootstrap=True, max_features=1.0, min_samples_leaf=5, min_samples_split=8, n_estimators=300; total time=   2.7s\n",
      "[CV] END bootstrap=True, max_features=1.0, min_samples_leaf=5, min_samples_split=8, n_estimators=400; total time=   3.5s\n",
      "[CV] END bootstrap=True, max_features=1.0, min_samples_leaf=5, min_samples_split=8, n_estimators=400; total time=   3.5s\n",
      "[CV] END bootstrap=True, max_features=1.0, min_samples_leaf=5, min_samples_split=8, n_estimators=400; total time=   3.6s\n",
      "[CV] END bootstrap=True, max_features=1.0, min_samples_leaf=5, min_samples_split=8, n_estimators=400; total time=   3.7s\n",
      "[CV] END bootstrap=True, max_features=1.0, min_samples_leaf=5, min_samples_split=8, n_estimators=400; total time=   3.9s\n",
      "[CV] END bootstrap=True, max_features=1.0, min_samples_leaf=5, min_samples_split=8, n_estimators=500; total time=   4.4s\n",
      "[CV] END bootstrap=True, max_features=1.0, min_samples_leaf=5, min_samples_split=8, n_estimators=500; total time=   4.4s\n",
      "[CV] END bootstrap=True, max_features=1.0, min_samples_leaf=5, min_samples_split=8, n_estimators=500; total time=   4.6s\n",
      "[CV] END bootstrap=True, max_features=1.0, min_samples_leaf=5, min_samples_split=8, n_estimators=500; total time=   4.6s\n",
      "[CV] END bootstrap=True, max_features=1.0, min_samples_leaf=5, min_samples_split=8, n_estimators=500; total time=   4.6s\n",
      "[CV] END bootstrap=True, max_features=1.0, min_samples_leaf=7, min_samples_split=2, n_estimators=100; total time=   0.7s\n",
      "[CV] END bootstrap=True, max_features=1.0, min_samples_leaf=7, min_samples_split=2, n_estimators=100; total time=   0.7s\n",
      "[CV] END bootstrap=True, max_features=1.0, min_samples_leaf=7, min_samples_split=2, n_estimators=100; total time=   0.7s\n",
      "[CV] END bootstrap=True, max_features=1.0, min_samples_leaf=7, min_samples_split=2, n_estimators=100; total time=   0.8s\n",
      "[CV] END bootstrap=True, max_features=1.0, min_samples_leaf=7, min_samples_split=2, n_estimators=100; total time=   0.8s\n",
      "[CV] END bootstrap=True, max_features=1.0, min_samples_leaf=7, min_samples_split=2, n_estimators=200; total time=   1.6s\n",
      "[CV] END bootstrap=True, max_features=1.0, min_samples_leaf=7, min_samples_split=2, n_estimators=200; total time=   1.6s\n",
      "[CV] END bootstrap=True, max_features=1.0, min_samples_leaf=7, min_samples_split=2, n_estimators=200; total time=   1.6s\n",
      "[CV] END bootstrap=True, max_features=1.0, min_samples_leaf=7, min_samples_split=2, n_estimators=200; total time=   1.6s\n",
      "[CV] END bootstrap=True, max_features=1.0, min_samples_leaf=7, min_samples_split=2, n_estimators=200; total time=   1.6s\n",
      "[CV] END bootstrap=True, max_features=1.0, min_samples_leaf=7, min_samples_split=2, n_estimators=300; total time=   2.4s\n",
      "[CV] END bootstrap=True, max_features=1.0, min_samples_leaf=7, min_samples_split=2, n_estimators=300; total time=   2.4s\n",
      "[CV] END bootstrap=True, max_features=1.0, min_samples_leaf=7, min_samples_split=2, n_estimators=300; total time=   2.4s\n",
      "[CV] END bootstrap=True, max_features=1.0, min_samples_leaf=7, min_samples_split=2, n_estimators=300; total time=   2.5s\n",
      "[CV] END bootstrap=True, max_features=1.0, min_samples_leaf=7, min_samples_split=2, n_estimators=300; total time=   2.5s\n",
      "[CV] END bootstrap=True, max_features=1.0, min_samples_leaf=7, min_samples_split=2, n_estimators=400; total time=   3.3s\n",
      "[CV] END bootstrap=True, max_features=1.0, min_samples_leaf=7, min_samples_split=2, n_estimators=400; total time=   3.2s\n",
      "[CV] END bootstrap=True, max_features=1.0, min_samples_leaf=7, min_samples_split=2, n_estimators=400; total time=   3.2s\n",
      "[CV] END bootstrap=True, max_features=1.0, min_samples_leaf=7, min_samples_split=2, n_estimators=400; total time=   3.3s\n",
      "[CV] END bootstrap=True, max_features=1.0, min_samples_leaf=7, min_samples_split=2, n_estimators=400; total time=   3.3s\n",
      "[CV] END bootstrap=True, max_features=1.0, min_samples_leaf=7, min_samples_split=2, n_estimators=500; total time=   4.1s\n",
      "[CV] END bootstrap=True, max_features=1.0, min_samples_leaf=7, min_samples_split=2, n_estimators=500; total time=   4.0s\n",
      "[CV] END bootstrap=True, max_features=1.0, min_samples_leaf=7, min_samples_split=2, n_estimators=500; total time=   4.1s\n",
      "[CV] END bootstrap=True, max_features=1.0, min_samples_leaf=7, min_samples_split=2, n_estimators=500; total time=   4.2s\n",
      "[CV] END bootstrap=True, max_features=1.0, min_samples_leaf=7, min_samples_split=2, n_estimators=500; total time=   4.2s\n",
      "[CV] END bootstrap=True, max_features=1.0, min_samples_leaf=7, min_samples_split=4, n_estimators=100; total time=   0.7s\n",
      "[CV] END bootstrap=True, max_features=1.0, min_samples_leaf=7, min_samples_split=4, n_estimators=100; total time=   0.7s\n",
      "[CV] END bootstrap=True, max_features=1.0, min_samples_leaf=7, min_samples_split=4, n_estimators=100; total time=   0.8s\n",
      "[CV] END bootstrap=True, max_features=1.0, min_samples_leaf=7, min_samples_split=4, n_estimators=100; total time=   0.8s\n",
      "[CV] END bootstrap=True, max_features=1.0, min_samples_leaf=7, min_samples_split=4, n_estimators=100; total time=   0.8s\n",
      "[CV] END bootstrap=True, max_features=1.0, min_samples_leaf=7, min_samples_split=4, n_estimators=200; total time=   1.6s\n",
      "[CV] END bootstrap=True, max_features=1.0, min_samples_leaf=7, min_samples_split=4, n_estimators=200; total time=   1.6s\n",
      "[CV] END bootstrap=True, max_features=1.0, min_samples_leaf=7, min_samples_split=4, n_estimators=200; total time=   1.6s\n",
      "[CV] END bootstrap=True, max_features=1.0, min_samples_leaf=7, min_samples_split=4, n_estimators=200; total time=   1.6s\n",
      "[CV] END bootstrap=True, max_features=1.0, min_samples_leaf=7, min_samples_split=4, n_estimators=200; total time=   1.6s\n",
      "[CV] END bootstrap=True, max_features=1.0, min_samples_leaf=7, min_samples_split=4, n_estimators=300; total time=   2.4s\n",
      "[CV] END bootstrap=True, max_features=1.0, min_samples_leaf=7, min_samples_split=4, n_estimators=300; total time=   2.4s\n",
      "[CV] END bootstrap=True, max_features=1.0, min_samples_leaf=7, min_samples_split=4, n_estimators=300; total time=   2.5s\n",
      "[CV] END bootstrap=True, max_features=1.0, min_samples_leaf=7, min_samples_split=4, n_estimators=300; total time=   2.5s\n",
      "[CV] END bootstrap=True, max_features=1.0, min_samples_leaf=7, min_samples_split=4, n_estimators=300; total time=   2.4s\n",
      "[CV] END bootstrap=True, max_features=1.0, min_samples_leaf=7, min_samples_split=4, n_estimators=400; total time=   3.2s\n",
      "[CV] END bootstrap=True, max_features=1.0, min_samples_leaf=7, min_samples_split=4, n_estimators=400; total time=   3.2s\n",
      "[CV] END bootstrap=True, max_features=1.0, min_samples_leaf=7, min_samples_split=4, n_estimators=400; total time=   3.3s\n",
      "[CV] END bootstrap=True, max_features=1.0, min_samples_leaf=7, min_samples_split=4, n_estimators=400; total time=   3.3s\n",
      "[CV] END bootstrap=True, max_features=1.0, min_samples_leaf=7, min_samples_split=4, n_estimators=400; total time=   3.3s\n",
      "[CV] END bootstrap=True, max_features=1.0, min_samples_leaf=7, min_samples_split=4, n_estimators=500; total time=   4.1s\n",
      "[CV] END bootstrap=True, max_features=1.0, min_samples_leaf=7, min_samples_split=4, n_estimators=500; total time=   4.0s\n",
      "[CV] END bootstrap=True, max_features=1.0, min_samples_leaf=7, min_samples_split=4, n_estimators=500; total time=   4.1s\n"
     ]
    },
    {
     "name": "stdout",
     "output_type": "stream",
     "text": [
      "[CV] END bootstrap=True, max_features=1.0, min_samples_leaf=7, min_samples_split=4, n_estimators=500; total time=   4.2s\n",
      "[CV] END bootstrap=True, max_features=1.0, min_samples_leaf=7, min_samples_split=4, n_estimators=500; total time=   4.1s\n",
      "[CV] END bootstrap=True, max_features=1.0, min_samples_leaf=7, min_samples_split=6, n_estimators=100; total time=   0.9s\n",
      "[CV] END bootstrap=True, max_features=1.0, min_samples_leaf=7, min_samples_split=6, n_estimators=100; total time=   0.7s\n",
      "[CV] END bootstrap=True, max_features=1.0, min_samples_leaf=7, min_samples_split=6, n_estimators=100; total time=   0.8s\n",
      "[CV] END bootstrap=True, max_features=1.0, min_samples_leaf=7, min_samples_split=6, n_estimators=100; total time=   0.8s\n",
      "[CV] END bootstrap=True, max_features=1.0, min_samples_leaf=7, min_samples_split=6, n_estimators=100; total time=   0.8s\n",
      "[CV] END bootstrap=True, max_features=1.0, min_samples_leaf=7, min_samples_split=6, n_estimators=200; total time=   1.6s\n",
      "[CV] END bootstrap=True, max_features=1.0, min_samples_leaf=7, min_samples_split=6, n_estimators=200; total time=   1.6s\n",
      "[CV] END bootstrap=True, max_features=1.0, min_samples_leaf=7, min_samples_split=6, n_estimators=200; total time=   1.6s\n",
      "[CV] END bootstrap=True, max_features=1.0, min_samples_leaf=7, min_samples_split=6, n_estimators=200; total time=   1.6s\n",
      "[CV] END bootstrap=True, max_features=1.0, min_samples_leaf=7, min_samples_split=6, n_estimators=200; total time=   1.6s\n",
      "[CV] END bootstrap=True, max_features=1.0, min_samples_leaf=7, min_samples_split=6, n_estimators=300; total time=   2.4s\n",
      "[CV] END bootstrap=True, max_features=1.0, min_samples_leaf=7, min_samples_split=6, n_estimators=300; total time=   2.4s\n",
      "[CV] END bootstrap=True, max_features=1.0, min_samples_leaf=7, min_samples_split=6, n_estimators=300; total time=   2.4s\n",
      "[CV] END bootstrap=True, max_features=1.0, min_samples_leaf=7, min_samples_split=6, n_estimators=300; total time=   2.5s\n",
      "[CV] END bootstrap=True, max_features=1.0, min_samples_leaf=7, min_samples_split=6, n_estimators=300; total time=   2.5s\n",
      "[CV] END bootstrap=True, max_features=1.0, min_samples_leaf=7, min_samples_split=6, n_estimators=400; total time=   3.2s\n",
      "[CV] END bootstrap=True, max_features=1.0, min_samples_leaf=7, min_samples_split=6, n_estimators=400; total time=   3.2s\n",
      "[CV] END bootstrap=True, max_features=1.0, min_samples_leaf=7, min_samples_split=6, n_estimators=400; total time=   3.3s\n",
      "[CV] END bootstrap=True, max_features=1.0, min_samples_leaf=7, min_samples_split=6, n_estimators=400; total time=   3.4s\n",
      "[CV] END bootstrap=True, max_features=1.0, min_samples_leaf=7, min_samples_split=6, n_estimators=400; total time=   3.3s\n",
      "[CV] END bootstrap=True, max_features=1.0, min_samples_leaf=7, min_samples_split=6, n_estimators=500; total time=   4.1s\n",
      "[CV] END bootstrap=True, max_features=1.0, min_samples_leaf=7, min_samples_split=6, n_estimators=500; total time=   4.0s\n",
      "[CV] END bootstrap=True, max_features=1.0, min_samples_leaf=7, min_samples_split=6, n_estimators=500; total time=   4.2s\n",
      "[CV] END bootstrap=True, max_features=1.0, min_samples_leaf=7, min_samples_split=6, n_estimators=500; total time=   4.2s\n",
      "[CV] END bootstrap=True, max_features=1.0, min_samples_leaf=7, min_samples_split=6, n_estimators=500; total time=   4.1s\n",
      "[CV] END bootstrap=True, max_features=1.0, min_samples_leaf=7, min_samples_split=8, n_estimators=100; total time=   0.7s\n",
      "[CV] END bootstrap=True, max_features=1.0, min_samples_leaf=7, min_samples_split=8, n_estimators=100; total time=   0.7s\n",
      "[CV] END bootstrap=True, max_features=1.0, min_samples_leaf=7, min_samples_split=8, n_estimators=100; total time=   0.7s\n",
      "[CV] END bootstrap=True, max_features=1.0, min_samples_leaf=7, min_samples_split=8, n_estimators=100; total time=   0.8s\n",
      "[CV] END bootstrap=True, max_features=1.0, min_samples_leaf=7, min_samples_split=8, n_estimators=100; total time=   0.8s\n",
      "[CV] END bootstrap=True, max_features=1.0, min_samples_leaf=7, min_samples_split=8, n_estimators=200; total time=   1.6s\n",
      "[CV] END bootstrap=True, max_features=1.0, min_samples_leaf=7, min_samples_split=8, n_estimators=200; total time=   1.6s\n",
      "[CV] END bootstrap=True, max_features=1.0, min_samples_leaf=7, min_samples_split=8, n_estimators=200; total time=   1.6s\n",
      "[CV] END bootstrap=True, max_features=1.0, min_samples_leaf=7, min_samples_split=8, n_estimators=200; total time=   1.6s\n",
      "[CV] END bootstrap=True, max_features=1.0, min_samples_leaf=7, min_samples_split=8, n_estimators=200; total time=   1.6s\n",
      "[CV] END bootstrap=True, max_features=1.0, min_samples_leaf=7, min_samples_split=8, n_estimators=300; total time=   2.4s\n",
      "[CV] END bootstrap=True, max_features=1.0, min_samples_leaf=7, min_samples_split=8, n_estimators=300; total time=   2.4s\n",
      "[CV] END bootstrap=True, max_features=1.0, min_samples_leaf=7, min_samples_split=8, n_estimators=300; total time=   2.5s\n",
      "[CV] END bootstrap=True, max_features=1.0, min_samples_leaf=7, min_samples_split=8, n_estimators=300; total time=   2.5s\n",
      "[CV] END bootstrap=True, max_features=1.0, min_samples_leaf=7, min_samples_split=8, n_estimators=300; total time=   2.5s\n",
      "[CV] END bootstrap=True, max_features=1.0, min_samples_leaf=7, min_samples_split=8, n_estimators=400; total time=   3.2s\n",
      "[CV] END bootstrap=True, max_features=1.0, min_samples_leaf=7, min_samples_split=8, n_estimators=400; total time=   3.2s\n",
      "[CV] END bootstrap=True, max_features=1.0, min_samples_leaf=7, min_samples_split=8, n_estimators=400; total time=   3.3s\n",
      "[CV] END bootstrap=True, max_features=1.0, min_samples_leaf=7, min_samples_split=8, n_estimators=400; total time=   3.3s\n",
      "[CV] END bootstrap=True, max_features=1.0, min_samples_leaf=7, min_samples_split=8, n_estimators=400; total time=   3.3s\n",
      "[CV] END bootstrap=True, max_features=1.0, min_samples_leaf=7, min_samples_split=8, n_estimators=500; total time=   4.1s\n",
      "[CV] END bootstrap=True, max_features=1.0, min_samples_leaf=7, min_samples_split=8, n_estimators=500; total time=   4.0s\n",
      "[CV] END bootstrap=True, max_features=1.0, min_samples_leaf=7, min_samples_split=8, n_estimators=500; total time=   4.2s\n",
      "[CV] END bootstrap=True, max_features=1.0, min_samples_leaf=7, min_samples_split=8, n_estimators=500; total time=   4.3s\n",
      "[CV] END bootstrap=True, max_features=1.0, min_samples_leaf=7, min_samples_split=8, n_estimators=500; total time=   4.1s\n",
      "[CV] END bootstrap=True, max_features=auto, min_samples_leaf=1, min_samples_split=2, n_estimators=100; total time=   0.6s\n",
      "[CV] END bootstrap=True, max_features=auto, min_samples_leaf=1, min_samples_split=2, n_estimators=100; total time=   0.6s\n",
      "[CV] END bootstrap=True, max_features=auto, min_samples_leaf=1, min_samples_split=2, n_estimators=100; total time=   0.7s\n",
      "[CV] END bootstrap=True, max_features=auto, min_samples_leaf=1, min_samples_split=2, n_estimators=100; total time=   0.6s\n",
      "[CV] END bootstrap=True, max_features=auto, min_samples_leaf=1, min_samples_split=2, n_estimators=100; total time=   0.7s\n",
      "[CV] END bootstrap=True, max_features=auto, min_samples_leaf=1, min_samples_split=2, n_estimators=200; total time=   1.3s\n",
      "[CV] END bootstrap=True, max_features=auto, min_samples_leaf=1, min_samples_split=2, n_estimators=200; total time=   1.3s\n",
      "[CV] END bootstrap=True, max_features=auto, min_samples_leaf=1, min_samples_split=2, n_estimators=200; total time=   1.4s\n",
      "[CV] END bootstrap=True, max_features=auto, min_samples_leaf=1, min_samples_split=2, n_estimators=200; total time=   1.4s\n",
      "[CV] END bootstrap=True, max_features=auto, min_samples_leaf=1, min_samples_split=2, n_estimators=200; total time=   1.4s\n",
      "[CV] END bootstrap=True, max_features=auto, min_samples_leaf=1, min_samples_split=2, n_estimators=300; total time=   2.0s\n",
      "[CV] END bootstrap=True, max_features=auto, min_samples_leaf=1, min_samples_split=2, n_estimators=300; total time=   2.0s\n",
      "[CV] END bootstrap=True, max_features=auto, min_samples_leaf=1, min_samples_split=2, n_estimators=300; total time=   2.1s\n",
      "[CV] END bootstrap=True, max_features=auto, min_samples_leaf=1, min_samples_split=2, n_estimators=300; total time=   2.1s\n",
      "[CV] END bootstrap=True, max_features=auto, min_samples_leaf=1, min_samples_split=2, n_estimators=300; total time=   2.1s\n",
      "[CV] END bootstrap=True, max_features=auto, min_samples_leaf=1, min_samples_split=2, n_estimators=400; total time=   2.7s\n"
     ]
    },
    {
     "name": "stdout",
     "output_type": "stream",
     "text": [
      "[CV] END bootstrap=True, max_features=auto, min_samples_leaf=1, min_samples_split=2, n_estimators=400; total time=   2.7s\n",
      "[CV] END bootstrap=True, max_features=auto, min_samples_leaf=1, min_samples_split=2, n_estimators=400; total time=   2.8s\n",
      "[CV] END bootstrap=True, max_features=auto, min_samples_leaf=1, min_samples_split=2, n_estimators=400; total time=   2.9s\n",
      "[CV] END bootstrap=True, max_features=auto, min_samples_leaf=1, min_samples_split=2, n_estimators=400; total time=   3.0s\n",
      "[CV] END bootstrap=True, max_features=auto, min_samples_leaf=1, min_samples_split=2, n_estimators=500; total time=   3.8s\n",
      "[CV] END bootstrap=True, max_features=auto, min_samples_leaf=1, min_samples_split=2, n_estimators=500; total time=   3.4s\n",
      "[CV] END bootstrap=True, max_features=auto, min_samples_leaf=1, min_samples_split=2, n_estimators=500; total time=   3.6s\n",
      "[CV] END bootstrap=True, max_features=auto, min_samples_leaf=1, min_samples_split=2, n_estimators=500; total time=   3.6s\n",
      "[CV] END bootstrap=True, max_features=auto, min_samples_leaf=1, min_samples_split=2, n_estimators=500; total time=   3.5s\n",
      "[CV] END bootstrap=True, max_features=auto, min_samples_leaf=1, min_samples_split=4, n_estimators=100; total time=   0.5s\n",
      "[CV] END bootstrap=True, max_features=auto, min_samples_leaf=1, min_samples_split=4, n_estimators=100; total time=   0.6s\n",
      "[CV] END bootstrap=True, max_features=auto, min_samples_leaf=1, min_samples_split=4, n_estimators=100; total time=   0.6s\n",
      "[CV] END bootstrap=True, max_features=auto, min_samples_leaf=1, min_samples_split=4, n_estimators=100; total time=   0.6s\n",
      "[CV] END bootstrap=True, max_features=auto, min_samples_leaf=1, min_samples_split=4, n_estimators=100; total time=   0.1s\n",
      "[CV] END bootstrap=True, max_features=auto, min_samples_leaf=1, min_samples_split=4, n_estimators=200; total time=   0.3s\n",
      "[CV] END bootstrap=True, max_features=auto, min_samples_leaf=1, min_samples_split=4, n_estimators=200; total time=   0.3s\n",
      "[CV] END bootstrap=True, max_features=auto, min_samples_leaf=1, min_samples_split=4, n_estimators=200; total time=   0.2s\n",
      "[CV] END bootstrap=True, max_features=auto, min_samples_leaf=1, min_samples_split=4, n_estimators=200; total time=   0.2s\n",
      "[CV] END bootstrap=True, max_features=auto, min_samples_leaf=1, min_samples_split=4, n_estimators=200; total time=   0.3s\n",
      "[CV] END bootstrap=True, max_features=auto, min_samples_leaf=1, min_samples_split=4, n_estimators=300; total time=   0.5s\n",
      "[CV] END bootstrap=True, max_features=auto, min_samples_leaf=1, min_samples_split=4, n_estimators=300; total time=   0.5s\n",
      "[CV] END bootstrap=True, max_features=auto, min_samples_leaf=1, min_samples_split=4, n_estimators=300; total time=   0.4s\n",
      "[CV] END bootstrap=True, max_features=auto, min_samples_leaf=1, min_samples_split=4, n_estimators=300; total time=   0.4s\n",
      "[CV] END bootstrap=True, max_features=auto, min_samples_leaf=1, min_samples_split=4, n_estimators=300; total time= 4.9min\n",
      "[CV] END bootstrap=True, max_features=auto, min_samples_leaf=1, min_samples_split=4, n_estimators=400; total time=   0.6s\n",
      "[CV] END bootstrap=True, max_features=auto, min_samples_leaf=1, min_samples_split=4, n_estimators=400; total time=   0.7s\n",
      "[CV] END bootstrap=True, max_features=auto, min_samples_leaf=1, min_samples_split=4, n_estimators=400; total time=   0.9s\n",
      "[CV] END bootstrap=True, max_features=auto, min_samples_leaf=1, min_samples_split=4, n_estimators=400; total time=   0.6s\n",
      "[CV] END bootstrap=True, max_features=auto, min_samples_leaf=1, min_samples_split=4, n_estimators=400; total time=   0.6s\n",
      "[CV] END bootstrap=True, max_features=auto, min_samples_leaf=1, min_samples_split=4, n_estimators=500; total time=   0.6s\n",
      "[CV] END bootstrap=True, max_features=auto, min_samples_leaf=1, min_samples_split=4, n_estimators=500; total time=   0.6s\n",
      "[CV] END bootstrap=True, max_features=auto, min_samples_leaf=1, min_samples_split=4, n_estimators=500; total time=   0.6s\n",
      "[CV] END bootstrap=True, max_features=auto, min_samples_leaf=1, min_samples_split=4, n_estimators=500; total time=   0.6s\n",
      "[CV] END bootstrap=True, max_features=auto, min_samples_leaf=1, min_samples_split=4, n_estimators=500; total time=   0.6s\n",
      "[CV] END bootstrap=True, max_features=auto, min_samples_leaf=1, min_samples_split=6, n_estimators=100; total time=   0.0s\n",
      "[CV] END bootstrap=True, max_features=auto, min_samples_leaf=1, min_samples_split=6, n_estimators=100; total time=   0.0s\n",
      "[CV] END bootstrap=True, max_features=auto, min_samples_leaf=1, min_samples_split=6, n_estimators=100; total time=   0.0s\n",
      "[CV] END bootstrap=True, max_features=auto, min_samples_leaf=1, min_samples_split=6, n_estimators=100; total time=   0.0s\n",
      "[CV] END bootstrap=True, max_features=auto, min_samples_leaf=1, min_samples_split=6, n_estimators=100; total time=   0.0s\n",
      "[CV] END bootstrap=True, max_features=auto, min_samples_leaf=1, min_samples_split=6, n_estimators=200; total time=   0.2s\n",
      "[CV] END bootstrap=True, max_features=auto, min_samples_leaf=1, min_samples_split=6, n_estimators=200; total time=   0.2s\n",
      "[CV] END bootstrap=True, max_features=auto, min_samples_leaf=1, min_samples_split=6, n_estimators=200; total time=   0.2s\n",
      "[CV] END bootstrap=True, max_features=auto, min_samples_leaf=1, min_samples_split=6, n_estimators=200; total time=   0.2s\n",
      "[CV] END bootstrap=True, max_features=auto, min_samples_leaf=1, min_samples_split=6, n_estimators=200; total time=   0.2s\n",
      "[CV] END bootstrap=True, max_features=auto, min_samples_leaf=1, min_samples_split=6, n_estimators=300; total time=   0.3s\n",
      "[CV] END bootstrap=True, max_features=auto, min_samples_leaf=1, min_samples_split=6, n_estimators=300; total time=   0.3s\n",
      "[CV] END bootstrap=True, max_features=auto, min_samples_leaf=1, min_samples_split=6, n_estimators=300; total time=   0.3s\n",
      "[CV] END bootstrap=True, max_features=auto, min_samples_leaf=1, min_samples_split=6, n_estimators=300; total time=   0.4s\n",
      "[CV] END bootstrap=True, max_features=auto, min_samples_leaf=1, min_samples_split=6, n_estimators=300; total time=   0.3s\n",
      "[CV] END bootstrap=True, max_features=auto, min_samples_leaf=1, min_samples_split=6, n_estimators=400; total time=   0.5s\n",
      "[CV] END bootstrap=True, max_features=auto, min_samples_leaf=1, min_samples_split=6, n_estimators=400; total time=   0.4s\n",
      "[CV] END bootstrap=True, max_features=auto, min_samples_leaf=1, min_samples_split=6, n_estimators=400; total time=   0.4s\n",
      "[CV] END bootstrap=True, max_features=auto, min_samples_leaf=1, min_samples_split=6, n_estimators=400; total time=   0.4s\n",
      "[CV] END bootstrap=True, max_features=auto, min_samples_leaf=1, min_samples_split=6, n_estimators=400; total time=   0.4s\n",
      "[CV] END bootstrap=True, max_features=auto, min_samples_leaf=1, min_samples_split=6, n_estimators=500; total time=   0.6s\n",
      "[CV] END bootstrap=True, max_features=auto, min_samples_leaf=1, min_samples_split=6, n_estimators=500; total time=   0.6s\n",
      "[CV] END bootstrap=True, max_features=auto, min_samples_leaf=1, min_samples_split=6, n_estimators=500; total time=   0.6s\n",
      "[CV] END bootstrap=True, max_features=auto, min_samples_leaf=1, min_samples_split=6, n_estimators=500; total time=   0.6s\n",
      "[CV] END bootstrap=True, max_features=auto, min_samples_leaf=1, min_samples_split=6, n_estimators=500; total time=   0.6s\n",
      "[CV] END bootstrap=True, max_features=auto, min_samples_leaf=1, min_samples_split=8, n_estimators=100; total time=   0.0s\n",
      "[CV] END bootstrap=True, max_features=auto, min_samples_leaf=1, min_samples_split=8, n_estimators=100; total time=   0.0s\n",
      "[CV] END bootstrap=True, max_features=auto, min_samples_leaf=1, min_samples_split=8, n_estimators=100; total time=   0.0s\n",
      "[CV] END bootstrap=True, max_features=auto, min_samples_leaf=1, min_samples_split=8, n_estimators=100; total time=   0.0s\n",
      "[CV] END bootstrap=True, max_features=auto, min_samples_leaf=1, min_samples_split=8, n_estimators=100; total time=   0.0s\n",
      "[CV] END bootstrap=True, max_features=auto, min_samples_leaf=1, min_samples_split=8, n_estimators=200; total time=   0.2s\n",
      "[CV] END bootstrap=True, max_features=auto, min_samples_leaf=1, min_samples_split=8, n_estimators=200; total time=   0.1s\n",
      "[CV] END bootstrap=True, max_features=auto, min_samples_leaf=1, min_samples_split=8, n_estimators=200; total time=   0.2s\n",
      "[CV] END bootstrap=True, max_features=auto, min_samples_leaf=1, min_samples_split=8, n_estimators=200; total time=   0.2s\n"
     ]
    },
    {
     "name": "stdout",
     "output_type": "stream",
     "text": [
      "[CV] END bootstrap=True, max_features=auto, min_samples_leaf=1, min_samples_split=8, n_estimators=200; total time=   0.2s\n",
      "[CV] END bootstrap=True, max_features=auto, min_samples_leaf=1, min_samples_split=8, n_estimators=300; total time=   0.3s\n",
      "[CV] END bootstrap=True, max_features=auto, min_samples_leaf=1, min_samples_split=8, n_estimators=300; total time=   0.3s\n",
      "[CV] END bootstrap=True, max_features=auto, min_samples_leaf=1, min_samples_split=8, n_estimators=300; total time=   0.3s\n",
      "[CV] END bootstrap=True, max_features=auto, min_samples_leaf=1, min_samples_split=8, n_estimators=300; total time=   0.3s\n",
      "[CV] END bootstrap=True, max_features=auto, min_samples_leaf=1, min_samples_split=8, n_estimators=300; total time=   0.3s\n",
      "[CV] END bootstrap=True, max_features=auto, min_samples_leaf=1, min_samples_split=8, n_estimators=400; total time=   0.4s\n",
      "[CV] END bootstrap=True, max_features=auto, min_samples_leaf=1, min_samples_split=8, n_estimators=400; total time=   0.4s\n",
      "[CV] END bootstrap=True, max_features=auto, min_samples_leaf=1, min_samples_split=8, n_estimators=400; total time=   0.4s\n",
      "[CV] END bootstrap=True, max_features=auto, min_samples_leaf=1, min_samples_split=8, n_estimators=400; total time=   0.4s\n",
      "[CV] END bootstrap=True, max_features=auto, min_samples_leaf=1, min_samples_split=8, n_estimators=400; total time=   0.4s\n",
      "[CV] END bootstrap=True, max_features=auto, min_samples_leaf=1, min_samples_split=8, n_estimators=500; total time=   0.5s\n",
      "[CV] END bootstrap=True, max_features=auto, min_samples_leaf=1, min_samples_split=8, n_estimators=500; total time=   0.5s\n",
      "[CV] END bootstrap=True, max_features=auto, min_samples_leaf=1, min_samples_split=8, n_estimators=500; total time=   0.6s\n",
      "[CV] END bootstrap=True, max_features=auto, min_samples_leaf=1, min_samples_split=8, n_estimators=500; total time=   0.6s\n",
      "[CV] END bootstrap=True, max_features=auto, min_samples_leaf=1, min_samples_split=8, n_estimators=500; total time=   0.5s\n",
      "[CV] END bootstrap=True, max_features=auto, min_samples_leaf=3, min_samples_split=2, n_estimators=100; total time=   0.0s\n",
      "[CV] END bootstrap=True, max_features=auto, min_samples_leaf=3, min_samples_split=2, n_estimators=100; total time=   0.0s\n",
      "[CV] END bootstrap=True, max_features=auto, min_samples_leaf=3, min_samples_split=2, n_estimators=100; total time=   0.0s\n",
      "[CV] END bootstrap=True, max_features=auto, min_samples_leaf=3, min_samples_split=2, n_estimators=100; total time=   0.0s\n",
      "[CV] END bootstrap=True, max_features=auto, min_samples_leaf=3, min_samples_split=2, n_estimators=100; total time=   0.0s\n",
      "[CV] END bootstrap=True, max_features=auto, min_samples_leaf=3, min_samples_split=2, n_estimators=200; total time=   0.1s\n",
      "[CV] END bootstrap=True, max_features=auto, min_samples_leaf=3, min_samples_split=2, n_estimators=200; total time=   0.1s\n",
      "[CV] END bootstrap=True, max_features=auto, min_samples_leaf=3, min_samples_split=2, n_estimators=200; total time=   0.1s\n",
      "[CV] END bootstrap=True, max_features=auto, min_samples_leaf=3, min_samples_split=2, n_estimators=200; total time=   0.1s\n",
      "[CV] END bootstrap=True, max_features=auto, min_samples_leaf=3, min_samples_split=2, n_estimators=200; total time=   0.1s\n",
      "[CV] END bootstrap=True, max_features=auto, min_samples_leaf=3, min_samples_split=2, n_estimators=300; total time=   0.2s\n",
      "[CV] END bootstrap=True, max_features=auto, min_samples_leaf=3, min_samples_split=2, n_estimators=300; total time=   0.2s\n",
      "[CV] END bootstrap=True, max_features=auto, min_samples_leaf=3, min_samples_split=2, n_estimators=300; total time=   0.2s\n",
      "[CV] END bootstrap=True, max_features=auto, min_samples_leaf=3, min_samples_split=2, n_estimators=300; total time=   0.2s\n",
      "[CV] END bootstrap=True, max_features=auto, min_samples_leaf=3, min_samples_split=2, n_estimators=300; total time=   0.2s\n",
      "[CV] END bootstrap=True, max_features=auto, min_samples_leaf=3, min_samples_split=2, n_estimators=400; total time=   0.3s\n",
      "[CV] END bootstrap=True, max_features=auto, min_samples_leaf=3, min_samples_split=2, n_estimators=400; total time=   0.3s\n",
      "[CV] END bootstrap=True, max_features=auto, min_samples_leaf=3, min_samples_split=2, n_estimators=400; total time=   0.3s\n",
      "[CV] END bootstrap=True, max_features=auto, min_samples_leaf=3, min_samples_split=2, n_estimators=400; total time=   0.4s\n",
      "[CV] END bootstrap=True, max_features=auto, min_samples_leaf=3, min_samples_split=2, n_estimators=400; total time=   0.3s\n",
      "[CV] END bootstrap=True, max_features=auto, min_samples_leaf=3, min_samples_split=2, n_estimators=500; total time=   0.5s\n",
      "[CV] END bootstrap=True, max_features=auto, min_samples_leaf=3, min_samples_split=2, n_estimators=500; total time=   0.4s\n",
      "[CV] END bootstrap=True, max_features=auto, min_samples_leaf=3, min_samples_split=2, n_estimators=500; total time=   0.4s\n",
      "[CV] END bootstrap=True, max_features=auto, min_samples_leaf=3, min_samples_split=2, n_estimators=500; total time=   0.5s\n",
      "[CV] END bootstrap=True, max_features=auto, min_samples_leaf=3, min_samples_split=2, n_estimators=500; total time=   0.5s\n",
      "[CV] END bootstrap=True, max_features=auto, min_samples_leaf=3, min_samples_split=4, n_estimators=100; total time=   0.0s\n",
      "[CV] END bootstrap=True, max_features=auto, min_samples_leaf=3, min_samples_split=4, n_estimators=100; total time=   0.0s\n",
      "[CV] END bootstrap=True, max_features=auto, min_samples_leaf=3, min_samples_split=4, n_estimators=100; total time=   0.0s\n",
      "[CV] END bootstrap=True, max_features=auto, min_samples_leaf=3, min_samples_split=4, n_estimators=100; total time=   0.0s\n",
      "[CV] END bootstrap=True, max_features=auto, min_samples_leaf=3, min_samples_split=4, n_estimators=100; total time=   0.0s\n",
      "[CV] END bootstrap=True, max_features=auto, min_samples_leaf=3, min_samples_split=4, n_estimators=200; total time=   0.1s\n",
      "[CV] END bootstrap=True, max_features=auto, min_samples_leaf=3, min_samples_split=4, n_estimators=200; total time=   0.1s\n",
      "[CV] END bootstrap=True, max_features=auto, min_samples_leaf=3, min_samples_split=4, n_estimators=200; total time=   0.1s\n",
      "[CV] END bootstrap=True, max_features=auto, min_samples_leaf=3, min_samples_split=4, n_estimators=200; total time=   0.1s\n",
      "[CV] END bootstrap=True, max_features=auto, min_samples_leaf=3, min_samples_split=4, n_estimators=200; total time=   0.1s\n",
      "[CV] END bootstrap=True, max_features=auto, min_samples_leaf=3, min_samples_split=4, n_estimators=300; total time=   0.2s\n",
      "[CV] END bootstrap=True, max_features=auto, min_samples_leaf=3, min_samples_split=4, n_estimators=300; total time=   0.2s\n",
      "[CV] END bootstrap=True, max_features=auto, min_samples_leaf=3, min_samples_split=4, n_estimators=300; total time=   0.2s\n",
      "[CV] END bootstrap=True, max_features=auto, min_samples_leaf=3, min_samples_split=4, n_estimators=300; total time=   0.2s\n",
      "[CV] END bootstrap=True, max_features=auto, min_samples_leaf=3, min_samples_split=4, n_estimators=300; total time=   0.2s\n",
      "[CV] END bootstrap=True, max_features=auto, min_samples_leaf=3, min_samples_split=4, n_estimators=400; total time=   0.3s\n",
      "[CV] END bootstrap=True, max_features=auto, min_samples_leaf=3, min_samples_split=4, n_estimators=400; total time=   0.3s\n",
      "[CV] END bootstrap=True, max_features=auto, min_samples_leaf=3, min_samples_split=4, n_estimators=400; total time=   0.3s\n",
      "[CV] END bootstrap=True, max_features=auto, min_samples_leaf=3, min_samples_split=4, n_estimators=400; total time=   0.4s\n",
      "[CV] END bootstrap=True, max_features=auto, min_samples_leaf=3, min_samples_split=4, n_estimators=400; total time=   0.3s\n",
      "[CV] END bootstrap=True, max_features=auto, min_samples_leaf=3, min_samples_split=4, n_estimators=500; total time=   0.4s\n",
      "[CV] END bootstrap=True, max_features=auto, min_samples_leaf=3, min_samples_split=4, n_estimators=500; total time=   0.4s\n",
      "[CV] END bootstrap=True, max_features=auto, min_samples_leaf=3, min_samples_split=4, n_estimators=500; total time=   0.4s\n",
      "[CV] END bootstrap=True, max_features=auto, min_samples_leaf=3, min_samples_split=4, n_estimators=500; total time=   0.5s\n",
      "[CV] END bootstrap=True, max_features=auto, min_samples_leaf=3, min_samples_split=4, n_estimators=500; total time=   0.5s\n",
      "[CV] END bootstrap=True, max_features=auto, min_samples_leaf=3, min_samples_split=6, n_estimators=100; total time=   0.0s\n",
      "[CV] END bootstrap=True, max_features=auto, min_samples_leaf=3, min_samples_split=6, n_estimators=100; total time=   0.0s\n",
      "[CV] END bootstrap=True, max_features=auto, min_samples_leaf=3, min_samples_split=6, n_estimators=100; total time=   0.0s\n"
     ]
    },
    {
     "name": "stdout",
     "output_type": "stream",
     "text": [
      "[CV] END bootstrap=True, max_features=auto, min_samples_leaf=3, min_samples_split=6, n_estimators=100; total time=   0.0s\n",
      "[CV] END bootstrap=True, max_features=auto, min_samples_leaf=3, min_samples_split=6, n_estimators=100; total time=   0.0s\n",
      "[CV] END bootstrap=True, max_features=auto, min_samples_leaf=3, min_samples_split=6, n_estimators=200; total time=   0.1s\n",
      "[CV] END bootstrap=True, max_features=auto, min_samples_leaf=3, min_samples_split=6, n_estimators=200; total time=   0.1s\n",
      "[CV] END bootstrap=True, max_features=auto, min_samples_leaf=3, min_samples_split=6, n_estimators=200; total time=   0.1s\n",
      "[CV] END bootstrap=True, max_features=auto, min_samples_leaf=3, min_samples_split=6, n_estimators=200; total time=   0.1s\n",
      "[CV] END bootstrap=True, max_features=auto, min_samples_leaf=3, min_samples_split=6, n_estimators=200; total time=   0.1s\n",
      "[CV] END bootstrap=True, max_features=auto, min_samples_leaf=3, min_samples_split=6, n_estimators=300; total time=   0.2s\n",
      "[CV] END bootstrap=True, max_features=auto, min_samples_leaf=3, min_samples_split=6, n_estimators=300; total time=   0.2s\n",
      "[CV] END bootstrap=True, max_features=auto, min_samples_leaf=3, min_samples_split=6, n_estimators=300; total time=   0.2s\n",
      "[CV] END bootstrap=True, max_features=auto, min_samples_leaf=3, min_samples_split=6, n_estimators=300; total time=   0.2s\n",
      "[CV] END bootstrap=True, max_features=auto, min_samples_leaf=3, min_samples_split=6, n_estimators=300; total time=   0.2s\n",
      "[CV] END bootstrap=True, max_features=auto, min_samples_leaf=3, min_samples_split=6, n_estimators=400; total time=   0.3s\n",
      "[CV] END bootstrap=True, max_features=auto, min_samples_leaf=3, min_samples_split=6, n_estimators=400; total time=   0.3s\n",
      "[CV] END bootstrap=True, max_features=auto, min_samples_leaf=3, min_samples_split=6, n_estimators=400; total time=   0.3s\n",
      "[CV] END bootstrap=True, max_features=auto, min_samples_leaf=3, min_samples_split=6, n_estimators=400; total time=   0.4s\n",
      "[CV] END bootstrap=True, max_features=auto, min_samples_leaf=3, min_samples_split=6, n_estimators=400; total time=   0.3s\n",
      "[CV] END bootstrap=True, max_features=auto, min_samples_leaf=3, min_samples_split=6, n_estimators=500; total time=   0.4s\n",
      "[CV] END bootstrap=True, max_features=auto, min_samples_leaf=3, min_samples_split=6, n_estimators=500; total time=   0.5s\n",
      "[CV] END bootstrap=True, max_features=auto, min_samples_leaf=3, min_samples_split=6, n_estimators=500; total time=   0.5s\n",
      "[CV] END bootstrap=True, max_features=auto, min_samples_leaf=3, min_samples_split=6, n_estimators=500; total time=   0.5s\n",
      "[CV] END bootstrap=True, max_features=auto, min_samples_leaf=3, min_samples_split=6, n_estimators=500; total time=   0.5s\n",
      "[CV] END bootstrap=True, max_features=auto, min_samples_leaf=3, min_samples_split=8, n_estimators=100; total time=   0.0s\n",
      "[CV] END bootstrap=True, max_features=auto, min_samples_leaf=3, min_samples_split=8, n_estimators=100; total time=   0.0s\n",
      "[CV] END bootstrap=True, max_features=auto, min_samples_leaf=3, min_samples_split=8, n_estimators=100; total time=   0.0s\n",
      "[CV] END bootstrap=True, max_features=auto, min_samples_leaf=3, min_samples_split=8, n_estimators=100; total time=   0.0s\n",
      "[CV] END bootstrap=True, max_features=auto, min_samples_leaf=3, min_samples_split=8, n_estimators=100; total time=   0.0s\n",
      "[CV] END bootstrap=True, max_features=auto, min_samples_leaf=3, min_samples_split=8, n_estimators=200; total time=   0.1s\n",
      "[CV] END bootstrap=True, max_features=auto, min_samples_leaf=3, min_samples_split=8, n_estimators=200; total time=   0.1s\n",
      "[CV] END bootstrap=True, max_features=auto, min_samples_leaf=3, min_samples_split=8, n_estimators=200; total time=   0.1s\n",
      "[CV] END bootstrap=True, max_features=auto, min_samples_leaf=3, min_samples_split=8, n_estimators=200; total time=   0.1s\n",
      "[CV] END bootstrap=True, max_features=auto, min_samples_leaf=3, min_samples_split=8, n_estimators=200; total time=   0.1s\n",
      "[CV] END bootstrap=True, max_features=auto, min_samples_leaf=3, min_samples_split=8, n_estimators=300; total time=   0.2s\n",
      "[CV] END bootstrap=True, max_features=auto, min_samples_leaf=3, min_samples_split=8, n_estimators=300; total time=   0.2s\n",
      "[CV] END bootstrap=True, max_features=auto, min_samples_leaf=3, min_samples_split=8, n_estimators=300; total time=   0.2s\n",
      "[CV] END bootstrap=True, max_features=auto, min_samples_leaf=3, min_samples_split=8, n_estimators=300; total time=   0.2s\n",
      "[CV] END bootstrap=True, max_features=auto, min_samples_leaf=3, min_samples_split=8, n_estimators=300; total time=   0.2s\n",
      "[CV] END bootstrap=True, max_features=auto, min_samples_leaf=3, min_samples_split=8, n_estimators=400; total time=   0.3s\n",
      "[CV] END bootstrap=True, max_features=auto, min_samples_leaf=3, min_samples_split=8, n_estimators=400; total time=   0.3s\n",
      "[CV] END bootstrap=True, max_features=auto, min_samples_leaf=3, min_samples_split=8, n_estimators=400; total time=   0.3s\n",
      "[CV] END bootstrap=True, max_features=auto, min_samples_leaf=3, min_samples_split=8, n_estimators=400; total time=   0.3s\n",
      "[CV] END bootstrap=True, max_features=auto, min_samples_leaf=3, min_samples_split=8, n_estimators=400; total time=   0.3s\n",
      "[CV] END bootstrap=True, max_features=auto, min_samples_leaf=3, min_samples_split=8, n_estimators=500; total time=   0.4s\n",
      "[CV] END bootstrap=True, max_features=auto, min_samples_leaf=3, min_samples_split=8, n_estimators=500; total time=   0.4s\n",
      "[CV] END bootstrap=True, max_features=auto, min_samples_leaf=3, min_samples_split=8, n_estimators=500; total time=   0.4s\n",
      "[CV] END bootstrap=True, max_features=auto, min_samples_leaf=3, min_samples_split=8, n_estimators=500; total time=   0.5s\n",
      "[CV] END bootstrap=True, max_features=auto, min_samples_leaf=3, min_samples_split=8, n_estimators=500; total time=   0.4s\n",
      "[CV] END bootstrap=True, max_features=auto, min_samples_leaf=5, min_samples_split=2, n_estimators=100; total time=   0.0s\n",
      "[CV] END bootstrap=True, max_features=auto, min_samples_leaf=5, min_samples_split=2, n_estimators=100; total time=   0.0s\n",
      "[CV] END bootstrap=True, max_features=auto, min_samples_leaf=5, min_samples_split=2, n_estimators=100; total time=   0.0s\n",
      "[CV] END bootstrap=True, max_features=auto, min_samples_leaf=5, min_samples_split=2, n_estimators=100; total time=   0.0s\n",
      "[CV] END bootstrap=True, max_features=auto, min_samples_leaf=5, min_samples_split=2, n_estimators=100; total time=   0.0s\n",
      "[CV] END bootstrap=True, max_features=auto, min_samples_leaf=5, min_samples_split=2, n_estimators=200; total time=   0.1s\n",
      "[CV] END bootstrap=True, max_features=auto, min_samples_leaf=5, min_samples_split=2, n_estimators=200; total time=   0.1s\n",
      "[CV] END bootstrap=True, max_features=auto, min_samples_leaf=5, min_samples_split=2, n_estimators=200; total time=   0.1s\n",
      "[CV] END bootstrap=True, max_features=auto, min_samples_leaf=5, min_samples_split=2, n_estimators=200; total time=   0.1s\n",
      "[CV] END bootstrap=True, max_features=auto, min_samples_leaf=5, min_samples_split=2, n_estimators=200; total time=   0.1s\n",
      "[CV] END bootstrap=True, max_features=auto, min_samples_leaf=5, min_samples_split=2, n_estimators=300; total time=   0.2s\n",
      "[CV] END bootstrap=True, max_features=auto, min_samples_leaf=5, min_samples_split=2, n_estimators=300; total time=   0.2s\n",
      "[CV] END bootstrap=True, max_features=auto, min_samples_leaf=5, min_samples_split=2, n_estimators=300; total time=   0.2s\n",
      "[CV] END bootstrap=True, max_features=auto, min_samples_leaf=5, min_samples_split=2, n_estimators=300; total time=   0.2s\n",
      "[CV] END bootstrap=True, max_features=auto, min_samples_leaf=5, min_samples_split=2, n_estimators=300; total time=   0.2s\n",
      "[CV] END bootstrap=True, max_features=auto, min_samples_leaf=5, min_samples_split=2, n_estimators=400; total time=   0.3s\n",
      "[CV] END bootstrap=True, max_features=auto, min_samples_leaf=5, min_samples_split=2, n_estimators=400; total time=   0.3s\n",
      "[CV] END bootstrap=True, max_features=auto, min_samples_leaf=5, min_samples_split=2, n_estimators=400; total time=   0.3s\n",
      "[CV] END bootstrap=True, max_features=auto, min_samples_leaf=5, min_samples_split=2, n_estimators=400; total time=   0.3s\n",
      "[CV] END bootstrap=True, max_features=auto, min_samples_leaf=5, min_samples_split=2, n_estimators=400; total time=   0.3s\n",
      "[CV] END bootstrap=True, max_features=auto, min_samples_leaf=5, min_samples_split=2, n_estimators=500; total time=   0.4s\n"
     ]
    },
    {
     "name": "stdout",
     "output_type": "stream",
     "text": [
      "[CV] END bootstrap=True, max_features=auto, min_samples_leaf=5, min_samples_split=2, n_estimators=500; total time=   0.4s\n",
      "[CV] END bootstrap=True, max_features=auto, min_samples_leaf=5, min_samples_split=2, n_estimators=500; total time=   0.4s\n",
      "[CV] END bootstrap=True, max_features=auto, min_samples_leaf=5, min_samples_split=2, n_estimators=500; total time=   0.4s\n",
      "[CV] END bootstrap=True, max_features=auto, min_samples_leaf=5, min_samples_split=2, n_estimators=500; total time=   0.5s\n",
      "[CV] END bootstrap=True, max_features=auto, min_samples_leaf=5, min_samples_split=4, n_estimators=100; total time=   0.0s\n",
      "[CV] END bootstrap=True, max_features=auto, min_samples_leaf=5, min_samples_split=4, n_estimators=100; total time=   0.0s\n",
      "[CV] END bootstrap=True, max_features=auto, min_samples_leaf=5, min_samples_split=4, n_estimators=100; total time=   0.0s\n",
      "[CV] END bootstrap=True, max_features=auto, min_samples_leaf=5, min_samples_split=4, n_estimators=100; total time=   0.0s\n",
      "[CV] END bootstrap=True, max_features=auto, min_samples_leaf=5, min_samples_split=4, n_estimators=100; total time=   0.0s\n",
      "[CV] END bootstrap=True, max_features=auto, min_samples_leaf=5, min_samples_split=4, n_estimators=200; total time=   0.1s\n",
      "[CV] END bootstrap=True, max_features=auto, min_samples_leaf=5, min_samples_split=4, n_estimators=200; total time=   0.1s\n",
      "[CV] END bootstrap=True, max_features=auto, min_samples_leaf=5, min_samples_split=4, n_estimators=200; total time=   0.1s\n",
      "[CV] END bootstrap=True, max_features=auto, min_samples_leaf=5, min_samples_split=4, n_estimators=200; total time=   0.1s\n",
      "[CV] END bootstrap=True, max_features=auto, min_samples_leaf=5, min_samples_split=4, n_estimators=200; total time=   0.1s\n",
      "[CV] END bootstrap=True, max_features=auto, min_samples_leaf=5, min_samples_split=4, n_estimators=300; total time=   0.2s\n",
      "[CV] END bootstrap=True, max_features=auto, min_samples_leaf=5, min_samples_split=4, n_estimators=300; total time=   0.2s\n",
      "[CV] END bootstrap=True, max_features=auto, min_samples_leaf=5, min_samples_split=4, n_estimators=300; total time=   0.2s\n",
      "[CV] END bootstrap=True, max_features=auto, min_samples_leaf=5, min_samples_split=4, n_estimators=300; total time=   0.2s\n",
      "[CV] END bootstrap=True, max_features=auto, min_samples_leaf=5, min_samples_split=4, n_estimators=300; total time=   0.2s\n",
      "[CV] END bootstrap=True, max_features=auto, min_samples_leaf=5, min_samples_split=4, n_estimators=400; total time=   0.3s\n",
      "[CV] END bootstrap=True, max_features=auto, min_samples_leaf=5, min_samples_split=4, n_estimators=400; total time=   0.3s\n",
      "[CV] END bootstrap=True, max_features=auto, min_samples_leaf=5, min_samples_split=4, n_estimators=400; total time=   0.3s\n",
      "[CV] END bootstrap=True, max_features=auto, min_samples_leaf=5, min_samples_split=4, n_estimators=400; total time=   0.3s\n",
      "[CV] END bootstrap=True, max_features=auto, min_samples_leaf=5, min_samples_split=4, n_estimators=400; total time=   0.3s\n",
      "[CV] END bootstrap=True, max_features=auto, min_samples_leaf=5, min_samples_split=4, n_estimators=500; total time=   0.4s\n",
      "[CV] END bootstrap=True, max_features=auto, min_samples_leaf=5, min_samples_split=4, n_estimators=500; total time=   0.4s\n",
      "[CV] END bootstrap=True, max_features=auto, min_samples_leaf=5, min_samples_split=4, n_estimators=500; total time=   0.4s\n",
      "[CV] END bootstrap=True, max_features=auto, min_samples_leaf=5, min_samples_split=4, n_estimators=500; total time=   0.4s\n",
      "[CV] END bootstrap=True, max_features=auto, min_samples_leaf=5, min_samples_split=4, n_estimators=500; total time=   0.4s\n",
      "[CV] END bootstrap=True, max_features=auto, min_samples_leaf=5, min_samples_split=6, n_estimators=100; total time=   0.0s\n",
      "[CV] END bootstrap=True, max_features=auto, min_samples_leaf=5, min_samples_split=6, n_estimators=100; total time=   0.0s\n",
      "[CV] END bootstrap=True, max_features=auto, min_samples_leaf=5, min_samples_split=6, n_estimators=100; total time=   0.0s\n",
      "[CV] END bootstrap=True, max_features=auto, min_samples_leaf=5, min_samples_split=6, n_estimators=100; total time=   0.0s\n",
      "[CV] END bootstrap=True, max_features=auto, min_samples_leaf=5, min_samples_split=6, n_estimators=100; total time=   0.0s\n",
      "[CV] END bootstrap=True, max_features=auto, min_samples_leaf=5, min_samples_split=6, n_estimators=200; total time=   0.1s\n",
      "[CV] END bootstrap=True, max_features=auto, min_samples_leaf=5, min_samples_split=6, n_estimators=200; total time=   0.1s\n",
      "[CV] END bootstrap=True, max_features=auto, min_samples_leaf=5, min_samples_split=6, n_estimators=200; total time=   0.1s\n",
      "[CV] END bootstrap=True, max_features=auto, min_samples_leaf=5, min_samples_split=6, n_estimators=200; total time=   0.1s\n",
      "[CV] END bootstrap=True, max_features=auto, min_samples_leaf=5, min_samples_split=6, n_estimators=200; total time=   0.1s\n",
      "[CV] END bootstrap=True, max_features=auto, min_samples_leaf=5, min_samples_split=6, n_estimators=300; total time=   0.2s\n",
      "[CV] END bootstrap=True, max_features=auto, min_samples_leaf=5, min_samples_split=6, n_estimators=300; total time=   0.2s\n",
      "[CV] END bootstrap=True, max_features=auto, min_samples_leaf=5, min_samples_split=6, n_estimators=300; total time=   0.2s\n",
      "[CV] END bootstrap=True, max_features=auto, min_samples_leaf=5, min_samples_split=6, n_estimators=300; total time=   0.2s\n",
      "[CV] END bootstrap=True, max_features=auto, min_samples_leaf=5, min_samples_split=6, n_estimators=300; total time=   0.2s\n",
      "[CV] END bootstrap=True, max_features=auto, min_samples_leaf=5, min_samples_split=6, n_estimators=400; total time=   0.3s\n",
      "[CV] END bootstrap=True, max_features=auto, min_samples_leaf=5, min_samples_split=6, n_estimators=400; total time=   0.3s\n",
      "[CV] END bootstrap=True, max_features=auto, min_samples_leaf=5, min_samples_split=6, n_estimators=400; total time=   0.3s\n",
      "[CV] END bootstrap=True, max_features=auto, min_samples_leaf=5, min_samples_split=6, n_estimators=400; total time=   0.4s\n",
      "[CV] END bootstrap=True, max_features=auto, min_samples_leaf=5, min_samples_split=6, n_estimators=400; total time=   0.5s\n",
      "[CV] END bootstrap=True, max_features=auto, min_samples_leaf=5, min_samples_split=6, n_estimators=500; total time=   0.4s\n",
      "[CV] END bootstrap=True, max_features=auto, min_samples_leaf=5, min_samples_split=6, n_estimators=500; total time=   0.4s\n",
      "[CV] END bootstrap=True, max_features=auto, min_samples_leaf=5, min_samples_split=6, n_estimators=500; total time=   0.4s\n",
      "[CV] END bootstrap=True, max_features=auto, min_samples_leaf=5, min_samples_split=6, n_estimators=500; total time=   0.4s\n",
      "[CV] END bootstrap=True, max_features=auto, min_samples_leaf=5, min_samples_split=6, n_estimators=500; total time=   0.4s\n",
      "[CV] END bootstrap=True, max_features=auto, min_samples_leaf=5, min_samples_split=8, n_estimators=100; total time=   0.0s\n",
      "[CV] END bootstrap=True, max_features=auto, min_samples_leaf=5, min_samples_split=8, n_estimators=100; total time=   0.0s\n",
      "[CV] END bootstrap=True, max_features=auto, min_samples_leaf=5, min_samples_split=8, n_estimators=100; total time=   0.0s\n",
      "[CV] END bootstrap=True, max_features=auto, min_samples_leaf=5, min_samples_split=8, n_estimators=100; total time=   0.0s\n",
      "[CV] END bootstrap=True, max_features=auto, min_samples_leaf=5, min_samples_split=8, n_estimators=100; total time=   0.0s\n",
      "[CV] END bootstrap=True, max_features=auto, min_samples_leaf=5, min_samples_split=8, n_estimators=200; total time=   0.1s\n",
      "[CV] END bootstrap=True, max_features=auto, min_samples_leaf=5, min_samples_split=8, n_estimators=200; total time=   0.1s\n",
      "[CV] END bootstrap=True, max_features=auto, min_samples_leaf=5, min_samples_split=8, n_estimators=200; total time=   0.1s\n",
      "[CV] END bootstrap=True, max_features=auto, min_samples_leaf=5, min_samples_split=8, n_estimators=200; total time=   0.1s\n",
      "[CV] END bootstrap=True, max_features=auto, min_samples_leaf=5, min_samples_split=8, n_estimators=200; total time=   0.1s\n",
      "[CV] END bootstrap=True, max_features=auto, min_samples_leaf=5, min_samples_split=8, n_estimators=300; total time=   0.2s\n",
      "[CV] END bootstrap=True, max_features=auto, min_samples_leaf=5, min_samples_split=8, n_estimators=300; total time=   0.2s\n",
      "[CV] END bootstrap=True, max_features=auto, min_samples_leaf=5, min_samples_split=8, n_estimators=300; total time=   0.2s\n",
      "[CV] END bootstrap=True, max_features=auto, min_samples_leaf=5, min_samples_split=8, n_estimators=300; total time=   0.2s\n"
     ]
    },
    {
     "name": "stdout",
     "output_type": "stream",
     "text": [
      "[CV] END bootstrap=True, max_features=auto, min_samples_leaf=5, min_samples_split=8, n_estimators=300; total time=   0.2s\n",
      "[CV] END bootstrap=True, max_features=auto, min_samples_leaf=5, min_samples_split=8, n_estimators=400; total time=   0.3s\n",
      "[CV] END bootstrap=True, max_features=auto, min_samples_leaf=5, min_samples_split=8, n_estimators=400; total time=   0.3s\n",
      "[CV] END bootstrap=True, max_features=auto, min_samples_leaf=5, min_samples_split=8, n_estimators=400; total time=   0.3s\n",
      "[CV] END bootstrap=True, max_features=auto, min_samples_leaf=5, min_samples_split=8, n_estimators=400; total time=   0.3s\n",
      "[CV] END bootstrap=True, max_features=auto, min_samples_leaf=5, min_samples_split=8, n_estimators=400; total time=   0.3s\n",
      "[CV] END bootstrap=True, max_features=auto, min_samples_leaf=5, min_samples_split=8, n_estimators=500; total time=   0.4s\n",
      "[CV] END bootstrap=True, max_features=auto, min_samples_leaf=5, min_samples_split=8, n_estimators=500; total time=   0.4s\n",
      "[CV] END bootstrap=True, max_features=auto, min_samples_leaf=5, min_samples_split=8, n_estimators=500; total time=   0.4s\n",
      "[CV] END bootstrap=True, max_features=auto, min_samples_leaf=5, min_samples_split=8, n_estimators=500; total time=   0.4s\n",
      "[CV] END bootstrap=True, max_features=auto, min_samples_leaf=5, min_samples_split=8, n_estimators=500; total time=   1.9s\n",
      "[CV] END bootstrap=True, max_features=auto, min_samples_leaf=7, min_samples_split=2, n_estimators=100; total time=   0.3s\n",
      "[CV] END bootstrap=True, max_features=auto, min_samples_leaf=7, min_samples_split=2, n_estimators=100; total time=   0.4s\n",
      "[CV] END bootstrap=True, max_features=auto, min_samples_leaf=7, min_samples_split=2, n_estimators=100; total time=   0.4s\n",
      "[CV] END bootstrap=True, max_features=auto, min_samples_leaf=7, min_samples_split=2, n_estimators=100; total time=   0.4s\n",
      "[CV] END bootstrap=True, max_features=auto, min_samples_leaf=7, min_samples_split=2, n_estimators=100; total time=   0.4s\n",
      "[CV] END bootstrap=True, max_features=auto, min_samples_leaf=7, min_samples_split=2, n_estimators=200; total time=   0.8s\n",
      "[CV] END bootstrap=True, max_features=auto, min_samples_leaf=7, min_samples_split=2, n_estimators=200; total time=   0.8s\n",
      "[CV] END bootstrap=True, max_features=auto, min_samples_leaf=7, min_samples_split=2, n_estimators=200; total time=   0.8s\n",
      "[CV] END bootstrap=True, max_features=auto, min_samples_leaf=7, min_samples_split=2, n_estimators=200; total time=   0.8s\n",
      "[CV] END bootstrap=True, max_features=auto, min_samples_leaf=7, min_samples_split=2, n_estimators=200; total time=   0.8s\n",
      "[CV] END bootstrap=True, max_features=auto, min_samples_leaf=7, min_samples_split=2, n_estimators=300; total time=   1.2s\n",
      "[CV] END bootstrap=True, max_features=auto, min_samples_leaf=7, min_samples_split=2, n_estimators=300; total time=   1.2s\n",
      "[CV] END bootstrap=True, max_features=auto, min_samples_leaf=7, min_samples_split=2, n_estimators=300; total time=   1.3s\n",
      "[CV] END bootstrap=True, max_features=auto, min_samples_leaf=7, min_samples_split=2, n_estimators=300; total time=   1.3s\n",
      "[CV] END bootstrap=True, max_features=auto, min_samples_leaf=7, min_samples_split=2, n_estimators=300; total time=   1.2s\n",
      "[CV] END bootstrap=True, max_features=auto, min_samples_leaf=7, min_samples_split=2, n_estimators=400; total time=   1.7s\n",
      "[CV] END bootstrap=True, max_features=auto, min_samples_leaf=7, min_samples_split=2, n_estimators=400; total time=   1.7s\n",
      "[CV] END bootstrap=True, max_features=auto, min_samples_leaf=7, min_samples_split=2, n_estimators=400; total time=   1.8s\n",
      "[CV] END bootstrap=True, max_features=auto, min_samples_leaf=7, min_samples_split=2, n_estimators=400; total time=   1.8s\n",
      "[CV] END bootstrap=True, max_features=auto, min_samples_leaf=7, min_samples_split=2, n_estimators=400; total time=   1.8s\n",
      "[CV] END bootstrap=True, max_features=auto, min_samples_leaf=7, min_samples_split=2, n_estimators=500; total time=   2.1s\n",
      "[CV] END bootstrap=True, max_features=auto, min_samples_leaf=7, min_samples_split=2, n_estimators=500; total time=   2.2s\n",
      "[CV] END bootstrap=True, max_features=auto, min_samples_leaf=7, min_samples_split=2, n_estimators=500; total time=   2.1s\n",
      "[CV] END bootstrap=True, max_features=auto, min_samples_leaf=7, min_samples_split=2, n_estimators=500; total time=   2.2s\n",
      "[CV] END bootstrap=True, max_features=auto, min_samples_leaf=7, min_samples_split=2, n_estimators=500; total time=   2.1s\n",
      "[CV] END bootstrap=True, max_features=auto, min_samples_leaf=7, min_samples_split=4, n_estimators=100; total time=   0.4s\n",
      "[CV] END bootstrap=True, max_features=auto, min_samples_leaf=7, min_samples_split=4, n_estimators=100; total time=   0.4s\n",
      "[CV] END bootstrap=True, max_features=auto, min_samples_leaf=7, min_samples_split=4, n_estimators=100; total time=   0.4s\n",
      "[CV] END bootstrap=True, max_features=auto, min_samples_leaf=7, min_samples_split=4, n_estimators=100; total time=   0.4s\n",
      "[CV] END bootstrap=True, max_features=auto, min_samples_leaf=7, min_samples_split=4, n_estimators=100; total time=   0.4s\n",
      "[CV] END bootstrap=True, max_features=auto, min_samples_leaf=7, min_samples_split=4, n_estimators=200; total time=   0.8s\n",
      "[CV] END bootstrap=True, max_features=auto, min_samples_leaf=7, min_samples_split=4, n_estimators=200; total time=   0.8s\n",
      "[CV] END bootstrap=True, max_features=auto, min_samples_leaf=7, min_samples_split=4, n_estimators=200; total time=   0.8s\n",
      "[CV] END bootstrap=True, max_features=auto, min_samples_leaf=7, min_samples_split=4, n_estimators=200; total time=   0.8s\n",
      "[CV] END bootstrap=True, max_features=auto, min_samples_leaf=7, min_samples_split=4, n_estimators=200; total time=   0.8s\n",
      "[CV] END bootstrap=True, max_features=auto, min_samples_leaf=7, min_samples_split=4, n_estimators=300; total time=   1.3s\n",
      "[CV] END bootstrap=True, max_features=auto, min_samples_leaf=7, min_samples_split=4, n_estimators=300; total time=   1.2s\n",
      "[CV] END bootstrap=True, max_features=auto, min_samples_leaf=7, min_samples_split=4, n_estimators=300; total time=   1.3s\n",
      "[CV] END bootstrap=True, max_features=auto, min_samples_leaf=7, min_samples_split=4, n_estimators=300; total time=   1.3s\n",
      "[CV] END bootstrap=True, max_features=auto, min_samples_leaf=7, min_samples_split=4, n_estimators=300; total time=   1.2s\n",
      "[CV] END bootstrap=True, max_features=auto, min_samples_leaf=7, min_samples_split=4, n_estimators=400; total time=   1.7s\n",
      "[CV] END bootstrap=True, max_features=auto, min_samples_leaf=7, min_samples_split=4, n_estimators=400; total time=   1.7s\n",
      "[CV] END bootstrap=True, max_features=auto, min_samples_leaf=7, min_samples_split=4, n_estimators=400; total time=   1.7s\n",
      "[CV] END bootstrap=True, max_features=auto, min_samples_leaf=7, min_samples_split=4, n_estimators=400; total time=   1.8s\n",
      "[CV] END bootstrap=True, max_features=auto, min_samples_leaf=7, min_samples_split=4, n_estimators=400; total time=   1.7s\n",
      "[CV] END bootstrap=True, max_features=auto, min_samples_leaf=7, min_samples_split=4, n_estimators=500; total time=   2.2s\n",
      "[CV] END bootstrap=True, max_features=auto, min_samples_leaf=7, min_samples_split=4, n_estimators=500; total time=   2.1s\n",
      "[CV] END bootstrap=True, max_features=auto, min_samples_leaf=7, min_samples_split=4, n_estimators=500; total time=   2.1s\n",
      "[CV] END bootstrap=True, max_features=auto, min_samples_leaf=7, min_samples_split=4, n_estimators=500; total time=   2.2s\n",
      "[CV] END bootstrap=True, max_features=auto, min_samples_leaf=7, min_samples_split=4, n_estimators=500; total time=   2.1s\n",
      "[CV] END bootstrap=True, max_features=auto, min_samples_leaf=7, min_samples_split=6, n_estimators=100; total time=   0.4s\n",
      "[CV] END bootstrap=True, max_features=auto, min_samples_leaf=7, min_samples_split=6, n_estimators=100; total time=   0.3s\n",
      "[CV] END bootstrap=True, max_features=auto, min_samples_leaf=7, min_samples_split=6, n_estimators=100; total time=   0.4s\n",
      "[CV] END bootstrap=True, max_features=auto, min_samples_leaf=7, min_samples_split=6, n_estimators=100; total time=   0.4s\n",
      "[CV] END bootstrap=True, max_features=auto, min_samples_leaf=7, min_samples_split=6, n_estimators=100; total time=   0.3s\n",
      "[CV] END bootstrap=True, max_features=auto, min_samples_leaf=7, min_samples_split=6, n_estimators=200; total time=   0.8s\n",
      "[CV] END bootstrap=True, max_features=auto, min_samples_leaf=7, min_samples_split=6, n_estimators=200; total time=   0.8s\n"
     ]
    },
    {
     "name": "stdout",
     "output_type": "stream",
     "text": [
      "[CV] END bootstrap=True, max_features=auto, min_samples_leaf=7, min_samples_split=6, n_estimators=200; total time=   0.8s\n",
      "[CV] END bootstrap=True, max_features=auto, min_samples_leaf=7, min_samples_split=6, n_estimators=200; total time=   0.8s\n",
      "[CV] END bootstrap=True, max_features=auto, min_samples_leaf=7, min_samples_split=6, n_estimators=200; total time=   0.8s\n",
      "[CV] END bootstrap=True, max_features=auto, min_samples_leaf=7, min_samples_split=6, n_estimators=300; total time=   1.2s\n",
      "[CV] END bootstrap=True, max_features=auto, min_samples_leaf=7, min_samples_split=6, n_estimators=300; total time=   1.2s\n",
      "[CV] END bootstrap=True, max_features=auto, min_samples_leaf=7, min_samples_split=6, n_estimators=300; total time=   1.2s\n",
      "[CV] END bootstrap=True, max_features=auto, min_samples_leaf=7, min_samples_split=6, n_estimators=300; total time=   1.3s\n",
      "[CV] END bootstrap=True, max_features=auto, min_samples_leaf=7, min_samples_split=6, n_estimators=300; total time=   1.3s\n",
      "[CV] END bootstrap=True, max_features=auto, min_samples_leaf=7, min_samples_split=6, n_estimators=400; total time=   1.7s\n",
      "[CV] END bootstrap=True, max_features=auto, min_samples_leaf=7, min_samples_split=6, n_estimators=400; total time=   1.7s\n",
      "[CV] END bootstrap=True, max_features=auto, min_samples_leaf=7, min_samples_split=6, n_estimators=400; total time=   1.7s\n",
      "[CV] END bootstrap=True, max_features=auto, min_samples_leaf=7, min_samples_split=6, n_estimators=400; total time=   1.8s\n",
      "[CV] END bootstrap=True, max_features=auto, min_samples_leaf=7, min_samples_split=6, n_estimators=400; total time=   1.6s\n",
      "[CV] END bootstrap=True, max_features=auto, min_samples_leaf=7, min_samples_split=6, n_estimators=500; total time=   2.9s\n",
      "[CV] END bootstrap=True, max_features=auto, min_samples_leaf=7, min_samples_split=6, n_estimators=500; total time=   2.6s\n",
      "[CV] END bootstrap=True, max_features=auto, min_samples_leaf=7, min_samples_split=6, n_estimators=500; total time=   2.2s\n",
      "[CV] END bootstrap=True, max_features=auto, min_samples_leaf=7, min_samples_split=6, n_estimators=500; total time=   2.2s\n",
      "[CV] END bootstrap=True, max_features=auto, min_samples_leaf=7, min_samples_split=6, n_estimators=500; total time=   2.2s\n",
      "[CV] END bootstrap=True, max_features=auto, min_samples_leaf=7, min_samples_split=8, n_estimators=100; total time=   0.4s\n",
      "[CV] END bootstrap=True, max_features=auto, min_samples_leaf=7, min_samples_split=8, n_estimators=100; total time=   0.4s\n",
      "[CV] END bootstrap=True, max_features=auto, min_samples_leaf=7, min_samples_split=8, n_estimators=100; total time=   0.4s\n",
      "[CV] END bootstrap=True, max_features=auto, min_samples_leaf=7, min_samples_split=8, n_estimators=100; total time=   0.4s\n",
      "[CV] END bootstrap=True, max_features=auto, min_samples_leaf=7, min_samples_split=8, n_estimators=100; total time=   0.4s\n",
      "[CV] END bootstrap=True, max_features=auto, min_samples_leaf=7, min_samples_split=8, n_estimators=200; total time=   0.8s\n",
      "[CV] END bootstrap=True, max_features=auto, min_samples_leaf=7, min_samples_split=8, n_estimators=200; total time=   0.8s\n",
      "[CV] END bootstrap=True, max_features=auto, min_samples_leaf=7, min_samples_split=8, n_estimators=200; total time=   0.8s\n",
      "[CV] END bootstrap=True, max_features=auto, min_samples_leaf=7, min_samples_split=8, n_estimators=200; total time=   0.9s\n",
      "[CV] END bootstrap=True, max_features=auto, min_samples_leaf=7, min_samples_split=8, n_estimators=200; total time=   0.8s\n",
      "[CV] END bootstrap=True, max_features=auto, min_samples_leaf=7, min_samples_split=8, n_estimators=300; total time=   1.2s\n",
      "[CV] END bootstrap=True, max_features=auto, min_samples_leaf=7, min_samples_split=8, n_estimators=300; total time=   1.2s\n",
      "[CV] END bootstrap=True, max_features=auto, min_samples_leaf=7, min_samples_split=8, n_estimators=300; total time=   1.2s\n",
      "[CV] END bootstrap=True, max_features=auto, min_samples_leaf=7, min_samples_split=8, n_estimators=300; total time=   1.3s\n",
      "[CV] END bootstrap=True, max_features=auto, min_samples_leaf=7, min_samples_split=8, n_estimators=300; total time=   1.3s\n",
      "[CV] END bootstrap=True, max_features=auto, min_samples_leaf=7, min_samples_split=8, n_estimators=400; total time=   1.7s\n",
      "[CV] END bootstrap=True, max_features=auto, min_samples_leaf=7, min_samples_split=8, n_estimators=400; total time=   1.8s\n",
      "[CV] END bootstrap=True, max_features=auto, min_samples_leaf=7, min_samples_split=8, n_estimators=400; total time=   2.3s\n",
      "[CV] END bootstrap=True, max_features=auto, min_samples_leaf=7, min_samples_split=8, n_estimators=400; total time=   2.2s\n",
      "[CV] END bootstrap=True, max_features=auto, min_samples_leaf=7, min_samples_split=8, n_estimators=400; total time=   2.2s\n",
      "[CV] END bootstrap=True, max_features=auto, min_samples_leaf=7, min_samples_split=8, n_estimators=500; total time=   2.6s\n",
      "[CV] END bootstrap=True, max_features=auto, min_samples_leaf=7, min_samples_split=8, n_estimators=500; total time=   2.2s\n",
      "[CV] END bootstrap=True, max_features=auto, min_samples_leaf=7, min_samples_split=8, n_estimators=500; total time=   2.1s\n",
      "[CV] END bootstrap=True, max_features=auto, min_samples_leaf=7, min_samples_split=8, n_estimators=500; total time=   2.2s\n",
      "[CV] END bootstrap=True, max_features=auto, min_samples_leaf=7, min_samples_split=8, n_estimators=500; total time=   2.1s\n",
      "[CV] END bootstrap=False, max_features=0.5, min_samples_leaf=1, min_samples_split=2, n_estimators=100; total time=   0.9s\n",
      "[CV] END bootstrap=False, max_features=0.5, min_samples_leaf=1, min_samples_split=2, n_estimators=100; total time=   0.9s\n",
      "[CV] END bootstrap=False, max_features=0.5, min_samples_leaf=1, min_samples_split=2, n_estimators=100; total time=   1.0s\n",
      "[CV] END bootstrap=False, max_features=0.5, min_samples_leaf=1, min_samples_split=2, n_estimators=100; total time=   0.9s\n",
      "[CV] END bootstrap=False, max_features=0.5, min_samples_leaf=1, min_samples_split=2, n_estimators=100; total time=   0.9s\n",
      "[CV] END bootstrap=False, max_features=0.5, min_samples_leaf=1, min_samples_split=2, n_estimators=200; total time=   1.9s\n",
      "[CV] END bootstrap=False, max_features=0.5, min_samples_leaf=1, min_samples_split=2, n_estimators=200; total time=   1.9s\n",
      "[CV] END bootstrap=False, max_features=0.5, min_samples_leaf=1, min_samples_split=2, n_estimators=200; total time=   2.0s\n",
      "[CV] END bootstrap=False, max_features=0.5, min_samples_leaf=1, min_samples_split=2, n_estimators=200; total time=   2.0s\n",
      "[CV] END bootstrap=False, max_features=0.5, min_samples_leaf=1, min_samples_split=2, n_estimators=200; total time=   2.0s\n",
      "[CV] END bootstrap=False, max_features=0.5, min_samples_leaf=1, min_samples_split=2, n_estimators=300; total time=   2.9s\n",
      "[CV] END bootstrap=False, max_features=0.5, min_samples_leaf=1, min_samples_split=2, n_estimators=300; total time=   2.8s\n",
      "[CV] END bootstrap=False, max_features=0.5, min_samples_leaf=1, min_samples_split=2, n_estimators=300; total time=   3.0s\n",
      "[CV] END bootstrap=False, max_features=0.5, min_samples_leaf=1, min_samples_split=2, n_estimators=300; total time=   3.0s\n",
      "[CV] END bootstrap=False, max_features=0.5, min_samples_leaf=1, min_samples_split=2, n_estimators=300; total time=   3.0s\n",
      "[CV] END bootstrap=False, max_features=0.5, min_samples_leaf=1, min_samples_split=2, n_estimators=400; total time=   3.9s\n",
      "[CV] END bootstrap=False, max_features=0.5, min_samples_leaf=1, min_samples_split=2, n_estimators=400; total time=   3.8s\n",
      "[CV] END bootstrap=False, max_features=0.5, min_samples_leaf=1, min_samples_split=2, n_estimators=400; total time=   4.1s\n",
      "[CV] END bootstrap=False, max_features=0.5, min_samples_leaf=1, min_samples_split=2, n_estimators=400; total time=   4.1s\n",
      "[CV] END bootstrap=False, max_features=0.5, min_samples_leaf=1, min_samples_split=2, n_estimators=400; total time=   4.0s\n",
      "[CV] END bootstrap=False, max_features=0.5, min_samples_leaf=1, min_samples_split=2, n_estimators=500; total time=   4.9s\n",
      "[CV] END bootstrap=False, max_features=0.5, min_samples_leaf=1, min_samples_split=2, n_estimators=500; total time=   4.7s\n",
      "[CV] END bootstrap=False, max_features=0.5, min_samples_leaf=1, min_samples_split=2, n_estimators=500; total time=   5.1s\n",
      "[CV] END bootstrap=False, max_features=0.5, min_samples_leaf=1, min_samples_split=2, n_estimators=500; total time=   4.8s\n",
      "[CV] END bootstrap=False, max_features=0.5, min_samples_leaf=1, min_samples_split=2, n_estimators=500; total time=   6.1s\n"
     ]
    },
    {
     "name": "stdout",
     "output_type": "stream",
     "text": [
      "[CV] END bootstrap=False, max_features=0.5, min_samples_leaf=1, min_samples_split=4, n_estimators=100; total time=   0.9s\n",
      "[CV] END bootstrap=False, max_features=0.5, min_samples_leaf=1, min_samples_split=4, n_estimators=100; total time=   0.9s\n",
      "[CV] END bootstrap=False, max_features=0.5, min_samples_leaf=1, min_samples_split=4, n_estimators=100; total time=   1.1s\n",
      "[CV] END bootstrap=False, max_features=0.5, min_samples_leaf=1, min_samples_split=4, n_estimators=100; total time=   1.1s\n",
      "[CV] END bootstrap=False, max_features=0.5, min_samples_leaf=1, min_samples_split=4, n_estimators=100; total time=   1.0s\n",
      "[CV] END bootstrap=False, max_features=0.5, min_samples_leaf=1, min_samples_split=4, n_estimators=200; total time=   2.2s\n",
      "[CV] END bootstrap=False, max_features=0.5, min_samples_leaf=1, min_samples_split=4, n_estimators=200; total time=   2.1s\n",
      "[CV] END bootstrap=False, max_features=0.5, min_samples_leaf=1, min_samples_split=4, n_estimators=200; total time=   2.2s\n",
      "[CV] END bootstrap=False, max_features=0.5, min_samples_leaf=1, min_samples_split=4, n_estimators=200; total time=   2.2s\n",
      "[CV] END bootstrap=False, max_features=0.5, min_samples_leaf=1, min_samples_split=4, n_estimators=200; total time=   2.3s\n",
      "[CV] END bootstrap=False, max_features=0.5, min_samples_leaf=1, min_samples_split=4, n_estimators=300; total time=   3.2s\n",
      "[CV] END bootstrap=False, max_features=0.5, min_samples_leaf=1, min_samples_split=4, n_estimators=300; total time=   3.4s\n",
      "[CV] END bootstrap=False, max_features=0.5, min_samples_leaf=1, min_samples_split=4, n_estimators=300; total time=   3.6s\n",
      "[CV] END bootstrap=False, max_features=0.5, min_samples_leaf=1, min_samples_split=4, n_estimators=300; total time=   3.4s\n",
      "[CV] END bootstrap=False, max_features=0.5, min_samples_leaf=1, min_samples_split=4, n_estimators=300; total time=   2.9s\n",
      "[CV] END bootstrap=False, max_features=0.5, min_samples_leaf=1, min_samples_split=4, n_estimators=400; total time=   3.7s\n",
      "[CV] END bootstrap=False, max_features=0.5, min_samples_leaf=1, min_samples_split=4, n_estimators=400; total time=   3.6s\n",
      "[CV] END bootstrap=False, max_features=0.5, min_samples_leaf=1, min_samples_split=4, n_estimators=400; total time=   4.0s\n",
      "[CV] END bootstrap=False, max_features=0.5, min_samples_leaf=1, min_samples_split=4, n_estimators=400; total time=   3.9s\n",
      "[CV] END bootstrap=False, max_features=0.5, min_samples_leaf=1, min_samples_split=4, n_estimators=400; total time=   3.9s\n",
      "[CV] END bootstrap=False, max_features=0.5, min_samples_leaf=1, min_samples_split=4, n_estimators=500; total time=   4.6s\n",
      "[CV] END bootstrap=False, max_features=0.5, min_samples_leaf=1, min_samples_split=4, n_estimators=500; total time=   4.5s\n",
      "[CV] END bootstrap=False, max_features=0.5, min_samples_leaf=1, min_samples_split=4, n_estimators=500; total time=   4.8s\n",
      "[CV] END bootstrap=False, max_features=0.5, min_samples_leaf=1, min_samples_split=4, n_estimators=500; total time=   4.8s\n",
      "[CV] END bootstrap=False, max_features=0.5, min_samples_leaf=1, min_samples_split=4, n_estimators=500; total time=   4.8s\n",
      "[CV] END bootstrap=False, max_features=0.5, min_samples_leaf=1, min_samples_split=6, n_estimators=100; total time=   0.8s\n",
      "[CV] END bootstrap=False, max_features=0.5, min_samples_leaf=1, min_samples_split=6, n_estimators=100; total time=   0.8s\n",
      "[CV] END bootstrap=False, max_features=0.5, min_samples_leaf=1, min_samples_split=6, n_estimators=100; total time=   0.8s\n",
      "[CV] END bootstrap=False, max_features=0.5, min_samples_leaf=1, min_samples_split=6, n_estimators=100; total time=   0.9s\n",
      "[CV] END bootstrap=False, max_features=0.5, min_samples_leaf=1, min_samples_split=6, n_estimators=100; total time=   0.9s\n",
      "[CV] END bootstrap=False, max_features=0.5, min_samples_leaf=1, min_samples_split=6, n_estimators=200; total time=   1.8s\n",
      "[CV] END bootstrap=False, max_features=0.5, min_samples_leaf=1, min_samples_split=6, n_estimators=200; total time=   1.7s\n",
      "[CV] END bootstrap=False, max_features=0.5, min_samples_leaf=1, min_samples_split=6, n_estimators=200; total time=   1.8s\n",
      "[CV] END bootstrap=False, max_features=0.5, min_samples_leaf=1, min_samples_split=6, n_estimators=200; total time=   1.8s\n",
      "[CV] END bootstrap=False, max_features=0.5, min_samples_leaf=1, min_samples_split=6, n_estimators=200; total time=   1.8s\n",
      "[CV] END bootstrap=False, max_features=0.5, min_samples_leaf=1, min_samples_split=6, n_estimators=300; total time=   2.6s\n",
      "[CV] END bootstrap=False, max_features=0.5, min_samples_leaf=1, min_samples_split=6, n_estimators=300; total time=   2.6s\n",
      "[CV] END bootstrap=False, max_features=0.5, min_samples_leaf=1, min_samples_split=6, n_estimators=300; total time=   2.7s\n",
      "[CV] END bootstrap=False, max_features=0.5, min_samples_leaf=1, min_samples_split=6, n_estimators=300; total time=   2.8s\n",
      "[CV] END bootstrap=False, max_features=0.5, min_samples_leaf=1, min_samples_split=6, n_estimators=300; total time=   2.7s\n",
      "[CV] END bootstrap=False, max_features=0.5, min_samples_leaf=1, min_samples_split=6, n_estimators=400; total time=   3.6s\n",
      "[CV] END bootstrap=False, max_features=0.5, min_samples_leaf=1, min_samples_split=6, n_estimators=400; total time=   3.4s\n",
      "[CV] END bootstrap=False, max_features=0.5, min_samples_leaf=1, min_samples_split=6, n_estimators=400; total time=   3.7s\n",
      "[CV] END bootstrap=False, max_features=0.5, min_samples_leaf=1, min_samples_split=6, n_estimators=400; total time=   3.7s\n",
      "[CV] END bootstrap=False, max_features=0.5, min_samples_leaf=1, min_samples_split=6, n_estimators=400; total time=   3.7s\n",
      "[CV] END bootstrap=False, max_features=0.5, min_samples_leaf=1, min_samples_split=6, n_estimators=500; total time=   4.4s\n",
      "[CV] END bootstrap=False, max_features=0.5, min_samples_leaf=1, min_samples_split=6, n_estimators=500; total time=   4.4s\n",
      "[CV] END bootstrap=False, max_features=0.5, min_samples_leaf=1, min_samples_split=6, n_estimators=500; total time=   4.7s\n",
      "[CV] END bootstrap=False, max_features=0.5, min_samples_leaf=1, min_samples_split=6, n_estimators=500; total time=   4.7s\n",
      "[CV] END bootstrap=False, max_features=0.5, min_samples_leaf=1, min_samples_split=6, n_estimators=500; total time=   4.6s\n",
      "[CV] END bootstrap=False, max_features=0.5, min_samples_leaf=1, min_samples_split=8, n_estimators=100; total time=   0.8s\n",
      "[CV] END bootstrap=False, max_features=0.5, min_samples_leaf=1, min_samples_split=8, n_estimators=100; total time=   0.8s\n",
      "[CV] END bootstrap=False, max_features=0.5, min_samples_leaf=1, min_samples_split=8, n_estimators=100; total time=   0.8s\n",
      "[CV] END bootstrap=False, max_features=0.5, min_samples_leaf=1, min_samples_split=8, n_estimators=100; total time=   0.8s\n",
      "[CV] END bootstrap=False, max_features=0.5, min_samples_leaf=1, min_samples_split=8, n_estimators=100; total time=   0.8s\n",
      "[CV] END bootstrap=False, max_features=0.5, min_samples_leaf=1, min_samples_split=8, n_estimators=200; total time=   1.6s\n",
      "[CV] END bootstrap=False, max_features=0.5, min_samples_leaf=1, min_samples_split=8, n_estimators=200; total time=   1.6s\n",
      "[CV] END bootstrap=False, max_features=0.5, min_samples_leaf=1, min_samples_split=8, n_estimators=200; total time=   1.7s\n",
      "[CV] END bootstrap=False, max_features=0.5, min_samples_leaf=1, min_samples_split=8, n_estimators=200; total time=   1.7s\n",
      "[CV] END bootstrap=False, max_features=0.5, min_samples_leaf=1, min_samples_split=8, n_estimators=200; total time=   1.7s\n",
      "[CV] END bootstrap=False, max_features=0.5, min_samples_leaf=1, min_samples_split=8, n_estimators=300; total time=   2.5s\n",
      "[CV] END bootstrap=False, max_features=0.5, min_samples_leaf=1, min_samples_split=8, n_estimators=300; total time=   2.5s\n",
      "[CV] END bootstrap=False, max_features=0.5, min_samples_leaf=1, min_samples_split=8, n_estimators=300; total time=   2.6s\n",
      "[CV] END bootstrap=False, max_features=0.5, min_samples_leaf=1, min_samples_split=8, n_estimators=300; total time=   2.7s\n",
      "[CV] END bootstrap=False, max_features=0.5, min_samples_leaf=1, min_samples_split=8, n_estimators=300; total time=   2.6s\n",
      "[CV] END bootstrap=False, max_features=0.5, min_samples_leaf=1, min_samples_split=8, n_estimators=400; total time=   3.3s\n",
      "[CV] END bootstrap=False, max_features=0.5, min_samples_leaf=1, min_samples_split=8, n_estimators=400; total time=   3.3s\n",
      "[CV] END bootstrap=False, max_features=0.5, min_samples_leaf=1, min_samples_split=8, n_estimators=400; total time=   3.5s\n"
     ]
    },
    {
     "name": "stdout",
     "output_type": "stream",
     "text": [
      "[CV] END bootstrap=False, max_features=0.5, min_samples_leaf=1, min_samples_split=8, n_estimators=400; total time=   3.5s\n",
      "[CV] END bootstrap=False, max_features=0.5, min_samples_leaf=1, min_samples_split=8, n_estimators=400; total time=   3.5s\n",
      "[CV] END bootstrap=False, max_features=0.5, min_samples_leaf=1, min_samples_split=8, n_estimators=500; total time=   4.2s\n",
      "[CV] END bootstrap=False, max_features=0.5, min_samples_leaf=1, min_samples_split=8, n_estimators=500; total time=   4.1s\n",
      "[CV] END bootstrap=False, max_features=0.5, min_samples_leaf=1, min_samples_split=8, n_estimators=500; total time=   4.3s\n",
      "[CV] END bootstrap=False, max_features=0.5, min_samples_leaf=1, min_samples_split=8, n_estimators=500; total time=   4.5s\n",
      "[CV] END bootstrap=False, max_features=0.5, min_samples_leaf=1, min_samples_split=8, n_estimators=500; total time=   4.4s\n",
      "[CV] END bootstrap=False, max_features=0.5, min_samples_leaf=3, min_samples_split=2, n_estimators=100; total time=   0.7s\n",
      "[CV] END bootstrap=False, max_features=0.5, min_samples_leaf=3, min_samples_split=2, n_estimators=100; total time=   0.7s\n",
      "[CV] END bootstrap=False, max_features=0.5, min_samples_leaf=3, min_samples_split=2, n_estimators=100; total time=   0.8s\n",
      "[CV] END bootstrap=False, max_features=0.5, min_samples_leaf=3, min_samples_split=2, n_estimators=100; total time=   0.8s\n",
      "[CV] END bootstrap=False, max_features=0.5, min_samples_leaf=3, min_samples_split=2, n_estimators=100; total time=   0.8s\n",
      "[CV] END bootstrap=False, max_features=0.5, min_samples_leaf=3, min_samples_split=2, n_estimators=200; total time=   1.6s\n",
      "[CV] END bootstrap=False, max_features=0.5, min_samples_leaf=3, min_samples_split=2, n_estimators=200; total time=   1.5s\n",
      "[CV] END bootstrap=False, max_features=0.5, min_samples_leaf=3, min_samples_split=2, n_estimators=200; total time=   1.6s\n",
      "[CV] END bootstrap=False, max_features=0.5, min_samples_leaf=3, min_samples_split=2, n_estimators=200; total time=   1.7s\n",
      "[CV] END bootstrap=False, max_features=0.5, min_samples_leaf=3, min_samples_split=2, n_estimators=200; total time=   1.6s\n",
      "[CV] END bootstrap=False, max_features=0.5, min_samples_leaf=3, min_samples_split=2, n_estimators=300; total time=   2.4s\n",
      "[CV] END bootstrap=False, max_features=0.5, min_samples_leaf=3, min_samples_split=2, n_estimators=300; total time=   2.4s\n",
      "[CV] END bootstrap=False, max_features=0.5, min_samples_leaf=3, min_samples_split=2, n_estimators=300; total time=   2.5s\n",
      "[CV] END bootstrap=False, max_features=0.5, min_samples_leaf=3, min_samples_split=2, n_estimators=300; total time=   2.5s\n",
      "[CV] END bootstrap=False, max_features=0.5, min_samples_leaf=3, min_samples_split=2, n_estimators=300; total time=   2.5s\n",
      "[CV] END bootstrap=False, max_features=0.5, min_samples_leaf=3, min_samples_split=2, n_estimators=400; total time=   3.3s\n",
      "[CV] END bootstrap=False, max_features=0.5, min_samples_leaf=3, min_samples_split=2, n_estimators=400; total time=   3.4s\n",
      "[CV] END bootstrap=False, max_features=0.5, min_samples_leaf=3, min_samples_split=2, n_estimators=400; total time=   3.4s\n",
      "[CV] END bootstrap=False, max_features=0.5, min_samples_leaf=3, min_samples_split=2, n_estimators=400; total time=   3.6s\n",
      "[CV] END bootstrap=False, max_features=0.5, min_samples_leaf=3, min_samples_split=2, n_estimators=400; total time=   3.6s\n",
      "[CV] END bootstrap=False, max_features=0.5, min_samples_leaf=3, min_samples_split=2, n_estimators=500; total time=   4.1s\n",
      "[CV] END bootstrap=False, max_features=0.5, min_samples_leaf=3, min_samples_split=2, n_estimators=500; total time=   4.0s\n",
      "[CV] END bootstrap=False, max_features=0.5, min_samples_leaf=3, min_samples_split=2, n_estimators=500; total time=   4.3s\n",
      "[CV] END bootstrap=False, max_features=0.5, min_samples_leaf=3, min_samples_split=2, n_estimators=500; total time=   4.3s\n",
      "[CV] END bootstrap=False, max_features=0.5, min_samples_leaf=3, min_samples_split=2, n_estimators=500; total time=   4.2s\n",
      "[CV] END bootstrap=False, max_features=0.5, min_samples_leaf=3, min_samples_split=4, n_estimators=100; total time=   0.7s\n",
      "[CV] END bootstrap=False, max_features=0.5, min_samples_leaf=3, min_samples_split=4, n_estimators=100; total time=   0.7s\n",
      "[CV] END bootstrap=False, max_features=0.5, min_samples_leaf=3, min_samples_split=4, n_estimators=100; total time=   0.8s\n",
      "[CV] END bootstrap=False, max_features=0.5, min_samples_leaf=3, min_samples_split=4, n_estimators=100; total time=   0.8s\n",
      "[CV] END bootstrap=False, max_features=0.5, min_samples_leaf=3, min_samples_split=4, n_estimators=100; total time=   0.8s\n",
      "[CV] END bootstrap=False, max_features=0.5, min_samples_leaf=3, min_samples_split=4, n_estimators=200; total time=   1.6s\n",
      "[CV] END bootstrap=False, max_features=0.5, min_samples_leaf=3, min_samples_split=4, n_estimators=200; total time=   1.7s\n",
      "[CV] END bootstrap=False, max_features=0.5, min_samples_leaf=3, min_samples_split=4, n_estimators=200; total time=   1.7s\n",
      "[CV] END bootstrap=False, max_features=0.5, min_samples_leaf=3, min_samples_split=4, n_estimators=200; total time=   1.7s\n",
      "[CV] END bootstrap=False, max_features=0.5, min_samples_leaf=3, min_samples_split=4, n_estimators=200; total time=   1.7s\n",
      "[CV] END bootstrap=False, max_features=0.5, min_samples_leaf=3, min_samples_split=4, n_estimators=300; total time=   2.3s\n",
      "[CV] END bootstrap=False, max_features=0.5, min_samples_leaf=3, min_samples_split=4, n_estimators=300; total time=   2.4s\n",
      "[CV] END bootstrap=False, max_features=0.5, min_samples_leaf=3, min_samples_split=4, n_estimators=300; total time=   2.5s\n",
      "[CV] END bootstrap=False, max_features=0.5, min_samples_leaf=3, min_samples_split=4, n_estimators=300; total time=   2.5s\n",
      "[CV] END bootstrap=False, max_features=0.5, min_samples_leaf=3, min_samples_split=4, n_estimators=300; total time=   2.6s\n",
      "[CV] END bootstrap=False, max_features=0.5, min_samples_leaf=3, min_samples_split=4, n_estimators=400; total time=   3.3s\n",
      "[CV] END bootstrap=False, max_features=0.5, min_samples_leaf=3, min_samples_split=4, n_estimators=400; total time=   3.2s\n",
      "[CV] END bootstrap=False, max_features=0.5, min_samples_leaf=3, min_samples_split=4, n_estimators=400; total time=   3.4s\n",
      "[CV] END bootstrap=False, max_features=0.5, min_samples_leaf=3, min_samples_split=4, n_estimators=400; total time=   3.5s\n",
      "[CV] END bootstrap=False, max_features=0.5, min_samples_leaf=3, min_samples_split=4, n_estimators=400; total time=   3.4s\n",
      "[CV] END bootstrap=False, max_features=0.5, min_samples_leaf=3, min_samples_split=4, n_estimators=500; total time=   4.1s\n",
      "[CV] END bootstrap=False, max_features=0.5, min_samples_leaf=3, min_samples_split=4, n_estimators=500; total time=   4.0s\n",
      "[CV] END bootstrap=False, max_features=0.5, min_samples_leaf=3, min_samples_split=4, n_estimators=500; total time=   4.2s\n",
      "[CV] END bootstrap=False, max_features=0.5, min_samples_leaf=3, min_samples_split=4, n_estimators=500; total time=   4.3s\n",
      "[CV] END bootstrap=False, max_features=0.5, min_samples_leaf=3, min_samples_split=4, n_estimators=500; total time=   4.3s\n",
      "[CV] END bootstrap=False, max_features=0.5, min_samples_leaf=3, min_samples_split=6, n_estimators=100; total time=   0.7s\n",
      "[CV] END bootstrap=False, max_features=0.5, min_samples_leaf=3, min_samples_split=6, n_estimators=100; total time=   0.7s\n",
      "[CV] END bootstrap=False, max_features=0.5, min_samples_leaf=3, min_samples_split=6, n_estimators=100; total time=   0.8s\n",
      "[CV] END bootstrap=False, max_features=0.5, min_samples_leaf=3, min_samples_split=6, n_estimators=100; total time=   0.8s\n",
      "[CV] END bootstrap=False, max_features=0.5, min_samples_leaf=3, min_samples_split=6, n_estimators=100; total time=   0.8s\n",
      "[CV] END bootstrap=False, max_features=0.5, min_samples_leaf=3, min_samples_split=6, n_estimators=200; total time=   1.6s\n",
      "[CV] END bootstrap=False, max_features=0.5, min_samples_leaf=3, min_samples_split=6, n_estimators=200; total time=   1.5s\n",
      "[CV] END bootstrap=False, max_features=0.5, min_samples_leaf=3, min_samples_split=6, n_estimators=200; total time=   1.7s\n",
      "[CV] END bootstrap=False, max_features=0.5, min_samples_leaf=3, min_samples_split=6, n_estimators=200; total time=   1.7s\n",
      "[CV] END bootstrap=False, max_features=0.5, min_samples_leaf=3, min_samples_split=6, n_estimators=200; total time=   1.6s\n",
      "[CV] END bootstrap=False, max_features=0.5, min_samples_leaf=3, min_samples_split=6, n_estimators=300; total time=   2.4s\n"
     ]
    },
    {
     "name": "stdout",
     "output_type": "stream",
     "text": [
      "[CV] END bootstrap=False, max_features=0.5, min_samples_leaf=3, min_samples_split=6, n_estimators=300; total time=   2.4s\n",
      "[CV] END bootstrap=False, max_features=0.5, min_samples_leaf=3, min_samples_split=6, n_estimators=300; total time=   2.5s\n",
      "[CV] END bootstrap=False, max_features=0.5, min_samples_leaf=3, min_samples_split=6, n_estimators=300; total time=   2.5s\n",
      "[CV] END bootstrap=False, max_features=0.5, min_samples_leaf=3, min_samples_split=6, n_estimators=300; total time=   2.5s\n",
      "[CV] END bootstrap=False, max_features=0.5, min_samples_leaf=3, min_samples_split=6, n_estimators=400; total time=   3.2s\n",
      "[CV] END bootstrap=False, max_features=0.5, min_samples_leaf=3, min_samples_split=6, n_estimators=400; total time=   3.1s\n",
      "[CV] END bootstrap=False, max_features=0.5, min_samples_leaf=3, min_samples_split=6, n_estimators=400; total time=   3.4s\n",
      "[CV] END bootstrap=False, max_features=0.5, min_samples_leaf=3, min_samples_split=6, n_estimators=400; total time=   3.4s\n",
      "[CV] END bootstrap=False, max_features=0.5, min_samples_leaf=3, min_samples_split=6, n_estimators=400; total time=   3.4s\n",
      "[CV] END bootstrap=False, max_features=0.5, min_samples_leaf=3, min_samples_split=6, n_estimators=500; total time=   4.1s\n",
      "[CV] END bootstrap=False, max_features=0.5, min_samples_leaf=3, min_samples_split=6, n_estimators=500; total time=   4.0s\n",
      "[CV] END bootstrap=False, max_features=0.5, min_samples_leaf=3, min_samples_split=6, n_estimators=500; total time=   4.2s\n",
      "[CV] END bootstrap=False, max_features=0.5, min_samples_leaf=3, min_samples_split=6, n_estimators=500; total time=   4.4s\n",
      "[CV] END bootstrap=False, max_features=0.5, min_samples_leaf=3, min_samples_split=6, n_estimators=500; total time=   4.3s\n",
      "[CV] END bootstrap=False, max_features=0.5, min_samples_leaf=3, min_samples_split=8, n_estimators=100; total time=   0.7s\n",
      "[CV] END bootstrap=False, max_features=0.5, min_samples_leaf=3, min_samples_split=8, n_estimators=100; total time=   0.7s\n",
      "[CV] END bootstrap=False, max_features=0.5, min_samples_leaf=3, min_samples_split=8, n_estimators=100; total time=   0.7s\n",
      "[CV] END bootstrap=False, max_features=0.5, min_samples_leaf=3, min_samples_split=8, n_estimators=100; total time=   0.7s\n",
      "[CV] END bootstrap=False, max_features=0.5, min_samples_leaf=3, min_samples_split=8, n_estimators=100; total time=   0.7s\n",
      "[CV] END bootstrap=False, max_features=0.5, min_samples_leaf=3, min_samples_split=8, n_estimators=200; total time=   1.5s\n",
      "[CV] END bootstrap=False, max_features=0.5, min_samples_leaf=3, min_samples_split=8, n_estimators=200; total time=   1.5s\n",
      "[CV] END bootstrap=False, max_features=0.5, min_samples_leaf=3, min_samples_split=8, n_estimators=200; total time=   1.6s\n",
      "[CV] END bootstrap=False, max_features=0.5, min_samples_leaf=3, min_samples_split=8, n_estimators=200; total time=   1.6s\n",
      "[CV] END bootstrap=False, max_features=0.5, min_samples_leaf=3, min_samples_split=8, n_estimators=200; total time=   1.5s\n",
      "[CV] END bootstrap=False, max_features=0.5, min_samples_leaf=3, min_samples_split=8, n_estimators=300; total time=   2.3s\n",
      "[CV] END bootstrap=False, max_features=0.5, min_samples_leaf=3, min_samples_split=8, n_estimators=300; total time=   2.3s\n",
      "[CV] END bootstrap=False, max_features=0.5, min_samples_leaf=3, min_samples_split=8, n_estimators=300; total time=   2.4s\n",
      "[CV] END bootstrap=False, max_features=0.5, min_samples_leaf=3, min_samples_split=8, n_estimators=300; total time=   2.4s\n",
      "[CV] END bootstrap=False, max_features=0.5, min_samples_leaf=3, min_samples_split=8, n_estimators=300; total time=   2.4s\n",
      "[CV] END bootstrap=False, max_features=0.5, min_samples_leaf=3, min_samples_split=8, n_estimators=400; total time=   3.1s\n",
      "[CV] END bootstrap=False, max_features=0.5, min_samples_leaf=3, min_samples_split=8, n_estimators=400; total time=   3.0s\n",
      "[CV] END bootstrap=False, max_features=0.5, min_samples_leaf=3, min_samples_split=8, n_estimators=400; total time=   3.2s\n",
      "[CV] END bootstrap=False, max_features=0.5, min_samples_leaf=3, min_samples_split=8, n_estimators=400; total time=   3.2s\n",
      "[CV] END bootstrap=False, max_features=0.5, min_samples_leaf=3, min_samples_split=8, n_estimators=400; total time=   3.2s\n",
      "[CV] END bootstrap=False, max_features=0.5, min_samples_leaf=3, min_samples_split=8, n_estimators=500; total time=   3.8s\n",
      "[CV] END bootstrap=False, max_features=0.5, min_samples_leaf=3, min_samples_split=8, n_estimators=500; total time=   3.8s\n",
      "[CV] END bootstrap=False, max_features=0.5, min_samples_leaf=3, min_samples_split=8, n_estimators=500; total time=   4.0s\n",
      "[CV] END bootstrap=False, max_features=0.5, min_samples_leaf=3, min_samples_split=8, n_estimators=500; total time=   4.0s\n",
      "[CV] END bootstrap=False, max_features=0.5, min_samples_leaf=3, min_samples_split=8, n_estimators=500; total time=   4.0s\n",
      "[CV] END bootstrap=False, max_features=0.5, min_samples_leaf=5, min_samples_split=2, n_estimators=100; total time=   0.6s\n",
      "[CV] END bootstrap=False, max_features=0.5, min_samples_leaf=5, min_samples_split=2, n_estimators=100; total time=   0.6s\n",
      "[CV] END bootstrap=False, max_features=0.5, min_samples_leaf=5, min_samples_split=2, n_estimators=100; total time=   0.7s\n",
      "[CV] END bootstrap=False, max_features=0.5, min_samples_leaf=5, min_samples_split=2, n_estimators=100; total time=   0.8s\n",
      "[CV] END bootstrap=False, max_features=0.5, min_samples_leaf=5, min_samples_split=2, n_estimators=100; total time=   0.7s\n",
      "[CV] END bootstrap=False, max_features=0.5, min_samples_leaf=5, min_samples_split=2, n_estimators=200; total time=   1.4s\n",
      "[CV] END bootstrap=False, max_features=0.5, min_samples_leaf=5, min_samples_split=2, n_estimators=200; total time=   1.4s\n",
      "[CV] END bootstrap=False, max_features=0.5, min_samples_leaf=5, min_samples_split=2, n_estimators=200; total time=   1.4s\n",
      "[CV] END bootstrap=False, max_features=0.5, min_samples_leaf=5, min_samples_split=2, n_estimators=200; total time=   1.4s\n",
      "[CV] END bootstrap=False, max_features=0.5, min_samples_leaf=5, min_samples_split=2, n_estimators=200; total time=   1.4s\n",
      "[CV] END bootstrap=False, max_features=0.5, min_samples_leaf=5, min_samples_split=2, n_estimators=300; total time=   2.1s\n",
      "[CV] END bootstrap=False, max_features=0.5, min_samples_leaf=5, min_samples_split=2, n_estimators=300; total time=   2.1s\n",
      "[CV] END bootstrap=False, max_features=0.5, min_samples_leaf=5, min_samples_split=2, n_estimators=300; total time=   2.1s\n",
      "[CV] END bootstrap=False, max_features=0.5, min_samples_leaf=5, min_samples_split=2, n_estimators=300; total time=   2.2s\n",
      "[CV] END bootstrap=False, max_features=0.5, min_samples_leaf=5, min_samples_split=2, n_estimators=300; total time=   2.2s\n",
      "[CV] END bootstrap=False, max_features=0.5, min_samples_leaf=5, min_samples_split=2, n_estimators=400; total time=   2.8s\n",
      "[CV] END bootstrap=False, max_features=0.5, min_samples_leaf=5, min_samples_split=2, n_estimators=400; total time=   3.5s\n",
      "[CV] END bootstrap=False, max_features=0.5, min_samples_leaf=5, min_samples_split=2, n_estimators=400; total time=   3.8s\n",
      "[CV] END bootstrap=False, max_features=0.5, min_samples_leaf=5, min_samples_split=2, n_estimators=400; total time=   3.6s\n",
      "[CV] END bootstrap=False, max_features=0.5, min_samples_leaf=5, min_samples_split=2, n_estimators=400; total time=   3.1s\n",
      "[CV] END bootstrap=False, max_features=0.5, min_samples_leaf=5, min_samples_split=2, n_estimators=500; total time=   3.6s\n",
      "[CV] END bootstrap=False, max_features=0.5, min_samples_leaf=5, min_samples_split=2, n_estimators=500; total time=   3.6s\n",
      "[CV] END bootstrap=False, max_features=0.5, min_samples_leaf=5, min_samples_split=2, n_estimators=500; total time=   3.6s\n",
      "[CV] END bootstrap=False, max_features=0.5, min_samples_leaf=5, min_samples_split=2, n_estimators=500; total time=   3.7s\n",
      "[CV] END bootstrap=False, max_features=0.5, min_samples_leaf=5, min_samples_split=2, n_estimators=500; total time=   3.7s\n",
      "[CV] END bootstrap=False, max_features=0.5, min_samples_leaf=5, min_samples_split=4, n_estimators=100; total time=   0.6s\n",
      "[CV] END bootstrap=False, max_features=0.5, min_samples_leaf=5, min_samples_split=4, n_estimators=100; total time=   0.6s\n",
      "[CV] END bootstrap=False, max_features=0.5, min_samples_leaf=5, min_samples_split=4, n_estimators=100; total time=   0.7s\n",
      "[CV] END bootstrap=False, max_features=0.5, min_samples_leaf=5, min_samples_split=4, n_estimators=100; total time=   0.7s\n"
     ]
    },
    {
     "name": "stdout",
     "output_type": "stream",
     "text": [
      "[CV] END bootstrap=False, max_features=0.5, min_samples_leaf=5, min_samples_split=4, n_estimators=100; total time=   0.7s\n",
      "[CV] END bootstrap=False, max_features=0.5, min_samples_leaf=5, min_samples_split=4, n_estimators=200; total time=   1.4s\n",
      "[CV] END bootstrap=False, max_features=0.5, min_samples_leaf=5, min_samples_split=4, n_estimators=200; total time=   0.5s\n",
      "[CV] END bootstrap=False, max_features=0.5, min_samples_leaf=5, min_samples_split=4, n_estimators=200; total time=   0.3s\n",
      "[CV] END bootstrap=False, max_features=0.5, min_samples_leaf=5, min_samples_split=4, n_estimators=200; total time=   0.2s\n",
      "[CV] END bootstrap=False, max_features=0.5, min_samples_leaf=5, min_samples_split=4, n_estimators=200; total time=   0.3s\n",
      "[CV] END bootstrap=False, max_features=0.5, min_samples_leaf=5, min_samples_split=4, n_estimators=300; total time=   0.5s\n",
      "[CV] END bootstrap=False, max_features=0.5, min_samples_leaf=5, min_samples_split=4, n_estimators=300; total time=   0.5s\n",
      "[CV] END bootstrap=False, max_features=0.5, min_samples_leaf=5, min_samples_split=4, n_estimators=300; total time=   0.5s\n",
      "[CV] END bootstrap=False, max_features=0.5, min_samples_leaf=5, min_samples_split=4, n_estimators=300; total time=   0.6s\n",
      "[CV] END bootstrap=False, max_features=0.5, min_samples_leaf=5, min_samples_split=4, n_estimators=300; total time=   0.5s\n",
      "[CV] END bootstrap=False, max_features=0.5, min_samples_leaf=5, min_samples_split=4, n_estimators=400; total time=   0.7s\n",
      "[CV] END bootstrap=False, max_features=0.5, min_samples_leaf=5, min_samples_split=4, n_estimators=400; total time=   0.7s\n",
      "[CV] END bootstrap=False, max_features=0.5, min_samples_leaf=5, min_samples_split=4, n_estimators=400; total time=   0.7s\n",
      "[CV] END bootstrap=False, max_features=0.5, min_samples_leaf=5, min_samples_split=4, n_estimators=400; total time=   0.7s\n",
      "[CV] END bootstrap=False, max_features=0.5, min_samples_leaf=5, min_samples_split=4, n_estimators=400; total time=   0.8s\n",
      "[CV] END bootstrap=False, max_features=0.5, min_samples_leaf=5, min_samples_split=4, n_estimators=500; total time=   0.9s\n",
      "[CV] END bootstrap=False, max_features=0.5, min_samples_leaf=5, min_samples_split=4, n_estimators=500; total time=   0.9s\n",
      "[CV] END bootstrap=False, max_features=0.5, min_samples_leaf=5, min_samples_split=4, n_estimators=500; total time=   0.9s\n",
      "[CV] END bootstrap=False, max_features=0.5, min_samples_leaf=5, min_samples_split=4, n_estimators=500; total time=   1.0s\n",
      "[CV] END bootstrap=False, max_features=0.5, min_samples_leaf=5, min_samples_split=4, n_estimators=500; total time=   1.0s\n",
      "[CV] END bootstrap=False, max_features=0.5, min_samples_leaf=5, min_samples_split=6, n_estimators=100; total time=   0.1s\n",
      "[CV] END bootstrap=False, max_features=0.5, min_samples_leaf=5, min_samples_split=6, n_estimators=100; total time=   0.1s\n",
      "[CV] END bootstrap=False, max_features=0.5, min_samples_leaf=5, min_samples_split=6, n_estimators=100; total time=   0.1s\n",
      "[CV] END bootstrap=False, max_features=0.5, min_samples_leaf=5, min_samples_split=6, n_estimators=100; total time=   0.1s\n",
      "[CV] END bootstrap=False, max_features=0.5, min_samples_leaf=5, min_samples_split=6, n_estimators=100; total time=   0.1s\n",
      "[CV] END bootstrap=False, max_features=0.5, min_samples_leaf=5, min_samples_split=6, n_estimators=200; total time=   0.2s\n",
      "[CV] END bootstrap=False, max_features=0.5, min_samples_leaf=5, min_samples_split=6, n_estimators=200; total time=   0.3s\n",
      "[CV] END bootstrap=False, max_features=0.5, min_samples_leaf=5, min_samples_split=6, n_estimators=200; total time=   0.3s\n",
      "[CV] END bootstrap=False, max_features=0.5, min_samples_leaf=5, min_samples_split=6, n_estimators=200; total time=   0.4s\n",
      "[CV] END bootstrap=False, max_features=0.5, min_samples_leaf=5, min_samples_split=6, n_estimators=200; total time=   0.3s\n",
      "[CV] END bootstrap=False, max_features=0.5, min_samples_leaf=5, min_samples_split=6, n_estimators=300; total time=   0.0s\n",
      "[CV] END bootstrap=False, max_features=0.5, min_samples_leaf=5, min_samples_split=6, n_estimators=300; total time=   0.4s\n",
      "[CV] END bootstrap=False, max_features=0.5, min_samples_leaf=5, min_samples_split=6, n_estimators=300; total time=   0.4s\n",
      "[CV] END bootstrap=False, max_features=0.5, min_samples_leaf=5, min_samples_split=6, n_estimators=300; total time=   0.5s\n",
      "[CV] END bootstrap=False, max_features=0.5, min_samples_leaf=5, min_samples_split=6, n_estimators=300; total time=   0.4s\n",
      "[CV] END bootstrap=False, max_features=0.5, min_samples_leaf=5, min_samples_split=6, n_estimators=400; total time=   0.6s\n",
      "[CV] END bootstrap=False, max_features=0.5, min_samples_leaf=5, min_samples_split=6, n_estimators=400; total time=   0.6s\n",
      "[CV] END bootstrap=False, max_features=0.5, min_samples_leaf=5, min_samples_split=6, n_estimators=400; total time=   0.7s\n",
      "[CV] END bootstrap=False, max_features=0.5, min_samples_leaf=5, min_samples_split=6, n_estimators=400; total time=   0.7s\n",
      "[CV] END bootstrap=False, max_features=0.5, min_samples_leaf=5, min_samples_split=6, n_estimators=400; total time=   0.6s\n",
      "[CV] END bootstrap=False, max_features=0.5, min_samples_leaf=5, min_samples_split=6, n_estimators=500; total time=   0.8s\n",
      "[CV] END bootstrap=False, max_features=0.5, min_samples_leaf=5, min_samples_split=6, n_estimators=500; total time=   0.8s\n",
      "[CV] END bootstrap=False, max_features=0.5, min_samples_leaf=5, min_samples_split=6, n_estimators=500; total time=   0.7s\n",
      "[CV] END bootstrap=False, max_features=0.5, min_samples_leaf=5, min_samples_split=6, n_estimators=500; total time=   0.7s\n",
      "[CV] END bootstrap=False, max_features=0.5, min_samples_leaf=5, min_samples_split=6, n_estimators=500; total time=   0.8s\n",
      "[CV] END bootstrap=False, max_features=0.5, min_samples_leaf=5, min_samples_split=8, n_estimators=100; total time=   0.1s\n",
      "[CV] END bootstrap=False, max_features=0.5, min_samples_leaf=5, min_samples_split=8, n_estimators=100; total time=   0.0s\n",
      "[CV] END bootstrap=False, max_features=0.5, min_samples_leaf=5, min_samples_split=8, n_estimators=100; total time=   0.1s\n",
      "[CV] END bootstrap=False, max_features=0.5, min_samples_leaf=5, min_samples_split=8, n_estimators=100; total time=   0.1s\n",
      "[CV] END bootstrap=False, max_features=0.5, min_samples_leaf=5, min_samples_split=8, n_estimators=100; total time=   0.1s\n",
      "[CV] END bootstrap=False, max_features=0.5, min_samples_leaf=5, min_samples_split=8, n_estimators=200; total time=   0.3s\n",
      "[CV] END bootstrap=False, max_features=0.5, min_samples_leaf=5, min_samples_split=8, n_estimators=200; total time=   0.3s\n",
      "[CV] END bootstrap=False, max_features=0.5, min_samples_leaf=5, min_samples_split=8, n_estimators=200; total time=   0.3s\n",
      "[CV] END bootstrap=False, max_features=0.5, min_samples_leaf=5, min_samples_split=8, n_estimators=200; total time=   0.3s\n",
      "[CV] END bootstrap=False, max_features=0.5, min_samples_leaf=5, min_samples_split=8, n_estimators=200; total time=   0.2s\n",
      "[CV] END bootstrap=False, max_features=0.5, min_samples_leaf=5, min_samples_split=8, n_estimators=300; total time=   0.3s\n",
      "[CV] END bootstrap=False, max_features=0.5, min_samples_leaf=5, min_samples_split=8, n_estimators=300; total time=   0.4s\n",
      "[CV] END bootstrap=False, max_features=0.5, min_samples_leaf=5, min_samples_split=8, n_estimators=300; total time=   0.4s\n",
      "[CV] END bootstrap=False, max_features=0.5, min_samples_leaf=5, min_samples_split=8, n_estimators=300; total time=   0.4s\n",
      "[CV] END bootstrap=False, max_features=0.5, min_samples_leaf=5, min_samples_split=8, n_estimators=300; total time=   0.4s\n",
      "[CV] END bootstrap=False, max_features=0.5, min_samples_leaf=5, min_samples_split=8, n_estimators=400; total time=   0.6s\n",
      "[CV] END bootstrap=False, max_features=0.5, min_samples_leaf=5, min_samples_split=8, n_estimators=400; total time=   0.5s\n",
      "[CV] END bootstrap=False, max_features=0.5, min_samples_leaf=5, min_samples_split=8, n_estimators=400; total time=   0.6s\n",
      "[CV] END bootstrap=False, max_features=0.5, min_samples_leaf=5, min_samples_split=8, n_estimators=400; total time=   0.5s\n",
      "[CV] END bootstrap=False, max_features=0.5, min_samples_leaf=5, min_samples_split=8, n_estimators=400; total time=   0.6s\n",
      "[CV] END bootstrap=False, max_features=0.5, min_samples_leaf=5, min_samples_split=8, n_estimators=500; total time=   0.7s\n",
      "[CV] END bootstrap=False, max_features=0.5, min_samples_leaf=5, min_samples_split=8, n_estimators=500; total time=   0.8s\n"
     ]
    },
    {
     "name": "stdout",
     "output_type": "stream",
     "text": [
      "[CV] END bootstrap=False, max_features=0.5, min_samples_leaf=5, min_samples_split=8, n_estimators=500; total time=   0.8s\n",
      "[CV] END bootstrap=False, max_features=0.5, min_samples_leaf=5, min_samples_split=8, n_estimators=500; total time=   0.8s\n",
      "[CV] END bootstrap=False, max_features=0.5, min_samples_leaf=5, min_samples_split=8, n_estimators=500; total time=   0.7s\n",
      "[CV] END bootstrap=False, max_features=0.5, min_samples_leaf=7, min_samples_split=2, n_estimators=100; total time=   0.0s\n",
      "[CV] END bootstrap=False, max_features=0.5, min_samples_leaf=7, min_samples_split=2, n_estimators=100; total time=   0.1s\n",
      "[CV] END bootstrap=False, max_features=0.5, min_samples_leaf=7, min_samples_split=2, n_estimators=100; total time=   0.1s\n",
      "[CV] END bootstrap=False, max_features=0.5, min_samples_leaf=7, min_samples_split=2, n_estimators=100; total time=   0.1s\n",
      "[CV] END bootstrap=False, max_features=0.5, min_samples_leaf=7, min_samples_split=2, n_estimators=100; total time=   0.0s\n",
      "[CV] END bootstrap=False, max_features=0.5, min_samples_leaf=7, min_samples_split=2, n_estimators=200; total time=   0.2s\n",
      "[CV] END bootstrap=False, max_features=0.5, min_samples_leaf=7, min_samples_split=2, n_estimators=200; total time=   0.2s\n",
      "[CV] END bootstrap=False, max_features=0.5, min_samples_leaf=7, min_samples_split=2, n_estimators=200; total time=   0.2s\n",
      "[CV] END bootstrap=False, max_features=0.5, min_samples_leaf=7, min_samples_split=2, n_estimators=200; total time=   0.2s\n",
      "[CV] END bootstrap=False, max_features=0.5, min_samples_leaf=7, min_samples_split=2, n_estimators=200; total time=   0.2s\n",
      "[CV] END bootstrap=False, max_features=0.5, min_samples_leaf=7, min_samples_split=2, n_estimators=300; total time=   0.3s\n",
      "[CV] END bootstrap=False, max_features=0.5, min_samples_leaf=7, min_samples_split=2, n_estimators=300; total time=   0.3s\n",
      "[CV] END bootstrap=False, max_features=0.5, min_samples_leaf=7, min_samples_split=2, n_estimators=300; total time=   0.3s\n",
      "[CV] END bootstrap=False, max_features=0.5, min_samples_leaf=7, min_samples_split=2, n_estimators=300; total time=   0.4s\n",
      "[CV] END bootstrap=False, max_features=0.5, min_samples_leaf=7, min_samples_split=2, n_estimators=300; total time=   0.3s\n",
      "[CV] END bootstrap=False, max_features=0.5, min_samples_leaf=7, min_samples_split=2, n_estimators=400; total time=   0.5s\n",
      "[CV] END bootstrap=False, max_features=0.5, min_samples_leaf=7, min_samples_split=2, n_estimators=400; total time=   0.5s\n",
      "[CV] END bootstrap=False, max_features=0.5, min_samples_leaf=7, min_samples_split=2, n_estimators=400; total time=   0.5s\n",
      "[CV] END bootstrap=False, max_features=0.5, min_samples_leaf=7, min_samples_split=2, n_estimators=400; total time=   0.5s\n",
      "[CV] END bootstrap=False, max_features=0.5, min_samples_leaf=7, min_samples_split=2, n_estimators=400; total time=   0.5s\n",
      "[CV] END bootstrap=False, max_features=0.5, min_samples_leaf=7, min_samples_split=2, n_estimators=500; total time=   0.6s\n",
      "[CV] END bootstrap=False, max_features=0.5, min_samples_leaf=7, min_samples_split=2, n_estimators=500; total time=   0.6s\n",
      "[CV] END bootstrap=False, max_features=0.5, min_samples_leaf=7, min_samples_split=2, n_estimators=500; total time=   0.6s\n",
      "[CV] END bootstrap=False, max_features=0.5, min_samples_leaf=7, min_samples_split=2, n_estimators=500; total time=   0.6s\n",
      "[CV] END bootstrap=False, max_features=0.5, min_samples_leaf=7, min_samples_split=2, n_estimators=500; total time=   0.6s\n",
      "[CV] END bootstrap=False, max_features=0.5, min_samples_leaf=7, min_samples_split=4, n_estimators=100; total time=   0.0s\n",
      "[CV] END bootstrap=False, max_features=0.5, min_samples_leaf=7, min_samples_split=4, n_estimators=100; total time=   0.0s\n",
      "[CV] END bootstrap=False, max_features=0.5, min_samples_leaf=7, min_samples_split=4, n_estimators=100; total time=   0.0s\n",
      "[CV] END bootstrap=False, max_features=0.5, min_samples_leaf=7, min_samples_split=4, n_estimators=100; total time=   0.1s\n",
      "[CV] END bootstrap=False, max_features=0.5, min_samples_leaf=7, min_samples_split=4, n_estimators=100; total time=   0.0s\n",
      "[CV] END bootstrap=False, max_features=0.5, min_samples_leaf=7, min_samples_split=4, n_estimators=200; total time=   0.2s\n",
      "[CV] END bootstrap=False, max_features=0.5, min_samples_leaf=7, min_samples_split=4, n_estimators=200; total time=   0.2s\n",
      "[CV] END bootstrap=False, max_features=0.5, min_samples_leaf=7, min_samples_split=4, n_estimators=200; total time=   0.2s\n",
      "[CV] END bootstrap=False, max_features=0.5, min_samples_leaf=7, min_samples_split=4, n_estimators=200; total time=   0.2s\n",
      "[CV] END bootstrap=False, max_features=0.5, min_samples_leaf=7, min_samples_split=4, n_estimators=200; total time=   0.2s\n",
      "[CV] END bootstrap=False, max_features=0.5, min_samples_leaf=7, min_samples_split=4, n_estimators=300; total time=   0.3s\n",
      "[CV] END bootstrap=False, max_features=0.5, min_samples_leaf=7, min_samples_split=4, n_estimators=300; total time=   0.3s\n",
      "[CV] END bootstrap=False, max_features=0.5, min_samples_leaf=7, min_samples_split=4, n_estimators=300; total time=   0.3s\n",
      "[CV] END bootstrap=False, max_features=0.5, min_samples_leaf=7, min_samples_split=4, n_estimators=300; total time=   0.4s\n",
      "[CV] END bootstrap=False, max_features=0.5, min_samples_leaf=7, min_samples_split=4, n_estimators=300; total time=   0.4s\n",
      "[CV] END bootstrap=False, max_features=0.5, min_samples_leaf=7, min_samples_split=4, n_estimators=400; total time=   0.5s\n",
      "[CV] END bootstrap=False, max_features=0.5, min_samples_leaf=7, min_samples_split=4, n_estimators=400; total time=   0.5s\n",
      "[CV] END bootstrap=False, max_features=0.5, min_samples_leaf=7, min_samples_split=4, n_estimators=400; total time=   0.5s\n",
      "[CV] END bootstrap=False, max_features=0.5, min_samples_leaf=7, min_samples_split=4, n_estimators=400; total time=   0.5s\n",
      "[CV] END bootstrap=False, max_features=0.5, min_samples_leaf=7, min_samples_split=4, n_estimators=400; total time=   0.5s\n",
      "[CV] END bootstrap=False, max_features=0.5, min_samples_leaf=7, min_samples_split=4, n_estimators=500; total time=   0.6s\n",
      "[CV] END bootstrap=False, max_features=0.5, min_samples_leaf=7, min_samples_split=4, n_estimators=500; total time=   0.6s\n",
      "[CV] END bootstrap=False, max_features=0.5, min_samples_leaf=7, min_samples_split=4, n_estimators=500; total time=   0.6s\n",
      "[CV] END bootstrap=False, max_features=0.5, min_samples_leaf=7, min_samples_split=4, n_estimators=500; total time=   0.7s\n",
      "[CV] END bootstrap=False, max_features=0.5, min_samples_leaf=7, min_samples_split=4, n_estimators=500; total time=   0.6s\n",
      "[CV] END bootstrap=False, max_features=0.5, min_samples_leaf=7, min_samples_split=6, n_estimators=100; total time=   0.0s\n",
      "[CV] END bootstrap=False, max_features=0.5, min_samples_leaf=7, min_samples_split=6, n_estimators=100; total time=   0.0s\n",
      "[CV] END bootstrap=False, max_features=0.5, min_samples_leaf=7, min_samples_split=6, n_estimators=100; total time=   0.0s\n",
      "[CV] END bootstrap=False, max_features=0.5, min_samples_leaf=7, min_samples_split=6, n_estimators=100; total time=   0.1s\n",
      "[CV] END bootstrap=False, max_features=0.5, min_samples_leaf=7, min_samples_split=6, n_estimators=100; total time=   0.1s\n",
      "[CV] END bootstrap=False, max_features=0.5, min_samples_leaf=7, min_samples_split=6, n_estimators=200; total time=   0.2s\n",
      "[CV] END bootstrap=False, max_features=0.5, min_samples_leaf=7, min_samples_split=6, n_estimators=200; total time=   0.2s\n",
      "[CV] END bootstrap=False, max_features=0.5, min_samples_leaf=7, min_samples_split=6, n_estimators=200; total time=   0.2s\n",
      "[CV] END bootstrap=False, max_features=0.5, min_samples_leaf=7, min_samples_split=6, n_estimators=200; total time=   0.2s\n",
      "[CV] END bootstrap=False, max_features=0.5, min_samples_leaf=7, min_samples_split=6, n_estimators=200; total time=   0.2s\n",
      "[CV] END bootstrap=False, max_features=0.5, min_samples_leaf=7, min_samples_split=6, n_estimators=300; total time=   0.3s\n",
      "[CV] END bootstrap=False, max_features=0.5, min_samples_leaf=7, min_samples_split=6, n_estimators=300; total time=   0.3s\n",
      "[CV] END bootstrap=False, max_features=0.5, min_samples_leaf=7, min_samples_split=6, n_estimators=300; total time=   0.3s\n",
      "[CV] END bootstrap=False, max_features=0.5, min_samples_leaf=7, min_samples_split=6, n_estimators=300; total time=   0.3s\n",
      "[CV] END bootstrap=False, max_features=0.5, min_samples_leaf=7, min_samples_split=6, n_estimators=300; total time=   0.4s\n"
     ]
    },
    {
     "name": "stdout",
     "output_type": "stream",
     "text": [
      "[CV] END bootstrap=False, max_features=0.5, min_samples_leaf=7, min_samples_split=6, n_estimators=400; total time=   0.5s\n",
      "[CV] END bootstrap=False, max_features=0.5, min_samples_leaf=7, min_samples_split=6, n_estimators=400; total time=   0.4s\n",
      "[CV] END bootstrap=False, max_features=0.5, min_samples_leaf=7, min_samples_split=6, n_estimators=400; total time=   0.5s\n",
      "[CV] END bootstrap=False, max_features=0.5, min_samples_leaf=7, min_samples_split=6, n_estimators=400; total time=   0.5s\n",
      "[CV] END bootstrap=False, max_features=0.5, min_samples_leaf=7, min_samples_split=6, n_estimators=400; total time=   0.5s\n",
      "[CV] END bootstrap=False, max_features=0.5, min_samples_leaf=7, min_samples_split=6, n_estimators=500; total time=   0.6s\n",
      "[CV] END bootstrap=False, max_features=0.5, min_samples_leaf=7, min_samples_split=6, n_estimators=500; total time=   0.6s\n",
      "[CV] END bootstrap=False, max_features=0.5, min_samples_leaf=7, min_samples_split=6, n_estimators=500; total time=   0.6s\n",
      "[CV] END bootstrap=False, max_features=0.5, min_samples_leaf=7, min_samples_split=6, n_estimators=500; total time=   0.7s\n",
      "[CV] END bootstrap=False, max_features=0.5, min_samples_leaf=7, min_samples_split=6, n_estimators=500; total time=   0.6s\n",
      "[CV] END bootstrap=False, max_features=0.5, min_samples_leaf=7, min_samples_split=8, n_estimators=100; total time=   0.0s\n",
      "[CV] END bootstrap=False, max_features=0.5, min_samples_leaf=7, min_samples_split=8, n_estimators=100; total time=   0.1s\n",
      "[CV] END bootstrap=False, max_features=0.5, min_samples_leaf=7, min_samples_split=8, n_estimators=100; total time=   0.1s\n",
      "[CV] END bootstrap=False, max_features=0.5, min_samples_leaf=7, min_samples_split=8, n_estimators=100; total time=   0.0s\n",
      "[CV] END bootstrap=False, max_features=0.5, min_samples_leaf=7, min_samples_split=8, n_estimators=100; total time=   0.0s\n",
      "[CV] END bootstrap=False, max_features=0.5, min_samples_leaf=7, min_samples_split=8, n_estimators=200; total time=   0.2s\n",
      "[CV] END bootstrap=False, max_features=0.5, min_samples_leaf=7, min_samples_split=8, n_estimators=200; total time=   0.2s\n",
      "[CV] END bootstrap=False, max_features=0.5, min_samples_leaf=7, min_samples_split=8, n_estimators=200; total time=   0.2s\n",
      "[CV] END bootstrap=False, max_features=0.5, min_samples_leaf=7, min_samples_split=8, n_estimators=200; total time=   0.2s\n",
      "[CV] END bootstrap=False, max_features=0.5, min_samples_leaf=7, min_samples_split=8, n_estimators=200; total time=   0.2s\n",
      "[CV] END bootstrap=False, max_features=0.5, min_samples_leaf=7, min_samples_split=8, n_estimators=300; total time=   0.3s\n",
      "[CV] END bootstrap=False, max_features=0.5, min_samples_leaf=7, min_samples_split=8, n_estimators=300; total time=   0.3s\n",
      "[CV] END bootstrap=False, max_features=0.5, min_samples_leaf=7, min_samples_split=8, n_estimators=300; total time=   0.3s\n",
      "[CV] END bootstrap=False, max_features=0.5, min_samples_leaf=7, min_samples_split=8, n_estimators=300; total time=   0.3s\n",
      "[CV] END bootstrap=False, max_features=0.5, min_samples_leaf=7, min_samples_split=8, n_estimators=300; total time=   0.3s\n",
      "[CV] END bootstrap=False, max_features=0.5, min_samples_leaf=7, min_samples_split=8, n_estimators=400; total time=   0.4s\n",
      "[CV] END bootstrap=False, max_features=0.5, min_samples_leaf=7, min_samples_split=8, n_estimators=400; total time=   0.4s\n",
      "[CV] END bootstrap=False, max_features=0.5, min_samples_leaf=7, min_samples_split=8, n_estimators=400; total time=   0.5s\n",
      "[CV] END bootstrap=False, max_features=0.5, min_samples_leaf=7, min_samples_split=8, n_estimators=400; total time=   0.5s\n",
      "[CV] END bootstrap=False, max_features=0.5, min_samples_leaf=7, min_samples_split=8, n_estimators=400; total time=   0.5s\n",
      "[CV] END bootstrap=False, max_features=0.5, min_samples_leaf=7, min_samples_split=8, n_estimators=500; total time=   0.6s\n",
      "[CV] END bootstrap=False, max_features=0.5, min_samples_leaf=7, min_samples_split=8, n_estimators=500; total time=   0.6s\n",
      "[CV] END bootstrap=False, max_features=0.5, min_samples_leaf=7, min_samples_split=8, n_estimators=500; total time=   0.6s\n",
      "[CV] END bootstrap=False, max_features=0.5, min_samples_leaf=7, min_samples_split=8, n_estimators=500; total time=   0.6s\n",
      "[CV] END bootstrap=False, max_features=0.5, min_samples_leaf=7, min_samples_split=8, n_estimators=500; total time=   0.6s\n",
      "[CV] END bootstrap=False, max_features=1.0, min_samples_leaf=1, min_samples_split=2, n_estimators=100; total time=   0.2s\n",
      "[CV] END bootstrap=False, max_features=1.0, min_samples_leaf=1, min_samples_split=2, n_estimators=100; total time=   0.2s\n",
      "[CV] END bootstrap=False, max_features=1.0, min_samples_leaf=1, min_samples_split=2, n_estimators=100; total time=   0.2s\n",
      "[CV] END bootstrap=False, max_features=1.0, min_samples_leaf=1, min_samples_split=2, n_estimators=100; total time=   0.2s\n",
      "[CV] END bootstrap=False, max_features=1.0, min_samples_leaf=1, min_samples_split=2, n_estimators=100; total time=   0.3s\n",
      "[CV] END bootstrap=False, max_features=1.0, min_samples_leaf=1, min_samples_split=2, n_estimators=200; total time=   0.6s\n",
      "[CV] END bootstrap=False, max_features=1.0, min_samples_leaf=1, min_samples_split=2, n_estimators=200; total time=   0.5s\n",
      "[CV] END bootstrap=False, max_features=1.0, min_samples_leaf=1, min_samples_split=2, n_estimators=200; total time=   0.5s\n",
      "[CV] END bootstrap=False, max_features=1.0, min_samples_leaf=1, min_samples_split=2, n_estimators=200; total time=   0.5s\n",
      "[CV] END bootstrap=False, max_features=1.0, min_samples_leaf=1, min_samples_split=2, n_estimators=200; total time=   0.5s\n",
      "[CV] END bootstrap=False, max_features=1.0, min_samples_leaf=1, min_samples_split=2, n_estimators=300; total time=   0.8s\n",
      "[CV] END bootstrap=False, max_features=1.0, min_samples_leaf=1, min_samples_split=2, n_estimators=300; total time=   0.7s\n",
      "[CV] END bootstrap=False, max_features=1.0, min_samples_leaf=1, min_samples_split=2, n_estimators=300; total time=   0.8s\n",
      "[CV] END bootstrap=False, max_features=1.0, min_samples_leaf=1, min_samples_split=2, n_estimators=300; total time=   0.7s\n",
      "[CV] END bootstrap=False, max_features=1.0, min_samples_leaf=1, min_samples_split=2, n_estimators=300; total time=   0.8s\n",
      "[CV] END bootstrap=False, max_features=1.0, min_samples_leaf=1, min_samples_split=2, n_estimators=400; total time=   1.2s\n",
      "[CV] END bootstrap=False, max_features=1.0, min_samples_leaf=1, min_samples_split=2, n_estimators=400; total time=   1.2s\n",
      "[CV] END bootstrap=False, max_features=1.0, min_samples_leaf=1, min_samples_split=2, n_estimators=400; total time=   1.1s\n",
      "[CV] END bootstrap=False, max_features=1.0, min_samples_leaf=1, min_samples_split=2, n_estimators=400; total time=   1.0s\n",
      "[CV] END bootstrap=False, max_features=1.0, min_samples_leaf=1, min_samples_split=2, n_estimators=400; total time=   1.1s\n",
      "[CV] END bootstrap=False, max_features=1.0, min_samples_leaf=1, min_samples_split=2, n_estimators=500; total time=   1.4s\n",
      "[CV] END bootstrap=False, max_features=1.0, min_samples_leaf=1, min_samples_split=2, n_estimators=500; total time=   1.3s\n",
      "[CV] END bootstrap=False, max_features=1.0, min_samples_leaf=1, min_samples_split=2, n_estimators=500; total time=   1.5s\n",
      "[CV] END bootstrap=False, max_features=1.0, min_samples_leaf=1, min_samples_split=2, n_estimators=500; total time=   1.4s\n",
      "[CV] END bootstrap=False, max_features=1.0, min_samples_leaf=1, min_samples_split=2, n_estimators=500; total time=   1.4s\n",
      "[CV] END bootstrap=False, max_features=1.0, min_samples_leaf=1, min_samples_split=4, n_estimators=100; total time=   0.2s\n",
      "[CV] END bootstrap=False, max_features=1.0, min_samples_leaf=1, min_samples_split=4, n_estimators=100; total time=   0.2s\n",
      "[CV] END bootstrap=False, max_features=1.0, min_samples_leaf=1, min_samples_split=4, n_estimators=100; total time=   0.2s\n",
      "[CV] END bootstrap=False, max_features=1.0, min_samples_leaf=1, min_samples_split=4, n_estimators=100; total time=   0.2s\n",
      "[CV] END bootstrap=False, max_features=1.0, min_samples_leaf=1, min_samples_split=4, n_estimators=100; total time=   0.2s\n",
      "[CV] END bootstrap=False, max_features=1.0, min_samples_leaf=1, min_samples_split=4, n_estimators=200; total time=   0.5s\n",
      "[CV] END bootstrap=False, max_features=1.0, min_samples_leaf=1, min_samples_split=4, n_estimators=200; total time=   0.5s\n",
      "[CV] END bootstrap=False, max_features=1.0, min_samples_leaf=1, min_samples_split=4, n_estimators=200; total time=   0.5s\n"
     ]
    },
    {
     "name": "stdout",
     "output_type": "stream",
     "text": [
      "[CV] END bootstrap=False, max_features=1.0, min_samples_leaf=1, min_samples_split=4, n_estimators=200; total time=   0.5s\n",
      "[CV] END bootstrap=False, max_features=1.0, min_samples_leaf=1, min_samples_split=4, n_estimators=200; total time=   0.5s\n",
      "[CV] END bootstrap=False, max_features=1.0, min_samples_leaf=1, min_samples_split=4, n_estimators=300; total time=   0.8s\n",
      "[CV] END bootstrap=False, max_features=1.0, min_samples_leaf=1, min_samples_split=4, n_estimators=300; total time=   0.8s\n",
      "[CV] END bootstrap=False, max_features=1.0, min_samples_leaf=1, min_samples_split=4, n_estimators=300; total time=   0.9s\n",
      "[CV] END bootstrap=False, max_features=1.0, min_samples_leaf=1, min_samples_split=4, n_estimators=300; total time=   0.7s\n",
      "[CV] END bootstrap=False, max_features=1.0, min_samples_leaf=1, min_samples_split=4, n_estimators=300; total time=   0.7s\n",
      "[CV] END bootstrap=False, max_features=1.0, min_samples_leaf=1, min_samples_split=4, n_estimators=400; total time=   1.0s\n",
      "[CV] END bootstrap=False, max_features=1.0, min_samples_leaf=1, min_samples_split=4, n_estimators=400; total time=   1.1s\n",
      "[CV] END bootstrap=False, max_features=1.0, min_samples_leaf=1, min_samples_split=4, n_estimators=400; total time=   1.2s\n",
      "[CV] END bootstrap=False, max_features=1.0, min_samples_leaf=1, min_samples_split=4, n_estimators=400; total time=   1.0s\n",
      "[CV] END bootstrap=False, max_features=1.0, min_samples_leaf=1, min_samples_split=4, n_estimators=400; total time=   1.1s\n",
      "[CV] END bootstrap=False, max_features=1.0, min_samples_leaf=1, min_samples_split=4, n_estimators=500; total time=   1.3s\n",
      "[CV] END bootstrap=False, max_features=1.0, min_samples_leaf=1, min_samples_split=4, n_estimators=500; total time=   1.3s\n",
      "[CV] END bootstrap=False, max_features=1.0, min_samples_leaf=1, min_samples_split=4, n_estimators=500; total time=   1.4s\n",
      "[CV] END bootstrap=False, max_features=1.0, min_samples_leaf=1, min_samples_split=4, n_estimators=500; total time=   1.3s\n",
      "[CV] END bootstrap=False, max_features=1.0, min_samples_leaf=1, min_samples_split=4, n_estimators=500; total time=   1.4s\n",
      "[CV] END bootstrap=False, max_features=1.0, min_samples_leaf=1, min_samples_split=6, n_estimators=100; total time=   0.2s\n",
      "[CV] END bootstrap=False, max_features=1.0, min_samples_leaf=1, min_samples_split=6, n_estimators=100; total time=   0.2s\n",
      "[CV] END bootstrap=False, max_features=1.0, min_samples_leaf=1, min_samples_split=6, n_estimators=100; total time=   0.2s\n",
      "[CV] END bootstrap=False, max_features=1.0, min_samples_leaf=1, min_samples_split=6, n_estimators=100; total time=   0.2s\n",
      "[CV] END bootstrap=False, max_features=1.0, min_samples_leaf=1, min_samples_split=6, n_estimators=100; total time=   0.2s\n",
      "[CV] END bootstrap=False, max_features=1.0, min_samples_leaf=1, min_samples_split=6, n_estimators=200; total time=   0.5s\n",
      "[CV] END bootstrap=False, max_features=1.0, min_samples_leaf=1, min_samples_split=6, n_estimators=200; total time=   0.5s\n",
      "[CV] END bootstrap=False, max_features=1.0, min_samples_leaf=1, min_samples_split=6, n_estimators=200; total time=   0.5s\n",
      "[CV] END bootstrap=False, max_features=1.0, min_samples_leaf=1, min_samples_split=6, n_estimators=200; total time=   0.5s\n",
      "[CV] END bootstrap=False, max_features=1.0, min_samples_leaf=1, min_samples_split=6, n_estimators=200; total time=   0.5s\n",
      "[CV] END bootstrap=False, max_features=1.0, min_samples_leaf=1, min_samples_split=6, n_estimators=300; total time=   0.7s\n",
      "[CV] END bootstrap=False, max_features=1.0, min_samples_leaf=1, min_samples_split=6, n_estimators=300; total time=   0.7s\n",
      "[CV] END bootstrap=False, max_features=1.0, min_samples_leaf=1, min_samples_split=6, n_estimators=300; total time=   0.8s\n",
      "[CV] END bootstrap=False, max_features=1.0, min_samples_leaf=1, min_samples_split=6, n_estimators=300; total time=   0.7s\n",
      "[CV] END bootstrap=False, max_features=1.0, min_samples_leaf=1, min_samples_split=6, n_estimators=300; total time=   0.7s\n",
      "[CV] END bootstrap=False, max_features=1.0, min_samples_leaf=1, min_samples_split=6, n_estimators=400; total time=   1.0s\n",
      "[CV] END bootstrap=False, max_features=1.0, min_samples_leaf=1, min_samples_split=6, n_estimators=400; total time=   0.9s\n",
      "[CV] END bootstrap=False, max_features=1.0, min_samples_leaf=1, min_samples_split=6, n_estimators=400; total time=   1.1s\n",
      "[CV] END bootstrap=False, max_features=1.0, min_samples_leaf=1, min_samples_split=6, n_estimators=400; total time=   1.0s\n",
      "[CV] END bootstrap=False, max_features=1.0, min_samples_leaf=1, min_samples_split=6, n_estimators=400; total time=   1.1s\n",
      "[CV] END bootstrap=False, max_features=1.0, min_samples_leaf=1, min_samples_split=6, n_estimators=500; total time=   1.2s\n",
      "[CV] END bootstrap=False, max_features=1.0, min_samples_leaf=1, min_samples_split=6, n_estimators=500; total time=   1.2s\n",
      "[CV] END bootstrap=False, max_features=1.0, min_samples_leaf=1, min_samples_split=6, n_estimators=500; total time=   1.3s\n",
      "[CV] END bootstrap=False, max_features=1.0, min_samples_leaf=1, min_samples_split=6, n_estimators=500; total time=   1.3s\n",
      "[CV] END bootstrap=False, max_features=1.0, min_samples_leaf=1, min_samples_split=6, n_estimators=500; total time=   1.3s\n",
      "[CV] END bootstrap=False, max_features=1.0, min_samples_leaf=1, min_samples_split=8, n_estimators=100; total time=   0.2s\n",
      "[CV] END bootstrap=False, max_features=1.0, min_samples_leaf=1, min_samples_split=8, n_estimators=100; total time=   0.2s\n",
      "[CV] END bootstrap=False, max_features=1.0, min_samples_leaf=1, min_samples_split=8, n_estimators=100; total time=   0.2s\n",
      "[CV] END bootstrap=False, max_features=1.0, min_samples_leaf=1, min_samples_split=8, n_estimators=100; total time=   0.2s\n",
      "[CV] END bootstrap=False, max_features=1.0, min_samples_leaf=1, min_samples_split=8, n_estimators=100; total time=   0.2s\n",
      "[CV] END bootstrap=False, max_features=1.0, min_samples_leaf=1, min_samples_split=8, n_estimators=200; total time=   0.4s\n",
      "[CV] END bootstrap=False, max_features=1.0, min_samples_leaf=1, min_samples_split=8, n_estimators=200; total time=   0.4s\n",
      "[CV] END bootstrap=False, max_features=1.0, min_samples_leaf=1, min_samples_split=8, n_estimators=200; total time=   0.5s\n",
      "[CV] END bootstrap=False, max_features=1.0, min_samples_leaf=1, min_samples_split=8, n_estimators=200; total time=   0.4s\n",
      "[CV] END bootstrap=False, max_features=1.0, min_samples_leaf=1, min_samples_split=8, n_estimators=200; total time=   0.4s\n",
      "[CV] END bootstrap=False, max_features=1.0, min_samples_leaf=1, min_samples_split=8, n_estimators=300; total time=   0.7s\n",
      "[CV] END bootstrap=False, max_features=1.0, min_samples_leaf=1, min_samples_split=8, n_estimators=300; total time=   0.7s\n",
      "[CV] END bootstrap=False, max_features=1.0, min_samples_leaf=1, min_samples_split=8, n_estimators=300; total time=   0.9s\n",
      "[CV] END bootstrap=False, max_features=1.0, min_samples_leaf=1, min_samples_split=8, n_estimators=300; total time=   0.7s\n",
      "[CV] END bootstrap=False, max_features=1.0, min_samples_leaf=1, min_samples_split=8, n_estimators=300; total time=   0.7s\n",
      "[CV] END bootstrap=False, max_features=1.0, min_samples_leaf=1, min_samples_split=8, n_estimators=400; total time=   1.0s\n",
      "[CV] END bootstrap=False, max_features=1.0, min_samples_leaf=1, min_samples_split=8, n_estimators=400; total time=   0.9s\n",
      "[CV] END bootstrap=False, max_features=1.0, min_samples_leaf=1, min_samples_split=8, n_estimators=400; total time=   1.0s\n",
      "[CV] END bootstrap=False, max_features=1.0, min_samples_leaf=1, min_samples_split=8, n_estimators=400; total time=   1.0s\n",
      "[CV] END bootstrap=False, max_features=1.0, min_samples_leaf=1, min_samples_split=8, n_estimators=400; total time=   1.0s\n",
      "[CV] END bootstrap=False, max_features=1.0, min_samples_leaf=1, min_samples_split=8, n_estimators=500; total time=   1.2s\n",
      "[CV] END bootstrap=False, max_features=1.0, min_samples_leaf=1, min_samples_split=8, n_estimators=500; total time=   1.1s\n",
      "[CV] END bootstrap=False, max_features=1.0, min_samples_leaf=1, min_samples_split=8, n_estimators=500; total time=   1.3s\n",
      "[CV] END bootstrap=False, max_features=1.0, min_samples_leaf=1, min_samples_split=8, n_estimators=500; total time=   1.2s\n",
      "[CV] END bootstrap=False, max_features=1.0, min_samples_leaf=1, min_samples_split=8, n_estimators=500; total time=   1.3s\n",
      "[CV] END bootstrap=False, max_features=1.0, min_samples_leaf=3, min_samples_split=2, n_estimators=100; total time=   0.2s\n"
     ]
    },
    {
     "name": "stdout",
     "output_type": "stream",
     "text": [
      "[CV] END bootstrap=False, max_features=1.0, min_samples_leaf=3, min_samples_split=2, n_estimators=100; total time=   0.1s\n",
      "[CV] END bootstrap=False, max_features=1.0, min_samples_leaf=3, min_samples_split=2, n_estimators=100; total time=   0.2s\n",
      "[CV] END bootstrap=False, max_features=1.0, min_samples_leaf=3, min_samples_split=2, n_estimators=100; total time=   0.2s\n",
      "[CV] END bootstrap=False, max_features=1.0, min_samples_leaf=3, min_samples_split=2, n_estimators=100; total time=   0.2s\n",
      "[CV] END bootstrap=False, max_features=1.0, min_samples_leaf=3, min_samples_split=2, n_estimators=200; total time=   0.4s\n",
      "[CV] END bootstrap=False, max_features=1.0, min_samples_leaf=3, min_samples_split=2, n_estimators=200; total time=   0.4s\n",
      "[CV] END bootstrap=False, max_features=1.0, min_samples_leaf=3, min_samples_split=2, n_estimators=200; total time=   0.4s\n",
      "[CV] END bootstrap=False, max_features=1.0, min_samples_leaf=3, min_samples_split=2, n_estimators=200; total time=   0.4s\n",
      "[CV] END bootstrap=False, max_features=1.0, min_samples_leaf=3, min_samples_split=2, n_estimators=200; total time=   0.5s\n",
      "[CV] END bootstrap=False, max_features=1.0, min_samples_leaf=3, min_samples_split=2, n_estimators=300; total time=   0.7s\n",
      "[CV] END bootstrap=False, max_features=1.0, min_samples_leaf=3, min_samples_split=2, n_estimators=300; total time=   0.7s\n",
      "[CV] END bootstrap=False, max_features=1.0, min_samples_leaf=3, min_samples_split=2, n_estimators=300; total time=   0.8s\n",
      "[CV] END bootstrap=False, max_features=1.0, min_samples_leaf=3, min_samples_split=2, n_estimators=300; total time=   0.6s\n",
      "[CV] END bootstrap=False, max_features=1.0, min_samples_leaf=3, min_samples_split=2, n_estimators=300; total time=   0.7s\n",
      "[CV] END bootstrap=False, max_features=1.0, min_samples_leaf=3, min_samples_split=2, n_estimators=400; total time=   1.0s\n",
      "[CV] END bootstrap=False, max_features=1.0, min_samples_leaf=3, min_samples_split=2, n_estimators=400; total time=   0.9s\n",
      "[CV] END bootstrap=False, max_features=1.0, min_samples_leaf=3, min_samples_split=2, n_estimators=400; total time=   1.0s\n",
      "[CV] END bootstrap=False, max_features=1.0, min_samples_leaf=3, min_samples_split=2, n_estimators=400; total time=   0.9s\n",
      "[CV] END bootstrap=False, max_features=1.0, min_samples_leaf=3, min_samples_split=2, n_estimators=400; total time=   1.0s\n",
      "[CV] END bootstrap=False, max_features=1.0, min_samples_leaf=3, min_samples_split=2, n_estimators=500; total time=   1.2s\n",
      "[CV] END bootstrap=False, max_features=1.0, min_samples_leaf=3, min_samples_split=2, n_estimators=500; total time=   1.1s\n",
      "[CV] END bootstrap=False, max_features=1.0, min_samples_leaf=3, min_samples_split=2, n_estimators=500; total time=   1.3s\n",
      "[CV] END bootstrap=False, max_features=1.0, min_samples_leaf=3, min_samples_split=2, n_estimators=500; total time=   1.2s\n",
      "[CV] END bootstrap=False, max_features=1.0, min_samples_leaf=3, min_samples_split=2, n_estimators=500; total time=   1.3s\n",
      "[CV] END bootstrap=False, max_features=1.0, min_samples_leaf=3, min_samples_split=4, n_estimators=100; total time=   0.2s\n",
      "[CV] END bootstrap=False, max_features=1.0, min_samples_leaf=3, min_samples_split=4, n_estimators=100; total time=   0.2s\n",
      "[CV] END bootstrap=False, max_features=1.0, min_samples_leaf=3, min_samples_split=4, n_estimators=100; total time=   0.2s\n",
      "[CV] END bootstrap=False, max_features=1.0, min_samples_leaf=3, min_samples_split=4, n_estimators=100; total time=   0.2s\n",
      "[CV] END bootstrap=False, max_features=1.0, min_samples_leaf=3, min_samples_split=4, n_estimators=100; total time=   0.2s\n",
      "[CV] END bootstrap=False, max_features=1.0, min_samples_leaf=3, min_samples_split=4, n_estimators=200; total time=   0.4s\n",
      "[CV] END bootstrap=False, max_features=1.0, min_samples_leaf=3, min_samples_split=4, n_estimators=200; total time=   0.4s\n",
      "[CV] END bootstrap=False, max_features=1.0, min_samples_leaf=3, min_samples_split=4, n_estimators=200; total time=   0.5s\n",
      "[CV] END bootstrap=False, max_features=1.0, min_samples_leaf=3, min_samples_split=4, n_estimators=200; total time=   0.4s\n",
      "[CV] END bootstrap=False, max_features=1.0, min_samples_leaf=3, min_samples_split=4, n_estimators=200; total time=   0.4s\n",
      "[CV] END bootstrap=False, max_features=1.0, min_samples_leaf=3, min_samples_split=4, n_estimators=300; total time=   0.7s\n",
      "[CV] END bootstrap=False, max_features=1.0, min_samples_leaf=3, min_samples_split=4, n_estimators=300; total time=   0.7s\n",
      "[CV] END bootstrap=False, max_features=1.0, min_samples_leaf=3, min_samples_split=4, n_estimators=300; total time=   0.8s\n",
      "[CV] END bootstrap=False, max_features=1.0, min_samples_leaf=3, min_samples_split=4, n_estimators=300; total time=   0.7s\n",
      "[CV] END bootstrap=False, max_features=1.0, min_samples_leaf=3, min_samples_split=4, n_estimators=300; total time=   0.8s\n",
      "[CV] END bootstrap=False, max_features=1.0, min_samples_leaf=3, min_samples_split=4, n_estimators=400; total time=   1.0s\n",
      "[CV] END bootstrap=False, max_features=1.0, min_samples_leaf=3, min_samples_split=4, n_estimators=400; total time=   1.0s\n",
      "[CV] END bootstrap=False, max_features=1.0, min_samples_leaf=3, min_samples_split=4, n_estimators=400; total time=   1.1s\n",
      "[CV] END bootstrap=False, max_features=1.0, min_samples_leaf=3, min_samples_split=4, n_estimators=400; total time=   0.9s\n",
      "[CV] END bootstrap=False, max_features=1.0, min_samples_leaf=3, min_samples_split=4, n_estimators=400; total time=   1.0s\n",
      "[CV] END bootstrap=False, max_features=1.0, min_samples_leaf=3, min_samples_split=4, n_estimators=500; total time=   1.3s\n",
      "[CV] END bootstrap=False, max_features=1.0, min_samples_leaf=3, min_samples_split=4, n_estimators=500; total time=   1.2s\n",
      "[CV] END bootstrap=False, max_features=1.0, min_samples_leaf=3, min_samples_split=4, n_estimators=500; total time=   1.3s\n",
      "[CV] END bootstrap=False, max_features=1.0, min_samples_leaf=3, min_samples_split=4, n_estimators=500; total time=   1.2s\n",
      "[CV] END bootstrap=False, max_features=1.0, min_samples_leaf=3, min_samples_split=4, n_estimators=500; total time=   1.2s\n",
      "[CV] END bootstrap=False, max_features=1.0, min_samples_leaf=3, min_samples_split=6, n_estimators=100; total time=   0.2s\n",
      "[CV] END bootstrap=False, max_features=1.0, min_samples_leaf=3, min_samples_split=6, n_estimators=100; total time=   0.2s\n",
      "[CV] END bootstrap=False, max_features=1.0, min_samples_leaf=3, min_samples_split=6, n_estimators=100; total time=   0.2s\n",
      "[CV] END bootstrap=False, max_features=1.0, min_samples_leaf=3, min_samples_split=6, n_estimators=100; total time=   0.1s\n",
      "[CV] END bootstrap=False, max_features=1.0, min_samples_leaf=3, min_samples_split=6, n_estimators=100; total time=   0.2s\n",
      "[CV] END bootstrap=False, max_features=1.0, min_samples_leaf=3, min_samples_split=6, n_estimators=200; total time=   0.5s\n",
      "[CV] END bootstrap=False, max_features=1.0, min_samples_leaf=3, min_samples_split=6, n_estimators=200; total time=   0.4s\n",
      "[CV] END bootstrap=False, max_features=1.0, min_samples_leaf=3, min_samples_split=6, n_estimators=200; total time=   0.5s\n",
      "[CV] END bootstrap=False, max_features=1.0, min_samples_leaf=3, min_samples_split=6, n_estimators=200; total time=   0.4s\n",
      "[CV] END bootstrap=False, max_features=1.0, min_samples_leaf=3, min_samples_split=6, n_estimators=200; total time=   0.5s\n",
      "[CV] END bootstrap=False, max_features=1.0, min_samples_leaf=3, min_samples_split=6, n_estimators=300; total time=   0.7s\n",
      "[CV] END bootstrap=False, max_features=1.0, min_samples_leaf=3, min_samples_split=6, n_estimators=300; total time=   0.7s\n",
      "[CV] END bootstrap=False, max_features=1.0, min_samples_leaf=3, min_samples_split=6, n_estimators=300; total time=   0.8s\n",
      "[CV] END bootstrap=False, max_features=1.0, min_samples_leaf=3, min_samples_split=6, n_estimators=300; total time=   0.6s\n",
      "[CV] END bootstrap=False, max_features=1.0, min_samples_leaf=3, min_samples_split=6, n_estimators=300; total time=   0.7s\n",
      "[CV] END bootstrap=False, max_features=1.0, min_samples_leaf=3, min_samples_split=6, n_estimators=400; total time=   0.9s\n",
      "[CV] END bootstrap=False, max_features=1.0, min_samples_leaf=3, min_samples_split=6, n_estimators=400; total time=   0.9s\n",
      "[CV] END bootstrap=False, max_features=1.0, min_samples_leaf=3, min_samples_split=6, n_estimators=400; total time=   1.1s\n",
      "[CV] END bootstrap=False, max_features=1.0, min_samples_leaf=3, min_samples_split=6, n_estimators=400; total time=   0.9s\n"
     ]
    },
    {
     "name": "stdout",
     "output_type": "stream",
     "text": [
      "[CV] END bootstrap=False, max_features=1.0, min_samples_leaf=3, min_samples_split=6, n_estimators=400; total time=   1.1s\n",
      "[CV] END bootstrap=False, max_features=1.0, min_samples_leaf=3, min_samples_split=6, n_estimators=500; total time=   1.2s\n",
      "[CV] END bootstrap=False, max_features=1.0, min_samples_leaf=3, min_samples_split=6, n_estimators=500; total time=   1.2s\n",
      "[CV] END bootstrap=False, max_features=1.0, min_samples_leaf=3, min_samples_split=6, n_estimators=500; total time=   1.3s\n",
      "[CV] END bootstrap=False, max_features=1.0, min_samples_leaf=3, min_samples_split=6, n_estimators=500; total time=   1.2s\n",
      "[CV] END bootstrap=False, max_features=1.0, min_samples_leaf=3, min_samples_split=6, n_estimators=500; total time=   1.3s\n",
      "[CV] END bootstrap=False, max_features=1.0, min_samples_leaf=3, min_samples_split=8, n_estimators=100; total time=   0.1s\n",
      "[CV] END bootstrap=False, max_features=1.0, min_samples_leaf=3, min_samples_split=8, n_estimators=100; total time=   0.1s\n",
      "[CV] END bootstrap=False, max_features=1.0, min_samples_leaf=3, min_samples_split=8, n_estimators=100; total time=   0.2s\n",
      "[CV] END bootstrap=False, max_features=1.0, min_samples_leaf=3, min_samples_split=8, n_estimators=100; total time=   0.2s\n",
      "[CV] END bootstrap=False, max_features=1.0, min_samples_leaf=3, min_samples_split=8, n_estimators=100; total time=   0.1s\n",
      "[CV] END bootstrap=False, max_features=1.0, min_samples_leaf=3, min_samples_split=8, n_estimators=200; total time=   0.4s\n",
      "[CV] END bootstrap=False, max_features=1.0, min_samples_leaf=3, min_samples_split=8, n_estimators=200; total time=   0.4s\n",
      "[CV] END bootstrap=False, max_features=1.0, min_samples_leaf=3, min_samples_split=8, n_estimators=200; total time=   0.5s\n",
      "[CV] END bootstrap=False, max_features=1.0, min_samples_leaf=3, min_samples_split=8, n_estimators=200; total time=   0.4s\n",
      "[CV] END bootstrap=False, max_features=1.0, min_samples_leaf=3, min_samples_split=8, n_estimators=200; total time=   0.5s\n",
      "[CV] END bootstrap=False, max_features=1.0, min_samples_leaf=3, min_samples_split=8, n_estimators=300; total time=   0.7s\n",
      "[CV] END bootstrap=False, max_features=1.0, min_samples_leaf=3, min_samples_split=8, n_estimators=300; total time=   0.6s\n",
      "[CV] END bootstrap=False, max_features=1.0, min_samples_leaf=3, min_samples_split=8, n_estimators=300; total time=   0.7s\n",
      "[CV] END bootstrap=False, max_features=1.0, min_samples_leaf=3, min_samples_split=8, n_estimators=300; total time=   0.6s\n",
      "[CV] END bootstrap=False, max_features=1.0, min_samples_leaf=3, min_samples_split=8, n_estimators=300; total time=   0.6s\n",
      "[CV] END bootstrap=False, max_features=1.0, min_samples_leaf=3, min_samples_split=8, n_estimators=400; total time=   0.9s\n",
      "[CV] END bootstrap=False, max_features=1.0, min_samples_leaf=3, min_samples_split=8, n_estimators=400; total time=   0.9s\n",
      "[CV] END bootstrap=False, max_features=1.0, min_samples_leaf=3, min_samples_split=8, n_estimators=400; total time=   1.0s\n",
      "[CV] END bootstrap=False, max_features=1.0, min_samples_leaf=3, min_samples_split=8, n_estimators=400; total time=   0.9s\n",
      "[CV] END bootstrap=False, max_features=1.0, min_samples_leaf=3, min_samples_split=8, n_estimators=400; total time=   1.0s\n",
      "[CV] END bootstrap=False, max_features=1.0, min_samples_leaf=3, min_samples_split=8, n_estimators=500; total time=   1.1s\n",
      "[CV] END bootstrap=False, max_features=1.0, min_samples_leaf=3, min_samples_split=8, n_estimators=500; total time=   1.1s\n",
      "[CV] END bootstrap=False, max_features=1.0, min_samples_leaf=3, min_samples_split=8, n_estimators=500; total time=   1.2s\n",
      "[CV] END bootstrap=False, max_features=1.0, min_samples_leaf=3, min_samples_split=8, n_estimators=500; total time=   1.1s\n",
      "[CV] END bootstrap=False, max_features=1.0, min_samples_leaf=3, min_samples_split=8, n_estimators=500; total time=   1.2s\n",
      "[CV] END bootstrap=False, max_features=1.0, min_samples_leaf=5, min_samples_split=2, n_estimators=100; total time=   0.1s\n",
      "[CV] END bootstrap=False, max_features=1.0, min_samples_leaf=5, min_samples_split=2, n_estimators=100; total time=   0.1s\n",
      "[CV] END bootstrap=False, max_features=1.0, min_samples_leaf=5, min_samples_split=2, n_estimators=100; total time=   0.2s\n",
      "[CV] END bootstrap=False, max_features=1.0, min_samples_leaf=5, min_samples_split=2, n_estimators=100; total time=   0.1s\n",
      "[CV] END bootstrap=False, max_features=1.0, min_samples_leaf=5, min_samples_split=2, n_estimators=100; total time=   0.1s\n",
      "[CV] END bootstrap=False, max_features=1.0, min_samples_leaf=5, min_samples_split=2, n_estimators=200; total time=   0.4s\n",
      "[CV] END bootstrap=False, max_features=1.0, min_samples_leaf=5, min_samples_split=2, n_estimators=200; total time=   0.4s\n",
      "[CV] END bootstrap=False, max_features=1.0, min_samples_leaf=5, min_samples_split=2, n_estimators=200; total time=   0.4s\n",
      "[CV] END bootstrap=False, max_features=1.0, min_samples_leaf=5, min_samples_split=2, n_estimators=200; total time=   0.4s\n",
      "[CV] END bootstrap=False, max_features=1.0, min_samples_leaf=5, min_samples_split=2, n_estimators=200; total time=   0.4s\n",
      "[CV] END bootstrap=False, max_features=1.0, min_samples_leaf=5, min_samples_split=2, n_estimators=300; total time=   0.6s\n",
      "[CV] END bootstrap=False, max_features=1.0, min_samples_leaf=5, min_samples_split=2, n_estimators=300; total time=   0.6s\n",
      "[CV] END bootstrap=False, max_features=1.0, min_samples_leaf=5, min_samples_split=2, n_estimators=300; total time=   0.6s\n",
      "[CV] END bootstrap=False, max_features=1.0, min_samples_leaf=5, min_samples_split=2, n_estimators=300; total time=   0.6s\n",
      "[CV] END bootstrap=False, max_features=1.0, min_samples_leaf=5, min_samples_split=2, n_estimators=300; total time=   0.6s\n",
      "[CV] END bootstrap=False, max_features=1.0, min_samples_leaf=5, min_samples_split=2, n_estimators=400; total time=   0.8s\n",
      "[CV] END bootstrap=False, max_features=1.0, min_samples_leaf=5, min_samples_split=2, n_estimators=400; total time=   0.8s\n",
      "[CV] END bootstrap=False, max_features=1.0, min_samples_leaf=5, min_samples_split=2, n_estimators=400; total time=   0.9s\n",
      "[CV] END bootstrap=False, max_features=1.0, min_samples_leaf=5, min_samples_split=2, n_estimators=400; total time=   0.8s\n",
      "[CV] END bootstrap=False, max_features=1.0, min_samples_leaf=5, min_samples_split=2, n_estimators=400; total time=   0.9s\n",
      "[CV] END bootstrap=False, max_features=1.0, min_samples_leaf=5, min_samples_split=2, n_estimators=500; total time=   1.0s\n",
      "[CV] END bootstrap=False, max_features=1.0, min_samples_leaf=5, min_samples_split=2, n_estimators=500; total time=   1.1s\n",
      "[CV] END bootstrap=False, max_features=1.0, min_samples_leaf=5, min_samples_split=2, n_estimators=500; total time=   1.1s\n",
      "[CV] END bootstrap=False, max_features=1.0, min_samples_leaf=5, min_samples_split=2, n_estimators=500; total time=   1.0s\n",
      "[CV] END bootstrap=False, max_features=1.0, min_samples_leaf=5, min_samples_split=2, n_estimators=500; total time=   1.1s\n",
      "[CV] END bootstrap=False, max_features=1.0, min_samples_leaf=5, min_samples_split=4, n_estimators=100; total time=   0.1s\n",
      "[CV] END bootstrap=False, max_features=1.0, min_samples_leaf=5, min_samples_split=4, n_estimators=100; total time=   0.1s\n",
      "[CV] END bootstrap=False, max_features=1.0, min_samples_leaf=5, min_samples_split=4, n_estimators=100; total time=   0.2s\n",
      "[CV] END bootstrap=False, max_features=1.0, min_samples_leaf=5, min_samples_split=4, n_estimators=100; total time=   0.2s\n",
      "[CV] END bootstrap=False, max_features=1.0, min_samples_leaf=5, min_samples_split=4, n_estimators=100; total time=   0.2s\n",
      "[CV] END bootstrap=False, max_features=1.0, min_samples_leaf=5, min_samples_split=4, n_estimators=200; total time=   0.5s\n",
      "[CV] END bootstrap=False, max_features=1.0, min_samples_leaf=5, min_samples_split=4, n_estimators=200; total time=   0.5s\n",
      "[CV] END bootstrap=False, max_features=1.0, min_samples_leaf=5, min_samples_split=4, n_estimators=200; total time=   0.5s\n",
      "[CV] END bootstrap=False, max_features=1.0, min_samples_leaf=5, min_samples_split=4, n_estimators=200; total time=   0.5s\n",
      "[CV] END bootstrap=False, max_features=1.0, min_samples_leaf=5, min_samples_split=4, n_estimators=200; total time=   0.5s\n",
      "[CV] END bootstrap=False, max_features=1.0, min_samples_leaf=5, min_samples_split=4, n_estimators=300; total time=   0.8s\n",
      "[CV] END bootstrap=False, max_features=1.0, min_samples_leaf=5, min_samples_split=4, n_estimators=300; total time=   0.8s\n"
     ]
    },
    {
     "name": "stdout",
     "output_type": "stream",
     "text": [
      "[CV] END bootstrap=False, max_features=1.0, min_samples_leaf=5, min_samples_split=4, n_estimators=300; total time=   0.8s\n",
      "[CV] END bootstrap=False, max_features=1.0, min_samples_leaf=5, min_samples_split=4, n_estimators=300; total time=   0.7s\n",
      "[CV] END bootstrap=False, max_features=1.0, min_samples_leaf=5, min_samples_split=4, n_estimators=300; total time=   0.8s\n",
      "[CV] END bootstrap=False, max_features=1.0, min_samples_leaf=5, min_samples_split=4, n_estimators=400; total time=   1.0s\n",
      "[CV] END bootstrap=False, max_features=1.0, min_samples_leaf=5, min_samples_split=4, n_estimators=400; total time=   1.1s\n",
      "[CV] END bootstrap=False, max_features=1.0, min_samples_leaf=5, min_samples_split=4, n_estimators=400; total time=   1.2s\n",
      "[CV] END bootstrap=False, max_features=1.0, min_samples_leaf=5, min_samples_split=4, n_estimators=400; total time=   1.0s\n",
      "[CV] END bootstrap=False, max_features=1.0, min_samples_leaf=5, min_samples_split=4, n_estimators=400; total time=   1.1s\n",
      "[CV] END bootstrap=False, max_features=1.0, min_samples_leaf=5, min_samples_split=4, n_estimators=500; total time=   1.3s\n",
      "[CV] END bootstrap=False, max_features=1.0, min_samples_leaf=5, min_samples_split=4, n_estimators=500; total time=   1.5s\n",
      "[CV] END bootstrap=False, max_features=1.0, min_samples_leaf=5, min_samples_split=4, n_estimators=500; total time=   1.5s\n",
      "[CV] END bootstrap=False, max_features=1.0, min_samples_leaf=5, min_samples_split=4, n_estimators=500; total time=   1.3s\n",
      "[CV] END bootstrap=False, max_features=1.0, min_samples_leaf=5, min_samples_split=4, n_estimators=500; total time=   1.4s\n",
      "[CV] END bootstrap=False, max_features=1.0, min_samples_leaf=5, min_samples_split=6, n_estimators=100; total time=   0.2s\n",
      "[CV] END bootstrap=False, max_features=1.0, min_samples_leaf=5, min_samples_split=6, n_estimators=100; total time=   0.2s\n",
      "[CV] END bootstrap=False, max_features=1.0, min_samples_leaf=5, min_samples_split=6, n_estimators=100; total time=   0.2s\n",
      "[CV] END bootstrap=False, max_features=1.0, min_samples_leaf=5, min_samples_split=6, n_estimators=100; total time=   0.1s\n",
      "[CV] END bootstrap=False, max_features=1.0, min_samples_leaf=5, min_samples_split=6, n_estimators=100; total time=   0.2s\n",
      "[CV] END bootstrap=False, max_features=1.0, min_samples_leaf=5, min_samples_split=6, n_estimators=200; total time=   0.4s\n",
      "[CV] END bootstrap=False, max_features=1.0, min_samples_leaf=5, min_samples_split=6, n_estimators=200; total time=   0.4s\n",
      "[CV] END bootstrap=False, max_features=1.0, min_samples_leaf=5, min_samples_split=6, n_estimators=200; total time=   0.4s\n",
      "[CV] END bootstrap=False, max_features=1.0, min_samples_leaf=5, min_samples_split=6, n_estimators=200; total time=   0.4s\n",
      "[CV] END bootstrap=False, max_features=1.0, min_samples_leaf=5, min_samples_split=6, n_estimators=200; total time=   0.4s\n",
      "[CV] END bootstrap=False, max_features=1.0, min_samples_leaf=5, min_samples_split=6, n_estimators=300; total time=   0.6s\n",
      "[CV] END bootstrap=False, max_features=1.0, min_samples_leaf=5, min_samples_split=6, n_estimators=300; total time=   0.7s\n",
      "[CV] END bootstrap=False, max_features=1.0, min_samples_leaf=5, min_samples_split=6, n_estimators=300; total time=   0.9s\n",
      "[CV] END bootstrap=False, max_features=1.0, min_samples_leaf=5, min_samples_split=6, n_estimators=300; total time=   0.8s\n",
      "[CV] END bootstrap=False, max_features=1.0, min_samples_leaf=5, min_samples_split=6, n_estimators=300; total time=   0.9s\n",
      "[CV] END bootstrap=False, max_features=1.0, min_samples_leaf=5, min_samples_split=6, n_estimators=400; total time=   0.9s\n",
      "[CV] END bootstrap=False, max_features=1.0, min_samples_leaf=5, min_samples_split=6, n_estimators=400; total time=   0.8s\n",
      "[CV] END bootstrap=False, max_features=1.0, min_samples_leaf=5, min_samples_split=6, n_estimators=400; total time=   0.9s\n",
      "[CV] END bootstrap=False, max_features=1.0, min_samples_leaf=5, min_samples_split=6, n_estimators=400; total time=   0.8s\n",
      "[CV] END bootstrap=False, max_features=1.0, min_samples_leaf=5, min_samples_split=6, n_estimators=400; total time=   1.0s\n",
      "[CV] END bootstrap=False, max_features=1.0, min_samples_leaf=5, min_samples_split=6, n_estimators=500; total time=   1.4s\n",
      "[CV] END bootstrap=False, max_features=1.0, min_samples_leaf=5, min_samples_split=6, n_estimators=500; total time=   1.4s\n",
      "[CV] END bootstrap=False, max_features=1.0, min_samples_leaf=5, min_samples_split=6, n_estimators=500; total time=   1.4s\n",
      "[CV] END bootstrap=False, max_features=1.0, min_samples_leaf=5, min_samples_split=6, n_estimators=500; total time=   1.5s\n",
      "[CV] END bootstrap=False, max_features=1.0, min_samples_leaf=5, min_samples_split=6, n_estimators=500; total time=   1.4s\n",
      "[CV] END bootstrap=False, max_features=1.0, min_samples_leaf=5, min_samples_split=8, n_estimators=100; total time=   0.2s\n",
      "[CV] END bootstrap=False, max_features=1.0, min_samples_leaf=5, min_samples_split=8, n_estimators=100; total time=   0.2s\n",
      "[CV] END bootstrap=False, max_features=1.0, min_samples_leaf=5, min_samples_split=8, n_estimators=100; total time=   0.2s\n",
      "[CV] END bootstrap=False, max_features=1.0, min_samples_leaf=5, min_samples_split=8, n_estimators=100; total time=   0.2s\n",
      "[CV] END bootstrap=False, max_features=1.0, min_samples_leaf=5, min_samples_split=8, n_estimators=100; total time=   0.2s\n",
      "[CV] END bootstrap=False, max_features=1.0, min_samples_leaf=5, min_samples_split=8, n_estimators=200; total time=   0.4s\n",
      "[CV] END bootstrap=False, max_features=1.0, min_samples_leaf=5, min_samples_split=8, n_estimators=200; total time=   0.4s\n",
      "[CV] END bootstrap=False, max_features=1.0, min_samples_leaf=5, min_samples_split=8, n_estimators=200; total time=   0.4s\n",
      "[CV] END bootstrap=False, max_features=1.0, min_samples_leaf=5, min_samples_split=8, n_estimators=200; total time=   0.4s\n",
      "[CV] END bootstrap=False, max_features=1.0, min_samples_leaf=5, min_samples_split=8, n_estimators=200; total time=   0.4s\n",
      "[CV] END bootstrap=False, max_features=1.0, min_samples_leaf=5, min_samples_split=8, n_estimators=300; total time=   0.5s\n",
      "[CV] END bootstrap=False, max_features=1.0, min_samples_leaf=5, min_samples_split=8, n_estimators=300; total time=   0.6s\n",
      "[CV] END bootstrap=False, max_features=1.0, min_samples_leaf=5, min_samples_split=8, n_estimators=300; total time=   0.6s\n",
      "[CV] END bootstrap=False, max_features=1.0, min_samples_leaf=5, min_samples_split=8, n_estimators=300; total time=   0.6s\n",
      "[CV] END bootstrap=False, max_features=1.0, min_samples_leaf=5, min_samples_split=8, n_estimators=300; total time=   0.6s\n",
      "[CV] END bootstrap=False, max_features=1.0, min_samples_leaf=5, min_samples_split=8, n_estimators=400; total time=   0.8s\n",
      "[CV] END bootstrap=False, max_features=1.0, min_samples_leaf=5, min_samples_split=8, n_estimators=400; total time=   0.8s\n",
      "[CV] END bootstrap=False, max_features=1.0, min_samples_leaf=5, min_samples_split=8, n_estimators=400; total time=   0.8s\n",
      "[CV] END bootstrap=False, max_features=1.0, min_samples_leaf=5, min_samples_split=8, n_estimators=400; total time=   0.8s\n",
      "[CV] END bootstrap=False, max_features=1.0, min_samples_leaf=5, min_samples_split=8, n_estimators=400; total time=   0.9s\n",
      "[CV] END bootstrap=False, max_features=1.0, min_samples_leaf=5, min_samples_split=8, n_estimators=500; total time=   1.1s\n",
      "[CV] END bootstrap=False, max_features=1.0, min_samples_leaf=5, min_samples_split=8, n_estimators=500; total time=   1.1s\n",
      "[CV] END bootstrap=False, max_features=1.0, min_samples_leaf=5, min_samples_split=8, n_estimators=500; total time=   1.1s\n",
      "[CV] END bootstrap=False, max_features=1.0, min_samples_leaf=5, min_samples_split=8, n_estimators=500; total time=   1.0s\n",
      "[CV] END bootstrap=False, max_features=1.0, min_samples_leaf=5, min_samples_split=8, n_estimators=500; total time=   1.1s\n",
      "[CV] END bootstrap=False, max_features=1.0, min_samples_leaf=7, min_samples_split=2, n_estimators=100; total time=   0.1s\n",
      "[CV] END bootstrap=False, max_features=1.0, min_samples_leaf=7, min_samples_split=2, n_estimators=100; total time=   0.1s\n",
      "[CV] END bootstrap=False, max_features=1.0, min_samples_leaf=7, min_samples_split=2, n_estimators=100; total time=   0.1s\n",
      "[CV] END bootstrap=False, max_features=1.0, min_samples_leaf=7, min_samples_split=2, n_estimators=100; total time=   0.1s\n",
      "[CV] END bootstrap=False, max_features=1.0, min_samples_leaf=7, min_samples_split=2, n_estimators=100; total time=   0.1s\n"
     ]
    },
    {
     "name": "stdout",
     "output_type": "stream",
     "text": [
      "[CV] END bootstrap=False, max_features=1.0, min_samples_leaf=7, min_samples_split=2, n_estimators=200; total time=   0.3s\n",
      "[CV] END bootstrap=False, max_features=1.0, min_samples_leaf=7, min_samples_split=2, n_estimators=200; total time=   0.3s\n",
      "[CV] END bootstrap=False, max_features=1.0, min_samples_leaf=7, min_samples_split=2, n_estimators=200; total time=   0.3s\n",
      "[CV] END bootstrap=False, max_features=1.0, min_samples_leaf=7, min_samples_split=2, n_estimators=200; total time=   0.3s\n",
      "[CV] END bootstrap=False, max_features=1.0, min_samples_leaf=7, min_samples_split=2, n_estimators=200; total time=   0.3s\n",
      "[CV] END bootstrap=False, max_features=1.0, min_samples_leaf=7, min_samples_split=2, n_estimators=300; total time=   0.5s\n",
      "[CV] END bootstrap=False, max_features=1.0, min_samples_leaf=7, min_samples_split=2, n_estimators=300; total time=   0.5s\n",
      "[CV] END bootstrap=False, max_features=1.0, min_samples_leaf=7, min_samples_split=2, n_estimators=300; total time=   0.5s\n",
      "[CV] END bootstrap=False, max_features=1.0, min_samples_leaf=7, min_samples_split=2, n_estimators=300; total time=   0.5s\n",
      "[CV] END bootstrap=False, max_features=1.0, min_samples_leaf=7, min_samples_split=2, n_estimators=300; total time=   0.5s\n",
      "[CV] END bootstrap=False, max_features=1.0, min_samples_leaf=7, min_samples_split=2, n_estimators=400; total time=   0.7s\n",
      "[CV] END bootstrap=False, max_features=1.0, min_samples_leaf=7, min_samples_split=2, n_estimators=400; total time=   0.7s\n",
      "[CV] END bootstrap=False, max_features=1.0, min_samples_leaf=7, min_samples_split=2, n_estimators=400; total time=   0.8s\n",
      "[CV] END bootstrap=False, max_features=1.0, min_samples_leaf=7, min_samples_split=2, n_estimators=400; total time=   0.7s\n",
      "[CV] END bootstrap=False, max_features=1.0, min_samples_leaf=7, min_samples_split=2, n_estimators=400; total time=   0.7s\n",
      "[CV] END bootstrap=False, max_features=1.0, min_samples_leaf=7, min_samples_split=2, n_estimators=500; total time=   1.0s\n",
      "[CV] END bootstrap=False, max_features=1.0, min_samples_leaf=7, min_samples_split=2, n_estimators=500; total time=   0.9s\n",
      "[CV] END bootstrap=False, max_features=1.0, min_samples_leaf=7, min_samples_split=2, n_estimators=500; total time=   1.0s\n",
      "[CV] END bootstrap=False, max_features=1.0, min_samples_leaf=7, min_samples_split=2, n_estimators=500; total time=   0.9s\n",
      "[CV] END bootstrap=False, max_features=1.0, min_samples_leaf=7, min_samples_split=2, n_estimators=500; total time=   1.0s\n",
      "[CV] END bootstrap=False, max_features=1.0, min_samples_leaf=7, min_samples_split=4, n_estimators=100; total time=   0.1s\n",
      "[CV] END bootstrap=False, max_features=1.0, min_samples_leaf=7, min_samples_split=4, n_estimators=100; total time=   0.1s\n",
      "[CV] END bootstrap=False, max_features=1.0, min_samples_leaf=7, min_samples_split=4, n_estimators=100; total time=   0.1s\n",
      "[CV] END bootstrap=False, max_features=1.0, min_samples_leaf=7, min_samples_split=4, n_estimators=100; total time=   0.1s\n",
      "[CV] END bootstrap=False, max_features=1.0, min_samples_leaf=7, min_samples_split=4, n_estimators=100; total time=   0.1s\n",
      "[CV] END bootstrap=False, max_features=1.0, min_samples_leaf=7, min_samples_split=4, n_estimators=200; total time=   0.3s\n",
      "[CV] END bootstrap=False, max_features=1.0, min_samples_leaf=7, min_samples_split=4, n_estimators=200; total time=   0.3s\n",
      "[CV] END bootstrap=False, max_features=1.0, min_samples_leaf=7, min_samples_split=4, n_estimators=200; total time=   0.3s\n",
      "[CV] END bootstrap=False, max_features=1.0, min_samples_leaf=7, min_samples_split=4, n_estimators=200; total time=   0.4s\n",
      "[CV] END bootstrap=False, max_features=1.0, min_samples_leaf=7, min_samples_split=4, n_estimators=200; total time=   0.3s\n",
      "[CV] END bootstrap=False, max_features=1.0, min_samples_leaf=7, min_samples_split=4, n_estimators=300; total time=   0.5s\n",
      "[CV] END bootstrap=False, max_features=1.0, min_samples_leaf=7, min_samples_split=4, n_estimators=300; total time=   0.5s\n",
      "[CV] END bootstrap=False, max_features=1.0, min_samples_leaf=7, min_samples_split=4, n_estimators=300; total time=   0.5s\n",
      "[CV] END bootstrap=False, max_features=1.0, min_samples_leaf=7, min_samples_split=4, n_estimators=300; total time=   0.5s\n",
      "[CV] END bootstrap=False, max_features=1.0, min_samples_leaf=7, min_samples_split=4, n_estimators=300; total time=   0.5s\n",
      "[CV] END bootstrap=False, max_features=1.0, min_samples_leaf=7, min_samples_split=4, n_estimators=400; total time=   0.7s\n",
      "[CV] END bootstrap=False, max_features=1.0, min_samples_leaf=7, min_samples_split=4, n_estimators=400; total time=   0.7s\n",
      "[CV] END bootstrap=False, max_features=1.0, min_samples_leaf=7, min_samples_split=4, n_estimators=400; total time=   0.8s\n",
      "[CV] END bootstrap=False, max_features=1.0, min_samples_leaf=7, min_samples_split=4, n_estimators=400; total time=   0.8s\n",
      "[CV] END bootstrap=False, max_features=1.0, min_samples_leaf=7, min_samples_split=4, n_estimators=400; total time=   0.8s\n",
      "[CV] END bootstrap=False, max_features=1.0, min_samples_leaf=7, min_samples_split=4, n_estimators=500; total time=   1.0s\n",
      "[CV] END bootstrap=False, max_features=1.0, min_samples_leaf=7, min_samples_split=4, n_estimators=500; total time=   0.9s\n",
      "[CV] END bootstrap=False, max_features=1.0, min_samples_leaf=7, min_samples_split=4, n_estimators=500; total time=   1.0s\n",
      "[CV] END bootstrap=False, max_features=1.0, min_samples_leaf=7, min_samples_split=4, n_estimators=500; total time=   1.0s\n",
      "[CV] END bootstrap=False, max_features=1.0, min_samples_leaf=7, min_samples_split=4, n_estimators=500; total time=   1.0s\n",
      "[CV] END bootstrap=False, max_features=1.0, min_samples_leaf=7, min_samples_split=6, n_estimators=100; total time=   0.1s\n",
      "[CV] END bootstrap=False, max_features=1.0, min_samples_leaf=7, min_samples_split=6, n_estimators=100; total time=   0.1s\n",
      "[CV] END bootstrap=False, max_features=1.0, min_samples_leaf=7, min_samples_split=6, n_estimators=100; total time=   0.1s\n",
      "[CV] END bootstrap=False, max_features=1.0, min_samples_leaf=7, min_samples_split=6, n_estimators=100; total time=   0.1s\n",
      "[CV] END bootstrap=False, max_features=1.0, min_samples_leaf=7, min_samples_split=6, n_estimators=100; total time=   0.1s\n",
      "[CV] END bootstrap=False, max_features=1.0, min_samples_leaf=7, min_samples_split=6, n_estimators=200; total time=   0.3s\n",
      "[CV] END bootstrap=False, max_features=1.0, min_samples_leaf=7, min_samples_split=6, n_estimators=200; total time=   0.3s\n",
      "[CV] END bootstrap=False, max_features=1.0, min_samples_leaf=7, min_samples_split=6, n_estimators=200; total time=   0.3s\n",
      "[CV] END bootstrap=False, max_features=1.0, min_samples_leaf=7, min_samples_split=6, n_estimators=200; total time=   0.3s\n",
      "[CV] END bootstrap=False, max_features=1.0, min_samples_leaf=7, min_samples_split=6, n_estimators=200; total time=   0.3s\n",
      "[CV] END bootstrap=False, max_features=1.0, min_samples_leaf=7, min_samples_split=6, n_estimators=300; total time=   0.5s\n",
      "[CV] END bootstrap=False, max_features=1.0, min_samples_leaf=7, min_samples_split=6, n_estimators=300; total time=   0.5s\n",
      "[CV] END bootstrap=False, max_features=1.0, min_samples_leaf=7, min_samples_split=6, n_estimators=300; total time=   0.6s\n",
      "[CV] END bootstrap=False, max_features=1.0, min_samples_leaf=7, min_samples_split=6, n_estimators=300; total time=   0.5s\n",
      "[CV] END bootstrap=False, max_features=1.0, min_samples_leaf=7, min_samples_split=6, n_estimators=300; total time=   0.6s\n",
      "[CV] END bootstrap=False, max_features=1.0, min_samples_leaf=7, min_samples_split=6, n_estimators=400; total time=   0.7s\n",
      "[CV] END bootstrap=False, max_features=1.0, min_samples_leaf=7, min_samples_split=6, n_estimators=400; total time=   0.8s\n",
      "[CV] END bootstrap=False, max_features=1.0, min_samples_leaf=7, min_samples_split=6, n_estimators=400; total time=   0.8s\n",
      "[CV] END bootstrap=False, max_features=1.0, min_samples_leaf=7, min_samples_split=6, n_estimators=400; total time=   0.8s\n",
      "[CV] END bootstrap=False, max_features=1.0, min_samples_leaf=7, min_samples_split=6, n_estimators=400; total time=   0.7s\n",
      "[CV] END bootstrap=False, max_features=1.0, min_samples_leaf=7, min_samples_split=6, n_estimators=500; total time=   0.9s\n",
      "[CV] END bootstrap=False, max_features=1.0, min_samples_leaf=7, min_samples_split=6, n_estimators=500; total time=   0.9s\n",
      "[CV] END bootstrap=False, max_features=1.0, min_samples_leaf=7, min_samples_split=6, n_estimators=500; total time=   1.0s\n"
     ]
    },
    {
     "name": "stdout",
     "output_type": "stream",
     "text": [
      "[CV] END bootstrap=False, max_features=1.0, min_samples_leaf=7, min_samples_split=6, n_estimators=500; total time=   0.9s\n",
      "[CV] END bootstrap=False, max_features=1.0, min_samples_leaf=7, min_samples_split=6, n_estimators=500; total time=   1.0s\n",
      "[CV] END bootstrap=False, max_features=1.0, min_samples_leaf=7, min_samples_split=8, n_estimators=100; total time=   0.1s\n",
      "[CV] END bootstrap=False, max_features=1.0, min_samples_leaf=7, min_samples_split=8, n_estimators=100; total time=   0.1s\n",
      "[CV] END bootstrap=False, max_features=1.0, min_samples_leaf=7, min_samples_split=8, n_estimators=100; total time=   0.1s\n",
      "[CV] END bootstrap=False, max_features=1.0, min_samples_leaf=7, min_samples_split=8, n_estimators=100; total time=   0.1s\n",
      "[CV] END bootstrap=False, max_features=1.0, min_samples_leaf=7, min_samples_split=8, n_estimators=100; total time=   0.1s\n",
      "[CV] END bootstrap=False, max_features=1.0, min_samples_leaf=7, min_samples_split=8, n_estimators=200; total time=   0.3s\n",
      "[CV] END bootstrap=False, max_features=1.0, min_samples_leaf=7, min_samples_split=8, n_estimators=200; total time=   0.3s\n",
      "[CV] END bootstrap=False, max_features=1.0, min_samples_leaf=7, min_samples_split=8, n_estimators=200; total time=   0.3s\n",
      "[CV] END bootstrap=False, max_features=1.0, min_samples_leaf=7, min_samples_split=8, n_estimators=200; total time=   0.3s\n",
      "[CV] END bootstrap=False, max_features=1.0, min_samples_leaf=7, min_samples_split=8, n_estimators=200; total time=   0.3s\n",
      "[CV] END bootstrap=False, max_features=1.0, min_samples_leaf=7, min_samples_split=8, n_estimators=300; total time=   0.5s\n",
      "[CV] END bootstrap=False, max_features=1.0, min_samples_leaf=7, min_samples_split=8, n_estimators=300; total time=   0.5s\n",
      "[CV] END bootstrap=False, max_features=1.0, min_samples_leaf=7, min_samples_split=8, n_estimators=300; total time=   0.5s\n",
      "[CV] END bootstrap=False, max_features=1.0, min_samples_leaf=7, min_samples_split=8, n_estimators=300; total time=   0.5s\n",
      "[CV] END bootstrap=False, max_features=1.0, min_samples_leaf=7, min_samples_split=8, n_estimators=300; total time=   0.6s\n",
      "[CV] END bootstrap=False, max_features=1.0, min_samples_leaf=7, min_samples_split=8, n_estimators=400; total time=   0.7s\n",
      "[CV] END bootstrap=False, max_features=1.0, min_samples_leaf=7, min_samples_split=8, n_estimators=400; total time=   0.7s\n",
      "[CV] END bootstrap=False, max_features=1.0, min_samples_leaf=7, min_samples_split=8, n_estimators=400; total time=   0.8s\n",
      "[CV] END bootstrap=False, max_features=1.0, min_samples_leaf=7, min_samples_split=8, n_estimators=400; total time=   0.7s\n",
      "[CV] END bootstrap=False, max_features=1.0, min_samples_leaf=7, min_samples_split=8, n_estimators=400; total time=   0.8s\n",
      "[CV] END bootstrap=False, max_features=1.0, min_samples_leaf=7, min_samples_split=8, n_estimators=500; total time=   0.9s\n",
      "[CV] END bootstrap=False, max_features=1.0, min_samples_leaf=7, min_samples_split=8, n_estimators=500; total time=   0.9s\n",
      "[CV] END bootstrap=False, max_features=1.0, min_samples_leaf=7, min_samples_split=8, n_estimators=500; total time=   0.9s\n",
      "[CV] END bootstrap=False, max_features=1.0, min_samples_leaf=7, min_samples_split=8, n_estimators=500; total time=   0.9s\n",
      "[CV] END bootstrap=False, max_features=1.0, min_samples_leaf=7, min_samples_split=8, n_estimators=500; total time=   0.9s\n",
      "[CV] END bootstrap=False, max_features=auto, min_samples_leaf=1, min_samples_split=2, n_estimators=100; total time=   0.1s\n",
      "[CV] END bootstrap=False, max_features=auto, min_samples_leaf=1, min_samples_split=2, n_estimators=100; total time=   0.1s\n",
      "[CV] END bootstrap=False, max_features=auto, min_samples_leaf=1, min_samples_split=2, n_estimators=100; total time=   0.1s\n",
      "[CV] END bootstrap=False, max_features=auto, min_samples_leaf=1, min_samples_split=2, n_estimators=100; total time=   0.1s\n",
      "[CV] END bootstrap=False, max_features=auto, min_samples_leaf=1, min_samples_split=2, n_estimators=100; total time=   0.1s\n",
      "[CV] END bootstrap=False, max_features=auto, min_samples_leaf=1, min_samples_split=2, n_estimators=200; total time=   0.3s\n",
      "[CV] END bootstrap=False, max_features=auto, min_samples_leaf=1, min_samples_split=2, n_estimators=200; total time=   0.2s\n",
      "[CV] END bootstrap=False, max_features=auto, min_samples_leaf=1, min_samples_split=2, n_estimators=200; total time=   0.3s\n",
      "[CV] END bootstrap=False, max_features=auto, min_samples_leaf=1, min_samples_split=2, n_estimators=200; total time=   0.2s\n",
      "[CV] END bootstrap=False, max_features=auto, min_samples_leaf=1, min_samples_split=2, n_estimators=200; total time=   0.3s\n",
      "[CV] END bootstrap=False, max_features=auto, min_samples_leaf=1, min_samples_split=2, n_estimators=300; total time=   0.4s\n",
      "[CV] END bootstrap=False, max_features=auto, min_samples_leaf=1, min_samples_split=2, n_estimators=300; total time=   0.4s\n",
      "[CV] END bootstrap=False, max_features=auto, min_samples_leaf=1, min_samples_split=2, n_estimators=300; total time=   0.4s\n",
      "[CV] END bootstrap=False, max_features=auto, min_samples_leaf=1, min_samples_split=2, n_estimators=300; total time=   0.4s\n",
      "[CV] END bootstrap=False, max_features=auto, min_samples_leaf=1, min_samples_split=2, n_estimators=300; total time=   0.4s\n",
      "[CV] END bootstrap=False, max_features=auto, min_samples_leaf=1, min_samples_split=2, n_estimators=400; total time=   0.6s\n",
      "[CV] END bootstrap=False, max_features=auto, min_samples_leaf=1, min_samples_split=2, n_estimators=400; total time=   0.5s\n",
      "[CV] END bootstrap=False, max_features=auto, min_samples_leaf=1, min_samples_split=2, n_estimators=400; total time=   0.6s\n",
      "[CV] END bootstrap=False, max_features=auto, min_samples_leaf=1, min_samples_split=2, n_estimators=400; total time=   0.6s\n",
      "[CV] END bootstrap=False, max_features=auto, min_samples_leaf=1, min_samples_split=2, n_estimators=400; total time=   0.6s\n",
      "[CV] END bootstrap=False, max_features=auto, min_samples_leaf=1, min_samples_split=2, n_estimators=500; total time=   0.7s\n",
      "[CV] END bootstrap=False, max_features=auto, min_samples_leaf=1, min_samples_split=2, n_estimators=500; total time=   0.7s\n",
      "[CV] END bootstrap=False, max_features=auto, min_samples_leaf=1, min_samples_split=2, n_estimators=500; total time=   0.8s\n",
      "[CV] END bootstrap=False, max_features=auto, min_samples_leaf=1, min_samples_split=2, n_estimators=500; total time=   0.8s\n",
      "[CV] END bootstrap=False, max_features=auto, min_samples_leaf=1, min_samples_split=2, n_estimators=500; total time=   0.9s\n",
      "[CV] END bootstrap=False, max_features=auto, min_samples_leaf=1, min_samples_split=4, n_estimators=100; total time=   0.1s\n",
      "[CV] END bootstrap=False, max_features=auto, min_samples_leaf=1, min_samples_split=4, n_estimators=100; total time=   0.1s\n",
      "[CV] END bootstrap=False, max_features=auto, min_samples_leaf=1, min_samples_split=4, n_estimators=100; total time=   0.0s\n",
      "[CV] END bootstrap=False, max_features=auto, min_samples_leaf=1, min_samples_split=4, n_estimators=100; total time=   0.1s\n",
      "[CV] END bootstrap=False, max_features=auto, min_samples_leaf=1, min_samples_split=4, n_estimators=100; total time=   0.1s\n",
      "[CV] END bootstrap=False, max_features=auto, min_samples_leaf=1, min_samples_split=4, n_estimators=200; total time=   0.2s\n",
      "[CV] END bootstrap=False, max_features=auto, min_samples_leaf=1, min_samples_split=4, n_estimators=200; total time=   0.2s\n",
      "[CV] END bootstrap=False, max_features=auto, min_samples_leaf=1, min_samples_split=4, n_estimators=200; total time=   0.2s\n",
      "[CV] END bootstrap=False, max_features=auto, min_samples_leaf=1, min_samples_split=4, n_estimators=200; total time=   0.2s\n",
      "[CV] END bootstrap=False, max_features=auto, min_samples_leaf=1, min_samples_split=4, n_estimators=200; total time=   0.3s\n",
      "[CV] END bootstrap=False, max_features=auto, min_samples_leaf=1, min_samples_split=4, n_estimators=300; total time=   0.4s\n",
      "[CV] END bootstrap=False, max_features=auto, min_samples_leaf=1, min_samples_split=4, n_estimators=300; total time=   0.4s\n",
      "[CV] END bootstrap=False, max_features=auto, min_samples_leaf=1, min_samples_split=4, n_estimators=300; total time=   0.4s\n",
      "[CV] END bootstrap=False, max_features=auto, min_samples_leaf=1, min_samples_split=4, n_estimators=300; total time=   0.4s\n",
      "[CV] END bootstrap=False, max_features=auto, min_samples_leaf=1, min_samples_split=4, n_estimators=300; total time=   0.4s\n"
     ]
    },
    {
     "name": "stdout",
     "output_type": "stream",
     "text": [
      "[CV] END bootstrap=False, max_features=auto, min_samples_leaf=1, min_samples_split=4, n_estimators=400; total time=   0.5s\n",
      "[CV] END bootstrap=False, max_features=auto, min_samples_leaf=1, min_samples_split=4, n_estimators=400; total time=   0.5s\n",
      "[CV] END bootstrap=False, max_features=auto, min_samples_leaf=1, min_samples_split=4, n_estimators=400; total time=   0.5s\n",
      "[CV] END bootstrap=False, max_features=auto, min_samples_leaf=1, min_samples_split=4, n_estimators=400; total time=   0.5s\n",
      "[CV] END bootstrap=False, max_features=auto, min_samples_leaf=1, min_samples_split=4, n_estimators=400; total time=   0.6s\n",
      "[CV] END bootstrap=False, max_features=auto, min_samples_leaf=1, min_samples_split=4, n_estimators=500; total time=   0.7s\n",
      "[CV] END bootstrap=False, max_features=auto, min_samples_leaf=1, min_samples_split=4, n_estimators=500; total time=   0.6s\n",
      "[CV] END bootstrap=False, max_features=auto, min_samples_leaf=1, min_samples_split=4, n_estimators=500; total time=   0.7s\n",
      "[CV] END bootstrap=False, max_features=auto, min_samples_leaf=1, min_samples_split=4, n_estimators=500; total time=   0.7s\n",
      "[CV] END bootstrap=False, max_features=auto, min_samples_leaf=1, min_samples_split=4, n_estimators=500; total time=   0.7s\n",
      "[CV] END bootstrap=False, max_features=auto, min_samples_leaf=1, min_samples_split=6, n_estimators=100; total time=   0.0s\n",
      "[CV] END bootstrap=False, max_features=auto, min_samples_leaf=1, min_samples_split=6, n_estimators=100; total time=   0.1s\n",
      "[CV] END bootstrap=False, max_features=auto, min_samples_leaf=1, min_samples_split=6, n_estimators=100; total time=   0.1s\n",
      "[CV] END bootstrap=False, max_features=auto, min_samples_leaf=1, min_samples_split=6, n_estimators=100; total time=   0.1s\n",
      "[CV] END bootstrap=False, max_features=auto, min_samples_leaf=1, min_samples_split=6, n_estimators=100; total time=   0.0s\n",
      "[CV] END bootstrap=False, max_features=auto, min_samples_leaf=1, min_samples_split=6, n_estimators=200; total time=   0.2s\n",
      "[CV] END bootstrap=False, max_features=auto, min_samples_leaf=1, min_samples_split=6, n_estimators=200; total time=   0.2s\n",
      "[CV] END bootstrap=False, max_features=auto, min_samples_leaf=1, min_samples_split=6, n_estimators=200; total time=   0.2s\n",
      "[CV] END bootstrap=False, max_features=auto, min_samples_leaf=1, min_samples_split=6, n_estimators=200; total time=   0.2s\n",
      "[CV] END bootstrap=False, max_features=auto, min_samples_leaf=1, min_samples_split=6, n_estimators=200; total time=   0.2s\n",
      "[CV] END bootstrap=False, max_features=auto, min_samples_leaf=1, min_samples_split=6, n_estimators=300; total time=   0.4s\n",
      "[CV] END bootstrap=False, max_features=auto, min_samples_leaf=1, min_samples_split=6, n_estimators=300; total time=   0.3s\n",
      "[CV] END bootstrap=False, max_features=auto, min_samples_leaf=1, min_samples_split=6, n_estimators=300; total time=   0.3s\n",
      "[CV] END bootstrap=False, max_features=auto, min_samples_leaf=1, min_samples_split=6, n_estimators=300; total time=   0.4s\n",
      "[CV] END bootstrap=False, max_features=auto, min_samples_leaf=1, min_samples_split=6, n_estimators=300; total time=   0.4s\n",
      "[CV] END bootstrap=False, max_features=auto, min_samples_leaf=1, min_samples_split=6, n_estimators=400; total time=   0.5s\n",
      "[CV] END bootstrap=False, max_features=auto, min_samples_leaf=1, min_samples_split=6, n_estimators=400; total time=   0.5s\n",
      "[CV] END bootstrap=False, max_features=auto, min_samples_leaf=1, min_samples_split=6, n_estimators=400; total time=   0.5s\n",
      "[CV] END bootstrap=False, max_features=auto, min_samples_leaf=1, min_samples_split=6, n_estimators=400; total time=   0.5s\n",
      "[CV] END bootstrap=False, max_features=auto, min_samples_leaf=1, min_samples_split=6, n_estimators=400; total time=   0.5s\n",
      "[CV] END bootstrap=False, max_features=auto, min_samples_leaf=1, min_samples_split=6, n_estimators=500; total time=   0.6s\n",
      "[CV] END bootstrap=False, max_features=auto, min_samples_leaf=1, min_samples_split=6, n_estimators=500; total time=   0.6s\n",
      "[CV] END bootstrap=False, max_features=auto, min_samples_leaf=1, min_samples_split=6, n_estimators=500; total time=   0.6s\n",
      "[CV] END bootstrap=False, max_features=auto, min_samples_leaf=1, min_samples_split=6, n_estimators=500; total time=   0.6s\n",
      "[CV] END bootstrap=False, max_features=auto, min_samples_leaf=1, min_samples_split=6, n_estimators=500; total time=   0.7s\n",
      "[CV] END bootstrap=False, max_features=auto, min_samples_leaf=1, min_samples_split=8, n_estimators=100; total time=   0.0s\n",
      "[CV] END bootstrap=False, max_features=auto, min_samples_leaf=1, min_samples_split=8, n_estimators=100; total time=   0.0s\n",
      "[CV] END bootstrap=False, max_features=auto, min_samples_leaf=1, min_samples_split=8, n_estimators=100; total time=   0.1s\n",
      "[CV] END bootstrap=False, max_features=auto, min_samples_leaf=1, min_samples_split=8, n_estimators=100; total time=   0.1s\n",
      "[CV] END bootstrap=False, max_features=auto, min_samples_leaf=1, min_samples_split=8, n_estimators=100; total time=   0.0s\n",
      "[CV] END bootstrap=False, max_features=auto, min_samples_leaf=1, min_samples_split=8, n_estimators=200; total time=   0.2s\n",
      "[CV] END bootstrap=False, max_features=auto, min_samples_leaf=1, min_samples_split=8, n_estimators=200; total time=   0.2s\n",
      "[CV] END bootstrap=False, max_features=auto, min_samples_leaf=1, min_samples_split=8, n_estimators=200; total time=   0.2s\n",
      "[CV] END bootstrap=False, max_features=auto, min_samples_leaf=1, min_samples_split=8, n_estimators=200; total time=   0.2s\n",
      "[CV] END bootstrap=False, max_features=auto, min_samples_leaf=1, min_samples_split=8, n_estimators=200; total time=   0.2s\n",
      "[CV] END bootstrap=False, max_features=auto, min_samples_leaf=1, min_samples_split=8, n_estimators=300; total time=   0.3s\n",
      "[CV] END bootstrap=False, max_features=auto, min_samples_leaf=1, min_samples_split=8, n_estimators=300; total time=   0.3s\n",
      "[CV] END bootstrap=False, max_features=auto, min_samples_leaf=1, min_samples_split=8, n_estimators=300; total time=   0.3s\n",
      "[CV] END bootstrap=False, max_features=auto, min_samples_leaf=1, min_samples_split=8, n_estimators=300; total time=   0.3s\n",
      "[CV] END bootstrap=False, max_features=auto, min_samples_leaf=1, min_samples_split=8, n_estimators=300; total time=   0.3s\n",
      "[CV] END bootstrap=False, max_features=auto, min_samples_leaf=1, min_samples_split=8, n_estimators=400; total time=   0.4s\n",
      "[CV] END bootstrap=False, max_features=auto, min_samples_leaf=1, min_samples_split=8, n_estimators=400; total time=   0.4s\n",
      "[CV] END bootstrap=False, max_features=auto, min_samples_leaf=1, min_samples_split=8, n_estimators=400; total time=   0.4s\n",
      "[CV] END bootstrap=False, max_features=auto, min_samples_leaf=1, min_samples_split=8, n_estimators=400; total time=   0.5s\n",
      "[CV] END bootstrap=False, max_features=auto, min_samples_leaf=1, min_samples_split=8, n_estimators=400; total time=   0.4s\n",
      "[CV] END bootstrap=False, max_features=auto, min_samples_leaf=1, min_samples_split=8, n_estimators=500; total time=   0.5s\n",
      "[CV] END bootstrap=False, max_features=auto, min_samples_leaf=1, min_samples_split=8, n_estimators=500; total time=   0.6s\n",
      "[CV] END bootstrap=False, max_features=auto, min_samples_leaf=1, min_samples_split=8, n_estimators=500; total time=   0.6s\n",
      "[CV] END bootstrap=False, max_features=auto, min_samples_leaf=1, min_samples_split=8, n_estimators=500; total time=   0.8s\n",
      "[CV] END bootstrap=False, max_features=auto, min_samples_leaf=1, min_samples_split=8, n_estimators=500; total time=   0.6s\n",
      "[CV] END bootstrap=False, max_features=auto, min_samples_leaf=3, min_samples_split=2, n_estimators=100; total time=   0.0s\n",
      "[CV] END bootstrap=False, max_features=auto, min_samples_leaf=3, min_samples_split=2, n_estimators=100; total time=   0.0s\n",
      "[CV] END bootstrap=False, max_features=auto, min_samples_leaf=3, min_samples_split=2, n_estimators=100; total time=   0.0s\n",
      "[CV] END bootstrap=False, max_features=auto, min_samples_leaf=3, min_samples_split=2, n_estimators=100; total time=   0.0s\n",
      "[CV] END bootstrap=False, max_features=auto, min_samples_leaf=3, min_samples_split=2, n_estimators=100; total time=   0.0s\n",
      "[CV] END bootstrap=False, max_features=auto, min_samples_leaf=3, min_samples_split=2, n_estimators=200; total time=   0.1s\n",
      "[CV] END bootstrap=False, max_features=auto, min_samples_leaf=3, min_samples_split=2, n_estimators=200; total time=   0.1s\n"
     ]
    },
    {
     "name": "stdout",
     "output_type": "stream",
     "text": [
      "[CV] END bootstrap=False, max_features=auto, min_samples_leaf=3, min_samples_split=2, n_estimators=200; total time=   0.2s\n",
      "[CV] END bootstrap=False, max_features=auto, min_samples_leaf=3, min_samples_split=2, n_estimators=200; total time=   0.1s\n",
      "[CV] END bootstrap=False, max_features=auto, min_samples_leaf=3, min_samples_split=2, n_estimators=200; total time=   0.1s\n"
     ]
    },
    {
     "ename": "KeyboardInterrupt",
     "evalue": "",
     "output_type": "error",
     "traceback": [
      "\u001b[1;31m---------------------------------------------------------------------------\u001b[0m",
      "\u001b[1;31mKeyboardInterrupt\u001b[0m                         Traceback (most recent call last)",
      "Input \u001b[1;32mIn [282]\u001b[0m, in \u001b[0;36m<cell line: 5>\u001b[1;34m()\u001b[0m\n\u001b[0;32m      3\u001b[0m forest_clf  \u001b[38;5;241m=\u001b[39m RandomForestClassifier(random_state\u001b[38;5;241m=\u001b[39m\u001b[38;5;241m42\u001b[39m)\n\u001b[0;32m      4\u001b[0m gs_clf \u001b[38;5;241m=\u001b[39m GridSearchCV(forest_clf,params,cv\u001b[38;5;241m=\u001b[39m\u001b[38;5;241m5\u001b[39m,verbose\u001b[38;5;241m=\u001b[39m\u001b[38;5;241m2\u001b[39m,scoring\u001b[38;5;241m=\u001b[39m\u001b[38;5;124m\"\u001b[39m\u001b[38;5;124maccuracy\u001b[39m\u001b[38;5;124m\"\u001b[39m)\n\u001b[1;32m----> 5\u001b[0m \u001b[43mgs_clf\u001b[49m\u001b[38;5;241;43m.\u001b[39;49m\u001b[43mfit\u001b[49m\u001b[43m(\u001b[49m\u001b[43mX_transformed\u001b[49m\u001b[43m,\u001b[49m\u001b[43my\u001b[49m\u001b[43m)\u001b[49m\n",
      "File \u001b[1;32mD:\\Anaconda\\lib\\site-packages\\sklearn\\model_selection\\_search.py:891\u001b[0m, in \u001b[0;36mBaseSearchCV.fit\u001b[1;34m(self, X, y, groups, **fit_params)\u001b[0m\n\u001b[0;32m    885\u001b[0m     results \u001b[38;5;241m=\u001b[39m \u001b[38;5;28mself\u001b[39m\u001b[38;5;241m.\u001b[39m_format_results(\n\u001b[0;32m    886\u001b[0m         all_candidate_params, n_splits, all_out, all_more_results\n\u001b[0;32m    887\u001b[0m     )\n\u001b[0;32m    889\u001b[0m     \u001b[38;5;28;01mreturn\u001b[39;00m results\n\u001b[1;32m--> 891\u001b[0m \u001b[38;5;28;43mself\u001b[39;49m\u001b[38;5;241;43m.\u001b[39;49m\u001b[43m_run_search\u001b[49m\u001b[43m(\u001b[49m\u001b[43mevaluate_candidates\u001b[49m\u001b[43m)\u001b[49m\n\u001b[0;32m    893\u001b[0m \u001b[38;5;66;03m# multimetric is determined here because in the case of a callable\u001b[39;00m\n\u001b[0;32m    894\u001b[0m \u001b[38;5;66;03m# self.scoring the return type is only known after calling\u001b[39;00m\n\u001b[0;32m    895\u001b[0m first_test_score \u001b[38;5;241m=\u001b[39m all_out[\u001b[38;5;241m0\u001b[39m][\u001b[38;5;124m\"\u001b[39m\u001b[38;5;124mtest_scores\u001b[39m\u001b[38;5;124m\"\u001b[39m]\n",
      "File \u001b[1;32mD:\\Anaconda\\lib\\site-packages\\sklearn\\model_selection\\_search.py:1392\u001b[0m, in \u001b[0;36mGridSearchCV._run_search\u001b[1;34m(self, evaluate_candidates)\u001b[0m\n\u001b[0;32m   1390\u001b[0m \u001b[38;5;28;01mdef\u001b[39;00m \u001b[38;5;21m_run_search\u001b[39m(\u001b[38;5;28mself\u001b[39m, evaluate_candidates):\n\u001b[0;32m   1391\u001b[0m     \u001b[38;5;124;03m\"\"\"Search all candidates in param_grid\"\"\"\u001b[39;00m\n\u001b[1;32m-> 1392\u001b[0m     \u001b[43mevaluate_candidates\u001b[49m\u001b[43m(\u001b[49m\u001b[43mParameterGrid\u001b[49m\u001b[43m(\u001b[49m\u001b[38;5;28;43mself\u001b[39;49m\u001b[38;5;241;43m.\u001b[39;49m\u001b[43mparam_grid\u001b[49m\u001b[43m)\u001b[49m\u001b[43m)\u001b[49m\n",
      "File \u001b[1;32mD:\\Anaconda\\lib\\site-packages\\sklearn\\model_selection\\_search.py:838\u001b[0m, in \u001b[0;36mBaseSearchCV.fit.<locals>.evaluate_candidates\u001b[1;34m(candidate_params, cv, more_results)\u001b[0m\n\u001b[0;32m    830\u001b[0m \u001b[38;5;28;01mif\u001b[39;00m \u001b[38;5;28mself\u001b[39m\u001b[38;5;241m.\u001b[39mverbose \u001b[38;5;241m>\u001b[39m \u001b[38;5;241m0\u001b[39m:\n\u001b[0;32m    831\u001b[0m     \u001b[38;5;28mprint\u001b[39m(\n\u001b[0;32m    832\u001b[0m         \u001b[38;5;124m\"\u001b[39m\u001b[38;5;124mFitting \u001b[39m\u001b[38;5;132;01m{0}\u001b[39;00m\u001b[38;5;124m folds for each of \u001b[39m\u001b[38;5;132;01m{1}\u001b[39;00m\u001b[38;5;124m candidates,\u001b[39m\u001b[38;5;124m\"\u001b[39m\n\u001b[0;32m    833\u001b[0m         \u001b[38;5;124m\"\u001b[39m\u001b[38;5;124m totalling \u001b[39m\u001b[38;5;132;01m{2}\u001b[39;00m\u001b[38;5;124m fits\u001b[39m\u001b[38;5;124m\"\u001b[39m\u001b[38;5;241m.\u001b[39mformat(\n\u001b[0;32m    834\u001b[0m             n_splits, n_candidates, n_candidates \u001b[38;5;241m*\u001b[39m n_splits\n\u001b[0;32m    835\u001b[0m         )\n\u001b[0;32m    836\u001b[0m     )\n\u001b[1;32m--> 838\u001b[0m out \u001b[38;5;241m=\u001b[39m \u001b[43mparallel\u001b[49m\u001b[43m(\u001b[49m\n\u001b[0;32m    839\u001b[0m \u001b[43m    \u001b[49m\u001b[43mdelayed\u001b[49m\u001b[43m(\u001b[49m\u001b[43m_fit_and_score\u001b[49m\u001b[43m)\u001b[49m\u001b[43m(\u001b[49m\n\u001b[0;32m    840\u001b[0m \u001b[43m        \u001b[49m\u001b[43mclone\u001b[49m\u001b[43m(\u001b[49m\u001b[43mbase_estimator\u001b[49m\u001b[43m)\u001b[49m\u001b[43m,\u001b[49m\n\u001b[0;32m    841\u001b[0m \u001b[43m        \u001b[49m\u001b[43mX\u001b[49m\u001b[43m,\u001b[49m\n\u001b[0;32m    842\u001b[0m \u001b[43m        \u001b[49m\u001b[43my\u001b[49m\u001b[43m,\u001b[49m\n\u001b[0;32m    843\u001b[0m \u001b[43m        \u001b[49m\u001b[43mtrain\u001b[49m\u001b[38;5;241;43m=\u001b[39;49m\u001b[43mtrain\u001b[49m\u001b[43m,\u001b[49m\n\u001b[0;32m    844\u001b[0m \u001b[43m        \u001b[49m\u001b[43mtest\u001b[49m\u001b[38;5;241;43m=\u001b[39;49m\u001b[43mtest\u001b[49m\u001b[43m,\u001b[49m\n\u001b[0;32m    845\u001b[0m \u001b[43m        \u001b[49m\u001b[43mparameters\u001b[49m\u001b[38;5;241;43m=\u001b[39;49m\u001b[43mparameters\u001b[49m\u001b[43m,\u001b[49m\n\u001b[0;32m    846\u001b[0m \u001b[43m        \u001b[49m\u001b[43msplit_progress\u001b[49m\u001b[38;5;241;43m=\u001b[39;49m\u001b[43m(\u001b[49m\u001b[43msplit_idx\u001b[49m\u001b[43m,\u001b[49m\u001b[43m \u001b[49m\u001b[43mn_splits\u001b[49m\u001b[43m)\u001b[49m\u001b[43m,\u001b[49m\n\u001b[0;32m    847\u001b[0m \u001b[43m        \u001b[49m\u001b[43mcandidate_progress\u001b[49m\u001b[38;5;241;43m=\u001b[39;49m\u001b[43m(\u001b[49m\u001b[43mcand_idx\u001b[49m\u001b[43m,\u001b[49m\u001b[43m \u001b[49m\u001b[43mn_candidates\u001b[49m\u001b[43m)\u001b[49m\u001b[43m,\u001b[49m\n\u001b[0;32m    848\u001b[0m \u001b[43m        \u001b[49m\u001b[38;5;241;43m*\u001b[39;49m\u001b[38;5;241;43m*\u001b[39;49m\u001b[43mfit_and_score_kwargs\u001b[49m\u001b[43m,\u001b[49m\n\u001b[0;32m    849\u001b[0m \u001b[43m    \u001b[49m\u001b[43m)\u001b[49m\n\u001b[0;32m    850\u001b[0m \u001b[43m    \u001b[49m\u001b[38;5;28;43;01mfor\u001b[39;49;00m\u001b[43m \u001b[49m\u001b[43m(\u001b[49m\u001b[43mcand_idx\u001b[49m\u001b[43m,\u001b[49m\u001b[43m \u001b[49m\u001b[43mparameters\u001b[49m\u001b[43m)\u001b[49m\u001b[43m,\u001b[49m\u001b[43m \u001b[49m\u001b[43m(\u001b[49m\u001b[43msplit_idx\u001b[49m\u001b[43m,\u001b[49m\u001b[43m \u001b[49m\u001b[43m(\u001b[49m\u001b[43mtrain\u001b[49m\u001b[43m,\u001b[49m\u001b[43m \u001b[49m\u001b[43mtest\u001b[49m\u001b[43m)\u001b[49m\u001b[43m)\u001b[49m\u001b[43m \u001b[49m\u001b[38;5;129;43;01min\u001b[39;49;00m\u001b[43m \u001b[49m\u001b[43mproduct\u001b[49m\u001b[43m(\u001b[49m\n\u001b[0;32m    851\u001b[0m \u001b[43m        \u001b[49m\u001b[38;5;28;43menumerate\u001b[39;49m\u001b[43m(\u001b[49m\u001b[43mcandidate_params\u001b[49m\u001b[43m)\u001b[49m\u001b[43m,\u001b[49m\u001b[43m \u001b[49m\u001b[38;5;28;43menumerate\u001b[39;49m\u001b[43m(\u001b[49m\u001b[43mcv\u001b[49m\u001b[38;5;241;43m.\u001b[39;49m\u001b[43msplit\u001b[49m\u001b[43m(\u001b[49m\u001b[43mX\u001b[49m\u001b[43m,\u001b[49m\u001b[43m \u001b[49m\u001b[43my\u001b[49m\u001b[43m,\u001b[49m\u001b[43m \u001b[49m\u001b[43mgroups\u001b[49m\u001b[43m)\u001b[49m\u001b[43m)\u001b[49m\n\u001b[0;32m    852\u001b[0m \u001b[43m    \u001b[49m\u001b[43m)\u001b[49m\n\u001b[0;32m    853\u001b[0m \u001b[43m\u001b[49m\u001b[43m)\u001b[49m\n\u001b[0;32m    855\u001b[0m \u001b[38;5;28;01mif\u001b[39;00m \u001b[38;5;28mlen\u001b[39m(out) \u001b[38;5;241m<\u001b[39m \u001b[38;5;241m1\u001b[39m:\n\u001b[0;32m    856\u001b[0m     \u001b[38;5;28;01mraise\u001b[39;00m \u001b[38;5;167;01mValueError\u001b[39;00m(\n\u001b[0;32m    857\u001b[0m         \u001b[38;5;124m\"\u001b[39m\u001b[38;5;124mNo fits were performed. \u001b[39m\u001b[38;5;124m\"\u001b[39m\n\u001b[0;32m    858\u001b[0m         \u001b[38;5;124m\"\u001b[39m\u001b[38;5;124mWas the CV iterator empty? \u001b[39m\u001b[38;5;124m\"\u001b[39m\n\u001b[0;32m    859\u001b[0m         \u001b[38;5;124m\"\u001b[39m\u001b[38;5;124mWere there no candidates?\u001b[39m\u001b[38;5;124m\"\u001b[39m\n\u001b[0;32m    860\u001b[0m     )\n",
      "File \u001b[1;32mD:\\Anaconda\\lib\\site-packages\\joblib\\parallel.py:1046\u001b[0m, in \u001b[0;36mParallel.__call__\u001b[1;34m(self, iterable)\u001b[0m\n\u001b[0;32m   1043\u001b[0m \u001b[38;5;28;01mif\u001b[39;00m \u001b[38;5;28mself\u001b[39m\u001b[38;5;241m.\u001b[39mdispatch_one_batch(iterator):\n\u001b[0;32m   1044\u001b[0m     \u001b[38;5;28mself\u001b[39m\u001b[38;5;241m.\u001b[39m_iterating \u001b[38;5;241m=\u001b[39m \u001b[38;5;28mself\u001b[39m\u001b[38;5;241m.\u001b[39m_original_iterator \u001b[38;5;129;01mis\u001b[39;00m \u001b[38;5;129;01mnot\u001b[39;00m \u001b[38;5;28;01mNone\u001b[39;00m\n\u001b[1;32m-> 1046\u001b[0m \u001b[38;5;28;01mwhile\u001b[39;00m \u001b[38;5;28;43mself\u001b[39;49m\u001b[38;5;241;43m.\u001b[39;49m\u001b[43mdispatch_one_batch\u001b[49m\u001b[43m(\u001b[49m\u001b[43miterator\u001b[49m\u001b[43m)\u001b[49m:\n\u001b[0;32m   1047\u001b[0m     \u001b[38;5;28;01mpass\u001b[39;00m\n\u001b[0;32m   1049\u001b[0m \u001b[38;5;28;01mif\u001b[39;00m pre_dispatch \u001b[38;5;241m==\u001b[39m \u001b[38;5;124m\"\u001b[39m\u001b[38;5;124mall\u001b[39m\u001b[38;5;124m\"\u001b[39m \u001b[38;5;129;01mor\u001b[39;00m n_jobs \u001b[38;5;241m==\u001b[39m \u001b[38;5;241m1\u001b[39m:\n\u001b[0;32m   1050\u001b[0m     \u001b[38;5;66;03m# The iterable was consumed all at once by the above for loop.\u001b[39;00m\n\u001b[0;32m   1051\u001b[0m     \u001b[38;5;66;03m# No need to wait for async callbacks to trigger to\u001b[39;00m\n\u001b[0;32m   1052\u001b[0m     \u001b[38;5;66;03m# consumption.\u001b[39;00m\n",
      "File \u001b[1;32mD:\\Anaconda\\lib\\site-packages\\joblib\\parallel.py:861\u001b[0m, in \u001b[0;36mParallel.dispatch_one_batch\u001b[1;34m(self, iterator)\u001b[0m\n\u001b[0;32m    859\u001b[0m     \u001b[38;5;28;01mreturn\u001b[39;00m \u001b[38;5;28;01mFalse\u001b[39;00m\n\u001b[0;32m    860\u001b[0m \u001b[38;5;28;01melse\u001b[39;00m:\n\u001b[1;32m--> 861\u001b[0m     \u001b[38;5;28;43mself\u001b[39;49m\u001b[38;5;241;43m.\u001b[39;49m\u001b[43m_dispatch\u001b[49m\u001b[43m(\u001b[49m\u001b[43mtasks\u001b[49m\u001b[43m)\u001b[49m\n\u001b[0;32m    862\u001b[0m     \u001b[38;5;28;01mreturn\u001b[39;00m \u001b[38;5;28;01mTrue\u001b[39;00m\n",
      "File \u001b[1;32mD:\\Anaconda\\lib\\site-packages\\joblib\\parallel.py:779\u001b[0m, in \u001b[0;36mParallel._dispatch\u001b[1;34m(self, batch)\u001b[0m\n\u001b[0;32m    777\u001b[0m \u001b[38;5;28;01mwith\u001b[39;00m \u001b[38;5;28mself\u001b[39m\u001b[38;5;241m.\u001b[39m_lock:\n\u001b[0;32m    778\u001b[0m     job_idx \u001b[38;5;241m=\u001b[39m \u001b[38;5;28mlen\u001b[39m(\u001b[38;5;28mself\u001b[39m\u001b[38;5;241m.\u001b[39m_jobs)\n\u001b[1;32m--> 779\u001b[0m     job \u001b[38;5;241m=\u001b[39m \u001b[38;5;28;43mself\u001b[39;49m\u001b[38;5;241;43m.\u001b[39;49m\u001b[43m_backend\u001b[49m\u001b[38;5;241;43m.\u001b[39;49m\u001b[43mapply_async\u001b[49m\u001b[43m(\u001b[49m\u001b[43mbatch\u001b[49m\u001b[43m,\u001b[49m\u001b[43m \u001b[49m\u001b[43mcallback\u001b[49m\u001b[38;5;241;43m=\u001b[39;49m\u001b[43mcb\u001b[49m\u001b[43m)\u001b[49m\n\u001b[0;32m    780\u001b[0m     \u001b[38;5;66;03m# A job can complete so quickly than its callback is\u001b[39;00m\n\u001b[0;32m    781\u001b[0m     \u001b[38;5;66;03m# called before we get here, causing self._jobs to\u001b[39;00m\n\u001b[0;32m    782\u001b[0m     \u001b[38;5;66;03m# grow. To ensure correct results ordering, .insert is\u001b[39;00m\n\u001b[0;32m    783\u001b[0m     \u001b[38;5;66;03m# used (rather than .append) in the following line\u001b[39;00m\n\u001b[0;32m    784\u001b[0m     \u001b[38;5;28mself\u001b[39m\u001b[38;5;241m.\u001b[39m_jobs\u001b[38;5;241m.\u001b[39minsert(job_idx, job)\n",
      "File \u001b[1;32mD:\\Anaconda\\lib\\site-packages\\joblib\\_parallel_backends.py:208\u001b[0m, in \u001b[0;36mSequentialBackend.apply_async\u001b[1;34m(self, func, callback)\u001b[0m\n\u001b[0;32m    206\u001b[0m \u001b[38;5;28;01mdef\u001b[39;00m \u001b[38;5;21mapply_async\u001b[39m(\u001b[38;5;28mself\u001b[39m, func, callback\u001b[38;5;241m=\u001b[39m\u001b[38;5;28;01mNone\u001b[39;00m):\n\u001b[0;32m    207\u001b[0m     \u001b[38;5;124;03m\"\"\"Schedule a func to be run\"\"\"\u001b[39;00m\n\u001b[1;32m--> 208\u001b[0m     result \u001b[38;5;241m=\u001b[39m \u001b[43mImmediateResult\u001b[49m\u001b[43m(\u001b[49m\u001b[43mfunc\u001b[49m\u001b[43m)\u001b[49m\n\u001b[0;32m    209\u001b[0m     \u001b[38;5;28;01mif\u001b[39;00m callback:\n\u001b[0;32m    210\u001b[0m         callback(result)\n",
      "File \u001b[1;32mD:\\Anaconda\\lib\\site-packages\\joblib\\_parallel_backends.py:572\u001b[0m, in \u001b[0;36mImmediateResult.__init__\u001b[1;34m(self, batch)\u001b[0m\n\u001b[0;32m    569\u001b[0m \u001b[38;5;28;01mdef\u001b[39;00m \u001b[38;5;21m__init__\u001b[39m(\u001b[38;5;28mself\u001b[39m, batch):\n\u001b[0;32m    570\u001b[0m     \u001b[38;5;66;03m# Don't delay the application, to avoid keeping the input\u001b[39;00m\n\u001b[0;32m    571\u001b[0m     \u001b[38;5;66;03m# arguments in memory\u001b[39;00m\n\u001b[1;32m--> 572\u001b[0m     \u001b[38;5;28mself\u001b[39m\u001b[38;5;241m.\u001b[39mresults \u001b[38;5;241m=\u001b[39m \u001b[43mbatch\u001b[49m\u001b[43m(\u001b[49m\u001b[43m)\u001b[49m\n",
      "File \u001b[1;32mD:\\Anaconda\\lib\\site-packages\\joblib\\parallel.py:262\u001b[0m, in \u001b[0;36mBatchedCalls.__call__\u001b[1;34m(self)\u001b[0m\n\u001b[0;32m    258\u001b[0m \u001b[38;5;28;01mdef\u001b[39;00m \u001b[38;5;21m__call__\u001b[39m(\u001b[38;5;28mself\u001b[39m):\n\u001b[0;32m    259\u001b[0m     \u001b[38;5;66;03m# Set the default nested backend to self._backend but do not set the\u001b[39;00m\n\u001b[0;32m    260\u001b[0m     \u001b[38;5;66;03m# change the default number of processes to -1\u001b[39;00m\n\u001b[0;32m    261\u001b[0m     \u001b[38;5;28;01mwith\u001b[39;00m parallel_backend(\u001b[38;5;28mself\u001b[39m\u001b[38;5;241m.\u001b[39m_backend, n_jobs\u001b[38;5;241m=\u001b[39m\u001b[38;5;28mself\u001b[39m\u001b[38;5;241m.\u001b[39m_n_jobs):\n\u001b[1;32m--> 262\u001b[0m         \u001b[38;5;28;01mreturn\u001b[39;00m [func(\u001b[38;5;241m*\u001b[39margs, \u001b[38;5;241m*\u001b[39m\u001b[38;5;241m*\u001b[39mkwargs)\n\u001b[0;32m    263\u001b[0m                 \u001b[38;5;28;01mfor\u001b[39;00m func, args, kwargs \u001b[38;5;129;01min\u001b[39;00m \u001b[38;5;28mself\u001b[39m\u001b[38;5;241m.\u001b[39mitems]\n",
      "File \u001b[1;32mD:\\Anaconda\\lib\\site-packages\\joblib\\parallel.py:262\u001b[0m, in \u001b[0;36m<listcomp>\u001b[1;34m(.0)\u001b[0m\n\u001b[0;32m    258\u001b[0m \u001b[38;5;28;01mdef\u001b[39;00m \u001b[38;5;21m__call__\u001b[39m(\u001b[38;5;28mself\u001b[39m):\n\u001b[0;32m    259\u001b[0m     \u001b[38;5;66;03m# Set the default nested backend to self._backend but do not set the\u001b[39;00m\n\u001b[0;32m    260\u001b[0m     \u001b[38;5;66;03m# change the default number of processes to -1\u001b[39;00m\n\u001b[0;32m    261\u001b[0m     \u001b[38;5;28;01mwith\u001b[39;00m parallel_backend(\u001b[38;5;28mself\u001b[39m\u001b[38;5;241m.\u001b[39m_backend, n_jobs\u001b[38;5;241m=\u001b[39m\u001b[38;5;28mself\u001b[39m\u001b[38;5;241m.\u001b[39m_n_jobs):\n\u001b[1;32m--> 262\u001b[0m         \u001b[38;5;28;01mreturn\u001b[39;00m [func(\u001b[38;5;241m*\u001b[39margs, \u001b[38;5;241m*\u001b[39m\u001b[38;5;241m*\u001b[39mkwargs)\n\u001b[0;32m    263\u001b[0m                 \u001b[38;5;28;01mfor\u001b[39;00m func, args, kwargs \u001b[38;5;129;01min\u001b[39;00m \u001b[38;5;28mself\u001b[39m\u001b[38;5;241m.\u001b[39mitems]\n",
      "File \u001b[1;32mD:\\Anaconda\\lib\\site-packages\\sklearn\\utils\\fixes.py:216\u001b[0m, in \u001b[0;36m_FuncWrapper.__call__\u001b[1;34m(self, *args, **kwargs)\u001b[0m\n\u001b[0;32m    214\u001b[0m \u001b[38;5;28;01mdef\u001b[39;00m \u001b[38;5;21m__call__\u001b[39m(\u001b[38;5;28mself\u001b[39m, \u001b[38;5;241m*\u001b[39margs, \u001b[38;5;241m*\u001b[39m\u001b[38;5;241m*\u001b[39mkwargs):\n\u001b[0;32m    215\u001b[0m     \u001b[38;5;28;01mwith\u001b[39;00m config_context(\u001b[38;5;241m*\u001b[39m\u001b[38;5;241m*\u001b[39m\u001b[38;5;28mself\u001b[39m\u001b[38;5;241m.\u001b[39mconfig):\n\u001b[1;32m--> 216\u001b[0m         \u001b[38;5;28;01mreturn\u001b[39;00m \u001b[38;5;28mself\u001b[39m\u001b[38;5;241m.\u001b[39mfunction(\u001b[38;5;241m*\u001b[39margs, \u001b[38;5;241m*\u001b[39m\u001b[38;5;241m*\u001b[39mkwargs)\n",
      "File \u001b[1;32mD:\\Anaconda\\lib\\site-packages\\sklearn\\model_selection\\_validation.py:680\u001b[0m, in \u001b[0;36m_fit_and_score\u001b[1;34m(estimator, X, y, scorer, train, test, verbose, parameters, fit_params, return_train_score, return_parameters, return_n_test_samples, return_times, return_estimator, split_progress, candidate_progress, error_score)\u001b[0m\n\u001b[0;32m    678\u001b[0m         estimator\u001b[38;5;241m.\u001b[39mfit(X_train, \u001b[38;5;241m*\u001b[39m\u001b[38;5;241m*\u001b[39mfit_params)\n\u001b[0;32m    679\u001b[0m     \u001b[38;5;28;01melse\u001b[39;00m:\n\u001b[1;32m--> 680\u001b[0m         estimator\u001b[38;5;241m.\u001b[39mfit(X_train, y_train, \u001b[38;5;241m*\u001b[39m\u001b[38;5;241m*\u001b[39mfit_params)\n\u001b[0;32m    682\u001b[0m \u001b[38;5;28;01mexcept\u001b[39;00m \u001b[38;5;167;01mException\u001b[39;00m:\n\u001b[0;32m    683\u001b[0m     \u001b[38;5;66;03m# Note fit time as time until error\u001b[39;00m\n\u001b[0;32m    684\u001b[0m     fit_time \u001b[38;5;241m=\u001b[39m time\u001b[38;5;241m.\u001b[39mtime() \u001b[38;5;241m-\u001b[39m start_time\n",
      "File \u001b[1;32mD:\\Anaconda\\lib\\site-packages\\sklearn\\ensemble\\_forest.py:439\u001b[0m, in \u001b[0;36mBaseForest.fit\u001b[1;34m(self, X, y, sample_weight)\u001b[0m\n\u001b[0;32m    434\u001b[0m \u001b[38;5;28;01mif\u001b[39;00m \u001b[38;5;28mself\u001b[39m\u001b[38;5;241m.\u001b[39mwarm_start \u001b[38;5;129;01mand\u001b[39;00m \u001b[38;5;28mlen\u001b[39m(\u001b[38;5;28mself\u001b[39m\u001b[38;5;241m.\u001b[39mestimators_) \u001b[38;5;241m>\u001b[39m \u001b[38;5;241m0\u001b[39m:\n\u001b[0;32m    435\u001b[0m     \u001b[38;5;66;03m# We draw from the random state to get the random state we\u001b[39;00m\n\u001b[0;32m    436\u001b[0m     \u001b[38;5;66;03m# would have got if we hadn't used a warm_start.\u001b[39;00m\n\u001b[0;32m    437\u001b[0m     random_state\u001b[38;5;241m.\u001b[39mrandint(MAX_INT, size\u001b[38;5;241m=\u001b[39m\u001b[38;5;28mlen\u001b[39m(\u001b[38;5;28mself\u001b[39m\u001b[38;5;241m.\u001b[39mestimators_))\n\u001b[1;32m--> 439\u001b[0m trees \u001b[38;5;241m=\u001b[39m [\n\u001b[0;32m    440\u001b[0m     \u001b[38;5;28mself\u001b[39m\u001b[38;5;241m.\u001b[39m_make_estimator(append\u001b[38;5;241m=\u001b[39m\u001b[38;5;28;01mFalse\u001b[39;00m, random_state\u001b[38;5;241m=\u001b[39mrandom_state)\n\u001b[0;32m    441\u001b[0m     \u001b[38;5;28;01mfor\u001b[39;00m i \u001b[38;5;129;01min\u001b[39;00m \u001b[38;5;28mrange\u001b[39m(n_more_estimators)\n\u001b[0;32m    442\u001b[0m ]\n\u001b[0;32m    444\u001b[0m \u001b[38;5;66;03m# Parallel loop: we prefer the threading backend as the Cython code\u001b[39;00m\n\u001b[0;32m    445\u001b[0m \u001b[38;5;66;03m# for fitting the trees is internally releasing the Python GIL\u001b[39;00m\n\u001b[0;32m    446\u001b[0m \u001b[38;5;66;03m# making threading more efficient than multiprocessing in\u001b[39;00m\n\u001b[0;32m    447\u001b[0m \u001b[38;5;66;03m# that case. However, for joblib 0.12+ we respect any\u001b[39;00m\n\u001b[0;32m    448\u001b[0m \u001b[38;5;66;03m# parallel_backend contexts set at a higher level,\u001b[39;00m\n\u001b[0;32m    449\u001b[0m \u001b[38;5;66;03m# since correctness does not rely on using threads.\u001b[39;00m\n\u001b[0;32m    450\u001b[0m trees \u001b[38;5;241m=\u001b[39m Parallel(\n\u001b[0;32m    451\u001b[0m     n_jobs\u001b[38;5;241m=\u001b[39m\u001b[38;5;28mself\u001b[39m\u001b[38;5;241m.\u001b[39mn_jobs,\n\u001b[0;32m    452\u001b[0m     verbose\u001b[38;5;241m=\u001b[39m\u001b[38;5;28mself\u001b[39m\u001b[38;5;241m.\u001b[39mverbose,\n\u001b[1;32m   (...)\u001b[0m\n\u001b[0;32m    467\u001b[0m     \u001b[38;5;28;01mfor\u001b[39;00m i, t \u001b[38;5;129;01min\u001b[39;00m \u001b[38;5;28menumerate\u001b[39m(trees)\n\u001b[0;32m    468\u001b[0m )\n",
      "File \u001b[1;32mD:\\Anaconda\\lib\\site-packages\\sklearn\\ensemble\\_forest.py:440\u001b[0m, in \u001b[0;36m<listcomp>\u001b[1;34m(.0)\u001b[0m\n\u001b[0;32m    434\u001b[0m \u001b[38;5;28;01mif\u001b[39;00m \u001b[38;5;28mself\u001b[39m\u001b[38;5;241m.\u001b[39mwarm_start \u001b[38;5;129;01mand\u001b[39;00m \u001b[38;5;28mlen\u001b[39m(\u001b[38;5;28mself\u001b[39m\u001b[38;5;241m.\u001b[39mestimators_) \u001b[38;5;241m>\u001b[39m \u001b[38;5;241m0\u001b[39m:\n\u001b[0;32m    435\u001b[0m     \u001b[38;5;66;03m# We draw from the random state to get the random state we\u001b[39;00m\n\u001b[0;32m    436\u001b[0m     \u001b[38;5;66;03m# would have got if we hadn't used a warm_start.\u001b[39;00m\n\u001b[0;32m    437\u001b[0m     random_state\u001b[38;5;241m.\u001b[39mrandint(MAX_INT, size\u001b[38;5;241m=\u001b[39m\u001b[38;5;28mlen\u001b[39m(\u001b[38;5;28mself\u001b[39m\u001b[38;5;241m.\u001b[39mestimators_))\n\u001b[0;32m    439\u001b[0m trees \u001b[38;5;241m=\u001b[39m [\n\u001b[1;32m--> 440\u001b[0m     \u001b[38;5;28;43mself\u001b[39;49m\u001b[38;5;241;43m.\u001b[39;49m\u001b[43m_make_estimator\u001b[49m\u001b[43m(\u001b[49m\u001b[43mappend\u001b[49m\u001b[38;5;241;43m=\u001b[39;49m\u001b[38;5;28;43;01mFalse\u001b[39;49;00m\u001b[43m,\u001b[49m\u001b[43m \u001b[49m\u001b[43mrandom_state\u001b[49m\u001b[38;5;241;43m=\u001b[39;49m\u001b[43mrandom_state\u001b[49m\u001b[43m)\u001b[49m\n\u001b[0;32m    441\u001b[0m     \u001b[38;5;28;01mfor\u001b[39;00m i \u001b[38;5;129;01min\u001b[39;00m \u001b[38;5;28mrange\u001b[39m(n_more_estimators)\n\u001b[0;32m    442\u001b[0m ]\n\u001b[0;32m    444\u001b[0m \u001b[38;5;66;03m# Parallel loop: we prefer the threading backend as the Cython code\u001b[39;00m\n\u001b[0;32m    445\u001b[0m \u001b[38;5;66;03m# for fitting the trees is internally releasing the Python GIL\u001b[39;00m\n\u001b[0;32m    446\u001b[0m \u001b[38;5;66;03m# making threading more efficient than multiprocessing in\u001b[39;00m\n\u001b[0;32m    447\u001b[0m \u001b[38;5;66;03m# that case. However, for joblib 0.12+ we respect any\u001b[39;00m\n\u001b[0;32m    448\u001b[0m \u001b[38;5;66;03m# parallel_backend contexts set at a higher level,\u001b[39;00m\n\u001b[0;32m    449\u001b[0m \u001b[38;5;66;03m# since correctness does not rely on using threads.\u001b[39;00m\n\u001b[0;32m    450\u001b[0m trees \u001b[38;5;241m=\u001b[39m Parallel(\n\u001b[0;32m    451\u001b[0m     n_jobs\u001b[38;5;241m=\u001b[39m\u001b[38;5;28mself\u001b[39m\u001b[38;5;241m.\u001b[39mn_jobs,\n\u001b[0;32m    452\u001b[0m     verbose\u001b[38;5;241m=\u001b[39m\u001b[38;5;28mself\u001b[39m\u001b[38;5;241m.\u001b[39mverbose,\n\u001b[1;32m   (...)\u001b[0m\n\u001b[0;32m    467\u001b[0m     \u001b[38;5;28;01mfor\u001b[39;00m i, t \u001b[38;5;129;01min\u001b[39;00m \u001b[38;5;28menumerate\u001b[39m(trees)\n\u001b[0;32m    468\u001b[0m )\n",
      "File \u001b[1;32mD:\\Anaconda\\lib\\site-packages\\sklearn\\ensemble\\_base.py:158\u001b[0m, in \u001b[0;36mBaseEnsemble._make_estimator\u001b[1;34m(self, append, random_state)\u001b[0m\n\u001b[0;32m    152\u001b[0m \u001b[38;5;28;01mdef\u001b[39;00m \u001b[38;5;21m_make_estimator\u001b[39m(\u001b[38;5;28mself\u001b[39m, append\u001b[38;5;241m=\u001b[39m\u001b[38;5;28;01mTrue\u001b[39;00m, random_state\u001b[38;5;241m=\u001b[39m\u001b[38;5;28;01mNone\u001b[39;00m):\n\u001b[0;32m    153\u001b[0m     \u001b[38;5;124;03m\"\"\"Make and configure a copy of the `base_estimator_` attribute.\u001b[39;00m\n\u001b[0;32m    154\u001b[0m \n\u001b[0;32m    155\u001b[0m \u001b[38;5;124;03m    Warning: This method should be used to properly instantiate new\u001b[39;00m\n\u001b[0;32m    156\u001b[0m \u001b[38;5;124;03m    sub-estimators.\u001b[39;00m\n\u001b[0;32m    157\u001b[0m \u001b[38;5;124;03m    \"\"\"\u001b[39;00m\n\u001b[1;32m--> 158\u001b[0m     estimator \u001b[38;5;241m=\u001b[39m \u001b[43mclone\u001b[49m\u001b[43m(\u001b[49m\u001b[38;5;28;43mself\u001b[39;49m\u001b[38;5;241;43m.\u001b[39;49m\u001b[43mbase_estimator_\u001b[49m\u001b[43m)\u001b[49m\n\u001b[0;32m    159\u001b[0m     estimator\u001b[38;5;241m.\u001b[39mset_params(\u001b[38;5;241m*\u001b[39m\u001b[38;5;241m*\u001b[39m{p: \u001b[38;5;28mgetattr\u001b[39m(\u001b[38;5;28mself\u001b[39m, p) \u001b[38;5;28;01mfor\u001b[39;00m p \u001b[38;5;129;01min\u001b[39;00m \u001b[38;5;28mself\u001b[39m\u001b[38;5;241m.\u001b[39mestimator_params})\n\u001b[0;32m    161\u001b[0m     \u001b[38;5;66;03m# TODO: Remove in v1.2\u001b[39;00m\n\u001b[0;32m    162\u001b[0m     \u001b[38;5;66;03m# criterion \"mse\" and \"mae\" would cause warnings in every call to\u001b[39;00m\n\u001b[0;32m    163\u001b[0m     \u001b[38;5;66;03m# DecisionTreeRegressor.fit(..)\u001b[39;00m\n",
      "File \u001b[1;32mD:\\Anaconda\\lib\\site-packages\\sklearn\\base.py:88\u001b[0m, in \u001b[0;36mclone\u001b[1;34m(estimator, safe)\u001b[0m\n\u001b[0;32m     86\u001b[0m     new_object_params[name] \u001b[38;5;241m=\u001b[39m clone(param, safe\u001b[38;5;241m=\u001b[39m\u001b[38;5;28;01mFalse\u001b[39;00m)\n\u001b[0;32m     87\u001b[0m new_object \u001b[38;5;241m=\u001b[39m klass(\u001b[38;5;241m*\u001b[39m\u001b[38;5;241m*\u001b[39mnew_object_params)\n\u001b[1;32m---> 88\u001b[0m params_set \u001b[38;5;241m=\u001b[39m \u001b[43mnew_object\u001b[49m\u001b[38;5;241;43m.\u001b[39;49m\u001b[43mget_params\u001b[49m\u001b[43m(\u001b[49m\u001b[43mdeep\u001b[49m\u001b[38;5;241;43m=\u001b[39;49m\u001b[38;5;28;43;01mFalse\u001b[39;49;00m\u001b[43m)\u001b[49m\n\u001b[0;32m     90\u001b[0m \u001b[38;5;66;03m# quick sanity check of the parameters of the clone\u001b[39;00m\n\u001b[0;32m     91\u001b[0m \u001b[38;5;28;01mfor\u001b[39;00m name \u001b[38;5;129;01min\u001b[39;00m new_object_params:\n",
      "File \u001b[1;32mD:\\Anaconda\\lib\\site-packages\\sklearn\\base.py:209\u001b[0m, in \u001b[0;36mBaseEstimator.get_params\u001b[1;34m(self, deep)\u001b[0m\n\u001b[0;32m    194\u001b[0m \u001b[38;5;124;03m\"\"\"\u001b[39;00m\n\u001b[0;32m    195\u001b[0m \u001b[38;5;124;03mGet parameters for this estimator.\u001b[39;00m\n\u001b[0;32m    196\u001b[0m \n\u001b[1;32m   (...)\u001b[0m\n\u001b[0;32m    206\u001b[0m \u001b[38;5;124;03m    Parameter names mapped to their values.\u001b[39;00m\n\u001b[0;32m    207\u001b[0m \u001b[38;5;124;03m\"\"\"\u001b[39;00m\n\u001b[0;32m    208\u001b[0m out \u001b[38;5;241m=\u001b[39m \u001b[38;5;28mdict\u001b[39m()\n\u001b[1;32m--> 209\u001b[0m \u001b[38;5;28;01mfor\u001b[39;00m key \u001b[38;5;129;01min\u001b[39;00m \u001b[38;5;28;43mself\u001b[39;49m\u001b[38;5;241;43m.\u001b[39;49m\u001b[43m_get_param_names\u001b[49m\u001b[43m(\u001b[49m\u001b[43m)\u001b[49m:\n\u001b[0;32m    210\u001b[0m     value \u001b[38;5;241m=\u001b[39m \u001b[38;5;28mgetattr\u001b[39m(\u001b[38;5;28mself\u001b[39m, key)\n\u001b[0;32m    211\u001b[0m     \u001b[38;5;28;01mif\u001b[39;00m deep \u001b[38;5;129;01mand\u001b[39;00m \u001b[38;5;28mhasattr\u001b[39m(value, \u001b[38;5;124m\"\u001b[39m\u001b[38;5;124mget_params\u001b[39m\u001b[38;5;124m\"\u001b[39m):\n",
      "File \u001b[1;32mD:\\Anaconda\\lib\\site-packages\\sklearn\\base.py:174\u001b[0m, in \u001b[0;36mBaseEstimator._get_param_names\u001b[1;34m(cls)\u001b[0m\n\u001b[0;32m    170\u001b[0m     \u001b[38;5;28;01mreturn\u001b[39;00m []\n\u001b[0;32m    172\u001b[0m \u001b[38;5;66;03m# introspect the constructor arguments to find the model parameters\u001b[39;00m\n\u001b[0;32m    173\u001b[0m \u001b[38;5;66;03m# to represent\u001b[39;00m\n\u001b[1;32m--> 174\u001b[0m init_signature \u001b[38;5;241m=\u001b[39m \u001b[43minspect\u001b[49m\u001b[38;5;241;43m.\u001b[39;49m\u001b[43msignature\u001b[49m\u001b[43m(\u001b[49m\u001b[43minit\u001b[49m\u001b[43m)\u001b[49m\n\u001b[0;32m    175\u001b[0m \u001b[38;5;66;03m# Consider the constructor parameters excluding 'self'\u001b[39;00m\n\u001b[0;32m    176\u001b[0m parameters \u001b[38;5;241m=\u001b[39m [\n\u001b[0;32m    177\u001b[0m     p\n\u001b[0;32m    178\u001b[0m     \u001b[38;5;28;01mfor\u001b[39;00m p \u001b[38;5;129;01min\u001b[39;00m init_signature\u001b[38;5;241m.\u001b[39mparameters\u001b[38;5;241m.\u001b[39mvalues()\n\u001b[0;32m    179\u001b[0m     \u001b[38;5;28;01mif\u001b[39;00m p\u001b[38;5;241m.\u001b[39mname \u001b[38;5;241m!=\u001b[39m \u001b[38;5;124m\"\u001b[39m\u001b[38;5;124mself\u001b[39m\u001b[38;5;124m\"\u001b[39m \u001b[38;5;129;01mand\u001b[39;00m p\u001b[38;5;241m.\u001b[39mkind \u001b[38;5;241m!=\u001b[39m p\u001b[38;5;241m.\u001b[39mVAR_KEYWORD\n\u001b[0;32m    180\u001b[0m ]\n",
      "File \u001b[1;32mD:\\Anaconda\\lib\\inspect.py:3113\u001b[0m, in \u001b[0;36msignature\u001b[1;34m(obj, follow_wrapped)\u001b[0m\n\u001b[0;32m   3111\u001b[0m \u001b[38;5;28;01mdef\u001b[39;00m \u001b[38;5;21msignature\u001b[39m(obj, \u001b[38;5;241m*\u001b[39m, follow_wrapped\u001b[38;5;241m=\u001b[39m\u001b[38;5;28;01mTrue\u001b[39;00m):\n\u001b[0;32m   3112\u001b[0m     \u001b[38;5;124;03m\"\"\"Get a signature object for the passed callable.\"\"\"\u001b[39;00m\n\u001b[1;32m-> 3113\u001b[0m     \u001b[38;5;28;01mreturn\u001b[39;00m \u001b[43mSignature\u001b[49m\u001b[38;5;241;43m.\u001b[39;49m\u001b[43mfrom_callable\u001b[49m\u001b[43m(\u001b[49m\u001b[43mobj\u001b[49m\u001b[43m,\u001b[49m\u001b[43m \u001b[49m\u001b[43mfollow_wrapped\u001b[49m\u001b[38;5;241;43m=\u001b[39;49m\u001b[43mfollow_wrapped\u001b[49m\u001b[43m)\u001b[49m\n",
      "File \u001b[1;32mD:\\Anaconda\\lib\\inspect.py:2862\u001b[0m, in \u001b[0;36mSignature.from_callable\u001b[1;34m(cls, obj, follow_wrapped)\u001b[0m\n\u001b[0;32m   2859\u001b[0m \u001b[38;5;129m@classmethod\u001b[39m\n\u001b[0;32m   2860\u001b[0m \u001b[38;5;28;01mdef\u001b[39;00m \u001b[38;5;21mfrom_callable\u001b[39m(\u001b[38;5;28mcls\u001b[39m, obj, \u001b[38;5;241m*\u001b[39m, follow_wrapped\u001b[38;5;241m=\u001b[39m\u001b[38;5;28;01mTrue\u001b[39;00m):\n\u001b[0;32m   2861\u001b[0m     \u001b[38;5;124;03m\"\"\"Constructs Signature for the given callable object.\"\"\"\u001b[39;00m\n\u001b[1;32m-> 2862\u001b[0m     \u001b[38;5;28;01mreturn\u001b[39;00m \u001b[43m_signature_from_callable\u001b[49m\u001b[43m(\u001b[49m\u001b[43mobj\u001b[49m\u001b[43m,\u001b[49m\u001b[43m \u001b[49m\u001b[43msigcls\u001b[49m\u001b[38;5;241;43m=\u001b[39;49m\u001b[38;5;28;43mcls\u001b[39;49m\u001b[43m,\u001b[49m\n\u001b[0;32m   2863\u001b[0m \u001b[43m                                    \u001b[49m\u001b[43mfollow_wrapper_chains\u001b[49m\u001b[38;5;241;43m=\u001b[39;49m\u001b[43mfollow_wrapped\u001b[49m\u001b[43m)\u001b[49m\n",
      "File \u001b[1;32mD:\\Anaconda\\lib\\inspect.py:2325\u001b[0m, in \u001b[0;36m_signature_from_callable\u001b[1;34m(obj, follow_wrapper_chains, skip_bound_arg, sigcls)\u001b[0m\n\u001b[0;32m   2320\u001b[0m             \u001b[38;5;28;01mreturn\u001b[39;00m sig\u001b[38;5;241m.\u001b[39mreplace(parameters\u001b[38;5;241m=\u001b[39mnew_params)\n\u001b[0;32m   2322\u001b[0m \u001b[38;5;28;01mif\u001b[39;00m isfunction(obj) \u001b[38;5;129;01mor\u001b[39;00m _signature_is_functionlike(obj):\n\u001b[0;32m   2323\u001b[0m     \u001b[38;5;66;03m# If it's a pure Python function, or an object that is duck type\u001b[39;00m\n\u001b[0;32m   2324\u001b[0m     \u001b[38;5;66;03m# of a Python function (Cython functions, for instance), then:\u001b[39;00m\n\u001b[1;32m-> 2325\u001b[0m     \u001b[38;5;28;01mreturn\u001b[39;00m \u001b[43m_signature_from_function\u001b[49m\u001b[43m(\u001b[49m\u001b[43msigcls\u001b[49m\u001b[43m,\u001b[49m\u001b[43m \u001b[49m\u001b[43mobj\u001b[49m\u001b[43m,\u001b[49m\n\u001b[0;32m   2326\u001b[0m \u001b[43m                                    \u001b[49m\u001b[43mskip_bound_arg\u001b[49m\u001b[38;5;241;43m=\u001b[39;49m\u001b[43mskip_bound_arg\u001b[49m\u001b[43m)\u001b[49m\n\u001b[0;32m   2328\u001b[0m \u001b[38;5;28;01mif\u001b[39;00m _signature_is_builtin(obj):\n\u001b[0;32m   2329\u001b[0m     \u001b[38;5;28;01mreturn\u001b[39;00m _signature_from_builtin(sigcls, obj,\n\u001b[0;32m   2330\u001b[0m                                    skip_bound_arg\u001b[38;5;241m=\u001b[39mskip_bound_arg)\n",
      "File \u001b[1;32mD:\\Anaconda\\lib\\inspect.py:2241\u001b[0m, in \u001b[0;36m_signature_from_function\u001b[1;34m(cls, func, skip_bound_arg)\u001b[0m\n\u001b[0;32m   2236\u001b[0m     parameters\u001b[38;5;241m.\u001b[39mappend(Parameter(name, annotation\u001b[38;5;241m=\u001b[39mannotation,\n\u001b[0;32m   2237\u001b[0m                                 kind\u001b[38;5;241m=\u001b[39m_VAR_KEYWORD))\n\u001b[0;32m   2239\u001b[0m \u001b[38;5;66;03m# Is 'func' is a pure Python function - don't validate the\u001b[39;00m\n\u001b[0;32m   2240\u001b[0m \u001b[38;5;66;03m# parameters list (for correct order and defaults), it should be OK.\u001b[39;00m\n\u001b[1;32m-> 2241\u001b[0m \u001b[38;5;28;01mreturn\u001b[39;00m \u001b[38;5;28;43mcls\u001b[39;49m\u001b[43m(\u001b[49m\u001b[43mparameters\u001b[49m\u001b[43m,\u001b[49m\n\u001b[0;32m   2242\u001b[0m \u001b[43m           \u001b[49m\u001b[43mreturn_annotation\u001b[49m\u001b[38;5;241;43m=\u001b[39;49m\u001b[43mannotations\u001b[49m\u001b[38;5;241;43m.\u001b[39;49m\u001b[43mget\u001b[49m\u001b[43m(\u001b[49m\u001b[38;5;124;43m'\u001b[39;49m\u001b[38;5;124;43mreturn\u001b[39;49m\u001b[38;5;124;43m'\u001b[39;49m\u001b[43m,\u001b[49m\u001b[43m \u001b[49m\u001b[43m_empty\u001b[49m\u001b[43m)\u001b[49m\u001b[43m,\u001b[49m\n\u001b[0;32m   2243\u001b[0m \u001b[43m           \u001b[49m\u001b[43m__validate_parameters__\u001b[49m\u001b[38;5;241;43m=\u001b[39;49m\u001b[43mis_duck_function\u001b[49m\u001b[43m)\u001b[49m\n",
      "File \u001b[1;32mD:\\Anaconda\\lib\\inspect.py:2830\u001b[0m, in \u001b[0;36mSignature.__init__\u001b[1;34m(self, parameters, return_annotation, __validate_parameters__)\u001b[0m\n\u001b[0;32m   2828\u001b[0m             params[name] \u001b[38;5;241m=\u001b[39m param\n\u001b[0;32m   2829\u001b[0m     \u001b[38;5;28;01melse\u001b[39;00m:\n\u001b[1;32m-> 2830\u001b[0m         params \u001b[38;5;241m=\u001b[39m OrderedDict((param\u001b[38;5;241m.\u001b[39mname, param) \u001b[38;5;28;01mfor\u001b[39;00m param \u001b[38;5;129;01min\u001b[39;00m parameters)\n\u001b[0;32m   2832\u001b[0m \u001b[38;5;28mself\u001b[39m\u001b[38;5;241m.\u001b[39m_parameters \u001b[38;5;241m=\u001b[39m types\u001b[38;5;241m.\u001b[39mMappingProxyType(params)\n\u001b[0;32m   2833\u001b[0m \u001b[38;5;28mself\u001b[39m\u001b[38;5;241m.\u001b[39m_return_annotation \u001b[38;5;241m=\u001b[39m return_annotation\n",
      "\u001b[1;31mKeyboardInterrupt\u001b[0m: "
     ]
    }
   ],
   "source": [
    "## Let's tune the parameters of RandomForestClassifier\n",
    "params = {\"n_estimators\":[100,200,300,400,500],\"max_features\":[0.5,1.0,\"auto\"],\"min_samples_split\":[2,4,6,8],\"min_samples_leaf\":[1,3,5,7],\"bootstrap\":[True,False]}\n",
    "forest_clf  = RandomForestClassifier(random_state=42)\n",
    "gs_clf = GridSearchCV(forest_clf,params,cv=5,verbose=2,scoring=\"accuracy\")\n",
    "gs_clf.fit(X_transformed,y)"
   ]
  },
  {
   "cell_type": "code",
   "execution_count": null,
   "id": "903716d2",
   "metadata": {},
   "outputs": [],
   "source": []
  }
 ],
 "metadata": {
  "kernelspec": {
   "display_name": "Python 3 (ipykernel)",
   "language": "python",
   "name": "python3"
  },
  "language_info": {
   "codemirror_mode": {
    "name": "ipython",
    "version": 3
   },
   "file_extension": ".py",
   "mimetype": "text/x-python",
   "name": "python",
   "nbconvert_exporter": "python",
   "pygments_lexer": "ipython3",
   "version": "3.9.12"
  }
 },
 "nbformat": 4,
 "nbformat_minor": 5
}
