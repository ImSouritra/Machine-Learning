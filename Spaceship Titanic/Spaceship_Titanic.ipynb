{
  "nbformat": 4,
  "nbformat_minor": 0,
  "metadata": {
    "colab": {
      "provenance": [],
      "collapsed_sections": []
    },
    "kernelspec": {
      "name": "python3",
      "display_name": "Python 3"
    },
    "language_info": {
      "name": "python"
    },
    "gpuClass": "standard"
  },
  "cells": [
    {
      "cell_type": "markdown",
      "source": [
        "# Spaceship Titanic\n",
        "\n",
        "Welcome to the year 2912, where your data science skills are needed to solve a cosmic mystery. We've received a transmission from four lightyears away and things aren't looking good.\n",
        "\n",
        "To help rescue crews and retrieve the lost passengers, We have to predict which passengers were transported by the anomaly using records recovered from the spaceship’s damaged computer system.\n",
        "\n",
        "Help save them and change history!\n",
        "\n",
        "\n"
      ],
      "metadata": {
        "id": "seuK-HMAw8DK"
      }
    },
    {
      "cell_type": "markdown",
      "source": [],
      "metadata": {
        "id": "dNTJGVFJy8Cy"
      }
    },
    {
      "cell_type": "markdown",
      "source": [
        "We're going to take the following approach:\n",
        "\n",
        "\n",
        "---\n",
        "\n",
        "1. **`Problem Statement`**:  to predict whether a passenger was transported to an alternate dimension during the Spaceship Titanic's collision with the spacetime anomaly. To help you make these predictions, you're given a set of personal records recovered from the ship's damaged computer system.\n",
        "2. **`Evaluation Metrics`**: We have to evaluate the test data based on classification accuracy, the percentage of predicted labels that are correct.\n",
        "3. **`Understanding The Data`** : train.csv - Personal records for about two-thirds (~8700) of the passengers, to be used as training data.\n",
        "* **`PassengerId`** - A unique Id for each passenger. Each Id takes the form gggg_pp where gggg indicates a group the passenger is travelling with and pp is their number within the group. People in a group are often family members, but not always.\n",
        "* **`HomePlanet`** - The planet the passenger departed from, typically their planet of permanent residence.\n",
        "* **`CryoSleep`** - Indicates whether the passenger elected to be put into suspended animation for the duration of the voyage. Passengers in cryosleep are confined to their cabins.\n",
        "* **`Cabin`** - The cabin number where the passenger is staying. Takes the form deck/num/side, where side can be either P for Port or S for Starboard.\n",
        "* **`Destination`** - The planet the passenger will be debarking to.\n",
        "* **`Age`** - The age of the passenger.\n",
        "* **`VIP`** - Whether the passenger has paid for special VIP service during the voyage.\n",
        "* **`RoomService, FoodCourt, ShoppingMall, Spa, VRDeck`** - Amount the passenger has billed at each of the Spaceship Titanic's many luxury amenities.\n",
        "* **`Name`** - The first and last names of the passenger.\n",
        "Transported - Whether the passenger was transported to another dimension. This is the target, the column you are trying to predict. \n",
        "\n",
        "4. **`EDA(Exploratory Data Analysis)`** : We'll explore the data and try to get important insights from the data\n",
        "\n",
        "5. **`Build A Model`** : Build a neural network model, and fit the data to the neural network\n",
        "\n",
        "6. **`Improve The Model`**: Improve the deep learning model by adding extra layers, tweaking the learning rate and changing the number of epochs to see which performs better on the data\n",
        "\n",
        "7. **`Evaluate On Test Data`**: Evaluate our model on the test data\n",
        "\n",
        "\n",
        "---\n",
        "\n"
      ],
      "metadata": {
        "id": "__aqsbk9y8wF"
      }
    },
    {
      "cell_type": "code",
      "source": [
        "import pandas as pd\n",
        "import numpy as np\n",
        "import tensorflow as tf\n",
        "import matplotlib.pyplot as plt\n",
        "import plotly.express as px\n",
        "import seaborn as sns\n",
        "from sklearn.model_selection import train_test_split, GridSearchCV\n",
        "from sklearn.preprocessing import MinMaxScaler, OneHotEncoder, LabelEncoder\n",
        "from sklearn.pipeline import Pipeline\n",
        "from sklearn.impute import SimpleImputer\n",
        "from sklearn.compose import make_column_transformer\n",
        "from sklearn.ensemble import RandomForestClassifier\n",
        "from sklearn.svm import SVC"
      ],
      "metadata": {
        "id": "zuWyrjSIwv9o"
      },
      "execution_count": 2,
      "outputs": []
    },
    {
      "cell_type": "code",
      "source": [
        "titanic_df = pd.read_csv(\"/content/drive/MyDrive/spaceship-titanic/train.csv\")"
      ],
      "metadata": {
        "id": "GBDA-ohU3xl9"
      },
      "execution_count": 3,
      "outputs": []
    },
    {
      "cell_type": "code",
      "source": [
        "titanic_df.head()"
      ],
      "metadata": {
        "colab": {
          "base_uri": "https://localhost:8080/",
          "height": 357
        },
        "id": "TvpBHUld36Dn",
        "outputId": "3c082c14-47da-436e-f21a-90a43954c132"
      },
      "execution_count": 4,
      "outputs": [
        {
          "output_type": "execute_result",
          "data": {
            "text/plain": [
              "  PassengerId HomePlanet CryoSleep  Cabin  Destination   Age    VIP  \\\n",
              "0     0001_01     Europa     False  B/0/P  TRAPPIST-1e  39.0  False   \n",
              "1     0002_01      Earth     False  F/0/S  TRAPPIST-1e  24.0  False   \n",
              "2     0003_01     Europa     False  A/0/S  TRAPPIST-1e  58.0   True   \n",
              "3     0003_02     Europa     False  A/0/S  TRAPPIST-1e  33.0  False   \n",
              "4     0004_01      Earth     False  F/1/S  TRAPPIST-1e  16.0  False   \n",
              "\n",
              "   RoomService  FoodCourt  ShoppingMall     Spa  VRDeck               Name  \\\n",
              "0          0.0        0.0           0.0     0.0     0.0    Maham Ofracculy   \n",
              "1        109.0        9.0          25.0   549.0    44.0       Juanna Vines   \n",
              "2         43.0     3576.0           0.0  6715.0    49.0      Altark Susent   \n",
              "3          0.0     1283.0         371.0  3329.0   193.0       Solam Susent   \n",
              "4        303.0       70.0         151.0   565.0     2.0  Willy Santantines   \n",
              "\n",
              "   Transported  \n",
              "0        False  \n",
              "1         True  \n",
              "2        False  \n",
              "3        False  \n",
              "4         True  "
            ],
            "text/html": [
              "\n",
              "  <div id=\"df-1e6ec14a-6997-4734-8af4-7baa9bb7ce63\">\n",
              "    <div class=\"colab-df-container\">\n",
              "      <div>\n",
              "<style scoped>\n",
              "    .dataframe tbody tr th:only-of-type {\n",
              "        vertical-align: middle;\n",
              "    }\n",
              "\n",
              "    .dataframe tbody tr th {\n",
              "        vertical-align: top;\n",
              "    }\n",
              "\n",
              "    .dataframe thead th {\n",
              "        text-align: right;\n",
              "    }\n",
              "</style>\n",
              "<table border=\"1\" class=\"dataframe\">\n",
              "  <thead>\n",
              "    <tr style=\"text-align: right;\">\n",
              "      <th></th>\n",
              "      <th>PassengerId</th>\n",
              "      <th>HomePlanet</th>\n",
              "      <th>CryoSleep</th>\n",
              "      <th>Cabin</th>\n",
              "      <th>Destination</th>\n",
              "      <th>Age</th>\n",
              "      <th>VIP</th>\n",
              "      <th>RoomService</th>\n",
              "      <th>FoodCourt</th>\n",
              "      <th>ShoppingMall</th>\n",
              "      <th>Spa</th>\n",
              "      <th>VRDeck</th>\n",
              "      <th>Name</th>\n",
              "      <th>Transported</th>\n",
              "    </tr>\n",
              "  </thead>\n",
              "  <tbody>\n",
              "    <tr>\n",
              "      <th>0</th>\n",
              "      <td>0001_01</td>\n",
              "      <td>Europa</td>\n",
              "      <td>False</td>\n",
              "      <td>B/0/P</td>\n",
              "      <td>TRAPPIST-1e</td>\n",
              "      <td>39.0</td>\n",
              "      <td>False</td>\n",
              "      <td>0.0</td>\n",
              "      <td>0.0</td>\n",
              "      <td>0.0</td>\n",
              "      <td>0.0</td>\n",
              "      <td>0.0</td>\n",
              "      <td>Maham Ofracculy</td>\n",
              "      <td>False</td>\n",
              "    </tr>\n",
              "    <tr>\n",
              "      <th>1</th>\n",
              "      <td>0002_01</td>\n",
              "      <td>Earth</td>\n",
              "      <td>False</td>\n",
              "      <td>F/0/S</td>\n",
              "      <td>TRAPPIST-1e</td>\n",
              "      <td>24.0</td>\n",
              "      <td>False</td>\n",
              "      <td>109.0</td>\n",
              "      <td>9.0</td>\n",
              "      <td>25.0</td>\n",
              "      <td>549.0</td>\n",
              "      <td>44.0</td>\n",
              "      <td>Juanna Vines</td>\n",
              "      <td>True</td>\n",
              "    </tr>\n",
              "    <tr>\n",
              "      <th>2</th>\n",
              "      <td>0003_01</td>\n",
              "      <td>Europa</td>\n",
              "      <td>False</td>\n",
              "      <td>A/0/S</td>\n",
              "      <td>TRAPPIST-1e</td>\n",
              "      <td>58.0</td>\n",
              "      <td>True</td>\n",
              "      <td>43.0</td>\n",
              "      <td>3576.0</td>\n",
              "      <td>0.0</td>\n",
              "      <td>6715.0</td>\n",
              "      <td>49.0</td>\n",
              "      <td>Altark Susent</td>\n",
              "      <td>False</td>\n",
              "    </tr>\n",
              "    <tr>\n",
              "      <th>3</th>\n",
              "      <td>0003_02</td>\n",
              "      <td>Europa</td>\n",
              "      <td>False</td>\n",
              "      <td>A/0/S</td>\n",
              "      <td>TRAPPIST-1e</td>\n",
              "      <td>33.0</td>\n",
              "      <td>False</td>\n",
              "      <td>0.0</td>\n",
              "      <td>1283.0</td>\n",
              "      <td>371.0</td>\n",
              "      <td>3329.0</td>\n",
              "      <td>193.0</td>\n",
              "      <td>Solam Susent</td>\n",
              "      <td>False</td>\n",
              "    </tr>\n",
              "    <tr>\n",
              "      <th>4</th>\n",
              "      <td>0004_01</td>\n",
              "      <td>Earth</td>\n",
              "      <td>False</td>\n",
              "      <td>F/1/S</td>\n",
              "      <td>TRAPPIST-1e</td>\n",
              "      <td>16.0</td>\n",
              "      <td>False</td>\n",
              "      <td>303.0</td>\n",
              "      <td>70.0</td>\n",
              "      <td>151.0</td>\n",
              "      <td>565.0</td>\n",
              "      <td>2.0</td>\n",
              "      <td>Willy Santantines</td>\n",
              "      <td>True</td>\n",
              "    </tr>\n",
              "  </tbody>\n",
              "</table>\n",
              "</div>\n",
              "      <button class=\"colab-df-convert\" onclick=\"convertToInteractive('df-1e6ec14a-6997-4734-8af4-7baa9bb7ce63')\"\n",
              "              title=\"Convert this dataframe to an interactive table.\"\n",
              "              style=\"display:none;\">\n",
              "        \n",
              "  <svg xmlns=\"http://www.w3.org/2000/svg\" height=\"24px\"viewBox=\"0 0 24 24\"\n",
              "       width=\"24px\">\n",
              "    <path d=\"M0 0h24v24H0V0z\" fill=\"none\"/>\n",
              "    <path d=\"M18.56 5.44l.94 2.06.94-2.06 2.06-.94-2.06-.94-.94-2.06-.94 2.06-2.06.94zm-11 1L8.5 8.5l.94-2.06 2.06-.94-2.06-.94L8.5 2.5l-.94 2.06-2.06.94zm10 10l.94 2.06.94-2.06 2.06-.94-2.06-.94-.94-2.06-.94 2.06-2.06.94z\"/><path d=\"M17.41 7.96l-1.37-1.37c-.4-.4-.92-.59-1.43-.59-.52 0-1.04.2-1.43.59L10.3 9.45l-7.72 7.72c-.78.78-.78 2.05 0 2.83L4 21.41c.39.39.9.59 1.41.59.51 0 1.02-.2 1.41-.59l7.78-7.78 2.81-2.81c.8-.78.8-2.07 0-2.86zM5.41 20L4 18.59l7.72-7.72 1.47 1.35L5.41 20z\"/>\n",
              "  </svg>\n",
              "      </button>\n",
              "      \n",
              "  <style>\n",
              "    .colab-df-container {\n",
              "      display:flex;\n",
              "      flex-wrap:wrap;\n",
              "      gap: 12px;\n",
              "    }\n",
              "\n",
              "    .colab-df-convert {\n",
              "      background-color: #E8F0FE;\n",
              "      border: none;\n",
              "      border-radius: 50%;\n",
              "      cursor: pointer;\n",
              "      display: none;\n",
              "      fill: #1967D2;\n",
              "      height: 32px;\n",
              "      padding: 0 0 0 0;\n",
              "      width: 32px;\n",
              "    }\n",
              "\n",
              "    .colab-df-convert:hover {\n",
              "      background-color: #E2EBFA;\n",
              "      box-shadow: 0px 1px 2px rgba(60, 64, 67, 0.3), 0px 1px 3px 1px rgba(60, 64, 67, 0.15);\n",
              "      fill: #174EA6;\n",
              "    }\n",
              "\n",
              "    [theme=dark] .colab-df-convert {\n",
              "      background-color: #3B4455;\n",
              "      fill: #D2E3FC;\n",
              "    }\n",
              "\n",
              "    [theme=dark] .colab-df-convert:hover {\n",
              "      background-color: #434B5C;\n",
              "      box-shadow: 0px 1px 3px 1px rgba(0, 0, 0, 0.15);\n",
              "      filter: drop-shadow(0px 1px 2px rgba(0, 0, 0, 0.3));\n",
              "      fill: #FFFFFF;\n",
              "    }\n",
              "  </style>\n",
              "\n",
              "      <script>\n",
              "        const buttonEl =\n",
              "          document.querySelector('#df-1e6ec14a-6997-4734-8af4-7baa9bb7ce63 button.colab-df-convert');\n",
              "        buttonEl.style.display =\n",
              "          google.colab.kernel.accessAllowed ? 'block' : 'none';\n",
              "\n",
              "        async function convertToInteractive(key) {\n",
              "          const element = document.querySelector('#df-1e6ec14a-6997-4734-8af4-7baa9bb7ce63');\n",
              "          const dataTable =\n",
              "            await google.colab.kernel.invokeFunction('convertToInteractive',\n",
              "                                                     [key], {});\n",
              "          if (!dataTable) return;\n",
              "\n",
              "          const docLinkHtml = 'Like what you see? Visit the ' +\n",
              "            '<a target=\"_blank\" href=https://colab.research.google.com/notebooks/data_table.ipynb>data table notebook</a>'\n",
              "            + ' to learn more about interactive tables.';\n",
              "          element.innerHTML = '';\n",
              "          dataTable['output_type'] = 'display_data';\n",
              "          await google.colab.output.renderOutput(dataTable, element);\n",
              "          const docLink = document.createElement('div');\n",
              "          docLink.innerHTML = docLinkHtml;\n",
              "          element.appendChild(docLink);\n",
              "        }\n",
              "      </script>\n",
              "    </div>\n",
              "  </div>\n",
              "  "
            ]
          },
          "metadata": {},
          "execution_count": 4
        }
      ]
    },
    {
      "cell_type": "code",
      "source": [
        "titanic_df.shape"
      ],
      "metadata": {
        "colab": {
          "base_uri": "https://localhost:8080/"
        },
        "id": "2cBKfonN376b",
        "outputId": "47c3168c-5ab6-48f9-8d06-fd6deca10739"
      },
      "execution_count": 5,
      "outputs": [
        {
          "output_type": "execute_result",
          "data": {
            "text/plain": [
              "(8693, 14)"
            ]
          },
          "metadata": {},
          "execution_count": 5
        }
      ]
    },
    {
      "cell_type": "code",
      "source": [
        "titanic_df.info()"
      ],
      "metadata": {
        "colab": {
          "base_uri": "https://localhost:8080/"
        },
        "id": "habEvf8O5Dzo",
        "outputId": "621cde40-2a11-400a-9472-a15f1f3558a8"
      },
      "execution_count": 6,
      "outputs": [
        {
          "output_type": "stream",
          "name": "stdout",
          "text": [
            "<class 'pandas.core.frame.DataFrame'>\n",
            "RangeIndex: 8693 entries, 0 to 8692\n",
            "Data columns (total 14 columns):\n",
            " #   Column        Non-Null Count  Dtype  \n",
            "---  ------        --------------  -----  \n",
            " 0   PassengerId   8693 non-null   object \n",
            " 1   HomePlanet    8492 non-null   object \n",
            " 2   CryoSleep     8476 non-null   object \n",
            " 3   Cabin         8494 non-null   object \n",
            " 4   Destination   8511 non-null   object \n",
            " 5   Age           8514 non-null   float64\n",
            " 6   VIP           8490 non-null   object \n",
            " 7   RoomService   8512 non-null   float64\n",
            " 8   FoodCourt     8510 non-null   float64\n",
            " 9   ShoppingMall  8485 non-null   float64\n",
            " 10  Spa           8510 non-null   float64\n",
            " 11  VRDeck        8505 non-null   float64\n",
            " 12  Name          8493 non-null   object \n",
            " 13  Transported   8693 non-null   bool   \n",
            "dtypes: bool(1), float64(6), object(7)\n",
            "memory usage: 891.5+ KB\n"
          ]
        }
      ]
    },
    {
      "cell_type": "code",
      "source": [
        "titanic_df.isna().sum()"
      ],
      "metadata": {
        "colab": {
          "base_uri": "https://localhost:8080/"
        },
        "id": "AiBiX2Hc5RuQ",
        "outputId": "2bf8793c-28dd-4c59-f571-7b4ea25ab6a5"
      },
      "execution_count": 7,
      "outputs": [
        {
          "output_type": "execute_result",
          "data": {
            "text/plain": [
              "PassengerId       0\n",
              "HomePlanet      201\n",
              "CryoSleep       217\n",
              "Cabin           199\n",
              "Destination     182\n",
              "Age             179\n",
              "VIP             203\n",
              "RoomService     181\n",
              "FoodCourt       183\n",
              "ShoppingMall    208\n",
              "Spa             183\n",
              "VRDeck          188\n",
              "Name            200\n",
              "Transported       0\n",
              "dtype: int64"
            ]
          },
          "metadata": {},
          "execution_count": 7
        }
      ]
    },
    {
      "cell_type": "code",
      "source": [
        "sns.countplot(x = titanic_df.HomePlanet,hue=titanic_df.Transported);"
      ],
      "metadata": {
        "colab": {
          "base_uri": "https://localhost:8080/",
          "height": 279
        },
        "id": "ULaBuLbf5bZZ",
        "outputId": "251c59a7-73c8-46d6-9db5-ca83eaf5001e"
      },
      "execution_count": 8,
      "outputs": [
        {
          "output_type": "display_data",
          "data": {
            "text/plain": [
              "<Figure size 432x288 with 1 Axes>"
            ],
            "image/png": "[encoded data removed]"
          },
          "metadata": {
            "needs_background": "light"
          }
        }
      ]
    },
    {
      "cell_type": "markdown",
      "source": [
        "So as we can see there are more people from Earth than Europa and Mars. Nearly 2.5k people from Earth has failed to be transported where there is a slightly higher success rate from planet Europa and planet Mars "
      ],
      "metadata": {
        "id": "MOruO2rL-Etd"
      }
    },
    {
      "cell_type": "code",
      "source": [
        "sns.countplot(x = titanic_df.CryoSleep,hue=titanic_df.Transported);"
      ],
      "metadata": {
        "colab": {
          "base_uri": "https://localhost:8080/",
          "height": 279
        },
        "id": "R4RgP2SU9-qC",
        "outputId": "e0af76e5-c0d6-47f2-cef7-2f6b0d210a96"
      },
      "execution_count": 9,
      "outputs": [
        {
          "output_type": "display_data",
          "data": {
            "text/plain": [
              "<Figure size 432x288 with 1 Axes>"
            ],
            "image/png": "[encoded data removed]"
          },
          "metadata": {
            "needs_background": "light"
          }
        }
      ]
    },
    {
      "cell_type": "markdown",
      "source": [
        "People who are in Cryosleep which is some kind of deep sleep during the voyage has better successful transportation rate than people who are not. Nearly 3.5k people who aint cryosleeping failed to be transported into their destination where nearly 2.5k people who are cryosleeping were successfully transported"
      ],
      "metadata": {
        "id": "EaO2q-h6-9cv"
      }
    },
    {
      "cell_type": "code",
      "source": [
        "titanic_df.Cabin.value_counts()"
      ],
      "metadata": {
        "colab": {
          "base_uri": "https://localhost:8080/"
        },
        "id": "g3wlCiZh-5pi",
        "outputId": "5b17d12b-32e5-4366-e8d8-d677f7eb0b70"
      },
      "execution_count": 10,
      "outputs": [
        {
          "output_type": "execute_result",
          "data": {
            "text/plain": [
              "G/734/S     8\n",
              "G/109/P     7\n",
              "B/201/P     7\n",
              "G/1368/P    7\n",
              "G/981/S     7\n",
              "           ..\n",
              "G/556/P     1\n",
              "E/231/S     1\n",
              "G/545/S     1\n",
              "G/543/S     1\n",
              "F/947/P     1\n",
              "Name: Cabin, Length: 6560, dtype: int64"
            ]
          },
          "metadata": {},
          "execution_count": 10
        }
      ]
    },
    {
      "cell_type": "markdown",
      "source": [
        "## Feature Engineering"
      ],
      "metadata": {
        "id": "6aBI3-0Z_wLv"
      }
    },
    {
      "cell_type": "code",
      "source": [
        "titanic_df[\"Age-Bins\"] = pd.cut(x=titanic_df['Age'], bins=[0,9,19,29,39,49,59,69,79,89,99])"
      ],
      "metadata": {
        "id": "VoQfQGnQ_hQy"
      },
      "execution_count": 11,
      "outputs": []
    },
    {
      "cell_type": "code",
      "source": [
        "titanic_df.head()"
      ],
      "metadata": {
        "colab": {
          "base_uri": "https://localhost:8080/",
          "height": 374
        },
        "id": "-FQzVRf8AJbc",
        "outputId": "070f986f-0dd2-409b-9656-f8f86d3edcf7"
      },
      "execution_count": 12,
      "outputs": [
        {
          "output_type": "execute_result",
          "data": {
            "text/plain": [
              "  PassengerId HomePlanet CryoSleep  Cabin  Destination   Age    VIP  \\\n",
              "0     0001_01     Europa     False  B/0/P  TRAPPIST-1e  39.0  False   \n",
              "1     0002_01      Earth     False  F/0/S  TRAPPIST-1e  24.0  False   \n",
              "2     0003_01     Europa     False  A/0/S  TRAPPIST-1e  58.0   True   \n",
              "3     0003_02     Europa     False  A/0/S  TRAPPIST-1e  33.0  False   \n",
              "4     0004_01      Earth     False  F/1/S  TRAPPIST-1e  16.0  False   \n",
              "\n",
              "   RoomService  FoodCourt  ShoppingMall     Spa  VRDeck               Name  \\\n",
              "0          0.0        0.0           0.0     0.0     0.0    Maham Ofracculy   \n",
              "1        109.0        9.0          25.0   549.0    44.0       Juanna Vines   \n",
              "2         43.0     3576.0           0.0  6715.0    49.0      Altark Susent   \n",
              "3          0.0     1283.0         371.0  3329.0   193.0       Solam Susent   \n",
              "4        303.0       70.0         151.0   565.0     2.0  Willy Santantines   \n",
              "\n",
              "   Transported  Age-Bins  \n",
              "0        False  (29, 39]  \n",
              "1         True  (19, 29]  \n",
              "2        False  (49, 59]  \n",
              "3        False  (29, 39]  \n",
              "4         True   (9, 19]  "
            ],
            "text/html": [
              "\n",
              "  <div id=\"df-cdbb1d66-0ed0-4624-bc01-45b4ed0fec5e\">\n",
              "    <div class=\"colab-df-container\">\n",
              "      <div>\n",
              "<style scoped>\n",
              "    .dataframe tbody tr th:only-of-type {\n",
              "        vertical-align: middle;\n",
              "    }\n",
              "\n",
              "    .dataframe tbody tr th {\n",
              "        vertical-align: top;\n",
              "    }\n",
              "\n",
              "    .dataframe thead th {\n",
              "        text-align: right;\n",
              "    }\n",
              "</style>\n",
              "<table border=\"1\" class=\"dataframe\">\n",
              "  <thead>\n",
              "    <tr style=\"text-align: right;\">\n",
              "      <th></th>\n",
              "      <th>PassengerId</th>\n",
              "      <th>HomePlanet</th>\n",
              "      <th>CryoSleep</th>\n",
              "      <th>Cabin</th>\n",
              "      <th>Destination</th>\n",
              "      <th>Age</th>\n",
              "      <th>VIP</th>\n",
              "      <th>RoomService</th>\n",
              "      <th>FoodCourt</th>\n",
              "      <th>ShoppingMall</th>\n",
              "      <th>Spa</th>\n",
              "      <th>VRDeck</th>\n",
              "      <th>Name</th>\n",
              "      <th>Transported</th>\n",
              "      <th>Age-Bins</th>\n",
              "    </tr>\n",
              "  </thead>\n",
              "  <tbody>\n",
              "    <tr>\n",
              "      <th>0</th>\n",
              "      <td>0001_01</td>\n",
              "      <td>Europa</td>\n",
              "      <td>False</td>\n",
              "      <td>B/0/P</td>\n",
              "      <td>TRAPPIST-1e</td>\n",
              "      <td>39.0</td>\n",
              "      <td>False</td>\n",
              "      <td>0.0</td>\n",
              "      <td>0.0</td>\n",
              "      <td>0.0</td>\n",
              "      <td>0.0</td>\n",
              "      <td>0.0</td>\n",
              "      <td>Maham Ofracculy</td>\n",
              "      <td>False</td>\n",
              "      <td>(29, 39]</td>\n",
              "    </tr>\n",
              "    <tr>\n",
              "      <th>1</th>\n",
              "      <td>0002_01</td>\n",
              "      <td>Earth</td>\n",
              "      <td>False</td>\n",
              "      <td>F/0/S</td>\n",
              "      <td>TRAPPIST-1e</td>\n",
              "      <td>24.0</td>\n",
              "      <td>False</td>\n",
              "      <td>109.0</td>\n",
              "      <td>9.0</td>\n",
              "      <td>25.0</td>\n",
              "      <td>549.0</td>\n",
              "      <td>44.0</td>\n",
              "      <td>Juanna Vines</td>\n",
              "      <td>True</td>\n",
              "      <td>(19, 29]</td>\n",
              "    </tr>\n",
              "    <tr>\n",
              "      <th>2</th>\n",
              "      <td>0003_01</td>\n",
              "      <td>Europa</td>\n",
              "      <td>False</td>\n",
              "      <td>A/0/S</td>\n",
              "      <td>TRAPPIST-1e</td>\n",
              "      <td>58.0</td>\n",
              "      <td>True</td>\n",
              "      <td>43.0</td>\n",
              "      <td>3576.0</td>\n",
              "      <td>0.0</td>\n",
              "      <td>6715.0</td>\n",
              "      <td>49.0</td>\n",
              "      <td>Altark Susent</td>\n",
              "      <td>False</td>\n",
              "      <td>(49, 59]</td>\n",
              "    </tr>\n",
              "    <tr>\n",
              "      <th>3</th>\n",
              "      <td>0003_02</td>\n",
              "      <td>Europa</td>\n",
              "      <td>False</td>\n",
              "      <td>A/0/S</td>\n",
              "      <td>TRAPPIST-1e</td>\n",
              "      <td>33.0</td>\n",
              "      <td>False</td>\n",
              "      <td>0.0</td>\n",
              "      <td>1283.0</td>\n",
              "      <td>371.0</td>\n",
              "      <td>3329.0</td>\n",
              "      <td>193.0</td>\n",
              "      <td>Solam Susent</td>\n",
              "      <td>False</td>\n",
              "      <td>(29, 39]</td>\n",
              "    </tr>\n",
              "    <tr>\n",
              "      <th>4</th>\n",
              "      <td>0004_01</td>\n",
              "      <td>Earth</td>\n",
              "      <td>False</td>\n",
              "      <td>F/1/S</td>\n",
              "      <td>TRAPPIST-1e</td>\n",
              "      <td>16.0</td>\n",
              "      <td>False</td>\n",
              "      <td>303.0</td>\n",
              "      <td>70.0</td>\n",
              "      <td>151.0</td>\n",
              "      <td>565.0</td>\n",
              "      <td>2.0</td>\n",
              "      <td>Willy Santantines</td>\n",
              "      <td>True</td>\n",
              "      <td>(9, 19]</td>\n",
              "    </tr>\n",
              "  </tbody>\n",
              "</table>\n",
              "</div>\n",
              "      <button class=\"colab-df-convert\" onclick=\"convertToInteractive('df-cdbb1d66-0ed0-4624-bc01-45b4ed0fec5e')\"\n",
              "              title=\"Convert this dataframe to an interactive table.\"\n",
              "              style=\"display:none;\">\n",
              "        \n",
              "  <svg xmlns=\"http://www.w3.org/2000/svg\" height=\"24px\"viewBox=\"0 0 24 24\"\n",
              "       width=\"24px\">\n",
              "    <path d=\"M0 0h24v24H0V0z\" fill=\"none\"/>\n",
              "    <path d=\"M18.56 5.44l.94 2.06.94-2.06 2.06-.94-2.06-.94-.94-2.06-.94 2.06-2.06.94zm-11 1L8.5 8.5l.94-2.06 2.06-.94-2.06-.94L8.5 2.5l-.94 2.06-2.06.94zm10 10l.94 2.06.94-2.06 2.06-.94-2.06-.94-.94-2.06-.94 2.06-2.06.94z\"/><path d=\"M17.41 7.96l-1.37-1.37c-.4-.4-.92-.59-1.43-.59-.52 0-1.04.2-1.43.59L10.3 9.45l-7.72 7.72c-.78.78-.78 2.05 0 2.83L4 21.41c.39.39.9.59 1.41.59.51 0 1.02-.2 1.41-.59l7.78-7.78 2.81-2.81c.8-.78.8-2.07 0-2.86zM5.41 20L4 18.59l7.72-7.72 1.47 1.35L5.41 20z\"/>\n",
              "  </svg>\n",
              "      </button>\n",
              "      \n",
              "  <style>\n",
              "    .colab-df-container {\n",
              "      display:flex;\n",
              "      flex-wrap:wrap;\n",
              "      gap: 12px;\n",
              "    }\n",
              "\n",
              "    .colab-df-convert {\n",
              "      background-color: #E8F0FE;\n",
              "      border: none;\n",
              "      border-radius: 50%;\n",
              "      cursor: pointer;\n",
              "      display: none;\n",
              "      fill: #1967D2;\n",
              "      height: 32px;\n",
              "      padding: 0 0 0 0;\n",
              "      width: 32px;\n",
              "    }\n",
              "\n",
              "    .colab-df-convert:hover {\n",
              "      background-color: #E2EBFA;\n",
              "      box-shadow: 0px 1px 2px rgba(60, 64, 67, 0.3), 0px 1px 3px 1px rgba(60, 64, 67, 0.15);\n",
              "      fill: #174EA6;\n",
              "    }\n",
              "\n",
              "    [theme=dark] .colab-df-convert {\n",
              "      background-color: #3B4455;\n",
              "      fill: #D2E3FC;\n",
              "    }\n",
              "\n",
              "    [theme=dark] .colab-df-convert:hover {\n",
              "      background-color: #434B5C;\n",
              "      box-shadow: 0px 1px 3px 1px rgba(0, 0, 0, 0.15);\n",
              "      filter: drop-shadow(0px 1px 2px rgba(0, 0, 0, 0.3));\n",
              "      fill: #FFFFFF;\n",
              "    }\n",
              "  </style>\n",
              "\n",
              "      <script>\n",
              "        const buttonEl =\n",
              "          document.querySelector('#df-cdbb1d66-0ed0-4624-bc01-45b4ed0fec5e button.colab-df-convert');\n",
              "        buttonEl.style.display =\n",
              "          google.colab.kernel.accessAllowed ? 'block' : 'none';\n",
              "\n",
              "        async function convertToInteractive(key) {\n",
              "          const element = document.querySelector('#df-cdbb1d66-0ed0-4624-bc01-45b4ed0fec5e');\n",
              "          const dataTable =\n",
              "            await google.colab.kernel.invokeFunction('convertToInteractive',\n",
              "                                                     [key], {});\n",
              "          if (!dataTable) return;\n",
              "\n",
              "          const docLinkHtml = 'Like what you see? Visit the ' +\n",
              "            '<a target=\"_blank\" href=https://colab.research.google.com/notebooks/data_table.ipynb>data table notebook</a>'\n",
              "            + ' to learn more about interactive tables.';\n",
              "          element.innerHTML = '';\n",
              "          dataTable['output_type'] = 'display_data';\n",
              "          await google.colab.output.renderOutput(dataTable, element);\n",
              "          const docLink = document.createElement('div');\n",
              "          docLink.innerHTML = docLinkHtml;\n",
              "          element.appendChild(docLink);\n",
              "        }\n",
              "      </script>\n",
              "    </div>\n",
              "  </div>\n",
              "  "
            ]
          },
          "metadata": {},
          "execution_count": 12
        }
      ]
    },
    {
      "cell_type": "code",
      "source": [
        "titanic_df.info()"
      ],
      "metadata": {
        "colab": {
          "base_uri": "https://localhost:8080/"
        },
        "id": "cPSkoATMHjeT",
        "outputId": "c1845ed0-5ae4-470a-aafa-3377f80c8e48"
      },
      "execution_count": 13,
      "outputs": [
        {
          "output_type": "stream",
          "name": "stdout",
          "text": [
            "<class 'pandas.core.frame.DataFrame'>\n",
            "RangeIndex: 8693 entries, 0 to 8692\n",
            "Data columns (total 15 columns):\n",
            " #   Column        Non-Null Count  Dtype   \n",
            "---  ------        --------------  -----   \n",
            " 0   PassengerId   8693 non-null   object  \n",
            " 1   HomePlanet    8492 non-null   object  \n",
            " 2   CryoSleep     8476 non-null   object  \n",
            " 3   Cabin         8494 non-null   object  \n",
            " 4   Destination   8511 non-null   object  \n",
            " 5   Age           8514 non-null   float64 \n",
            " 6   VIP           8490 non-null   object  \n",
            " 7   RoomService   8512 non-null   float64 \n",
            " 8   FoodCourt     8510 non-null   float64 \n",
            " 9   ShoppingMall  8485 non-null   float64 \n",
            " 10  Spa           8510 non-null   float64 \n",
            " 11  VRDeck        8505 non-null   float64 \n",
            " 12  Name          8493 non-null   object  \n",
            " 13  Transported   8693 non-null   bool    \n",
            " 14  Age-Bins      8336 non-null   category\n",
            "dtypes: bool(1), category(1), float64(6), object(7)\n",
            "memory usage: 900.4+ KB\n"
          ]
        }
      ]
    },
    {
      "cell_type": "code",
      "source": [
        "plt.figure(figsize=(10,7))\n",
        "sns.countplot(x=titanic_df[\"Age-Bins\"],hue=titanic_df.Transported)"
      ],
      "metadata": {
        "id": "PlC404kTAMGq",
        "colab": {
          "base_uri": "https://localhost:8080/",
          "height": 459
        },
        "outputId": "4fbf081e-230a-449e-b68c-65dc49e83dd3"
      },
      "execution_count": 14,
      "outputs": [
        {
          "output_type": "execute_result",
          "data": {
            "text/plain": [
              "<matplotlib.axes._subplots.AxesSubplot at 0x7fd438a75590>"
            ]
          },
          "metadata": {},
          "execution_count": 14
        },
        {
          "output_type": "display_data",
          "data": {
            "text/plain": [
              "<Figure size 720x504 with 1 Axes>"
            ],
            "image/png": "[encoded data removed]"
          },
          "metadata": {
            "needs_background": "light"
          }
        }
      ]
    },
    {
      "cell_type": "code",
      "source": [
        "titanic_df[\"Deck\"] = titanic_df[\"Cabin\"].str.split('/').str[0]"
      ],
      "metadata": {
        "id": "vjJhXSM9a8-6"
      },
      "execution_count": 15,
      "outputs": []
    },
    {
      "cell_type": "code",
      "source": [
        "titanic_df[\"Num\"] = titanic_df[\"Cabin\"].str.split(\"/\").str[1]"
      ],
      "metadata": {
        "id": "R2oW6e1ra9I5"
      },
      "execution_count": 16,
      "outputs": []
    },
    {
      "cell_type": "code",
      "source": [
        "titanic_df[\"Side\"] = titanic_df[\"Cabin\"].str.split(\"/\").str[2]"
      ],
      "metadata": {
        "id": "yEbkySvwbzVL"
      },
      "execution_count": 17,
      "outputs": []
    },
    {
      "cell_type": "code",
      "source": [
        "titanic_df[\"Total-Expense\"] = titanic_df[\"RoomService\"] + titanic_df[\"FoodCourt\"] + titanic_df[\"ShoppingMall\"]+titanic_df[\"Spa\"] + titanic_df[\"VRDeck\"]"
      ],
      "metadata": {
        "id": "XiC61n__cNCQ"
      },
      "execution_count": 18,
      "outputs": []
    },
    {
      "cell_type": "code",
      "source": [
        "titanic_df['Expense-Over-1500$'] = titanic_df['Total-Expense'].apply(lambda x: 'True' if x>1500 else 'False')"
      ],
      "metadata": {
        "id": "qBfOavQacQw7"
      },
      "execution_count": 19,
      "outputs": []
    },
    {
      "cell_type": "code",
      "source": [
        "titanic_df.head()"
      ],
      "metadata": {
        "colab": {
          "base_uri": "https://localhost:8080/",
          "height": 392
        },
        "id": "TQp-C3vObzXq",
        "outputId": "8d75c84c-fd3e-47e2-d726-dc06ca9942d9"
      },
      "execution_count": 20,
      "outputs": [
        {
          "output_type": "execute_result",
          "data": {
            "text/plain": [
              "  PassengerId HomePlanet CryoSleep  Cabin  Destination   Age    VIP  \\\n",
              "0     0001_01     Europa     False  B/0/P  TRAPPIST-1e  39.0  False   \n",
              "1     0002_01      Earth     False  F/0/S  TRAPPIST-1e  24.0  False   \n",
              "2     0003_01     Europa     False  A/0/S  TRAPPIST-1e  58.0   True   \n",
              "3     0003_02     Europa     False  A/0/S  TRAPPIST-1e  33.0  False   \n",
              "4     0004_01      Earth     False  F/1/S  TRAPPIST-1e  16.0  False   \n",
              "\n",
              "   RoomService  FoodCourt  ShoppingMall     Spa  VRDeck               Name  \\\n",
              "0          0.0        0.0           0.0     0.0     0.0    Maham Ofracculy   \n",
              "1        109.0        9.0          25.0   549.0    44.0       Juanna Vines   \n",
              "2         43.0     3576.0           0.0  6715.0    49.0      Altark Susent   \n",
              "3          0.0     1283.0         371.0  3329.0   193.0       Solam Susent   \n",
              "4        303.0       70.0         151.0   565.0     2.0  Willy Santantines   \n",
              "\n",
              "   Transported  Age-Bins Deck Num Side  Total-Expense Expense-Over-1500$  \n",
              "0        False  (29, 39]    B   0    P            0.0              False  \n",
              "1         True  (19, 29]    F   0    S          736.0              False  \n",
              "2        False  (49, 59]    A   0    S        10383.0               True  \n",
              "3        False  (29, 39]    A   0    S         5176.0               True  \n",
              "4         True   (9, 19]    F   1    S         1091.0              False  "
            ],
            "text/html": [
              "\n",
              "  <div id=\"df-6ffcc1bd-2a70-4088-9a33-62b959830481\">\n",
              "    <div class=\"colab-df-container\">\n",
              "      <div>\n",
              "<style scoped>\n",
              "    .dataframe tbody tr th:only-of-type {\n",
              "        vertical-align: middle;\n",
              "    }\n",
              "\n",
              "    .dataframe tbody tr th {\n",
              "        vertical-align: top;\n",
              "    }\n",
              "\n",
              "    .dataframe thead th {\n",
              "        text-align: right;\n",
              "    }\n",
              "</style>\n",
              "<table border=\"1\" class=\"dataframe\">\n",
              "  <thead>\n",
              "    <tr style=\"text-align: right;\">\n",
              "      <th></th>\n",
              "      <th>PassengerId</th>\n",
              "      <th>HomePlanet</th>\n",
              "      <th>CryoSleep</th>\n",
              "      <th>Cabin</th>\n",
              "      <th>Destination</th>\n",
              "      <th>Age</th>\n",
              "      <th>VIP</th>\n",
              "      <th>RoomService</th>\n",
              "      <th>FoodCourt</th>\n",
              "      <th>ShoppingMall</th>\n",
              "      <th>Spa</th>\n",
              "      <th>VRDeck</th>\n",
              "      <th>Name</th>\n",
              "      <th>Transported</th>\n",
              "      <th>Age-Bins</th>\n",
              "      <th>Deck</th>\n",
              "      <th>Num</th>\n",
              "      <th>Side</th>\n",
              "      <th>Total-Expense</th>\n",
              "      <th>Expense-Over-1500$</th>\n",
              "    </tr>\n",
              "  </thead>\n",
              "  <tbody>\n",
              "    <tr>\n",
              "      <th>0</th>\n",
              "      <td>0001_01</td>\n",
              "      <td>Europa</td>\n",
              "      <td>False</td>\n",
              "      <td>B/0/P</td>\n",
              "      <td>TRAPPIST-1e</td>\n",
              "      <td>39.0</td>\n",
              "      <td>False</td>\n",
              "      <td>0.0</td>\n",
              "      <td>0.0</td>\n",
              "      <td>0.0</td>\n",
              "      <td>0.0</td>\n",
              "      <td>0.0</td>\n",
              "      <td>Maham Ofracculy</td>\n",
              "      <td>False</td>\n",
              "      <td>(29, 39]</td>\n",
              "      <td>B</td>\n",
              "      <td>0</td>\n",
              "      <td>P</td>\n",
              "      <td>0.0</td>\n",
              "      <td>False</td>\n",
              "    </tr>\n",
              "    <tr>\n",
              "      <th>1</th>\n",
              "      <td>0002_01</td>\n",
              "      <td>Earth</td>\n",
              "      <td>False</td>\n",
              "      <td>F/0/S</td>\n",
              "      <td>TRAPPIST-1e</td>\n",
              "      <td>24.0</td>\n",
              "      <td>False</td>\n",
              "      <td>109.0</td>\n",
              "      <td>9.0</td>\n",
              "      <td>25.0</td>\n",
              "      <td>549.0</td>\n",
              "      <td>44.0</td>\n",
              "      <td>Juanna Vines</td>\n",
              "      <td>True</td>\n",
              "      <td>(19, 29]</td>\n",
              "      <td>F</td>\n",
              "      <td>0</td>\n",
              "      <td>S</td>\n",
              "      <td>736.0</td>\n",
              "      <td>False</td>\n",
              "    </tr>\n",
              "    <tr>\n",
              "      <th>2</th>\n",
              "      <td>0003_01</td>\n",
              "      <td>Europa</td>\n",
              "      <td>False</td>\n",
              "      <td>A/0/S</td>\n",
              "      <td>TRAPPIST-1e</td>\n",
              "      <td>58.0</td>\n",
              "      <td>True</td>\n",
              "      <td>43.0</td>\n",
              "      <td>3576.0</td>\n",
              "      <td>0.0</td>\n",
              "      <td>6715.0</td>\n",
              "      <td>49.0</td>\n",
              "      <td>Altark Susent</td>\n",
              "      <td>False</td>\n",
              "      <td>(49, 59]</td>\n",
              "      <td>A</td>\n",
              "      <td>0</td>\n",
              "      <td>S</td>\n",
              "      <td>10383.0</td>\n",
              "      <td>True</td>\n",
              "    </tr>\n",
              "    <tr>\n",
              "      <th>3</th>\n",
              "      <td>0003_02</td>\n",
              "      <td>Europa</td>\n",
              "      <td>False</td>\n",
              "      <td>A/0/S</td>\n",
              "      <td>TRAPPIST-1e</td>\n",
              "      <td>33.0</td>\n",
              "      <td>False</td>\n",
              "      <td>0.0</td>\n",
              "      <td>1283.0</td>\n",
              "      <td>371.0</td>\n",
              "      <td>3329.0</td>\n",
              "      <td>193.0</td>\n",
              "      <td>Solam Susent</td>\n",
              "      <td>False</td>\n",
              "      <td>(29, 39]</td>\n",
              "      <td>A</td>\n",
              "      <td>0</td>\n",
              "      <td>S</td>\n",
              "      <td>5176.0</td>\n",
              "      <td>True</td>\n",
              "    </tr>\n",
              "    <tr>\n",
              "      <th>4</th>\n",
              "      <td>0004_01</td>\n",
              "      <td>Earth</td>\n",
              "      <td>False</td>\n",
              "      <td>F/1/S</td>\n",
              "      <td>TRAPPIST-1e</td>\n",
              "      <td>16.0</td>\n",
              "      <td>False</td>\n",
              "      <td>303.0</td>\n",
              "      <td>70.0</td>\n",
              "      <td>151.0</td>\n",
              "      <td>565.0</td>\n",
              "      <td>2.0</td>\n",
              "      <td>Willy Santantines</td>\n",
              "      <td>True</td>\n",
              "      <td>(9, 19]</td>\n",
              "      <td>F</td>\n",
              "      <td>1</td>\n",
              "      <td>S</td>\n",
              "      <td>1091.0</td>\n",
              "      <td>False</td>\n",
              "    </tr>\n",
              "  </tbody>\n",
              "</table>\n",
              "</div>\n",
              "      <button class=\"colab-df-convert\" onclick=\"convertToInteractive('df-6ffcc1bd-2a70-4088-9a33-62b959830481')\"\n",
              "              title=\"Convert this dataframe to an interactive table.\"\n",
              "              style=\"display:none;\">\n",
              "        \n",
              "  <svg xmlns=\"http://www.w3.org/2000/svg\" height=\"24px\"viewBox=\"0 0 24 24\"\n",
              "       width=\"24px\">\n",
              "    <path d=\"M0 0h24v24H0V0z\" fill=\"none\"/>\n",
              "    <path d=\"M18.56 5.44l.94 2.06.94-2.06 2.06-.94-2.06-.94-.94-2.06-.94 2.06-2.06.94zm-11 1L8.5 8.5l.94-2.06 2.06-.94-2.06-.94L8.5 2.5l-.94 2.06-2.06.94zm10 10l.94 2.06.94-2.06 2.06-.94-2.06-.94-.94-2.06-.94 2.06-2.06.94z\"/><path d=\"M17.41 7.96l-1.37-1.37c-.4-.4-.92-.59-1.43-.59-.52 0-1.04.2-1.43.59L10.3 9.45l-7.72 7.72c-.78.78-.78 2.05 0 2.83L4 21.41c.39.39.9.59 1.41.59.51 0 1.02-.2 1.41-.59l7.78-7.78 2.81-2.81c.8-.78.8-2.07 0-2.86zM5.41 20L4 18.59l7.72-7.72 1.47 1.35L5.41 20z\"/>\n",
              "  </svg>\n",
              "      </button>\n",
              "      \n",
              "  <style>\n",
              "    .colab-df-container {\n",
              "      display:flex;\n",
              "      flex-wrap:wrap;\n",
              "      gap: 12px;\n",
              "    }\n",
              "\n",
              "    .colab-df-convert {\n",
              "      background-color: #E8F0FE;\n",
              "      border: none;\n",
              "      border-radius: 50%;\n",
              "      cursor: pointer;\n",
              "      display: none;\n",
              "      fill: #1967D2;\n",
              "      height: 32px;\n",
              "      padding: 0 0 0 0;\n",
              "      width: 32px;\n",
              "    }\n",
              "\n",
              "    .colab-df-convert:hover {\n",
              "      background-color: #E2EBFA;\n",
              "      box-shadow: 0px 1px 2px rgba(60, 64, 67, 0.3), 0px 1px 3px 1px rgba(60, 64, 67, 0.15);\n",
              "      fill: #174EA6;\n",
              "    }\n",
              "\n",
              "    [theme=dark] .colab-df-convert {\n",
              "      background-color: #3B4455;\n",
              "      fill: #D2E3FC;\n",
              "    }\n",
              "\n",
              "    [theme=dark] .colab-df-convert:hover {\n",
              "      background-color: #434B5C;\n",
              "      box-shadow: 0px 1px 3px 1px rgba(0, 0, 0, 0.15);\n",
              "      filter: drop-shadow(0px 1px 2px rgba(0, 0, 0, 0.3));\n",
              "      fill: #FFFFFF;\n",
              "    }\n",
              "  </style>\n",
              "\n",
              "      <script>\n",
              "        const buttonEl =\n",
              "          document.querySelector('#df-6ffcc1bd-2a70-4088-9a33-62b959830481 button.colab-df-convert');\n",
              "        buttonEl.style.display =\n",
              "          google.colab.kernel.accessAllowed ? 'block' : 'none';\n",
              "\n",
              "        async function convertToInteractive(key) {\n",
              "          const element = document.querySelector('#df-6ffcc1bd-2a70-4088-9a33-62b959830481');\n",
              "          const dataTable =\n",
              "            await google.colab.kernel.invokeFunction('convertToInteractive',\n",
              "                                                     [key], {});\n",
              "          if (!dataTable) return;\n",
              "\n",
              "          const docLinkHtml = 'Like what you see? Visit the ' +\n",
              "            '<a target=\"_blank\" href=https://colab.research.google.com/notebooks/data_table.ipynb>data table notebook</a>'\n",
              "            + ' to learn more about interactive tables.';\n",
              "          element.innerHTML = '';\n",
              "          dataTable['output_type'] = 'display_data';\n",
              "          await google.colab.output.renderOutput(dataTable, element);\n",
              "          const docLink = document.createElement('div');\n",
              "          docLink.innerHTML = docLinkHtml;\n",
              "          element.appendChild(docLink);\n",
              "        }\n",
              "      </script>\n",
              "    </div>\n",
              "  </div>\n",
              "  "
            ]
          },
          "metadata": {},
          "execution_count": 20
        }
      ]
    },
    {
      "cell_type": "code",
      "source": [
        "titanic_df.info()"
      ],
      "metadata": {
        "colab": {
          "base_uri": "https://localhost:8080/"
        },
        "id": "oClEOBOmcCYT",
        "outputId": "751429f5-a91d-451e-af94-f33c63a4ce7e"
      },
      "execution_count": 21,
      "outputs": [
        {
          "output_type": "stream",
          "name": "stdout",
          "text": [
            "<class 'pandas.core.frame.DataFrame'>\n",
            "RangeIndex: 8693 entries, 0 to 8692\n",
            "Data columns (total 20 columns):\n",
            " #   Column              Non-Null Count  Dtype   \n",
            "---  ------              --------------  -----   \n",
            " 0   PassengerId         8693 non-null   object  \n",
            " 1   HomePlanet          8492 non-null   object  \n",
            " 2   CryoSleep           8476 non-null   object  \n",
            " 3   Cabin               8494 non-null   object  \n",
            " 4   Destination         8511 non-null   object  \n",
            " 5   Age                 8514 non-null   float64 \n",
            " 6   VIP                 8490 non-null   object  \n",
            " 7   RoomService         8512 non-null   float64 \n",
            " 8   FoodCourt           8510 non-null   float64 \n",
            " 9   ShoppingMall        8485 non-null   float64 \n",
            " 10  Spa                 8510 non-null   float64 \n",
            " 11  VRDeck              8505 non-null   float64 \n",
            " 12  Name                8493 non-null   object  \n",
            " 13  Transported         8693 non-null   bool    \n",
            " 14  Age-Bins            8336 non-null   category\n",
            " 15  Deck                8494 non-null   object  \n",
            " 16  Num                 8494 non-null   object  \n",
            " 17  Side                8494 non-null   object  \n",
            " 18  Total-Expense       7785 non-null   float64 \n",
            " 19  Expense-Over-1500$  8693 non-null   object  \n",
            "dtypes: bool(1), category(1), float64(7), object(11)\n",
            "memory usage: 1.2+ MB\n"
          ]
        }
      ]
    },
    {
      "cell_type": "markdown",
      "source": [
        "So, there are more failed transportation rate in people between 19-29 year old. Although kids made it safe during the transportation."
      ],
      "metadata": {
        "id": "ig3A68r4DLqN"
      }
    },
    {
      "cell_type": "code",
      "source": [
        "fig = plt.figure(figsize=(10,7))\n",
        "\n",
        "# total_rows, total_columns, subplot_index(1st, 2nd, etc..)\n",
        "plt.subplot(2, 2, 1)\n",
        "plt.hist(titanic_df[\"RoomService\"]);\n",
        "\n",
        "plt.subplot(2, 2, 2)\n",
        "plt.hist(titanic_df[\"FoodCourt\"]);\n",
        "\n",
        "plt.subplot(2, 2, 3)\n",
        "plt.hist(titanic_df[\"Spa\"]);\n",
        "\n",
        "plt.subplot(2, 2, 4)\n",
        "plt.hist(titanic_df[\"ShoppingMall\"]);"
      ],
      "metadata": {
        "colab": {
          "base_uri": "https://localhost:8080/",
          "height": 428
        },
        "id": "uiSdc08wC-48",
        "outputId": "a976387c-8b52-4080-bcb3-358a59bf7587"
      },
      "execution_count": 22,
      "outputs": [
        {
          "output_type": "display_data",
          "data": {
            "text/plain": [
              "<Figure size 720x504 with 4 Axes>"
            ],
            "image/png": "[encoded data removed]"
          },
          "metadata": {
            "needs_background": "light"
          }
        }
      ]
    },
    {
      "cell_type": "code",
      "source": [
        "sns.countplot(x=titanic_df.Destination,hue=titanic_df.Transported);"
      ],
      "metadata": {
        "colab": {
          "base_uri": "https://localhost:8080/",
          "height": 279
        },
        "id": "AerCGC5oDr2o",
        "outputId": "051b91a9-4d6f-4270-8759-8a809bf21579"
      },
      "execution_count": 23,
      "outputs": [
        {
          "output_type": "display_data",
          "data": {
            "text/plain": [
              "<Figure size 432x288 with 1 Axes>"
            ],
            "image/png": "[encoded data removed]"
          },
          "metadata": {
            "needs_background": "light"
          }
        }
      ]
    },
    {
      "cell_type": "markdown",
      "source": [
        "## Data Preprocessing"
      ],
      "metadata": {
        "id": "FrvF0E-3FDFs"
      }
    },
    {
      "cell_type": "code",
      "source": [
        "titanic_df.drop([\"Name\",\"Age\",\"Cabin\",\"PassengerId\"],axis=1,inplace=True)"
      ],
      "metadata": {
        "id": "wSZy4ePDEyML"
      },
      "execution_count": 24,
      "outputs": []
    },
    {
      "cell_type": "code",
      "source": [
        "num_features = []\n",
        "cat_features = []\n",
        "\n",
        "for label, content in titanic_df.items():\n",
        "  if pd.api.types.is_numeric_dtype(content):\n",
        "    num_features.append(label)\n",
        "  elif pd.api.types.is_string_dtype(content):\n",
        "    cat_features.append(label)\n",
        "  elif pd.api.types.is_categorical_dtype(content):\n",
        "    cat_features.append(label)  "
      ],
      "metadata": {
        "id": "K5tonYv6FQvQ"
      },
      "execution_count": 25,
      "outputs": []
    },
    {
      "cell_type": "code",
      "source": [
        "num_features, cat_features"
      ],
      "metadata": {
        "colab": {
          "base_uri": "https://localhost:8080/"
        },
        "id": "OufG6JlOFvA5",
        "outputId": "16c434c2-9bb7-4250-c33e-2cf8b2d3815e"
      },
      "execution_count": 26,
      "outputs": [
        {
          "output_type": "execute_result",
          "data": {
            "text/plain": [
              "(['RoomService',\n",
              "  'FoodCourt',\n",
              "  'ShoppingMall',\n",
              "  'Spa',\n",
              "  'VRDeck',\n",
              "  'Transported',\n",
              "  'Total-Expense'],\n",
              " ['HomePlanet',\n",
              "  'CryoSleep',\n",
              "  'Destination',\n",
              "  'VIP',\n",
              "  'Age-Bins',\n",
              "  'Deck',\n",
              "  'Num',\n",
              "  'Side',\n",
              "  'Expense-Over-1500$'])"
            ]
          },
          "metadata": {},
          "execution_count": 26
        }
      ]
    },
    {
      "cell_type": "code",
      "source": [
        "num_features.remove(\"Transported\")\n",
        "num_features"
      ],
      "metadata": {
        "colab": {
          "base_uri": "https://localhost:8080/"
        },
        "id": "cQIjI6XNF0V6",
        "outputId": "47af5f9c-feb7-487c-9074-422555f2a2f1"
      },
      "execution_count": 27,
      "outputs": [
        {
          "output_type": "execute_result",
          "data": {
            "text/plain": [
              "['RoomService', 'FoodCourt', 'ShoppingMall', 'Spa', 'VRDeck', 'Total-Expense']"
            ]
          },
          "metadata": {},
          "execution_count": 27
        }
      ]
    },
    {
      "cell_type": "code",
      "source": [
        "label = [\"Transported\"]"
      ],
      "metadata": {
        "id": "2u6M9DjyGayd"
      },
      "execution_count": 28,
      "outputs": []
    },
    {
      "cell_type": "code",
      "source": [
        "num_pipeline = Pipeline([(\"num_imputer\",SimpleImputer(strategy=\"mean\")),(\"scaler\",MinMaxScaler())])\n",
        "cat_pipeline = Pipeline([(\"cat_imputer\",SimpleImputer(strategy=\"most_frequent\")),(\"onehot\",OneHotEncoder(handle_unknown=\"ignore\"))])\n",
        "\n",
        "ct = make_column_transformer((num_pipeline,num_features),(cat_pipeline,cat_features))"
      ],
      "metadata": {
        "id": "Ir6pcUnlGA3J"
      },
      "execution_count": 29,
      "outputs": []
    },
    {
      "cell_type": "code",
      "source": [
        "X = titanic_df.drop(\"Transported\",axis=1)\n",
        "y = titanic_df.Transported\n",
        "\n",
        "X_train,X_val,y_train,y_val = train_test_split(X,y,test_size=0.2,shuffle=True,random_state=42)"
      ],
      "metadata": {
        "id": "NJ93jJY6HWmZ"
      },
      "execution_count": 30,
      "outputs": []
    },
    {
      "cell_type": "code",
      "source": [
        "ct.fit(X_train)"
      ],
      "metadata": {
        "colab": {
          "base_uri": "https://localhost:8080/"
        },
        "id": "AXHBPdM0INTm",
        "outputId": "bf03d0a2-32f0-4d8d-9a45-3f317c96626b"
      },
      "execution_count": 31,
      "outputs": [
        {
          "output_type": "execute_result",
          "data": {
            "text/plain": [
              "ColumnTransformer(transformers=[('pipeline-1',\n",
              "                                 Pipeline(steps=[('num_imputer',\n",
              "                                                  SimpleImputer()),\n",
              "                                                 ('scaler', MinMaxScaler())]),\n",
              "                                 ['RoomService', 'FoodCourt', 'ShoppingMall',\n",
              "                                  'Spa', 'VRDeck', 'Total-Expense']),\n",
              "                                ('pipeline-2',\n",
              "                                 Pipeline(steps=[('cat_imputer',\n",
              "                                                  SimpleImputer(strategy='most_frequent')),\n",
              "                                                 ('onehot',\n",
              "                                                  OneHotEncoder(handle_unknown='ignore'))]),\n",
              "                                 ['HomePlanet', 'CryoSleep', 'Destination',\n",
              "                                  'VIP', 'Age-Bins', 'Deck', 'Num', 'Side',\n",
              "                                  'Expense-Over-1500$'])])"
            ]
          },
          "metadata": {},
          "execution_count": 31
        }
      ]
    },
    {
      "cell_type": "code",
      "source": [
        "X_train_transformed = ct.transform(X_train)\n",
        "X_val_transformed = ct.transform(X_val)\n",
        "\n",
        "X_train_transformed.shape, X_val_transformed.shape"
      ],
      "metadata": {
        "colab": {
          "base_uri": "https://localhost:8080/"
        },
        "id": "ddi7dBjvIQd5",
        "outputId": "db33054c-1e34-45b0-aa68-ae07791cf518"
      },
      "execution_count": 32,
      "outputs": [
        {
          "output_type": "execute_result",
          "data": {
            "text/plain": [
              "((6954, 1783), (1739, 1783))"
            ]
          },
          "metadata": {},
          "execution_count": 32
        }
      ]
    },
    {
      "cell_type": "code",
      "source": [
        "y_train.shape, y_val.shape"
      ],
      "metadata": {
        "colab": {
          "base_uri": "https://localhost:8080/"
        },
        "id": "cXV1uWGOJe_T",
        "outputId": "6bde0360-6b95-4e27-e22f-ac066db533de"
      },
      "execution_count": 33,
      "outputs": [
        {
          "output_type": "execute_result",
          "data": {
            "text/plain": [
              "((6954,), (1739,))"
            ]
          },
          "metadata": {},
          "execution_count": 33
        }
      ]
    },
    {
      "cell_type": "code",
      "source": [
        "le = LabelEncoder()"
      ],
      "metadata": {
        "id": "4bO16Q_jI51c"
      },
      "execution_count": 34,
      "outputs": []
    },
    {
      "cell_type": "code",
      "source": [
        "le.fit(y_train)"
      ],
      "metadata": {
        "colab": {
          "base_uri": "https://localhost:8080/"
        },
        "id": "qOo00AJGJOw9",
        "outputId": "24aefa44-d3cd-446d-c9a5-feb39ed0e4c3"
      },
      "execution_count": 35,
      "outputs": [
        {
          "output_type": "execute_result",
          "data": {
            "text/plain": [
              "LabelEncoder()"
            ]
          },
          "metadata": {},
          "execution_count": 35
        }
      ]
    },
    {
      "cell_type": "code",
      "source": [
        "le.classes_"
      ],
      "metadata": {
        "colab": {
          "base_uri": "https://localhost:8080/"
        },
        "id": "krI70wQNKMsA",
        "outputId": "41abacac-9ed7-4c90-a38f-20d647917341"
      },
      "execution_count": 36,
      "outputs": [
        {
          "output_type": "execute_result",
          "data": {
            "text/plain": [
              "array([False,  True])"
            ]
          },
          "metadata": {},
          "execution_count": 36
        }
      ]
    },
    {
      "cell_type": "code",
      "source": [
        "y_train_transformed = le.transform(y_train)"
      ],
      "metadata": {
        "id": "1yr3txWIKOXs"
      },
      "execution_count": 37,
      "outputs": []
    },
    {
      "cell_type": "code",
      "source": [
        "y_val_transformed = le.transform(y_val)"
      ],
      "metadata": {
        "id": "71fMtDATKUL8"
      },
      "execution_count": 38,
      "outputs": []
    },
    {
      "cell_type": "code",
      "source": [
        "y_train ==y_train_transformed"
      ],
      "metadata": {
        "colab": {
          "base_uri": "https://localhost:8080/"
        },
        "id": "Rd1RXmVHKZe4",
        "outputId": "23b62127-8e3f-4e31-eb4e-c5151255f992"
      },
      "execution_count": 39,
      "outputs": [
        {
          "output_type": "execute_result",
          "data": {
            "text/plain": [
              "2333    True\n",
              "2589    True\n",
              "8302    True\n",
              "8177    True\n",
              "500     True\n",
              "        ... \n",
              "5734    True\n",
              "5191    True\n",
              "5390    True\n",
              "860     True\n",
              "7270    True\n",
              "Name: Transported, Length: 6954, dtype: bool"
            ]
          },
          "metadata": {},
          "execution_count": 39
        }
      ]
    },
    {
      "cell_type": "code",
      "source": [
        "y_train_transformed.shape, y_val_transformed.shape"
      ],
      "metadata": {
        "colab": {
          "base_uri": "https://localhost:8080/"
        },
        "id": "Pu4K4016KedQ",
        "outputId": "e4db5b0d-dc8a-4498-a358-f8df2249fe01"
      },
      "execution_count": 40,
      "outputs": [
        {
          "output_type": "execute_result",
          "data": {
            "text/plain": [
              "((6954,), (1739,))"
            ]
          },
          "metadata": {},
          "execution_count": 40
        }
      ]
    },
    {
      "cell_type": "markdown",
      "source": [
        "## Build a model\n",
        "\n",
        "Data preparation is done. Now its time to build a model"
      ],
      "metadata": {
        "id": "bWMVdBiwK2vb"
      }
    },
    {
      "cell_type": "code",
      "source": [
        "model_1 = tf.keras.Sequential([\n",
        "    tf.keras.layers.Dense(100,activation=\"relu\"),\n",
        "    tf.keras.layers.Dense(100,activation=\"relu\"),\n",
        "    tf.keras.layers.Dense(1)\n",
        "])\n",
        "\n",
        "model_1.compile(loss=tf.keras.losses.BinaryCrossentropy(), optimizer=tf.keras.optimizers.Adam(), metrics=[\"accuracy\"])\n",
        "\n",
        "model_1.fit(X_train_transformed,y_train_transformed,epochs=100)"
      ],
      "metadata": {
        "colab": {
          "base_uri": "https://localhost:8080/"
        },
        "id": "MN8pVQ-QLjO8",
        "outputId": "af18aef7-0a31-467a-91db-1536fbfcd857"
      },
      "execution_count": null,
      "outputs": [
        {
          "output_type": "stream",
          "name": "stdout",
          "text": [
            "Epoch 1/100\n"
          ]
        },
        {
          "output_type": "stream",
          "name": "stderr",
          "text": [
            "/usr/local/lib/python3.7/dist-packages/tensorflow/python/framework/indexed_slices.py:446: UserWarning: Converting sparse IndexedSlices(IndexedSlices(indices=Tensor(\"gradient_tape/sequential/dense/embedding_lookup_sparse/Reshape_1:0\", shape=(None,), dtype=int32), values=Tensor(\"gradient_tape/sequential/dense/embedding_lookup_sparse/Reshape:0\", shape=(None, 100), dtype=float32), dense_shape=Tensor(\"gradient_tape/sequential/dense/embedding_lookup_sparse/Cast:0\", shape=(2,), dtype=int32))) to a dense Tensor of unknown shape. This may consume a large amount of memory.\n",
            "  \"shape. This may consume a large amount of memory.\" % value)\n"
          ]
        },
        {
          "output_type": "stream",
          "name": "stdout",
          "text": [
            "218/218 [==============================] - 3s 6ms/step - loss: 0.5663 - accuracy: 0.7105\n",
            "Epoch 2/100\n",
            "218/218 [==============================] - 1s 4ms/step - loss: 0.4659 - accuracy: 0.7824\n",
            "Epoch 3/100\n",
            "218/218 [==============================] - 1s 4ms/step - loss: 0.3848 - accuracy: 0.8351\n",
            "Epoch 4/100\n",
            "218/218 [==============================] - 1s 4ms/step - loss: 0.2922 - accuracy: 0.8822\n",
            "Epoch 5/100\n",
            "218/218 [==============================] - 1s 6ms/step - loss: 0.2372 - accuracy: 0.9177\n",
            "Epoch 6/100\n",
            "218/218 [==============================] - 1s 5ms/step - loss: 0.2549 - accuracy: 0.9234\n",
            "Epoch 7/100\n",
            "218/218 [==============================] - 1s 6ms/step - loss: 0.2311 - accuracy: 0.9443\n",
            "Epoch 8/100\n",
            "218/218 [==============================] - 1s 4ms/step - loss: 0.1536 - accuracy: 0.9530\n",
            "Epoch 9/100\n",
            "218/218 [==============================] - 1s 6ms/step - loss: 0.0927 - accuracy: 0.9789\n",
            "Epoch 10/100\n",
            "218/218 [==============================] - 1s 5ms/step - loss: 0.1075 - accuracy: 0.9744\n",
            "Epoch 11/100\n",
            " 49/218 [=====>........................] - ETA: 0s - loss: 0.0654 - accuracy: 0.9777"
          ]
        }
      ]
    },
    {
      "cell_type": "code",
      "source": [
        "model_1.evaluate(X_val_transformed,y_val_transformed)"
      ],
      "metadata": {
        "id": "h_baEyqOObqb"
      },
      "execution_count": null,
      "outputs": []
    },
    {
      "cell_type": "markdown",
      "source": [
        "Looks like our model is overfitting!"
      ],
      "metadata": {
        "id": "Oi1fTDE1eEox"
      }
    },
    {
      "cell_type": "code",
      "source": [
        "model_2 = tf.keras.Sequential([\n",
        "    tf.keras.layers.Dense(100,activation=\"softmax\"),\n",
        "    tf.keras.layers.Dense(100,activation=\"softmax\"),\n",
        "    tf.keras.layers.Dense(1)\n",
        "])\n",
        "\n",
        "model_2.compile(loss=tf.keras.losses.BinaryFocalCrossentropy(),optimizer=tf.keras.optimizers.Adam(),metrics=[\"accuracy\"])\n",
        "model_2.fit(X_train_transformed,y_train_transformed,epochs=100)"
      ],
      "metadata": {
        "colab": {
          "base_uri": "https://localhost:8080/"
        },
        "id": "KEEzURUgO4GC",
        "outputId": "ed4a10f6-aa6e-44c3-8e64-4066db89cf33"
      },
      "execution_count": 43,
      "outputs": [
        {
          "metadata": {
            "tags": null
          },
          "name": "stdout",
          "output_type": "stream",
          "text": [
            "Epoch 1/100\n"
          ]
        },
        {
          "metadata": {
            "tags": null
          },
          "name": "stderr",
          "output_type": "stream",
          "text": [
            "/usr/local/lib/python3.7/dist-packages/tensorflow/python/framework/indexed_slices.py:446: UserWarning: Converting sparse IndexedSlices(IndexedSlices(indices=Tensor(\"gradient_tape/sequential_1/dense_3/embedding_lookup_sparse/Reshape_1:0\", shape=(None,), dtype=int32), values=Tensor(\"gradient_tape/sequential_1/dense_3/embedding_lookup_sparse/Reshape:0\", shape=(None, 100), dtype=float32), dense_shape=Tensor(\"gradient_tape/sequential_1/dense_3/embedding_lookup_sparse/Cast:0\", shape=(2,), dtype=int32))) to a dense Tensor of unknown shape. This may consume a large amount of memory.\n",
            "  \"shape. This may consume a large amount of memory.\" % value)\n"
          ]
        },
        {
          "output_type": "stream",
          "name": "stdout",
          "text": [
            "218/218 [==============================] - 2s 4ms/step - loss: 1.5507 - accuracy: 0.4967\n",
            "Epoch 2/100\n",
            "218/218 [==============================] - 1s 4ms/step - loss: 0.8892 - accuracy: 0.4967\n",
            "Epoch 3/100\n",
            "218/218 [==============================] - 1s 4ms/step - loss: 0.5497 - accuracy: 0.4967\n",
            "Epoch 4/100\n",
            "218/218 [==============================] - 1s 5ms/step - loss: 0.3745 - accuracy: 0.4967\n",
            "Epoch 5/100\n",
            "218/218 [==============================] - 1s 5ms/step - loss: 0.2852 - accuracy: 0.4967\n",
            "Epoch 6/100\n",
            "218/218 [==============================] - 1s 4ms/step - loss: 0.2318 - accuracy: 0.4967\n",
            "Epoch 7/100\n",
            "218/218 [==============================] - 1s 4ms/step - loss: 0.2008 - accuracy: 0.4967\n",
            "Epoch 8/100\n",
            "218/218 [==============================] - 1s 4ms/step - loss: 0.1846 - accuracy: 0.4967\n",
            "Epoch 9/100\n",
            "218/218 [==============================] - 1s 6ms/step - loss: 0.1772 - accuracy: 0.4967\n",
            "Epoch 10/100\n",
            "218/218 [==============================] - 1s 5ms/step - loss: 0.1743 - accuracy: 0.4967\n",
            "Epoch 11/100\n",
            "218/218 [==============================] - 1s 4ms/step - loss: 0.1735 - accuracy: 0.4967\n",
            "Epoch 12/100\n",
            "218/218 [==============================] - 1s 5ms/step - loss: 0.1732 - accuracy: 0.4967\n",
            "Epoch 13/100\n",
            "218/218 [==============================] - 1s 5ms/step - loss: 0.1731 - accuracy: 0.5499\n",
            "Epoch 14/100\n",
            "218/218 [==============================] - 1s 6ms/step - loss: 0.1725 - accuracy: 0.6785\n",
            "Epoch 15/100\n",
            "218/218 [==============================] - 1s 6ms/step - loss: 0.1597 - accuracy: 0.7173\n",
            "Epoch 16/100\n",
            "218/218 [==============================] - 1s 6ms/step - loss: 0.1429 - accuracy: 0.7498\n",
            "Epoch 17/100\n",
            "218/218 [==============================] - 1s 4ms/step - loss: 0.1342 - accuracy: 0.7649\n",
            "Epoch 18/100\n",
            "218/218 [==============================] - 1s 4ms/step - loss: 0.1287 - accuracy: 0.7752\n",
            "Epoch 19/100\n",
            "218/218 [==============================] - 1s 5ms/step - loss: 0.1240 - accuracy: 0.7833\n",
            "Epoch 20/100\n",
            "218/218 [==============================] - 1s 5ms/step - loss: 0.1184 - accuracy: 0.7991\n",
            "Epoch 21/100\n",
            "218/218 [==============================] - 1s 4ms/step - loss: 0.1118 - accuracy: 0.8121\n",
            "Epoch 22/100\n",
            "218/218 [==============================] - 1s 4ms/step - loss: 0.1048 - accuracy: 0.8250\n",
            "Epoch 23/100\n",
            "218/218 [==============================] - 1s 5ms/step - loss: 0.0981 - accuracy: 0.8424\n",
            "Epoch 24/100\n",
            "218/218 [==============================] - 1s 6ms/step - loss: 0.0916 - accuracy: 0.8486\n",
            "Epoch 25/100\n",
            "218/218 [==============================] - 1s 6ms/step - loss: 0.0863 - accuracy: 0.8588\n",
            "Epoch 26/100\n",
            "218/218 [==============================] - 1s 5ms/step - loss: 0.0826 - accuracy: 0.8604\n",
            "Epoch 27/100\n",
            "218/218 [==============================] - 1s 5ms/step - loss: 0.0798 - accuracy: 0.8663\n",
            "Epoch 28/100\n",
            "218/218 [==============================] - 1s 5ms/step - loss: 0.0773 - accuracy: 0.8713\n",
            "Epoch 29/100\n",
            "218/218 [==============================] - 1s 4ms/step - loss: 0.0754 - accuracy: 0.8709\n",
            "Epoch 30/100\n",
            "218/218 [==============================] - 1s 5ms/step - loss: 0.0735 - accuracy: 0.8739\n",
            "Epoch 31/100\n",
            "218/218 [==============================] - 1s 6ms/step - loss: 0.0720 - accuracy: 0.8783\n",
            "Epoch 32/100\n",
            "218/218 [==============================] - 1s 5ms/step - loss: 0.0707 - accuracy: 0.8815\n",
            "Epoch 33/100\n",
            "218/218 [==============================] - 1s 4ms/step - loss: 0.0693 - accuracy: 0.8822\n",
            "Epoch 34/100\n",
            "218/218 [==============================] - 1s 5ms/step - loss: 0.0681 - accuracy: 0.8852\n",
            "Epoch 35/100\n",
            "218/218 [==============================] - 1s 5ms/step - loss: 0.0667 - accuracy: 0.8883\n",
            "Epoch 36/100\n",
            "218/218 [==============================] - 1s 6ms/step - loss: 0.0657 - accuracy: 0.8855\n",
            "Epoch 37/100\n",
            "218/218 [==============================] - 1s 6ms/step - loss: 0.0647 - accuracy: 0.8913\n",
            "Epoch 38/100\n",
            "218/218 [==============================] - 1s 6ms/step - loss: 0.0636 - accuracy: 0.8910\n",
            "Epoch 39/100\n",
            "218/218 [==============================] - 1s 5ms/step - loss: 0.0625 - accuracy: 0.8932\n",
            "Epoch 40/100\n",
            "218/218 [==============================] - 1s 5ms/step - loss: 0.0615 - accuracy: 0.8943\n",
            "Epoch 41/100\n",
            "218/218 [==============================] - 1s 5ms/step - loss: 0.0605 - accuracy: 0.8952\n",
            "Epoch 42/100\n",
            "218/218 [==============================] - 1s 6ms/step - loss: 0.0594 - accuracy: 0.8960\n",
            "Epoch 43/100\n",
            "218/218 [==============================] - 1s 5ms/step - loss: 0.0584 - accuracy: 0.8970\n",
            "Epoch 44/100\n",
            "218/218 [==============================] - 1s 6ms/step - loss: 0.0575 - accuracy: 0.8995\n",
            "Epoch 45/100\n",
            "218/218 [==============================] - 1s 6ms/step - loss: 0.0563 - accuracy: 0.9022\n",
            "Epoch 46/100\n",
            "218/218 [==============================] - 1s 5ms/step - loss: 0.0553 - accuracy: 0.9044\n",
            "Epoch 47/100\n",
            "218/218 [==============================] - 1s 4ms/step - loss: 0.0542 - accuracy: 0.9052\n",
            "Epoch 48/100\n",
            "218/218 [==============================] - 1s 6ms/step - loss: 0.0532 - accuracy: 0.9095\n",
            "Epoch 49/100\n",
            "218/218 [==============================] - 1s 6ms/step - loss: 0.0521 - accuracy: 0.9098\n",
            "Epoch 50/100\n",
            "218/218 [==============================] - 1s 5ms/step - loss: 0.0510 - accuracy: 0.9133\n",
            "Epoch 51/100\n",
            "218/218 [==============================] - 1s 6ms/step - loss: 0.0501 - accuracy: 0.9140\n",
            "Epoch 52/100\n",
            "218/218 [==============================] - 1s 7ms/step - loss: 0.0492 - accuracy: 0.9157\n",
            "Epoch 53/100\n",
            "218/218 [==============================] - 1s 6ms/step - loss: 0.0484 - accuracy: 0.9182\n",
            "Epoch 54/100\n",
            "218/218 [==============================] - 1s 6ms/step - loss: 0.0476 - accuracy: 0.9169\n",
            "Epoch 55/100\n",
            "218/218 [==============================] - 1s 6ms/step - loss: 0.0461 - accuracy: 0.9203\n",
            "Epoch 56/100\n",
            "218/218 [==============================] - 1s 5ms/step - loss: 0.0451 - accuracy: 0.9195\n",
            "Epoch 57/100\n",
            "218/218 [==============================] - 1s 6ms/step - loss: 0.0442 - accuracy: 0.9231\n",
            "Epoch 58/100\n",
            "218/218 [==============================] - 1s 6ms/step - loss: 0.0433 - accuracy: 0.9257\n",
            "Epoch 59/100\n",
            "218/218 [==============================] - 1s 5ms/step - loss: 0.0418 - accuracy: 0.9290\n",
            "Epoch 60/100\n",
            "218/218 [==============================] - 1s 6ms/step - loss: 0.0412 - accuracy: 0.9292\n",
            "Epoch 61/100\n",
            "218/218 [==============================] - 1s 5ms/step - loss: 0.0398 - accuracy: 0.9317\n",
            "Epoch 62/100\n",
            "218/218 [==============================] - 1s 5ms/step - loss: 0.0391 - accuracy: 0.9346\n",
            "Epoch 63/100\n",
            "218/218 [==============================] - 1s 5ms/step - loss: 0.0380 - accuracy: 0.9360\n",
            "Epoch 64/100\n",
            "218/218 [==============================] - 1s 5ms/step - loss: 0.0372 - accuracy: 0.9393\n",
            "Epoch 65/100\n",
            "218/218 [==============================] - 1s 6ms/step - loss: 0.0364 - accuracy: 0.9380\n",
            "Epoch 66/100\n",
            "218/218 [==============================] - 1s 4ms/step - loss: 0.0355 - accuracy: 0.9409\n",
            "Epoch 67/100\n",
            "218/218 [==============================] - 1s 5ms/step - loss: 0.0346 - accuracy: 0.9431\n",
            "Epoch 68/100\n",
            "218/218 [==============================] - 1s 6ms/step - loss: 0.0335 - accuracy: 0.9442\n",
            "Epoch 69/100\n",
            "218/218 [==============================] - 1s 5ms/step - loss: 0.0328 - accuracy: 0.9472\n",
            "Epoch 70/100\n",
            "218/218 [==============================] - 1s 5ms/step - loss: 0.0320 - accuracy: 0.9477\n",
            "Epoch 71/100\n",
            "218/218 [==============================] - 1s 6ms/step - loss: 0.0310 - accuracy: 0.9477\n",
            "Epoch 72/100\n",
            "218/218 [==============================] - 1s 6ms/step - loss: 0.0302 - accuracy: 0.9497\n",
            "Epoch 73/100\n",
            "218/218 [==============================] - 1s 5ms/step - loss: 0.0300 - accuracy: 0.9513\n",
            "Epoch 74/100\n",
            "218/218 [==============================] - 1s 5ms/step - loss: 0.0289 - accuracy: 0.9540\n",
            "Epoch 75/100\n",
            "218/218 [==============================] - 1s 5ms/step - loss: 0.0280 - accuracy: 0.9541\n",
            "Epoch 76/100\n",
            "218/218 [==============================] - 1s 6ms/step - loss: 0.0270 - accuracy: 0.9571\n",
            "Epoch 77/100\n",
            "218/218 [==============================] - 1s 5ms/step - loss: 0.0263 - accuracy: 0.9567\n",
            "Epoch 78/100\n",
            "218/218 [==============================] - 1s 6ms/step - loss: 0.0255 - accuracy: 0.9602\n",
            "Epoch 79/100\n",
            "218/218 [==============================] - 1s 5ms/step - loss: 0.0246 - accuracy: 0.9632\n",
            "Epoch 80/100\n",
            "218/218 [==============================] - 1s 5ms/step - loss: 0.0239 - accuracy: 0.9639\n",
            "Epoch 81/100\n",
            "218/218 [==============================] - 1s 6ms/step - loss: 0.0230 - accuracy: 0.9645\n",
            "Epoch 82/100\n",
            "218/218 [==============================] - 1s 5ms/step - loss: 0.0221 - accuracy: 0.9672\n",
            "Epoch 83/100\n",
            "218/218 [==============================] - 1s 6ms/step - loss: 0.0213 - accuracy: 0.9679\n",
            "Epoch 84/100\n",
            "218/218 [==============================] - 1s 5ms/step - loss: 0.0207 - accuracy: 0.9691\n",
            "Epoch 85/100\n",
            "218/218 [==============================] - 1s 5ms/step - loss: 0.0195 - accuracy: 0.9708\n",
            "Epoch 86/100\n",
            "218/218 [==============================] - 1s 6ms/step - loss: 0.0190 - accuracy: 0.9718\n",
            "Epoch 87/100\n",
            "218/218 [==============================] - 1s 5ms/step - loss: 0.0182 - accuracy: 0.9727\n",
            "Epoch 88/100\n",
            "218/218 [==============================] - 1s 5ms/step - loss: 0.0176 - accuracy: 0.9764\n",
            "Epoch 89/100\n",
            "218/218 [==============================] - 1s 5ms/step - loss: 0.0168 - accuracy: 0.9758\n",
            "Epoch 90/100\n",
            "218/218 [==============================] - 1s 7ms/step - loss: 0.0163 - accuracy: 0.9790\n",
            "Epoch 91/100\n",
            "218/218 [==============================] - 1s 5ms/step - loss: 0.0155 - accuracy: 0.9776\n",
            "Epoch 92/100\n",
            "218/218 [==============================] - 1s 5ms/step - loss: 0.0151 - accuracy: 0.9787\n",
            "Epoch 93/100\n",
            "218/218 [==============================] - 1s 5ms/step - loss: 0.0142 - accuracy: 0.9800\n",
            "Epoch 94/100\n",
            "218/218 [==============================] - 1s 5ms/step - loss: 0.0140 - accuracy: 0.9802\n",
            "Epoch 95/100\n",
            "218/218 [==============================] - 1s 5ms/step - loss: 0.0135 - accuracy: 0.9799\n",
            "Epoch 96/100\n",
            "218/218 [==============================] - 1s 5ms/step - loss: 0.0129 - accuracy: 0.9816\n",
            "Epoch 97/100\n",
            "218/218 [==============================] - 1s 6ms/step - loss: 0.0126 - accuracy: 0.9804\n",
            "Epoch 98/100\n",
            "218/218 [==============================] - 1s 6ms/step - loss: 0.0120 - accuracy: 0.9814\n",
            "Epoch 99/100\n",
            "218/218 [==============================] - 1s 4ms/step - loss: 0.0115 - accuracy: 0.9830\n",
            "Epoch 100/100\n",
            "218/218 [==============================] - 1s 6ms/step - loss: 0.0111 - accuracy: 0.9830\n"
          ]
        },
        {
          "output_type": "execute_result",
          "data": {
            "text/plain": [
              "<keras.callbacks.History at 0x7fd4326ef6d0>"
            ]
          },
          "metadata": {},
          "execution_count": 43
        }
      ]
    },
    {
      "cell_type": "code",
      "source": [
        "model_2.evaluate(X_val_transformed,y_val_transformed)"
      ],
      "metadata": {
        "colab": {
          "base_uri": "https://localhost:8080/"
        },
        "id": "ZTrgB5_HPpLR",
        "outputId": "c2be9aeb-d0f8-4af9-845f-4d1443d11736"
      },
      "execution_count": 44,
      "outputs": [
        {
          "output_type": "stream",
          "name": "stdout",
          "text": [
            "55/55 [==============================] - 0s 2ms/step - loss: 4.0359 - accuracy: 0.7102\n"
          ]
        },
        {
          "output_type": "execute_result",
          "data": {
            "text/plain": [
              "[4.0358734130859375, 0.7101782560348511]"
            ]
          },
          "metadata": {},
          "execution_count": 44
        }
      ]
    },
    {
      "cell_type": "code",
      "source": [
        "model_3 = tf.keras.Sequential([\n",
        "    tf.keras.layers.Dense(100,activation=\"softmax\"),\n",
        "    tf.keras.layers.Dense(100,activation=\"softmax\"),\n",
        "    tf.keras.layers.Dense(1)\n",
        "])\n",
        "\n",
        "model_3.compile(loss=tf.keras.losses.BinaryFocalCrossentropy(),optimizer=tf.keras.optimizers.Adam(learning_rate=0.01),metrics=[\"accuracy\"])\n",
        "model_3.fit(X_train_transformed,y_train_transformed,epochs=200)"
      ],
      "metadata": {
        "colab": {
          "base_uri": "https://localhost:8080/"
        },
        "id": "ucQjMaGoQBhA",
        "outputId": "8cfc4d69-5ead-4811-d937-50cb51580cfb"
      },
      "execution_count": 45,
      "outputs": [
        {
          "output_type": "stream",
          "name": "stdout",
          "text": [
            "Epoch 1/200\n"
          ]
        },
        {
          "output_type": "stream",
          "name": "stderr",
          "text": [
            "/usr/local/lib/python3.7/dist-packages/tensorflow/python/framework/indexed_slices.py:446: UserWarning: Converting sparse IndexedSlices(IndexedSlices(indices=Tensor(\"gradient_tape/sequential_2/dense_6/embedding_lookup_sparse/Reshape_1:0\", shape=(None,), dtype=int32), values=Tensor(\"gradient_tape/sequential_2/dense_6/embedding_lookup_sparse/Reshape:0\", shape=(None, 100), dtype=float32), dense_shape=Tensor(\"gradient_tape/sequential_2/dense_6/embedding_lookup_sparse/Cast:0\", shape=(2,), dtype=int32))) to a dense Tensor of unknown shape. This may consume a large amount of memory.\n",
            "  \"shape. This may consume a large amount of memory.\" % value)\n"
          ]
        },
        {
          "output_type": "stream",
          "name": "stdout",
          "text": [
            "218/218 [==============================] - 2s 5ms/step - loss: 0.3568 - accuracy: 0.5423\n",
            "Epoch 2/200\n",
            "218/218 [==============================] - 1s 5ms/step - loss: 0.1373 - accuracy: 0.7529\n",
            "Epoch 3/200\n",
            "218/218 [==============================] - 1s 5ms/step - loss: 0.1105 - accuracy: 0.8008\n",
            "Epoch 4/200\n",
            "218/218 [==============================] - 1s 5ms/step - loss: 0.0918 - accuracy: 0.8338\n",
            "Epoch 5/200\n",
            "218/218 [==============================] - 1s 6ms/step - loss: 0.0797 - accuracy: 0.8576\n",
            "Epoch 6/200\n",
            "218/218 [==============================] - 1s 5ms/step - loss: 0.0706 - accuracy: 0.8749\n",
            "Epoch 7/200\n",
            "218/218 [==============================] - 1s 6ms/step - loss: 0.0615 - accuracy: 0.8903\n",
            "Epoch 8/200\n",
            "218/218 [==============================] - 1s 5ms/step - loss: 0.0549 - accuracy: 0.8983\n",
            "Epoch 9/200\n",
            "218/218 [==============================] - 1s 5ms/step - loss: 0.0500 - accuracy: 0.9098\n",
            "Epoch 10/200\n",
            "218/218 [==============================] - 1s 5ms/step - loss: 0.0453 - accuracy: 0.9123\n",
            "Epoch 11/200\n",
            "218/218 [==============================] - 1s 7ms/step - loss: 0.0398 - accuracy: 0.9251\n",
            "Epoch 12/200\n",
            "218/218 [==============================] - 1s 6ms/step - loss: 0.0366 - accuracy: 0.9317\n",
            "Epoch 13/200\n",
            "218/218 [==============================] - 1s 5ms/step - loss: 0.0327 - accuracy: 0.9415\n",
            "Epoch 14/200\n",
            "218/218 [==============================] - 1s 6ms/step - loss: 0.0286 - accuracy: 0.9527\n",
            "Epoch 15/200\n",
            "218/218 [==============================] - 1s 5ms/step - loss: 0.0247 - accuracy: 0.9569\n",
            "Epoch 16/200\n",
            "218/218 [==============================] - 1s 5ms/step - loss: 0.0556 - accuracy: 0.9344\n",
            "Epoch 17/200\n",
            "218/218 [==============================] - 1s 5ms/step - loss: 0.0266 - accuracy: 0.9587\n",
            "Epoch 18/200\n",
            "218/218 [==============================] - 1s 6ms/step - loss: 0.0186 - accuracy: 0.9676\n",
            "Epoch 19/200\n",
            "218/218 [==============================] - 1s 6ms/step - loss: 0.0152 - accuracy: 0.9722\n",
            "Epoch 20/200\n",
            "218/218 [==============================] - 1s 6ms/step - loss: 0.0132 - accuracy: 0.9753\n",
            "Epoch 21/200\n",
            "218/218 [==============================] - 1s 4ms/step - loss: 0.0124 - accuracy: 0.9774\n",
            "Epoch 22/200\n",
            "218/218 [==============================] - 1s 5ms/step - loss: 0.0143 - accuracy: 0.9787\n",
            "Epoch 23/200\n",
            "218/218 [==============================] - 1s 5ms/step - loss: 0.0093 - accuracy: 0.9835\n",
            "Epoch 24/200\n",
            "218/218 [==============================] - 1s 6ms/step - loss: 0.0082 - accuracy: 0.9840\n",
            "Epoch 25/200\n",
            "218/218 [==============================] - 1s 6ms/step - loss: 0.0086 - accuracy: 0.9832\n",
            "Epoch 26/200\n",
            "218/218 [==============================] - 1s 4ms/step - loss: 0.0135 - accuracy: 0.9800\n",
            "Epoch 27/200\n",
            "218/218 [==============================] - 1s 4ms/step - loss: 0.0084 - accuracy: 0.9843\n",
            "Epoch 28/200\n",
            "218/218 [==============================] - 1s 5ms/step - loss: 0.0069 - accuracy: 0.9866\n",
            "Epoch 29/200\n",
            "218/218 [==============================] - 1s 6ms/step - loss: 0.0074 - accuracy: 0.9853\n",
            "Epoch 30/200\n",
            "218/218 [==============================] - 1s 6ms/step - loss: 0.0068 - accuracy: 0.9875\n",
            "Epoch 31/200\n",
            "218/218 [==============================] - 1s 6ms/step - loss: 0.0064 - accuracy: 0.9856\n",
            "Epoch 32/200\n",
            "218/218 [==============================] - 1s 5ms/step - loss: 0.0061 - accuracy: 0.9871\n",
            "Epoch 33/200\n",
            "218/218 [==============================] - 1s 5ms/step - loss: 0.0135 - accuracy: 0.9823\n",
            "Epoch 34/200\n",
            "218/218 [==============================] - 1s 4ms/step - loss: 0.0228 - accuracy: 0.9751\n",
            "Epoch 35/200\n",
            "218/218 [==============================] - 1s 4ms/step - loss: 0.0065 - accuracy: 0.9872\n",
            "Epoch 36/200\n",
            "218/218 [==============================] - 1s 5ms/step - loss: 0.0061 - accuracy: 0.9868\n",
            "Epoch 37/200\n",
            "218/218 [==============================] - 1s 5ms/step - loss: 0.0057 - accuracy: 0.9873\n",
            "Epoch 38/200\n",
            "218/218 [==============================] - 1s 5ms/step - loss: 0.0053 - accuracy: 0.9894\n",
            "Epoch 39/200\n",
            "218/218 [==============================] - 1s 5ms/step - loss: 0.0058 - accuracy: 0.9889\n",
            "Epoch 40/200\n",
            "218/218 [==============================] - 1s 6ms/step - loss: 0.0052 - accuracy: 0.9889\n",
            "Epoch 41/200\n",
            "218/218 [==============================] - 1s 5ms/step - loss: 0.0051 - accuracy: 0.9886\n",
            "Epoch 42/200\n",
            "218/218 [==============================] - 1s 6ms/step - loss: 0.0050 - accuracy: 0.9885\n",
            "Epoch 43/200\n",
            "218/218 [==============================] - 1s 6ms/step - loss: 0.0048 - accuracy: 0.9899\n",
            "Epoch 44/200\n",
            "218/218 [==============================] - 1s 5ms/step - loss: 0.0048 - accuracy: 0.9895\n",
            "Epoch 45/200\n",
            "218/218 [==============================] - 1s 6ms/step - loss: 0.0293 - accuracy: 0.9671\n",
            "Epoch 46/200\n",
            "218/218 [==============================] - 1s 6ms/step - loss: 0.0231 - accuracy: 0.9687\n",
            "Epoch 47/200\n",
            "218/218 [==============================] - 1s 6ms/step - loss: 0.0068 - accuracy: 0.9886\n",
            "Epoch 48/200\n",
            "218/218 [==============================] - 1s 6ms/step - loss: 0.0048 - accuracy: 0.9905\n",
            "Epoch 49/200\n",
            "218/218 [==============================] - 1s 5ms/step - loss: 0.0046 - accuracy: 0.9904\n",
            "Epoch 50/200\n",
            "218/218 [==============================] - 1s 6ms/step - loss: 0.0041 - accuracy: 0.9918\n",
            "Epoch 51/200\n",
            "218/218 [==============================] - 1s 5ms/step - loss: 0.0042 - accuracy: 0.9915\n",
            "Epoch 52/200\n",
            "218/218 [==============================] - 1s 5ms/step - loss: 0.0041 - accuracy: 0.9909\n",
            "Epoch 53/200\n",
            "218/218 [==============================] - 1s 6ms/step - loss: 0.0039 - accuracy: 0.9904\n",
            "Epoch 54/200\n",
            "218/218 [==============================] - 1s 5ms/step - loss: 0.0042 - accuracy: 0.9901\n",
            "Epoch 55/200\n",
            "218/218 [==============================] - 1s 6ms/step - loss: 0.0041 - accuracy: 0.9911\n",
            "Epoch 56/200\n",
            "218/218 [==============================] - 1s 6ms/step - loss: 0.0040 - accuracy: 0.9914\n",
            "Epoch 57/200\n",
            "218/218 [==============================] - 1s 6ms/step - loss: 0.0038 - accuracy: 0.9921\n",
            "Epoch 58/200\n",
            "218/218 [==============================] - 1s 6ms/step - loss: 0.0110 - accuracy: 0.9881\n",
            "Epoch 59/200\n",
            "218/218 [==============================] - 1s 4ms/step - loss: 0.0064 - accuracy: 0.9885\n",
            "Epoch 60/200\n",
            "218/218 [==============================] - 1s 5ms/step - loss: 0.0041 - accuracy: 0.9918\n",
            "Epoch 61/200\n",
            "218/218 [==============================] - 1s 5ms/step - loss: 0.0040 - accuracy: 0.9912\n",
            "Epoch 62/200\n",
            "218/218 [==============================] - 1s 6ms/step - loss: 0.0036 - accuracy: 0.9917\n",
            "Epoch 63/200\n",
            "218/218 [==============================] - 1s 6ms/step - loss: 0.0036 - accuracy: 0.9912\n",
            "Epoch 64/200\n",
            "218/218 [==============================] - 1s 5ms/step - loss: 0.0036 - accuracy: 0.9909\n",
            "Epoch 65/200\n",
            "218/218 [==============================] - 1s 5ms/step - loss: 0.0038 - accuracy: 0.9908\n",
            "Epoch 66/200\n",
            "218/218 [==============================] - 1s 5ms/step - loss: 0.0035 - accuracy: 0.9917\n",
            "Epoch 67/200\n",
            "218/218 [==============================] - 1s 6ms/step - loss: 0.0034 - accuracy: 0.9911\n",
            "Epoch 68/200\n",
            "218/218 [==============================] - 1s 5ms/step - loss: 0.0105 - accuracy: 0.9859\n",
            "Epoch 69/200\n",
            "218/218 [==============================] - 1s 6ms/step - loss: 0.0050 - accuracy: 0.9896\n",
            "Epoch 70/200\n",
            "218/218 [==============================] - 1s 6ms/step - loss: 0.0039 - accuracy: 0.9907\n",
            "Epoch 71/200\n",
            "218/218 [==============================] - 1s 5ms/step - loss: 0.0051 - accuracy: 0.9894\n",
            "Epoch 72/200\n",
            "218/218 [==============================] - 1s 5ms/step - loss: 0.0039 - accuracy: 0.9907\n",
            "Epoch 73/200\n",
            "218/218 [==============================] - 1s 4ms/step - loss: 0.0037 - accuracy: 0.9922\n",
            "Epoch 74/200\n",
            "218/218 [==============================] - 1s 5ms/step - loss: 0.0034 - accuracy: 0.9914\n",
            "Epoch 75/200\n",
            "218/218 [==============================] - 1s 5ms/step - loss: 0.0032 - accuracy: 0.9918\n",
            "Epoch 76/200\n",
            "218/218 [==============================] - 1s 5ms/step - loss: 0.0069 - accuracy: 0.9905\n",
            "Epoch 77/200\n",
            "218/218 [==============================] - 1s 5ms/step - loss: 0.0054 - accuracy: 0.9894\n",
            "Epoch 78/200\n",
            "218/218 [==============================] - 1s 5ms/step - loss: 0.0065 - accuracy: 0.9881\n",
            "Epoch 79/200\n",
            "218/218 [==============================] - 1s 5ms/step - loss: 0.0032 - accuracy: 0.9919\n",
            "Epoch 80/200\n",
            "218/218 [==============================] - 1s 5ms/step - loss: 0.0032 - accuracy: 0.9908\n",
            "Epoch 81/200\n",
            "218/218 [==============================] - 1s 5ms/step - loss: 0.0032 - accuracy: 0.9925\n",
            "Epoch 82/200\n",
            "218/218 [==============================] - 1s 5ms/step - loss: 0.0033 - accuracy: 0.9924\n",
            "Epoch 83/200\n",
            "218/218 [==============================] - 1s 6ms/step - loss: 0.0079 - accuracy: 0.9859\n",
            "Epoch 84/200\n",
            "218/218 [==============================] - 1s 5ms/step - loss: 0.0040 - accuracy: 0.9918\n",
            "Epoch 85/200\n",
            "218/218 [==============================] - 1s 4ms/step - loss: 0.0033 - accuracy: 0.9925\n",
            "Epoch 86/200\n",
            "218/218 [==============================] - 1s 4ms/step - loss: 0.0031 - accuracy: 0.9925\n",
            "Epoch 87/200\n",
            "218/218 [==============================] - 1s 6ms/step - loss: 0.0033 - accuracy: 0.9930\n",
            "Epoch 88/200\n",
            "218/218 [==============================] - 1s 5ms/step - loss: 0.0032 - accuracy: 0.9915\n",
            "Epoch 89/200\n",
            "218/218 [==============================] - 1s 5ms/step - loss: 0.0078 - accuracy: 0.9873\n",
            "Epoch 90/200\n",
            "218/218 [==============================] - 1s 6ms/step - loss: 0.0037 - accuracy: 0.9908\n",
            "Epoch 91/200\n",
            "218/218 [==============================] - 1s 5ms/step - loss: 0.0031 - accuracy: 0.9925\n",
            "Epoch 92/200\n",
            "218/218 [==============================] - 1s 5ms/step - loss: 0.0032 - accuracy: 0.9915\n",
            "Epoch 93/200\n",
            "218/218 [==============================] - 2s 7ms/step - loss: 0.0031 - accuracy: 0.9925\n",
            "Epoch 94/200\n",
            "218/218 [==============================] - 1s 6ms/step - loss: 0.0029 - accuracy: 0.9930\n",
            "Epoch 95/200\n",
            "218/218 [==============================] - 1s 6ms/step - loss: 0.0031 - accuracy: 0.9918\n",
            "Epoch 96/200\n",
            "218/218 [==============================] - 1s 5ms/step - loss: 0.0117 - accuracy: 0.9881\n",
            "Epoch 97/200\n",
            "218/218 [==============================] - 1s 5ms/step - loss: 0.0036 - accuracy: 0.9912\n",
            "Epoch 98/200\n",
            "218/218 [==============================] - 1s 6ms/step - loss: 0.0030 - accuracy: 0.9941\n",
            "Epoch 99/200\n",
            "218/218 [==============================] - 1s 5ms/step - loss: 0.0030 - accuracy: 0.9932\n",
            "Epoch 100/200\n",
            "218/218 [==============================] - 1s 5ms/step - loss: 0.0032 - accuracy: 0.9922\n",
            "Epoch 101/200\n",
            "218/218 [==============================] - 1s 5ms/step - loss: 0.0029 - accuracy: 0.9928\n",
            "Epoch 102/200\n",
            "218/218 [==============================] - 1s 6ms/step - loss: 0.0031 - accuracy: 0.9907\n",
            "Epoch 103/200\n",
            "218/218 [==============================] - 1s 6ms/step - loss: 0.0029 - accuracy: 0.9937\n",
            "Epoch 104/200\n",
            "218/218 [==============================] - 1s 4ms/step - loss: 0.0029 - accuracy: 0.9931\n",
            "Epoch 105/200\n",
            "218/218 [==============================] - 1s 6ms/step - loss: 0.0033 - accuracy: 0.9930\n",
            "Epoch 106/200\n",
            "218/218 [==============================] - 1s 6ms/step - loss: 0.0037 - accuracy: 0.9919\n",
            "Epoch 107/200\n",
            "218/218 [==============================] - 1s 5ms/step - loss: 0.0147 - accuracy: 0.9884\n",
            "Epoch 108/200\n",
            "218/218 [==============================] - 1s 6ms/step - loss: 0.0042 - accuracy: 0.9919\n",
            "Epoch 109/200\n",
            "218/218 [==============================] - 1s 6ms/step - loss: 0.0046 - accuracy: 0.9908\n",
            "Epoch 110/200\n",
            "218/218 [==============================] - 1s 7ms/step - loss: 0.0033 - accuracy: 0.9919\n",
            "Epoch 111/200\n",
            "218/218 [==============================] - 1s 6ms/step - loss: 0.0057 - accuracy: 0.9919\n",
            "Epoch 112/200\n",
            "218/218 [==============================] - 1s 5ms/step - loss: 0.0031 - accuracy: 0.9931\n",
            "Epoch 113/200\n",
            "218/218 [==============================] - 1s 5ms/step - loss: 0.0028 - accuracy: 0.9928\n",
            "Epoch 114/200\n",
            "218/218 [==============================] - 1s 6ms/step - loss: 0.0032 - accuracy: 0.9918\n",
            "Epoch 115/200\n",
            "218/218 [==============================] - 1s 5ms/step - loss: 0.0028 - accuracy: 0.9937\n",
            "Epoch 116/200\n",
            "218/218 [==============================] - 1s 5ms/step - loss: 0.0031 - accuracy: 0.9932\n",
            "Epoch 117/200\n",
            "218/218 [==============================] - 1s 5ms/step - loss: 0.0072 - accuracy: 0.9907\n",
            "Epoch 118/200\n",
            "218/218 [==============================] - 1s 5ms/step - loss: 0.0037 - accuracy: 0.9917\n",
            "Epoch 119/200\n",
            "218/218 [==============================] - 1s 5ms/step - loss: 0.0027 - accuracy: 0.9928\n",
            "Epoch 120/200\n",
            "218/218 [==============================] - 1s 6ms/step - loss: 0.0027 - accuracy: 0.9935\n",
            "Epoch 121/200\n",
            "218/218 [==============================] - 1s 5ms/step - loss: 0.0028 - accuracy: 0.9934\n",
            "Epoch 122/200\n",
            "218/218 [==============================] - 1s 6ms/step - loss: 0.0029 - accuracy: 0.9932\n",
            "Epoch 123/200\n",
            "218/218 [==============================] - 1s 5ms/step - loss: 0.0094 - accuracy: 0.9886\n",
            "Epoch 124/200\n",
            "218/218 [==============================] - 1s 4ms/step - loss: 0.0048 - accuracy: 0.9915\n",
            "Epoch 125/200\n",
            "218/218 [==============================] - 1s 5ms/step - loss: 0.0031 - accuracy: 0.9919\n",
            "Epoch 126/200\n",
            "218/218 [==============================] - 1s 4ms/step - loss: 0.0027 - accuracy: 0.9932\n",
            "Epoch 127/200\n",
            "218/218 [==============================] - 1s 5ms/step - loss: 0.0027 - accuracy: 0.9927\n",
            "Epoch 128/200\n",
            "218/218 [==============================] - 1s 6ms/step - loss: 0.0029 - accuracy: 0.9934\n",
            "Epoch 129/200\n",
            "218/218 [==============================] - 1s 5ms/step - loss: 0.0027 - accuracy: 0.9935\n",
            "Epoch 130/200\n",
            "218/218 [==============================] - 1s 6ms/step - loss: 0.0026 - accuracy: 0.9940\n",
            "Epoch 131/200\n",
            "218/218 [==============================] - 1s 7ms/step - loss: 0.0026 - accuracy: 0.9934\n",
            "Epoch 132/200\n",
            "218/218 [==============================] - 1s 6ms/step - loss: 0.0030 - accuracy: 0.9932\n",
            "Epoch 133/200\n",
            "218/218 [==============================] - 1s 6ms/step - loss: 0.0028 - accuracy: 0.9930\n",
            "Epoch 134/200\n",
            "218/218 [==============================] - 1s 6ms/step - loss: 0.0040 - accuracy: 0.9917\n",
            "Epoch 135/200\n",
            "218/218 [==============================] - 1s 5ms/step - loss: 0.0032 - accuracy: 0.9917\n",
            "Epoch 136/200\n",
            "218/218 [==============================] - 1s 6ms/step - loss: 0.0047 - accuracy: 0.9907\n",
            "Epoch 137/200\n",
            "218/218 [==============================] - 1s 5ms/step - loss: 0.0027 - accuracy: 0.9934\n",
            "Epoch 138/200\n",
            "218/218 [==============================] - 1s 5ms/step - loss: 0.0030 - accuracy: 0.9935\n",
            "Epoch 139/200\n",
            "218/218 [==============================] - 1s 6ms/step - loss: 0.0026 - accuracy: 0.9934\n",
            "Epoch 140/200\n",
            "218/218 [==============================] - 1s 6ms/step - loss: 0.0027 - accuracy: 0.9940\n",
            "Epoch 141/200\n",
            "218/218 [==============================] - 1s 5ms/step - loss: 0.0026 - accuracy: 0.9935\n",
            "Epoch 142/200\n",
            "218/218 [==============================] - 1s 6ms/step - loss: 0.0080 - accuracy: 0.9909\n",
            "Epoch 143/200\n",
            "218/218 [==============================] - 1s 6ms/step - loss: 0.0034 - accuracy: 0.9934\n",
            "Epoch 144/200\n",
            "218/218 [==============================] - 1s 6ms/step - loss: 0.0026 - accuracy: 0.9934\n",
            "Epoch 145/200\n",
            "218/218 [==============================] - 1s 5ms/step - loss: 0.0025 - accuracy: 0.9945\n",
            "Epoch 146/200\n",
            "218/218 [==============================] - 1s 6ms/step - loss: 0.0026 - accuracy: 0.9928\n",
            "Epoch 147/200\n",
            "218/218 [==============================] - 1s 5ms/step - loss: 0.0026 - accuracy: 0.9938\n",
            "Epoch 148/200\n",
            "218/218 [==============================] - 1s 5ms/step - loss: 0.0026 - accuracy: 0.9942\n",
            "Epoch 149/200\n",
            "218/218 [==============================] - 1s 6ms/step - loss: 0.0027 - accuracy: 0.9930\n",
            "Epoch 150/200\n",
            "218/218 [==============================] - 1s 6ms/step - loss: 0.0027 - accuracy: 0.9928\n",
            "Epoch 151/200\n",
            "218/218 [==============================] - 1s 5ms/step - loss: 0.0027 - accuracy: 0.9932\n",
            "Epoch 152/200\n",
            "218/218 [==============================] - 1s 5ms/step - loss: 0.0087 - accuracy: 0.9896\n",
            "Epoch 153/200\n",
            "218/218 [==============================] - 1s 5ms/step - loss: 0.0052 - accuracy: 0.9919\n",
            "Epoch 154/200\n",
            "218/218 [==============================] - 1s 5ms/step - loss: 0.0029 - accuracy: 0.9944\n",
            "Epoch 155/200\n",
            "218/218 [==============================] - 1s 5ms/step - loss: 0.0027 - accuracy: 0.9937\n",
            "Epoch 156/200\n",
            "218/218 [==============================] - 1s 6ms/step - loss: 0.0040 - accuracy: 0.9930\n",
            "Epoch 157/200\n",
            "218/218 [==============================] - 1s 5ms/step - loss: 0.0025 - accuracy: 0.9935\n",
            "Epoch 158/200\n",
            "218/218 [==============================] - 1s 6ms/step - loss: 0.0026 - accuracy: 0.9938\n",
            "Epoch 159/200\n",
            "218/218 [==============================] - 1s 6ms/step - loss: 0.0026 - accuracy: 0.9934\n",
            "Epoch 160/200\n",
            "218/218 [==============================] - 1s 5ms/step - loss: 0.0026 - accuracy: 0.9938\n",
            "Epoch 161/200\n",
            "218/218 [==============================] - 1s 6ms/step - loss: 0.0027 - accuracy: 0.9934\n",
            "Epoch 162/200\n",
            "218/218 [==============================] - 1s 5ms/step - loss: 0.0028 - accuracy: 0.9925\n",
            "Epoch 163/200\n",
            "218/218 [==============================] - 1s 6ms/step - loss: 0.0068 - accuracy: 0.9924\n",
            "Epoch 164/200\n",
            "218/218 [==============================] - 1s 5ms/step - loss: 0.0026 - accuracy: 0.9938\n",
            "Epoch 165/200\n",
            "218/218 [==============================] - 1s 5ms/step - loss: 0.0025 - accuracy: 0.9944\n",
            "Epoch 166/200\n",
            "218/218 [==============================] - 1s 5ms/step - loss: 0.0025 - accuracy: 0.9938\n",
            "Epoch 167/200\n",
            "218/218 [==============================] - 1s 5ms/step - loss: 0.0027 - accuracy: 0.9931\n",
            "Epoch 168/200\n",
            "218/218 [==============================] - 1s 5ms/step - loss: 0.0032 - accuracy: 0.9930\n",
            "Epoch 169/200\n",
            "218/218 [==============================] - 1s 6ms/step - loss: 0.0031 - accuracy: 0.9927\n",
            "Epoch 170/200\n",
            "218/218 [==============================] - 1s 6ms/step - loss: 0.0025 - accuracy: 0.9945\n",
            "Epoch 171/200\n",
            "218/218 [==============================] - 1s 5ms/step - loss: 0.0033 - accuracy: 0.9945\n",
            "Epoch 172/200\n",
            "218/218 [==============================] - 1s 6ms/step - loss: 0.0029 - accuracy: 0.9941\n",
            "Epoch 173/200\n",
            "218/218 [==============================] - 1s 5ms/step - loss: 0.0027 - accuracy: 0.9935\n",
            "Epoch 174/200\n",
            "218/218 [==============================] - 1s 6ms/step - loss: 0.0037 - accuracy: 0.9914\n",
            "Epoch 175/200\n",
            "218/218 [==============================] - 1s 6ms/step - loss: 0.0029 - accuracy: 0.9922\n",
            "Epoch 176/200\n",
            "218/218 [==============================] - 1s 6ms/step - loss: 0.0028 - accuracy: 0.9938\n",
            "Epoch 177/200\n",
            "218/218 [==============================] - 1s 7ms/step - loss: 0.0025 - accuracy: 0.9927\n",
            "Epoch 178/200\n",
            "218/218 [==============================] - 1s 6ms/step - loss: 0.0026 - accuracy: 0.9940\n",
            "Epoch 179/200\n",
            "218/218 [==============================] - 1s 5ms/step - loss: 0.0156 - accuracy: 0.9889\n",
            "Epoch 180/200\n",
            "218/218 [==============================] - 1s 5ms/step - loss: 0.0053 - accuracy: 0.9909\n",
            "Epoch 181/200\n",
            "218/218 [==============================] - 1s 6ms/step - loss: 0.0026 - accuracy: 0.9937\n",
            "Epoch 182/200\n",
            "218/218 [==============================] - 1s 6ms/step - loss: 0.0025 - accuracy: 0.9937\n",
            "Epoch 183/200\n",
            "218/218 [==============================] - 1s 5ms/step - loss: 0.0025 - accuracy: 0.9932\n",
            "Epoch 184/200\n",
            "218/218 [==============================] - 1s 6ms/step - loss: 0.0024 - accuracy: 0.9941\n",
            "Epoch 185/200\n",
            "218/218 [==============================] - 1s 6ms/step - loss: 0.0078 - accuracy: 0.9924\n",
            "Epoch 186/200\n",
            "218/218 [==============================] - 1s 6ms/step - loss: 0.0051 - accuracy: 0.9914\n",
            "Epoch 187/200\n",
            "218/218 [==============================] - 1s 5ms/step - loss: 0.0027 - accuracy: 0.9941\n",
            "Epoch 188/200\n",
            "218/218 [==============================] - 1s 6ms/step - loss: 0.0024 - accuracy: 0.9941\n",
            "Epoch 189/200\n",
            "218/218 [==============================] - 1s 6ms/step - loss: 0.0024 - accuracy: 0.9935\n",
            "Epoch 190/200\n",
            "218/218 [==============================] - 1s 5ms/step - loss: 0.0024 - accuracy: 0.9937\n",
            "Epoch 191/200\n",
            "218/218 [==============================] - 1s 6ms/step - loss: 0.0024 - accuracy: 0.9935\n",
            "Epoch 192/200\n",
            "218/218 [==============================] - 1s 6ms/step - loss: 0.0022 - accuracy: 0.9941\n",
            "Epoch 193/200\n",
            "218/218 [==============================] - 1s 6ms/step - loss: 0.0027 - accuracy: 0.9937\n",
            "Epoch 194/200\n",
            "218/218 [==============================] - 1s 6ms/step - loss: 0.0024 - accuracy: 0.9941\n",
            "Epoch 195/200\n",
            "218/218 [==============================] - 1s 5ms/step - loss: 0.0026 - accuracy: 0.9940\n",
            "Epoch 196/200\n",
            "218/218 [==============================] - 1s 6ms/step - loss: 0.0025 - accuracy: 0.9931\n",
            "Epoch 197/200\n",
            "218/218 [==============================] - 1s 6ms/step - loss: 0.0024 - accuracy: 0.9944\n",
            "Epoch 198/200\n",
            "218/218 [==============================] - 1s 5ms/step - loss: 0.0025 - accuracy: 0.9935\n",
            "Epoch 199/200\n",
            "218/218 [==============================] - 1s 5ms/step - loss: 0.0024 - accuracy: 0.9934\n",
            "Epoch 200/200\n",
            "218/218 [==============================] - 1s 6ms/step - loss: 0.0028 - accuracy: 0.9938\n"
          ]
        },
        {
          "output_type": "execute_result",
          "data": {
            "text/plain": [
              "<keras.callbacks.History at 0x7fd438848910>"
            ]
          },
          "metadata": {},
          "execution_count": 45
        }
      ]
    },
    {
      "cell_type": "code",
      "source": [
        "model_3.evaluate(X_val_transformed,y_val_transformed)"
      ],
      "metadata": {
        "id": "lDF1TJvbQK-U"
      },
      "execution_count": null,
      "outputs": []
    },
    {
      "cell_type": "code",
      "source": [
        "model_4 = tf.keras.Sequential([\n",
        "    tf.keras.layers.Dense(100,activation=\"softmax\"),\n",
        "    tf.keras.layers.Dense(1)\n",
        "])\n",
        "early_stopping = tf.keras.callbacks.EarlyStopping(\n",
        "    monitor='accuracy',\n",
        "    patience=0,\n",
        "    restore_best_weights=True\n",
        ")\n",
        "model_4.compile(loss=tf.keras.losses.BinaryFocalCrossentropy(),optimizer=tf.keras.optimizers.Adam(learning_rate=0.01),metrics=[\"accuracy\"])\n",
        "model_4.fit(X_train_transformed,y_train_transformed,epochs=200,verbose=2,callbacks=[early_stopping])"
      ],
      "metadata": {
        "id": "lBiCH4DhRCF2"
      },
      "execution_count": null,
      "outputs": []
    },
    {
      "cell_type": "code",
      "source": [
        "model_5 = tf.keras.Sequential([\n",
        "    tf.keras.layers.Dense(100,activation=\"softmax\"),\n",
        "    tf.keras.layers.Dense(80,activation=\"softmax\"),\n",
        "    tf.keras.layers.Dense(10,activation=\"softmax\"),\n",
        "    tf.keras.layers.Dense(1)\n",
        "])\n",
        "early_stopping = tf.keras.callbacks.EarlyStopping(\n",
        "    monitor='accuracy',\n",
        "    patience=5,\n",
        "    restore_best_weights=True\n",
        ")\n",
        "model_5.compile(loss=tf.keras.losses.BinaryFocalCrossentropy(),optimizer=tf.keras.optimizers.Adam(learning_rate=0.1),metrics=[\"accuracy\"])\n",
        "model_5.fit(X_train_transformed,y_train_transformed,epochs=200,verbose=2,callbacks=[early_stopping])"
      ],
      "metadata": {
        "colab": {
          "base_uri": "https://localhost:8080/"
        },
        "id": "XrvlZk_mRKgh",
        "outputId": "4a8d29d1-2e8f-471c-c3b9-d462aba176f9"
      },
      "execution_count": 48,
      "outputs": [
        {
          "output_type": "stream",
          "name": "stdout",
          "text": [
            "Epoch 1/200\n"
          ]
        },
        {
          "output_type": "stream",
          "name": "stderr",
          "text": [
            "/usr/local/lib/python3.7/dist-packages/tensorflow/python/framework/indexed_slices.py:446: UserWarning: Converting sparse IndexedSlices(IndexedSlices(indices=Tensor(\"gradient_tape/sequential_4/dense_11/embedding_lookup_sparse/Reshape_1:0\", shape=(None,), dtype=int32), values=Tensor(\"gradient_tape/sequential_4/dense_11/embedding_lookup_sparse/Reshape:0\", shape=(None, 100), dtype=float32), dense_shape=Tensor(\"gradient_tape/sequential_4/dense_11/embedding_lookup_sparse/Cast:0\", shape=(2,), dtype=int32))) to a dense Tensor of unknown shape. This may consume a large amount of memory.\n",
            "  \"shape. This may consume a large amount of memory.\" % value)\n"
          ]
        },
        {
          "output_type": "stream",
          "name": "stdout",
          "text": [
            "218/218 - 2s - loss: 0.2058 - accuracy: 0.4915 - 2s/epoch - 9ms/step\n",
            "Epoch 2/200\n",
            "218/218 - 1s - loss: 0.1502 - accuracy: 0.7084 - 899ms/epoch - 4ms/step\n",
            "Epoch 3/200\n",
            "218/218 - 1s - loss: 0.1479 - accuracy: 0.6596 - 897ms/epoch - 4ms/step\n",
            "Epoch 4/200\n",
            "218/218 - 1s - loss: 0.1456 - accuracy: 0.7030 - 842ms/epoch - 4ms/step\n",
            "Epoch 5/200\n",
            "218/218 - 1s - loss: 0.1352 - accuracy: 0.7489 - 862ms/epoch - 4ms/step\n",
            "Epoch 6/200\n",
            "218/218 - 1s - loss: 0.1354 - accuracy: 0.7603 - 1s/epoch - 5ms/step\n",
            "Epoch 7/200\n",
            "218/218 - 1s - loss: 0.1300 - accuracy: 0.7722 - 1s/epoch - 5ms/step\n",
            "Epoch 8/200\n",
            "218/218 - 1s - loss: 0.1225 - accuracy: 0.7900 - 957ms/epoch - 4ms/step\n",
            "Epoch 9/200\n",
            "218/218 - 1s - loss: 0.1285 - accuracy: 0.7829 - 1s/epoch - 5ms/step\n",
            "Epoch 10/200\n",
            "218/218 - 1s - loss: 0.1306 - accuracy: 0.7814 - 950ms/epoch - 4ms/step\n",
            "Epoch 11/200\n",
            "218/218 - 1s - loss: 0.1238 - accuracy: 0.8054 - 1s/epoch - 5ms/step\n",
            "Epoch 12/200\n",
            "218/218 - 1s - loss: 0.1195 - accuracy: 0.7972 - 890ms/epoch - 4ms/step\n",
            "Epoch 13/200\n",
            "218/218 - 1s - loss: 0.1219 - accuracy: 0.8024 - 943ms/epoch - 4ms/step\n",
            "Epoch 14/200\n",
            "218/218 - 1s - loss: 0.1429 - accuracy: 0.7663 - 984ms/epoch - 5ms/step\n",
            "Epoch 15/200\n",
            "218/218 - 1s - loss: 0.1321 - accuracy: 0.7586 - 912ms/epoch - 4ms/step\n",
            "Epoch 16/200\n",
            "218/218 - 1s - loss: 0.1421 - accuracy: 0.7581 - 1s/epoch - 5ms/step\n"
          ]
        },
        {
          "output_type": "execute_result",
          "data": {
            "text/plain": [
              "<keras.callbacks.History at 0x7fd432d74bd0>"
            ]
          },
          "metadata": {},
          "execution_count": 48
        }
      ]
    },
    {
      "cell_type": "code",
      "source": [
        "model_5.evaluate(X_val_transformed,y_val_transformed)"
      ],
      "metadata": {
        "id": "Pf50cwdSSH_M"
      },
      "execution_count": null,
      "outputs": []
    },
    {
      "cell_type": "code",
      "source": [
        "model_6 = tf.keras.Sequential([\n",
        "    tf.keras.layers.Dense(80,activation=\"softmax\"),\n",
        "    tf.keras.layers.Dense(80,activation=\"softmax\"),\n",
        "    tf.keras.layers.Dense(10,activation=\"softmax\"),\n",
        "    tf.keras.layers.Dense(1)\n",
        "])\n",
        "early_stopping = tf.keras.callbacks.EarlyStopping(\n",
        "    monitor='accuracy',\n",
        "    patience=5,\n",
        "    restore_best_weights=True\n",
        ")\n",
        "model_6.compile(loss=tf.keras.losses.BinaryFocalCrossentropy(),optimizer=tf.keras.optimizers.Adam(learning_rate=0.03),metrics=[\"accuracy\"])\n",
        "model_6.fit(X_train_transformed,y_train_transformed,epochs=200,verbose=2,callbacks=[early_stopping])"
      ],
      "metadata": {
        "id": "TPsbHfE-TQfL"
      },
      "execution_count": null,
      "outputs": []
    },
    {
      "cell_type": "code",
      "source": [
        "model_6.evaluate(X_val_transformed,y_val_transformed)"
      ],
      "metadata": {
        "id": "oX8L1PiSfyrH"
      },
      "execution_count": null,
      "outputs": []
    },
    {
      "cell_type": "code",
      "source": [
        "model_7 =   tf.keras.Sequential([\n",
        "    tf.keras.layers.Dense(units=256, activation='relu'),\n",
        "    tf.keras.layers.Dense(units=192, activation='relu'),\n",
        "    tf.keras.layers.Dense(units=128, activation='relu'),\n",
        "    tf.keras.layers.Dense(units=10, activation='softmax'),\n",
        "    tf.keras.layers.Dense(1)])\n",
        "early_stopping = tf.keras.callbacks.EarlyStopping(\n",
        "    monitor='accuracy',\n",
        "    patience=5,\n",
        "    restore_best_weights=True\n",
        ")\n",
        "model_7.compile(loss=tf.keras.losses.BinaryFocalCrossentropy(),optimizer=tf.keras.optimizers.Adam(learning_rate=0.01),metrics=[\"accuracy\"])\n",
        "model_7.fit(X_train_transformed,y_train_transformed,epochs=200,verbose=2,callbacks=[early_stopping])"
      ],
      "metadata": {
        "colab": {
          "base_uri": "https://localhost:8080/"
        },
        "id": "uA3VVJZhcSRy",
        "outputId": "062ec2f5-366b-4560-bb64-3b3b47c3bddf"
      },
      "execution_count": 52,
      "outputs": [
        {
          "output_type": "stream",
          "name": "stdout",
          "text": [
            "Epoch 1/200\n"
          ]
        },
        {
          "output_type": "stream",
          "name": "stderr",
          "text": [
            "/usr/local/lib/python3.7/dist-packages/tensorflow/python/framework/indexed_slices.py:446: UserWarning: Converting sparse IndexedSlices(IndexedSlices(indices=Tensor(\"gradient_tape/sequential_6/dense_19/embedding_lookup_sparse/Reshape_1:0\", shape=(None,), dtype=int32), values=Tensor(\"gradient_tape/sequential_6/dense_19/embedding_lookup_sparse/Reshape:0\", shape=(None, 256), dtype=float32), dense_shape=Tensor(\"gradient_tape/sequential_6/dense_19/embedding_lookup_sparse/Cast:0\", shape=(2,), dtype=int32))) to a dense Tensor of unknown shape. This may consume a large amount of memory.\n",
            "  \"shape. This may consume a large amount of memory.\" % value)\n"
          ]
        },
        {
          "output_type": "stream",
          "name": "stdout",
          "text": [
            "218/218 - 3s - loss: 0.1781 - accuracy: 0.5016 - 3s/epoch - 12ms/step\n",
            "Epoch 2/200\n",
            "218/218 - 2s - loss: 0.1743 - accuracy: 0.4958 - 2s/epoch - 10ms/step\n",
            "Epoch 3/200\n",
            "218/218 - 2s - loss: 0.1742 - accuracy: 0.4958 - 2s/epoch - 9ms/step\n",
            "Epoch 4/200\n",
            "218/218 - 2s - loss: 0.1742 - accuracy: 0.5001 - 2s/epoch - 9ms/step\n",
            "Epoch 5/200\n",
            "218/218 - 2s - loss: 0.1740 - accuracy: 0.4993 - 2s/epoch - 9ms/step\n",
            "Epoch 6/200\n",
            "218/218 - 2s - loss: 0.1745 - accuracy: 0.4999 - 2s/epoch - 8ms/step\n"
          ]
        },
        {
          "output_type": "execute_result",
          "data": {
            "text/plain": [
              "<keras.callbacks.History at 0x7fd432447e10>"
            ]
          },
          "metadata": {},
          "execution_count": 52
        }
      ]
    },
    {
      "cell_type": "code",
      "source": [
        "model_7.evaluate(X_val_transformed,y_val_transformed)"
      ],
      "metadata": {
        "id": "h-qhScMvcSZ6"
      },
      "execution_count": null,
      "outputs": []
    },
    {
      "cell_type": "code",
      "source": [
        "forest= RandomForestClassifier(n_estimators=100, random_state=42)\n",
        "\n",
        "forest.fit(X_train_transformed,y_train_transformed)"
      ],
      "metadata": {
        "id": "8E2Lo2E0TXSL"
      },
      "execution_count": null,
      "outputs": []
    },
    {
      "cell_type": "code",
      "source": [
        "forest.score(X_val_transformed,y_val_transformed)"
      ],
      "metadata": {
        "id": "e8xAqVJWUR0K"
      },
      "execution_count": null,
      "outputs": []
    },
    {
      "cell_type": "code",
      "source": [
        "\n",
        "params = {\"n_estimators\":[100,200,500],'max_features': ['auto', 'sqrt', 'log2'],\n",
        "    'max_depth' : [4,5,6,7,8],\"bootstrap\":[True,False]}\n",
        "\n",
        "forest = RandomForestClassifier()\n",
        "gs_clf = GridSearchCV(forest,params,cv=5,scoring=\"accuracy\")  \n",
        "gs_clf.fit(X_train_transformed,y_train_transformed) \n"
      ],
      "metadata": {
        "id": "PxTqZFO5UWau"
      },
      "execution_count": null,
      "outputs": []
    },
    {
      "cell_type": "code",
      "source": [
        "best_model = gs_clf.best_estimator_ "
      ],
      "metadata": {
        "id": "bAKqOyJGkH1t"
      },
      "execution_count": null,
      "outputs": []
    },
    {
      "cell_type": "code",
      "source": [
        "best_model.score(X_val_transformed,y_val_transformed)"
      ],
      "metadata": {
        "id": "vS0eXgU1nR37"
      },
      "execution_count": null,
      "outputs": []
    },
    {
      "cell_type": "code",
      "source": [
        "gs_clf.score(X_val_transformed,y_val_transformed)"
      ],
      "metadata": {
        "id": "umi1lfe8U8Fq"
      },
      "execution_count": null,
      "outputs": []
    },
    {
      "cell_type": "code",
      "source": [
        "vector_machine = SVC()\n",
        "vector_machine.fit(X_train_transformed,y_train_transformed)"
      ],
      "metadata": {
        "id": "Dw429v77VI80"
      },
      "execution_count": null,
      "outputs": []
    },
    {
      "cell_type": "code",
      "source": [
        "vector_machine.score(X_val_transformed,y_val_transformed)"
      ],
      "metadata": {
        "id": "0oWlBvqqh4s-"
      },
      "execution_count": null,
      "outputs": []
    },
    {
      "cell_type": "code",
      "source": [
        "test_data = pd.read_csv(\"/content/drive/MyDrive/spaceship-titanic/test.csv\")"
      ],
      "metadata": {
        "id": "0Jm27n7KfPl3"
      },
      "execution_count": null,
      "outputs": []
    },
    {
      "cell_type": "code",
      "source": [
        "test_data.head()"
      ],
      "metadata": {
        "id": "4JMwCmOufYO4"
      },
      "execution_count": null,
      "outputs": []
    },
    {
      "cell_type": "code",
      "source": [
        "test_data.shape"
      ],
      "metadata": {
        "id": "s1AIJtkofZoa"
      },
      "execution_count": null,
      "outputs": []
    },
    {
      "cell_type": "code",
      "source": [
        "clone = test_data.copy()"
      ],
      "metadata": {
        "id": "RNcxI3gUfapo"
      },
      "execution_count": null,
      "outputs": []
    },
    {
      "cell_type": "code",
      "source": [
        "clone[\"Age-Bins\"] = pd.cut(x=clone['Age'], bins=[0,9,19,29,39,49,59,69,79,89,99])"
      ],
      "metadata": {
        "id": "_CtBaZR4feK8"
      },
      "execution_count": null,
      "outputs": []
    },
    {
      "cell_type": "code",
      "source": [
        "clone[\"Deck\"] = clone[\"Cabin\"].str.split('/').str[0]"
      ],
      "metadata": {
        "id": "D-uuNqwviMTX"
      },
      "execution_count": null,
      "outputs": []
    },
    {
      "cell_type": "code",
      "source": [
        "clone[\"Num\"] = clone[\"Cabin\"].str.split('/').str[1]"
      ],
      "metadata": {
        "id": "GEowJdhKiMVl"
      },
      "execution_count": null,
      "outputs": []
    },
    {
      "cell_type": "code",
      "source": [
        "clone[\"Side\"] = clone[\"Cabin\"].str.split('/').str[2]"
      ],
      "metadata": {
        "id": "IhrCOJxMiMYm"
      },
      "execution_count": null,
      "outputs": []
    },
    {
      "cell_type": "code",
      "source": [
        "clone[\"Total-Expense\"] = clone[\"RoomService\"] + clone[\"FoodCourt\"] + clone[\"ShoppingMall\"]+clone[\"Spa\"] + clone[\"VRDeck\"]"
      ],
      "metadata": {
        "id": "VHxKiGC_iMbt"
      },
      "execution_count": null,
      "outputs": []
    },
    {
      "cell_type": "code",
      "source": [
        "clone['Expense-Over-1500$'] = clone['Total-Expense'].apply(lambda x: 'True' if x>1500 else 'False')"
      ],
      "metadata": {
        "id": "v9WLscuCiMhe"
      },
      "execution_count": null,
      "outputs": []
    },
    {
      "cell_type": "code",
      "source": [
        "clone.head()"
      ],
      "metadata": {
        "id": "a23b-mUUiqJA"
      },
      "execution_count": null,
      "outputs": []
    },
    {
      "cell_type": "code",
      "source": [
        "clone.drop([\"PassengerId\",\"Name\",\"Cabin\",\"Age\"],axis=1,inplace=True)"
      ],
      "metadata": {
        "id": "4T0Q9tMafsby"
      },
      "execution_count": null,
      "outputs": []
    },
    {
      "cell_type": "code",
      "source": [
        "X_test_transformed = ct.transform(clone)"
      ],
      "metadata": {
        "id": "gKN2L-B6f2OA"
      },
      "execution_count": null,
      "outputs": []
    },
    {
      "cell_type": "code",
      "source": [
        "X_test_transformed.shape"
      ],
      "metadata": {
        "id": "1zwHdsCWgLFH"
      },
      "execution_count": null,
      "outputs": []
    },
    {
      "cell_type": "code",
      "source": [
        "y_train_transformed"
      ],
      "metadata": {
        "id": "qIml6fzTgPI0"
      },
      "execution_count": null,
      "outputs": []
    },
    {
      "cell_type": "code",
      "source": [
        "y_preds = forest.predict(X_test_transformed)\n",
        "y_preds"
      ],
      "metadata": {
        "id": "z-OydUrlgWcQ"
      },
      "execution_count": null,
      "outputs": []
    },
    {
      "cell_type": "code",
      "source": [
        "predictions =[]\n",
        "for i in y_preds:\n",
        "  if i==1:\n",
        "    predictions.append(True)\n",
        "  else:\n",
        "    predictions.append(False) \n",
        "predictions==y_preds     "
      ],
      "metadata": {
        "id": "_XBNs-fQh3e3"
      },
      "execution_count": null,
      "outputs": []
    },
    {
      "cell_type": "code",
      "source": [
        "submission_df = pd.DataFrame()\n",
        "submission_df[\"PassengerId\"] = test_data.PassengerId\n",
        "submission_df[\"Transported\"] = predictions\n",
        "submission_df.to_csv(\"Submission2.csv\",index=False)"
      ],
      "metadata": {
        "id": "IxYz0wjjgX_8"
      },
      "execution_count": null,
      "outputs": []
    },
    {
      "cell_type": "code",
      "source": [
        "pd.read_csv(\"Submission2.csv\")"
      ],
      "metadata": {
        "id": "EI1P3HWZihb5"
      },
      "execution_count": null,
      "outputs": []
    },
    {
      "cell_type": "code",
      "source": [
        "from google.colab import files\n",
        "files.download(\"Submission2.csv\")"
      ],
      "metadata": {
        "id": "PihfoLhMiirK"
      },
      "execution_count": null,
      "outputs": []
    },
    {
      "cell_type": "code",
      "source": [
        "from sklearn.ensemble import ExtraTreesClassifier\n"
      ],
      "metadata": {
        "id": "WG2ctP-Ejm37"
      },
      "execution_count": null,
      "outputs": []
    },
    {
      "cell_type": "code",
      "source": [
        "extra_tree = ExtraTreesClassifier()\n",
        "extra_tree.fit(X_train_transformed,y_train_transformed)"
      ],
      "metadata": {
        "id": "yA9-nTlgnzQJ"
      },
      "execution_count": null,
      "outputs": []
    },
    {
      "cell_type": "code",
      "source": [
        "extra_tree.score(X_val_transformed,y_val_transformed)"
      ],
      "metadata": {
        "id": "WElG5G8Nn8-o"
      },
      "execution_count": null,
      "outputs": []
    },
    {
      "cell_type": "code",
      "source": [
        "from sklearn.ensemble import GradientBoostingClassifier"
      ],
      "metadata": {
        "id": "P0Edybz9oBdg"
      },
      "execution_count": null,
      "outputs": []
    },
    {
      "cell_type": "code",
      "source": [
        "gradient = GradientBoostingClassifier()\n",
        "gradient.fit(X_train_transformed,y_train_transformed)"
      ],
      "metadata": {
        "id": "8MIA4yOOoLhW"
      },
      "execution_count": null,
      "outputs": []
    },
    {
      "cell_type": "code",
      "source": [
        "gradient.score(X_val_transformed,y_val_transformed)"
      ],
      "metadata": {
        "id": "xFrMmCkBoTxX"
      },
      "execution_count": null,
      "outputs": []
    },
    {
      "cell_type": "code",
      "source": [
        "from sklearn.ensemble import HistGradientBoostingClassifier"
      ],
      "metadata": {
        "id": "nLEJLiHkoYff"
      },
      "execution_count": null,
      "outputs": []
    },
    {
      "cell_type": "code",
      "source": [
        "hist_gradient = HistGradientBoostingClassifier()"
      ],
      "metadata": {
        "id": "pWP5dOe3obiT"
      },
      "execution_count": null,
      "outputs": []
    },
    {
      "cell_type": "code",
      "source": [
        "hist_gradient.fit(X_train_transformed.toarray(),y_train_transformed)"
      ],
      "metadata": {
        "id": "eVHS9-sCoeh_"
      },
      "execution_count": null,
      "outputs": []
    },
    {
      "cell_type": "code",
      "source": [
        "hist_gradient.score(X_val_transformed.toarray(),y_val_transformed)"
      ],
      "metadata": {
        "id": "wzX6mSfFojI_"
      },
      "execution_count": null,
      "outputs": []
    },
    {
      "cell_type": "code",
      "source": [
        "y_preds = hist_gradient.predict(X_test_transformed.toarray())"
      ],
      "metadata": {
        "id": "qD1boJvUjllR"
      },
      "execution_count": null,
      "outputs": []
    },
    {
      "cell_type": "code",
      "source": [
        "y_preds"
      ],
      "metadata": {
        "id": "PyLlJWOrj232"
      },
      "execution_count": null,
      "outputs": []
    },
    {
      "cell_type": "code",
      "source": [
        "predictions =[]\n",
        "for i in y_preds:\n",
        "  if i==1:\n",
        "    predictions.append(True)\n",
        "  else:\n",
        "    predictions.append(False) \n",
        "predictions==y_preds     "
      ],
      "metadata": {
        "id": "kRxeKvJaj4CF"
      },
      "execution_count": null,
      "outputs": []
    },
    {
      "cell_type": "code",
      "source": [
        "submission_df = pd.DataFrame()\n",
        "submission_df[\"PassengerId\"] = test_data.PassengerId\n",
        "submission_df[\"Transported\"] = predictions\n",
        "submission_df.to_csv(\"Submission3.csv\",index=False)"
      ],
      "metadata": {
        "id": "Z9aNmQ6qj7S9"
      },
      "execution_count": null,
      "outputs": []
    },
    {
      "cell_type": "code",
      "source": [
        "from google.colab import files\n",
        "files.download(\"Submission3.csv\")"
      ],
      "metadata": {
        "id": "sXz6zKTwj_v9"
      },
      "execution_count": null,
      "outputs": []
    },
    {
      "cell_type": "markdown",
      "source": [
        "This submission scored 0.80196 on Kaggle, let's improve this histgradient boosting classifier by hyperparameter tuning"
      ],
      "metadata": {
        "id": "mPZErgSAkq7W"
      }
    },
    {
      "cell_type": "code",
      "source": [
        "params = {\"learning_rate\":[0.1,0.01,0.001],\"max_depth\":[None,2,4,8,12],\"min_samples_leaf\":[2,4,6,8],\"l2_regularization\":[0,2,4,6]}\n",
        "hist_gradient_model = HistGradientBoostingClassifier(loss=\"binary_crossentropy\",random_state=42,verbose=2)\n",
        "gs_clf_2 = GridSearchCV(hist_gradient_model,params,cv=10,n_jobs=-1,return_train_score=True)"
      ],
      "metadata": {
        "id": "zesuPXHUk4QV"
      },
      "execution_count": null,
      "outputs": []
    },
    {
      "cell_type": "code",
      "source": [
        "gs_clf_2.fit(X_train_transformed.toarray(),y_train_transformed)"
      ],
      "metadata": {
        "id": "I6ZPRQ2nmqvI"
      },
      "execution_count": null,
      "outputs": []
    },
    {
      "cell_type": "code",
      "source": [
        "gs_clf.score(X_val_transformed.toarray(),y_val_transformed)"
      ],
      "metadata": {
        "id": "kMahvLB_m10I"
      },
      "execution_count": null,
      "outputs": []
    },
    {
      "cell_type": "code",
      "source": [
        "grid_search_model = gs_clf.best_params_\n"
      ],
      "metadata": {
        "id": "I9AF_L6zm8c4"
      },
      "execution_count": null,
      "outputs": []
    },
    {
      "cell_type": "code",
      "source": [
        "import joblib\n",
        "joblib.dump(grid_search_model,\"grid_search_model\")"
      ],
      "metadata": {
        "id": "xnZ_veW-nISJ"
      },
      "execution_count": null,
      "outputs": []
    },
    {
      "cell_type": "code",
      "source": [
        "loaded_model = joblib.load(\"grid_search_model\")"
      ],
      "metadata": {
        "id": "tIUKAd6onUgG"
      },
      "execution_count": null,
      "outputs": []
    },
    {
      "cell_type": "code",
      "source": [],
      "metadata": {
        "id": "Nls8ZbwUncgO"
      },
      "execution_count": null,
      "outputs": []
    }
  ]
}